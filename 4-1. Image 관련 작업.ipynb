{
 "cells": [
  {
   "cell_type": "markdown",
   "id": "29adf78c",
   "metadata": {},
   "source": [
    "# PIL\n",
    "\n",
    "python image library라는 뜻, image를 다루기 위한 python의 기초적인 라이브러리\n",
    "\n",
    "- jupyter 환경에 적합하다.\n",
    "- The Python Imaging Library uses a coordinate system with (0, 0) in the upper left corner.\n",
    "> 좌표 체계가 왼쪽 위가 (0,0)이다. -> 행렬과 동일하다고 생각하면 된다. \n",
    "- 이미지에 대한 기본적인 변환이나 전처리 등이 가능하다.\n",
    "\n",
    "### Image 객체\n",
    "\n",
    "property\n",
    "- .size 이미지의 사이즈\n",
    "- .mode 컬러모드\n",
    "\n"
   ]
  },
  {
   "cell_type": "code",
   "execution_count": null,
   "id": "67c9dc29",
   "metadata": {},
   "outputs": [],
   "source": []
  },
  {
   "cell_type": "code",
   "execution_count": null,
   "id": "5096f397",
   "metadata": {},
   "outputs": [],
   "source": []
  },
  {
   "cell_type": "markdown",
   "id": "5cf7ce5f",
   "metadata": {},
   "source": [
    "## crop\n",
    "\n",
    "기준 이미지에서 좌표만큼 잘라내는 함수  \n",
    "인자로는 (left, upper, right, lower) -> 왼쪽 위 좌표, 오른쪽 아래 좌표 를 사용한다.\n",
    "> 반드시 직사각형의 범위만 잘라낼 수 있다.\n",
    "\n",
    "\n",
    "### (left, upper, right, lower)\n",
    "PIL의 여러가지 함수들이 이러한 좌표 포맷을 사용한다.  \n",
    "일반적인 위 좌표(x, y) 오른쪽 좌표 (x, y)가 아니라 (y, x) (y, x)의 형태이다.\n"
   ]
  },
  {
   "cell_type": "code",
   "execution_count": null,
   "id": "31eab252",
   "metadata": {},
   "outputs": [],
   "source": []
  },
  {
   "cell_type": "code",
   "execution_count": null,
   "id": "be87a4d0",
   "metadata": {},
   "outputs": [],
   "source": []
  },
  {
   "cell_type": "markdown",
   "id": "09c72336",
   "metadata": {},
   "source": [
    "## paste\n",
    "\n",
    "이미지에 이미지를 붙이는 함수 "
   ]
  },
  {
   "cell_type": "code",
   "execution_count": null,
   "id": "cf896fbf",
   "metadata": {},
   "outputs": [],
   "source": []
  },
  {
   "cell_type": "code",
   "execution_count": null,
   "id": "0ca83031",
   "metadata": {},
   "outputs": [],
   "source": []
  },
  {
   "cell_type": "markdown",
   "id": "ab551b93",
   "metadata": {},
   "source": [
    "## transpose\n",
    "\n",
    "PIL에서 미리 정해둔 변환들을 수행하는 함수\n",
    "- 좌우/상하반전, 90/180/270 회전변환등이 있다. -> 대응되는 정수 값도 있다.\n",
    "- 일반적인 rotate는 따로 있다.\n",
    "\n",
    "## rotate\n",
    "\n",
    "\n",
    "파라미터 \n",
    "- angle  \n",
    "    회전할 각도\n",
    "  \n",
    "  \n",
    "- resample  \n",
    "    이미지의 크기나 모양이 변경될 때 픽셀값을 구하는 방식을 정의\n",
    "    \n",
    "    \n",
    "- expand  \n",
    "    이미지를 확장할 것인가 아닌가를 정의  \n",
    "    기본적으로 False이기 때문에 입력의 이미지와 크기가 동일하다.\n",
    "        \n",
    "       \n",
    "- fillcolor  \n",
    "    추가되는 여분의 픽셀의 색깔을 정의\n"
   ]
  },
  {
   "cell_type": "code",
   "execution_count": null,
   "id": "19a6df67",
   "metadata": {},
   "outputs": [],
   "source": []
  },
  {
   "cell_type": "code",
   "execution_count": null,
   "id": "178d91d5",
   "metadata": {},
   "outputs": [],
   "source": []
  },
  {
   "cell_type": "code",
   "execution_count": null,
   "id": "0dafa273",
   "metadata": {},
   "outputs": [],
   "source": []
  },
  {
   "cell_type": "markdown",
   "id": "484cd4e2",
   "metadata": {},
   "source": [
    "## resize\n",
    "\n",
    "이미지의 크기를 변경하는 함수  \n",
    "\n",
    "resizing에 필요한 여러가지 고려사항 \n",
    "- 이미지의 축소시에 어떤 픽셀을 선택할 것인가?\n",
    "- 여백의 픽셀은 어떻게 구성할 것인가?  \n",
    "\n",
    "\n",
    "파라미터\n",
    "- size  \n",
    "    변경하기 위한 크기\n",
    "    \n",
    "- resample    \n",
    "    PIL.Image.BICUBIC을 기본적으로 사용  \n",
    "    속도가 중요하기 때문에 속도/퀄리티별 \n",
    "\n",
    "https://pillow.readthedocs.io/en/stable/handbook/concepts.html#PIL.Image.LANCZOS"
   ]
  },
  {
   "cell_type": "code",
   "execution_count": null,
   "id": "7950b8a5",
   "metadata": {},
   "outputs": [],
   "source": []
  },
  {
   "cell_type": "code",
   "execution_count": null,
   "id": "a4d3e0dc",
   "metadata": {},
   "outputs": [],
   "source": []
  },
  {
   "cell_type": "markdown",
   "id": "59a23a17",
   "metadata": {},
   "source": [
    "# Image transform (변환)\n",
    "\n",
    "\n",
    "1. python에서 사용하는 image library이다.\n",
    "2. 하지만 이 라이브러리에서 이러한 변환까지 제공한다.\n",
    "3. 실제로 이러한 변환을 사용하기 위해서 OpenCV를 사용했었다.\n",
    "4. 하지만 그럼에도 OpenCV는 이외의 여러가지 이미지 처리에 대한 도구를 제공하기 떄문에 공부할 필요는 있다.\n",
    "\n",
    "조금 번외긴하지만 유용하게 쓰여질 수 있는 Image transform이다.  \n",
    "기능에 대해서 제공하기는 하지만 실제로 사용하지는 못한다.  \n",
    "> 변환에 대응되는 행렬을 구해야하는데 OpenCV에서 처럼 제공하지 않기 때문에 직접 변환행렬을 구해야한다.\n",
    "\n",
    "\n",
    "1. Affine 변환. \n",
    "\n",
    "  선의 평행성은 유지되는 변환\n",
    "\n",
    "2. Perspective 변환. \n",
    "\n",
    "  원근법 변환으로, 직선의 성질만 유지가 되고, 선의 평행성은 유지가 되지 않는 변환\n"
   ]
  },
  {
   "cell_type": "code",
   "execution_count": null,
   "id": "2e5eef6b",
   "metadata": {},
   "outputs": [],
   "source": [
    "from PIL import ImageDraw"
   ]
  },
  {
   "cell_type": "code",
   "execution_count": null,
   "id": "97034ef3",
   "metadata": {},
   "outputs": [],
   "source": []
  },
  {
   "cell_type": "code",
   "execution_count": null,
   "id": "4234c42d",
   "metadata": {},
   "outputs": [],
   "source": []
  },
  {
   "cell_type": "markdown",
   "id": "030a0ad6",
   "metadata": {},
   "source": [
    "# OpenCV로 구하기"
   ]
  },
  {
   "cell_type": "code",
   "execution_count": null,
   "id": "b540d576",
   "metadata": {},
   "outputs": [],
   "source": []
  }
 ],
 "metadata": {
  "kernelspec": {
   "display_name": "Python 3",
   "language": "python",
   "name": "python3"
  },
  "language_info": {
   "codemirror_mode": {
    "name": "ipython",
    "version": 3
   },
   "file_extension": ".py",
   "mimetype": "text/x-python",
   "name": "python",
   "nbconvert_exporter": "python",
   "pygments_lexer": "ipython3",
   "version": "3.9.2"
  }
 },
 "nbformat": 4,
 "nbformat_minor": 5
}
