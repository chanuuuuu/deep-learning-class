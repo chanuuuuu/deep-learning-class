{
 "cells": [
  {
   "cell_type": "code",
   "execution_count": 1,
   "metadata": {},
   "outputs": [],
   "source": [
    "import tensorflow as tf"
   ]
  },
  {
   "cell_type": "markdown",
   "metadata": {},
   "source": [
    "## Model (모델)\n",
    "\n",
    "> 텐서들을 가지고 연산 및 예측을 수행하는 객체를 `model`이라고 한다.  \n",
    "\n",
    "모델은 두가지의 일을 수행한다.\n",
    "\n",
    "- 텐서간 연산을 통한 결과값 도출 (forward pass)\n",
    "- 학습을 통한 가중치 갱신 (backward pass)\n",
    "\n",
    "모델은 데이터를 통해 문제를 해결하기 위한 하나의 방법입니다.  \n",
    "예를 들어 분류문제를 생각해봅시다.  \n",
    "\n",
    "모델의 학습은 주어지는 데이터 내에서 '패턴'을 찾는 것입니다. \n",
    "\n",
    "'패턴'이라는 것은 분류 문제의 경우, 각 카테고리의 공통점이자 카테고리를 구분할 수 있는 차이점을 의미하게 된다.\n",
    "\n",
    "\n",
    "우리가 찾아둔 패턴을 저장해두는 것이 바로 Layer입니다.  \n",
    "\n",
    "\n",
    "딥러닝에서의 모델은 데이터를 처리하는 과정에서 여러개의 layer들로 구성되기 때문에 모델을 구현하기 전에 layer를 구현하는 것이 먼저 선행되어야한다."
   ]
  },
  {
   "cell_type": "markdown",
   "metadata": {},
   "source": [
    "<img src=\"./education_images/cnn_structure.png\" alt=\"Drawing\" style=\"width: 700px;\"/>"
   ]
  },
  {
   "cell_type": "markdown",
   "metadata": {},
   "source": [
    "# Layer\n",
    "\n",
    "> 재사용이 가능하며, 훈련이 가능한 변수들로 이루어진 수학적 구조를 말한다.   \n",
    "\n",
    "- 단순히 입력에 대한 처리(연산)를 진행하고 그 결과를 출력하기 때문에 하나의 함수로 볼 수 있다.  \n",
    "\n",
    "\n",
    "예를 들어, 고양이와 개 사진을 입력으로 받고, 최종적으로 해당 이미지가 개인지 고양이인지를 분류하는 모델을 만든다. \n",
    "\n",
    "이 때, 각 특징들을 저장하는 곳이 layer라고 하였다. 각각의 layer는 개 이미지와 고양이 이미지들의 특징들을 담고 있다. \n",
    "\n",
    "어떤 layer는 귀의 형태를 가지고 있거나 또 어떤 layer는 털의 분포 이런식으로, 개와 고양이를 구별할 수 있는 특징들을 가지고 있습니다. \n",
    "\n",
    "결국 개인지 고양이인지 (0, 1) 이진 분류를 반환하는 것이 모델의 최종목표이다.\n",
    "\n",
    "이미지라는 매우 복잡한 입력에서 (0, 1)이라는 매우 단순한 출력까지의 과정은 하나의 과정으로 이해하기 어려울 것입니다.\n",
    "\n",
    "이 과정을 layer라는 연산 단위로 분할하여 각각의 단순한 연산의 연속으로 보게 된다면, 복잡한 문제도 단순한 연산의 연속으로 볼 수 있을 것입니다.\n",
    "\n",
    "#### 개와 고양이 사진 (input)\n",
    "\n",
    "#### -> 어떠한 layer는 귀의 형태를 보고 해당 이미지가 개인지 고양이인지 예측할 것(layer) \n",
    "\n",
    "#### -> 털의 분포를 보고 해당 이미지가 개인지 고양이인지 예측할 것(layer) \n",
    "\n",
    "#### -> .... \n",
    "\n",
    "#### -> 개와 고양이중 어떤 것인가? \n",
    "\n",
    "이 모든 과정이 모델이다. 그 속에 부분적인 예측을 하는 것이 layer이다.\n",
    "\n",
    "\n",
    "- layer를 함수로 표현하게 되면 하나의 모델은 함수들의 연속, 합성함수로 볼 수 있게 될 것이다."
   ]
  },
  {
   "cell_type": "markdown",
   "metadata": {},
   "source": [
    "<img src=\"./education_images/1-1-1_formula.png\" alt=\"Drawing\" style=\"width: 400px;\"/>"
   ]
  },
  {
   "cell_type": "markdown",
   "metadata": {},
   "source": [
    "<img src=\"./education_images/1-1-2_graph.png\" alt=\"Drawing\" style=\"width: 300px;\"/>"
   ]
  },
  {
   "cell_type": "markdown",
   "metadata": {},
   "source": [
    "## 모델, layer 정리\n",
    "\n",
    "우리가 구현해야하는 것은 모델이다.\n",
    "\n",
    "모델은 복잡한 문제를 푸는 방법을 의미합니다.\n",
    "\n",
    "복잡한 문제를 단순한 문제 여러 개로 보고자 한다.\n",
    "\n",
    "개 - 고양이\n",
    "\n",
    "이미지 -> 개인지 고양이인지 (복잡한 문제)\n",
    "\n",
    "1. 귀의 특징을 파악한다. (쉬운 문제)\n",
    "2. 털의 특징을 파악한다. (쉬운 문제)\n",
    "3. ...\n",
    "\n",
    "이렇게 특징을 파악하는 쉬운 문제들을 통해 최종적으로 어려운 문제를 해결하고자 하는 것이다. \n",
    "\n",
    "문제를 해결하는 전체 과정을 우리는 '모델', 부분적으로 쉬운 문제를 'layer'라고 한다. \n",
    "\n",
    "그러므로 layer를 tensorflow를 통해서 정의하는 방법을 설명하고자 한다.\n"
   ]
  },
  {
   "cell_type": "markdown",
   "metadata": {},
   "source": [
    "tensorflow에서는  tf.Module 의 클래스를 상속받아 새로운 클래스를 생성하는 방식으로 layer를 구현한다.   \n",
    "\n",
    "-  callable 객체이기 때문에 `__call__`을 내부적으로 구현해야한다.\n",
    "\n",
    "https://docs.python.org/3/library/functions.html\n",
    "\n",
    "- 이후 사용할 keras API 에서의 layer, model 또한 해당 객체의 하위 클래스이다.\n",
    "\n",
    "\n",
    "가장 단순한 인공신경망 layer인 fully connected layer를 tensorflow로 구현해보자.   \n",
    "코드로 구현하기 전, layer는 하나의 함수이기 때문에 입력과 출력의 형태와 어떠한 __연산__을 수행할 것 인가에 대해서 정의가 필요하다."
   ]
  },
  {
   "cell_type": "markdown",
   "metadata": {},
   "source": [
    "# fully-connected layer\n",
    "\n",
    "완전 연결 레이어를 의미합니다. layer의 입력, 출력을 모두 연결하는 연산을 수행하는 레이어입니다."
   ]
  },
  {
   "cell_type": "markdown",
   "metadata": {},
   "source": [
    "\n",
    "<img src=\"./education_images/fullylayer.png\" alt=\"Drawing\" style=\"width: 400px;\"/>"
   ]
  },
  {
   "cell_type": "markdown",
   "metadata": {},
   "source": [
    "## 1. 입력과 출력의 shape 정의\n",
    "\n",
    "layer의 입력, 출력 모두 텐서이다. (연산의 과정까지 모두 텐서이다.)   \n",
    "텐서는 모두 shape, dtype이 정의되어야한다.\n",
    "> 맨 앞 차원의 크기가 None인 것은 batch의 크기 때문이다.\n",
    "\n",
    "<img src=\"./education_images/1-1-3_input.png\" alt=\"Drawing\" style=\"width: 250px;\"/>\n",
    "\n",
    "\n",
    "## 2. 연산식 정의\n",
    "\n",
    "\n",
    "<img src=\"./education_images/1-1-4_formula.png\" alt=\"Drawing\" style=\"width: 300px;\"/>"
   ]
  },
  {
   "cell_type": "markdown",
   "metadata": {},
   "source": [
    "## (, 3) 차원의 의미\n",
    "\n",
    "이전 텐서의 shape (2, )는 단순히 1개의 차원을 가진다는 의미입니다.\n",
    "\n",
    "하지만 (,3)의 경우에는 1개의 차원을 가진다는 의미가 아닙니다. ([] , 3)에서 앞의 차원은 지정되지 않았지만 반드시 존재한다라는 의미이다.\n",
    "\n",
    "(1, 3)이 될수도  (3000, 3) 될 수도 있다. 라는 의미입니다. \n",
    "\n",
    "차원이 정의가 되어 있지만 특정 값으로는 제한되어 있지 않다라고 해석할 수 있습니다."
   ]
  },
  {
   "cell_type": "code",
   "execution_count": 3,
   "metadata": {},
   "outputs": [
    {
     "data": {
      "text/plain": [
       "<tf.Tensor: shape=(2,), dtype=int32, numpy=array([1, 2])>"
      ]
     },
     "execution_count": 3,
     "metadata": {},
     "output_type": "execute_result"
    }
   ],
   "source": [
    "tf.constant([1,2])"
   ]
  },
  {
   "cell_type": "code",
   "execution_count": 4,
   "metadata": {},
   "outputs": [],
   "source": [
    "# layer를 tensorflow로 구현하기 위해서는 tf.Module이라는 클래스를 상속받아 정의하여야 합니다.\n",
    "class myLayer(tf.Module):\n",
    "    pass"
   ]
  },
  {
   "cell_type": "markdown",
   "metadata": {},
   "source": [
    "## 파이썬에서 클래스 복습\n",
    "\n",
    "상속 : 상위 클래스의 메소드, 프로퍼티들을 하위 클래스가 사용할 수 있도록 하는 방식\n",
    "\n",
    "메소드 : 클래스가 가지고 있는 함수\n",
    "\n",
    "프로퍼티 : 클래스가 가지고 있는 변수 값\n",
    "\n",
    "인스턴스 : 클래스를 통해 선언된 객체\n",
    "\n",
    "객체를 오브젝트라고 하는데, 클래스를 통해 선언된 객체를 인스턴스라고 합니다.\n",
    "\n",
    "\n",
    "상위 클래스 '새' \n",
    "\n",
    "하위 클래스 '오리'\n",
    "\n",
    "하위 클래스 '독수리'\n",
    "\n",
    "오리, 독수리는 새이다. 라고 볼 수 있습니다. 즉, 상속의 관계는 'is' 로 표현이 가능합니다.\n",
    "\n",
    "오리는 새이다. duck is bird\n",
    "\n",
    "독수리는 새이다. eagle is bird\n",
    "\n",
    "\n",
    "\n",
    "### 클래스를 정의할 때, 반드시 __init__() 함수를 정의해야한다.\n",
    "\n",
    "클래스를 사용하는 이유는 클래스를 통해서 인스턴스를 만들기 위함. \n",
    "\n",
    "클래스를 통해 선언되어지는 인스턴스들은 공통적인 의미 (프로퍼티, 메소드)를 가지고 있다.\n",
    "\n",
    "붕어빵틀 - 붕어빵의 관계와 같이 동일한 객체를 만들기 위해 클래스를 사용합니다.\n",
    "\n",
    "모든 객체가 선언될 때, 수행하는 함수가 바로 `__init__()` 함수 입니다. \n",
    "\n",
    "아까 callable 객체를 설명할 때, `__call__()` 살펴보았다. \n",
    "\n",
    "이 함수는 인스턴스 명이 my_instance일 때,  my_instance() 과 같이 코드를 수행하게 되면 __call__() 함수가 수행된다고 하였습니다.\n",
    "\n",
    "동일하게 인스턴스가 선언될 때, `__init__()` 함수가 수행된다."
   ]
  },
  {
   "cell_type": "code",
   "execution_count": 6,
   "metadata": {},
   "outputs": [],
   "source": [
    "# 상위 클래스 새\n",
    "\n",
    "class Bird():\n",
    "    \n",
    "    # property\n",
    "    eye = '멀리 볼 수 있다.'\n",
    "    wing = 2\n",
    "    can_fly = True\n",
    "    \n",
    "    def __init__(self):\n",
    "        print('나는 조류입니다.')\n",
    "        \n",
    "    # method\n",
    "    def fly(self):\n",
    "        print('펄럭')\n",
    "        print('펄럭')\n"
   ]
  },
  {
   "cell_type": "code",
   "execution_count": 8,
   "metadata": {},
   "outputs": [
    {
     "name": "stdout",
     "output_type": "stream",
     "text": [
      "나는 조류입니다.\n",
      "멀리 볼 수 있다.\n",
      "2\n",
      "True\n"
     ]
    }
   ],
   "source": [
    "# 새로운 인스턴스 생성\n",
    "new_bird = Bird()\n",
    "\n",
    "# 인스턴스는 클래스의 프로퍼티를 가지고 있는가?\n",
    "print(new_bird.eye)\n",
    "\n",
    "print(new_bird.wing)\n",
    "\n",
    "print(new_bird.can_fly)"
   ]
  },
  {
   "cell_type": "code",
   "execution_count": 9,
   "metadata": {},
   "outputs": [
    {
     "name": "stdout",
     "output_type": "stream",
     "text": [
      "펄럭\n",
      "펄럭\n"
     ]
    }
   ],
   "source": [
    "# 인스턴스는 클래스의 메소드를 가지고 있는가?\n",
    "\n",
    "new_bird.fly()"
   ]
  },
  {
   "cell_type": "code",
   "execution_count": 13,
   "metadata": {},
   "outputs": [],
   "source": [
    "# 클래스를 상속받는 하위 클래스\n",
    "\n",
    "# Duck이라는 클래스는 Bird라는 클래스를 상속받을 것입니다.\n",
    "class Duck(Bird):\n",
    "    \n",
    "    # property를 선언하지 않고 Bird클래스의 property를 사용할 수 있는가? \n",
    "    \n",
    "    \n",
    "    def __init__(self):\n",
    "        \n",
    "        # 하위 클래스의 __init__에서 상위 클래스(Bird)의 __init__함수를 호출해야한다. -> 반드시 사용하여야하므로 암기하듯이 외운다.\n",
    "        super().__init__()\n",
    "        \n",
    "        \n",
    "    # 하위 클래스가 상위 클래스의 메소드의 이름과 동일한 메소드를 정의할때 메소드 오버라이딩이 발생한다.\n",
    "    # 하위 클래스에서의 메소드\n",
    "    def fly(self):\n",
    "        print('날 수 없음')\n",
    "    "
   ]
  },
  {
   "cell_type": "code",
   "execution_count": 14,
   "metadata": {},
   "outputs": [
    {
     "name": "stdout",
     "output_type": "stream",
     "text": [
      "나는 조류입니다.\n",
      "멀리 볼 수 있다.\n",
      "2\n",
      "True\n"
     ]
    }
   ],
   "source": [
    " # property를 선언하지 않고 Bird클래스의 property를 사용할 수 있는가? \n",
    "new_duck = Duck()\n",
    "\n",
    "print(new_duck.eye)\n",
    "\n",
    "print(new_duck.wing)\n",
    "\n",
    "print(new_duck.can_fly)\n"
   ]
  },
  {
   "cell_type": "code",
   "execution_count": 15,
   "metadata": {},
   "outputs": [
    {
     "name": "stdout",
     "output_type": "stream",
     "text": [
      "날 수 없음\n"
     ]
    }
   ],
   "source": [
    "# 상속 받은 메소드와 동일한 이름의 메소드가 하위 클래스에도 있다면 하위 클래스의 메소드를 사용합니다.\n",
    "new_duck.fly()"
   ]
  },
  {
   "cell_type": "markdown",
   "metadata": {},
   "source": [
    "## 3. 텐서플로우 구현\n",
    "\n",
    "클래스 내에서 두가지의 함수를 정의하여 사용한다. 각 함수의 첫 번째 특징은 해당 함수를 정의해야하는 이유다.\n",
    "\n",
    "\n",
    "### 3-1. `__init__`\n",
    "\n",
    "\n",
    "\n",
    "- python에서 클래스를 정의할 때, 해당 클래스의 객체 생성시 호출되는 함수이다. -> 생성이 맞는말 선언\n",
    "\n",
    "선언 이라는 의미는 new_duck = Duck()\n",
    "\n",
    "\n",
    "\n",
    "\n",
    "- `super(self).__init__()` 을 통해서 상위클래스인 `tf.Module`객체를  생성한다.   \n",
    "    → 상위 클래스 객체를 생성할 때, 상위클래스의 property, method를 사용할 수 있다.\n",
    "    \n",
    "    \n",
    "    \n",
    "- 클래스를 통해서 layer 객체를 생성하는 시점에 해당 함수가 호출된다.  \n",
    "\n",
    "\n",
    "- 해당 layer에서 사용할 텐서 객체(변수, 상수, layer, 모델)등 을 선언하는 영역이다.(필수는 아니다.)  \n",
    "    → Variable은 반드시 초기값이 필요한데, 모델을 생성하는 시점에 반드시 명시해줘야한다.\n",
    "\n",
    "\n",
    "\n",
    "\n",
    "### 3-2. `__call__`\n",
    "\n",
    "-  `tf.Module` 가 callable 객체이기 때문에 해당 함수를 오버라이딩 해야한다.  \n",
    "    → 하위 클래스가 상위 클래스의 method를 재정의하여 사용하는 것을 오버라이딩이라고 한다.\n",
    "\n",
    "\n",
    "- layer 객체를 호출하여 데이터를 입력받는 시점에 해당 함수가 호출된다. \n",
    "\n",
    "\n",
    "- 이 전에 `__init__` 에서 미리 선언해둔 텐서 객체들을 사용하여 수행할 연산을 정의한다. "
   ]
  },
  {
   "cell_type": "markdown",
   "metadata": {},
   "source": [
    "- `tf.random.normal()` 는 인자로 받는 shape에 정규분포를 따르는 난수로 채워진 텐서를 생성한다.\n",
    "\n",
    "\n",
    "- `tf.ones()` 는 인자로 받는 shape에 모든 값을 1로 채운 텐서를 생성한다.\n",
    "\n",
    "\n",
    "- 이외에 여러가지 initializer가 존재함."
   ]
  },
  {
   "cell_type": "markdown",
   "metadata": {},
   "source": [
    "<img src=\"./education_images/1-1-4_formula.png\" alt=\"Drawing\" style=\"width: 300px;\"/>"
   ]
  },
  {
   "cell_type": "code",
   "execution_count": 16,
   "metadata": {},
   "outputs": [
    {
     "data": {
      "text/plain": [
       "<tf.Tensor: shape=(1, 3), dtype=int32, numpy=array([[1, 2, 3]])>"
      ]
     },
     "execution_count": 16,
     "metadata": {},
     "output_type": "execute_result"
    }
   ],
   "source": [
    "tf.constant([[1, 2, 3]])"
   ]
  },
  {
   "cell_type": "code",
   "execution_count": 18,
   "metadata": {},
   "outputs": [
    {
     "data": {
      "text/plain": [
       "<tf.Tensor: shape=(3, 3), dtype=float32, numpy=\n",
       "array([[1., 1., 1.],\n",
       "       [1., 1., 1.],\n",
       "       [1., 1., 1.]], dtype=float32)>"
      ]
     },
     "execution_count": 18,
     "metadata": {},
     "output_type": "execute_result"
    }
   ],
   "source": [
    "#초기값 선언을 위해 tf.ones() \n",
    "# 입력으로 받는 shape에 대해서 전부 1인 값을 가지는 텐서를 반환합니다.\n",
    "tf.ones(shape = (3, 3))\n"
   ]
  },
  {
   "cell_type": "code",
   "execution_count": 23,
   "metadata": {},
   "outputs": [],
   "source": [
    "# layer를 tensorflow로 구현하기 위해서는 tf.Module이라는 클래스를 상속받아 정의하여야 합니다.\n",
    "class myLayer(tf.Module):\n",
    "    \n",
    "    # __init__을 정의합니다.\n",
    "    def __init__(self):\n",
    "        # tf.Module의 __init__()를 호출하여 tf.Module 클래스의 프로퍼티와 메소드를 사용하도록 하자.\n",
    "        super().__init__()\n",
    "        print('내가 만든 레이어가 생성되었습니다.')\n",
    "        \n",
    "        # 연산에 필요한 텐서들을 __init__에서 정의합니다. \n",
    "        # float32로 실수로 표현하는 이유는 X * W 가 행렬 연산이기 때문에 행렬연산의 경우에는 반드시 float형식을 사용해야한다.\n",
    "        # 모든 텐서는 self. 것을 앞에 선언하여 해당 인스턴스가 사용할 수 있는 property로 선언합니다.\n",
    "        self.X = tf.Variable([[1, 2, 3]], dtype = tf.float32, shape = (1,3), name= 'x')\n",
    "        self.W = tf.Variable(tf.ones(shape = (3, 3)), name = 'w')\n",
    "        self.b = tf.Variable(tf.ones(shape = (3)), name = 'b')\n",
    "    \n",
    "    def __call__(self):\n",
    "        print('내가 만든 레이어의 연산이 수행됩니다.')\n",
    "        # 정의된 텐서들을 가지고 연산과정을 수행합니다.\n",
    "        # X와 W의 행렬 곱\n",
    "        xw = tf.matmul(self.X, self.W)\n",
    "        print(xw)\n",
    "        y = xw + self.b\n",
    "        return y    "
   ]
  },
  {
   "cell_type": "code",
   "execution_count": 25,
   "metadata": {},
   "outputs": [
    {
     "name": "stdout",
     "output_type": "stream",
     "text": [
      "내가 만든 레이어가 생성되었습니다.\n"
     ]
    }
   ],
   "source": [
    "# 실제 연산이 수행되는가\n",
    "new_layer = myLayer()\n",
    "\n",
    "# new_layer 라는 사전에 우리가 정의한 Layer 클래스의 객체가 하나 생성되었습니다. \n",
    "# __init__() 는 수행되었을 것이다 \n"
   ]
  },
  {
   "cell_type": "code",
   "execution_count": 26,
   "metadata": {},
   "outputs": [
    {
     "name": "stdout",
     "output_type": "stream",
     "text": [
      "내가 만든 레이어의 연산이 수행됩니다.\n",
      "tf.Tensor([[6. 6. 6.]], shape=(1, 3), dtype=float32)\n"
     ]
    },
    {
     "data": {
      "text/plain": [
       "<tf.Tensor: shape=(1, 3), dtype=float32, numpy=array([[7., 7., 7.]], dtype=float32)>"
      ]
     },
     "execution_count": 26,
     "metadata": {},
     "output_type": "execute_result"
    }
   ],
   "source": [
    "# __call__() 함수를 수행하고자 한다.\n",
    "new_layer()\n",
    "\n",
    "\n",
    "# 이 값이 실제로 맞는 값인지 확인해봅시다.\n",
    "# 우리가 생각한 결과가 나왔다. "
   ]
  },
  {
   "cell_type": "code",
   "execution_count": 58,
   "metadata": {},
   "outputs": [],
   "source": [
    "# layer를 tensorflow로 구현하기 위해서는 tf.Module이라는 클래스를 상속받아 정의하여야 합니다.\n",
    "# X를 입력으로 받는 레이어를 정의합니다.\n",
    "class myLayer_input(tf.Module):\n",
    "    \n",
    "    # __init__을 정의합니다.\n",
    "    def __init__(self, X):\n",
    "        # tf.Module의 __init__()를 호출하여 tf.Module 클래스의 프로퍼티와 메소드를 사용하도록 하자.\n",
    "        super().__init__()\n",
    "        print('내가 만든 레이어가 생성되었습니다.')\n",
    "        \n",
    "      \n",
    "        \n",
    "        # X의 shape가 shape = (1,3)이라고 명시되어 있지만 다르게 입력될 수 있습니다. \n",
    "        \n",
    "        # 가중치 W의 shape는 X 즉, 레이어의 입력값에 따라서 변해야합니다.\n",
    "        # X의 shape에 따라서 W의 shape또한 바뀔 수 있도록 변경한다. (1, 4) -> 4의 값을 가져올 수 있도록\n",
    "        x_shape = X.shape[-1]\n",
    "        \n",
    "        self.X = X\n",
    "        self.W = tf.Variable(tf.ones(shape = (x_shape, 3)), name = 'w')\n",
    "        \n",
    "        print('현재 레이어의 가중치 행렬의 shape는 ', self.W.shape)\n",
    "        \n",
    "        self.b = tf.Variable(tf.ones(shape = (3)), name = 'b')\n",
    "    \n",
    "    def __call__(self):\n",
    "        print('내가 만든 레이어의 연산이 수행됩니다.')\n",
    "        # 정의된 텐서들을 가지고 연산과정을 수행합니다.\n",
    "        # X와 W의 행렬 곱\n",
    "        xw = tf.matmul(self.X, self.W)\n",
    "        print(xw)\n",
    "        y = xw + self.b\n",
    "        return y    "
   ]
  },
  {
   "cell_type": "code",
   "execution_count": 45,
   "metadata": {},
   "outputs": [
    {
     "data": {
      "text/plain": [
       "5"
      ]
     },
     "execution_count": 45,
     "metadata": {},
     "output_type": "execute_result"
    }
   ],
   "source": [
    "# 우리가 해당 레이어의 입력값으로 사용하고자 하는 변수\n",
    "X = tf.Variable([[1, 2, 3, 4, 5]], dtype = tf.float32, shape = (1, 5), name= 'x')\n",
    "\n",
    "\n",
    "X.shape[-1]"
   ]
  },
  {
   "cell_type": "code",
   "execution_count": 42,
   "metadata": {
    "collapsed": true
   },
   "outputs": [
    {
     "name": "stdout",
     "output_type": "stream",
     "text": [
      "내가 만든 레이어가 생성되었습니다.\n",
      "현재 레이어의 가중치 행렬의 shape는  (3, 3)\n",
      "내가 만든 레이어의 연산이 수행됩니다.\n"
     ]
    },
    {
     "ename": "InvalidArgumentError",
     "evalue": "Matrix size-incompatible: In[0]: [1,5], In[1]: [3,3] [Op:MatMul]",
     "output_type": "error",
     "traceback": [
      "\u001b[1;31m---------------------------------------------------------------------------\u001b[0m",
      "\u001b[1;31mInvalidArgumentError\u001b[0m                      Traceback (most recent call last)",
      "\u001b[1;32m<ipython-input-42-c5efb464e212>\u001b[0m in \u001b[0;36m<module>\u001b[1;34m\u001b[0m\n\u001b[0;32m      2\u001b[0m \u001b[0mnew_layer_input\u001b[0m \u001b[1;33m=\u001b[0m \u001b[0mmyLayer_input\u001b[0m\u001b[1;33m(\u001b[0m\u001b[0mX\u001b[0m\u001b[1;33m)\u001b[0m\u001b[1;33m\u001b[0m\u001b[1;33m\u001b[0m\u001b[0m\n\u001b[0;32m      3\u001b[0m \u001b[1;33m\u001b[0m\u001b[0m\n\u001b[1;32m----> 4\u001b[1;33m \u001b[0mnew_layer_input\u001b[0m\u001b[1;33m(\u001b[0m\u001b[1;33m)\u001b[0m\u001b[1;33m\u001b[0m\u001b[1;33m\u001b[0m\u001b[0m\n\u001b[0m",
      "\u001b[1;32m<ipython-input-40-1911d36fb226>\u001b[0m in \u001b[0;36m__call__\u001b[1;34m(self)\u001b[0m\n\u001b[0;32m     28\u001b[0m         \u001b[1;31m# 정의된 텐서들을 가지고 연산과정을 수행합니다.\u001b[0m\u001b[1;33m\u001b[0m\u001b[1;33m\u001b[0m\u001b[1;33m\u001b[0m\u001b[0m\n\u001b[0;32m     29\u001b[0m         \u001b[1;31m# X와 W의 행렬 곱\u001b[0m\u001b[1;33m\u001b[0m\u001b[1;33m\u001b[0m\u001b[1;33m\u001b[0m\u001b[0m\n\u001b[1;32m---> 30\u001b[1;33m         \u001b[0mxw\u001b[0m \u001b[1;33m=\u001b[0m \u001b[0mtf\u001b[0m\u001b[1;33m.\u001b[0m\u001b[0mmatmul\u001b[0m\u001b[1;33m(\u001b[0m\u001b[0mself\u001b[0m\u001b[1;33m.\u001b[0m\u001b[0mX\u001b[0m\u001b[1;33m,\u001b[0m \u001b[0mself\u001b[0m\u001b[1;33m.\u001b[0m\u001b[0mW\u001b[0m\u001b[1;33m)\u001b[0m\u001b[1;33m\u001b[0m\u001b[1;33m\u001b[0m\u001b[0m\n\u001b[0m\u001b[0;32m     31\u001b[0m         \u001b[0mprint\u001b[0m\u001b[1;33m(\u001b[0m\u001b[0mxw\u001b[0m\u001b[1;33m)\u001b[0m\u001b[1;33m\u001b[0m\u001b[1;33m\u001b[0m\u001b[0m\n\u001b[0;32m     32\u001b[0m         \u001b[0my\u001b[0m \u001b[1;33m=\u001b[0m \u001b[0mxw\u001b[0m \u001b[1;33m+\u001b[0m \u001b[0mself\u001b[0m\u001b[1;33m.\u001b[0m\u001b[0mb\u001b[0m\u001b[1;33m\u001b[0m\u001b[1;33m\u001b[0m\u001b[0m\n",
      "\u001b[1;32m~\\anaconda3\\lib\\site-packages\\tensorflow\\python\\util\\dispatch.py\u001b[0m in \u001b[0;36mwrapper\u001b[1;34m(*args, **kwargs)\u001b[0m\n\u001b[0;32m    199\u001b[0m     \u001b[1;34m\"\"\"Call target, and fall back on dispatchers if there is a TypeError.\"\"\"\u001b[0m\u001b[1;33m\u001b[0m\u001b[1;33m\u001b[0m\u001b[0m\n\u001b[0;32m    200\u001b[0m     \u001b[1;32mtry\u001b[0m\u001b[1;33m:\u001b[0m\u001b[1;33m\u001b[0m\u001b[1;33m\u001b[0m\u001b[0m\n\u001b[1;32m--> 201\u001b[1;33m       \u001b[1;32mreturn\u001b[0m \u001b[0mtarget\u001b[0m\u001b[1;33m(\u001b[0m\u001b[1;33m*\u001b[0m\u001b[0margs\u001b[0m\u001b[1;33m,\u001b[0m \u001b[1;33m**\u001b[0m\u001b[0mkwargs\u001b[0m\u001b[1;33m)\u001b[0m\u001b[1;33m\u001b[0m\u001b[1;33m\u001b[0m\u001b[0m\n\u001b[0m\u001b[0;32m    202\u001b[0m     \u001b[1;32mexcept\u001b[0m \u001b[1;33m(\u001b[0m\u001b[0mTypeError\u001b[0m\u001b[1;33m,\u001b[0m \u001b[0mValueError\u001b[0m\u001b[1;33m)\u001b[0m\u001b[1;33m:\u001b[0m\u001b[1;33m\u001b[0m\u001b[1;33m\u001b[0m\u001b[0m\n\u001b[0;32m    203\u001b[0m       \u001b[1;31m# Note: convert_to_eager_tensor currently raises a ValueError, not a\u001b[0m\u001b[1;33m\u001b[0m\u001b[1;33m\u001b[0m\u001b[1;33m\u001b[0m\u001b[0m\n",
      "\u001b[1;32m~\\anaconda3\\lib\\site-packages\\tensorflow\\python\\ops\\math_ops.py\u001b[0m in \u001b[0;36mmatmul\u001b[1;34m(a, b, transpose_a, transpose_b, adjoint_a, adjoint_b, a_is_sparse, b_is_sparse, name)\u001b[0m\n\u001b[0;32m   3252\u001b[0m       \u001b[1;32mreturn\u001b[0m \u001b[0mret\u001b[0m\u001b[1;33m\u001b[0m\u001b[1;33m\u001b[0m\u001b[0m\n\u001b[0;32m   3253\u001b[0m     \u001b[1;32melse\u001b[0m\u001b[1;33m:\u001b[0m\u001b[1;33m\u001b[0m\u001b[1;33m\u001b[0m\u001b[0m\n\u001b[1;32m-> 3254\u001b[1;33m       return gen_math_ops.mat_mul(\n\u001b[0m\u001b[0;32m   3255\u001b[0m           a, b, transpose_a=transpose_a, transpose_b=transpose_b, name=name)\n\u001b[0;32m   3256\u001b[0m \u001b[1;33m\u001b[0m\u001b[0m\n",
      "\u001b[1;32m~\\anaconda3\\lib\\site-packages\\tensorflow\\python\\ops\\gen_math_ops.py\u001b[0m in \u001b[0;36mmat_mul\u001b[1;34m(a, b, transpose_a, transpose_b, name)\u001b[0m\n\u001b[0;32m   5621\u001b[0m       \u001b[1;32mreturn\u001b[0m \u001b[0m_result\u001b[0m\u001b[1;33m\u001b[0m\u001b[1;33m\u001b[0m\u001b[0m\n\u001b[0;32m   5622\u001b[0m     \u001b[1;32mexcept\u001b[0m \u001b[0m_core\u001b[0m\u001b[1;33m.\u001b[0m\u001b[0m_NotOkStatusException\u001b[0m \u001b[1;32mas\u001b[0m \u001b[0me\u001b[0m\u001b[1;33m:\u001b[0m\u001b[1;33m\u001b[0m\u001b[1;33m\u001b[0m\u001b[0m\n\u001b[1;32m-> 5623\u001b[1;33m       \u001b[0m_ops\u001b[0m\u001b[1;33m.\u001b[0m\u001b[0mraise_from_not_ok_status\u001b[0m\u001b[1;33m(\u001b[0m\u001b[0me\u001b[0m\u001b[1;33m,\u001b[0m \u001b[0mname\u001b[0m\u001b[1;33m)\u001b[0m\u001b[1;33m\u001b[0m\u001b[1;33m\u001b[0m\u001b[0m\n\u001b[0m\u001b[0;32m   5624\u001b[0m     \u001b[1;32mexcept\u001b[0m \u001b[0m_core\u001b[0m\u001b[1;33m.\u001b[0m\u001b[0m_FallbackException\u001b[0m\u001b[1;33m:\u001b[0m\u001b[1;33m\u001b[0m\u001b[1;33m\u001b[0m\u001b[0m\n\u001b[0;32m   5625\u001b[0m       \u001b[1;32mpass\u001b[0m\u001b[1;33m\u001b[0m\u001b[1;33m\u001b[0m\u001b[0m\n",
      "\u001b[1;32m~\\anaconda3\\lib\\site-packages\\tensorflow\\python\\framework\\ops.py\u001b[0m in \u001b[0;36mraise_from_not_ok_status\u001b[1;34m(e, name)\u001b[0m\n\u001b[0;32m   6841\u001b[0m   \u001b[0mmessage\u001b[0m \u001b[1;33m=\u001b[0m \u001b[0me\u001b[0m\u001b[1;33m.\u001b[0m\u001b[0mmessage\u001b[0m \u001b[1;33m+\u001b[0m \u001b[1;33m(\u001b[0m\u001b[1;34m\" name: \"\u001b[0m \u001b[1;33m+\u001b[0m \u001b[0mname\u001b[0m \u001b[1;32mif\u001b[0m \u001b[0mname\u001b[0m \u001b[1;32mis\u001b[0m \u001b[1;32mnot\u001b[0m \u001b[1;32mNone\u001b[0m \u001b[1;32melse\u001b[0m \u001b[1;34m\"\"\u001b[0m\u001b[1;33m)\u001b[0m\u001b[1;33m\u001b[0m\u001b[1;33m\u001b[0m\u001b[0m\n\u001b[0;32m   6842\u001b[0m   \u001b[1;31m# pylint: disable=protected-access\u001b[0m\u001b[1;33m\u001b[0m\u001b[1;33m\u001b[0m\u001b[1;33m\u001b[0m\u001b[0m\n\u001b[1;32m-> 6843\u001b[1;33m   \u001b[0msix\u001b[0m\u001b[1;33m.\u001b[0m\u001b[0mraise_from\u001b[0m\u001b[1;33m(\u001b[0m\u001b[0mcore\u001b[0m\u001b[1;33m.\u001b[0m\u001b[0m_status_to_exception\u001b[0m\u001b[1;33m(\u001b[0m\u001b[0me\u001b[0m\u001b[1;33m.\u001b[0m\u001b[0mcode\u001b[0m\u001b[1;33m,\u001b[0m \u001b[0mmessage\u001b[0m\u001b[1;33m)\u001b[0m\u001b[1;33m,\u001b[0m \u001b[1;32mNone\u001b[0m\u001b[1;33m)\u001b[0m\u001b[1;33m\u001b[0m\u001b[1;33m\u001b[0m\u001b[0m\n\u001b[0m\u001b[0;32m   6844\u001b[0m   \u001b[1;31m# pylint: enable=protected-access\u001b[0m\u001b[1;33m\u001b[0m\u001b[1;33m\u001b[0m\u001b[1;33m\u001b[0m\u001b[0m\n\u001b[0;32m   6845\u001b[0m \u001b[1;33m\u001b[0m\u001b[0m\n",
      "\u001b[1;32m~\\anaconda3\\lib\\site-packages\\six.py\u001b[0m in \u001b[0;36mraise_from\u001b[1;34m(value, from_value)\u001b[0m\n",
      "\u001b[1;31mInvalidArgumentError\u001b[0m: Matrix size-incompatible: In[0]: [1,5], In[1]: [3,3] [Op:MatMul]"
     ]
    }
   ],
   "source": [
    "# 해당 레이어는 Input - output이 정의된 레이어\n",
    "new_layer_input = myLayer_input(X)\n",
    "\n",
    "new_layer_input()"
   ]
  },
  {
   "cell_type": "markdown",
   "metadata": {},
   "source": [
    "## 레이어 정의\n",
    "\n",
    "레이어를 정의할 때는 tf.Module 클래스를 상속받아서 선언합니다.\n",
    "\n",
    "`__init__()` 함수, `__call__()` 함수를 반드시 정의해줘야한다.\n",
    "\n",
    "- `__init__()` 함수\n",
    "\n",
    "1. tf.Module의 `__init__()` 수행하기 \n",
    "2. 연산에 필요한 텐서 정의하기 (W, b .. )\n",
    "\n",
    "\n",
    "- `__call__()` 함수\n",
    "\n",
    "\n",
    "1. 연산 과정을 정의 "
   ]
  },
  {
   "cell_type": "code",
   "execution_count": 59,
   "metadata": {},
   "outputs": [
    {
     "name": "stdout",
     "output_type": "stream",
     "text": [
      "내가 만든 레이어가 생성되었습니다.\n",
      "현재 레이어의 가중치 행렬의 shape는  (5, 3)\n"
     ]
    }
   ],
   "source": [
    "# 레이어의 경우, 재사용이 가능하다. \n",
    "# 레이어를 선언하는 시점에 입력값을 정의하다보니 재사용이 불가능하다.\n",
    "# 레이어가 있고 입력값을 바꾸면서 출력값또한 바뀌길원했다.\n",
    "new_layer_input = myLayer_input(X)\n"
   ]
  },
  {
   "cell_type": "code",
   "execution_count": 61,
   "metadata": {},
   "outputs": [
    {
     "name": "stdout",
     "output_type": "stream",
     "text": [
      "내가 만든 레이어의 연산이 수행됩니다.\n",
      "tf.Tensor([[15. 15. 15.]], shape=(1, 3), dtype=float32)\n",
      "내가 만든 레이어의 연산이 수행됩니다.\n",
      "tf.Tensor([[15. 15. 15.]], shape=(1, 3), dtype=float32)\n"
     ]
    },
    {
     "data": {
      "text/plain": [
       "<tf.Tensor: shape=(1, 3), dtype=float32, numpy=array([[16., 16., 16.]], dtype=float32)>"
      ]
     },
     "execution_count": 61,
     "metadata": {},
     "output_type": "execute_result"
    }
   ],
   "source": [
    "new_layer_input()\n",
    "\n",
    "new_layer_input()"
   ]
  },
  {
   "cell_type": "code",
   "execution_count": 64,
   "metadata": {},
   "outputs": [],
   "source": [
    "# X를 해당 레이어를 호출할 때 입력으로 받는 레이어를 정의합니다. \n",
    "class myLayer_call(tf.Module):\n",
    "    \n",
    "    # __init__을 정의합니다.\n",
    "    def __init__(self, input_shape):\n",
    "        # tf.Module의 __init__()를 호출하여 tf.Module 클래스의 프로퍼티와 메소드를 사용하도록 하자.\n",
    "        super().__init__()\n",
    "        print('내가 만든 레이어가 생성되었습니다.')\n",
    "        \n",
    "        # input_shape는 해당 레이어의 input X의 shape의 마지막 값을 의미한다.\n",
    "        \n",
    "        # X가 해당 레이어 인스턴스가 생성될 때 W의 shape를 정의할 수 없다. -> W 라는 가중치 텐서를 정의할 수 없게 된다. \n",
    "        self.W = tf.Variable(tf.ones(shape = (input_shape, 3)), name = 'w')\n",
    "        \n",
    "        print('현재 레이어의 가중치 행렬의 shape는 ', self.W.shape)\n",
    "        self.b = tf.Variable(tf.ones(shape = (3)), name = 'b')\n",
    "    \n",
    "    # 해당 레이어 호출하는 시점에 X를 입력으로 받는다.\n",
    "    def __call__(self, X):\n",
    "        print('내가 만든 레이어의 연산이 수행됩니다.')\n",
    "        # 정의된 텐서들을 가지고 연산과정을 수행합니다.\n",
    "        # X와 W의 행렬 곱\n",
    "        xw = tf.matmul(X, self.W)\n",
    "        print(xw)\n",
    "        y = xw + self.b\n",
    "        return y   "
   ]
  },
  {
   "cell_type": "code",
   "execution_count": 65,
   "metadata": {},
   "outputs": [],
   "source": [
    "# 우리가 해당 레이어의 입력값으로 사용하고자 하는 변수\n",
    "X = tf.Variable([[1, 2, 3, 4, 5]], dtype = tf.float32, shape = (1, 5), name= 'x')"
   ]
  },
  {
   "cell_type": "code",
   "execution_count": 66,
   "metadata": {},
   "outputs": [
    {
     "name": "stdout",
     "output_type": "stream",
     "text": [
      "내가 만든 레이어가 생성되었습니다.\n",
      "현재 레이어의 가중치 행렬의 shape는  (5, 3)\n"
     ]
    }
   ],
   "source": [
    "# 해당 레이어 클래스의 인스턴스가 생성되는 시점 -> __init__()함수가 수행\n",
    "# 해당 레이어의 input X의 shape의 마지막 값을 넣어줘야 합니다. -> W의 shape를 정의할 수 있기 때문에\n",
    "new_layer_call =  myLayer_call(5)"
   ]
  },
  {
   "cell_type": "code",
   "execution_count": 67,
   "metadata": {},
   "outputs": [
    {
     "name": "stdout",
     "output_type": "stream",
     "text": [
      "내가 만든 레이어의 연산이 수행됩니다.\n",
      "tf.Tensor([[15. 15. 15.]], shape=(1, 3), dtype=float32)\n"
     ]
    },
    {
     "data": {
      "text/plain": [
       "<tf.Tensor: shape=(1, 3), dtype=float32, numpy=array([[16., 16., 16.]], dtype=float32)>"
      ]
     },
     "execution_count": 67,
     "metadata": {},
     "output_type": "execute_result"
    }
   ],
   "source": [
    "new_layer_call(X)\n",
    "\n",
    "# 실제로 재사용 가능한지 확인해보겠습니다.\n",
    "\n"
   ]
  },
  {
   "cell_type": "code",
   "execution_count": 68,
   "metadata": {},
   "outputs": [],
   "source": [
    "X_1 = tf.Variable([[1, 1, 1, 1, 1]], dtype = tf.float32, shape = (1, 5), name= 'x')"
   ]
  },
  {
   "cell_type": "code",
   "execution_count": 69,
   "metadata": {},
   "outputs": [
    {
     "name": "stdout",
     "output_type": "stream",
     "text": [
      "내가 만든 레이어의 연산이 수행됩니다.\n",
      "tf.Tensor([[5. 5. 5.]], shape=(1, 3), dtype=float32)\n"
     ]
    },
    {
     "data": {
      "text/plain": [
       "<tf.Tensor: shape=(1, 3), dtype=float32, numpy=array([[6., 6., 6.]], dtype=float32)>"
      ]
     },
     "execution_count": 69,
     "metadata": {},
     "output_type": "execute_result"
    }
   ],
   "source": [
    "# 선언하는 시점이 아니라 호출하는 시점에 입력을 받는 레이어는 재사용이 가능합니다.\n",
    "# 선언하는 시점에는 입력으로 사용할 텐서의 shape의 마지막 값을 반드시 추가해줘야 합니다.\n",
    "new_layer_call(X_1)"
   ]
  },
  {
   "cell_type": "code",
   "execution_count": 70,
   "metadata": {},
   "outputs": [],
   "source": [
    "X_2 = tf.Variable([[1, 1, 1]], dtype = tf.float32, shape = (1, 3), name= 'x')"
   ]
  },
  {
   "cell_type": "code",
   "execution_count": 71,
   "metadata": {
    "collapsed": true
   },
   "outputs": [
    {
     "name": "stdout",
     "output_type": "stream",
     "text": [
      "내가 만든 레이어의 연산이 수행됩니다.\n"
     ]
    },
    {
     "ename": "InvalidArgumentError",
     "evalue": "Matrix size-incompatible: In[0]: [1,3], In[1]: [5,3] [Op:MatMul]",
     "output_type": "error",
     "traceback": [
      "\u001b[1;31m---------------------------------------------------------------------------\u001b[0m",
      "\u001b[1;31mInvalidArgumentError\u001b[0m                      Traceback (most recent call last)",
      "\u001b[1;32m<ipython-input-71-9f158b0eec28>\u001b[0m in \u001b[0;36m<module>\u001b[1;34m\u001b[0m\n\u001b[1;32m----> 1\u001b[1;33m \u001b[0mnew_layer_call\u001b[0m\u001b[1;33m(\u001b[0m\u001b[0mX_2\u001b[0m\u001b[1;33m)\u001b[0m\u001b[1;33m\u001b[0m\u001b[1;33m\u001b[0m\u001b[0m\n\u001b[0m",
      "\u001b[1;32m<ipython-input-64-a24173a8a091>\u001b[0m in \u001b[0;36m__call__\u001b[1;34m(self, X)\u001b[0m\n\u001b[0;32m     21\u001b[0m         \u001b[1;31m# 정의된 텐서들을 가지고 연산과정을 수행합니다.\u001b[0m\u001b[1;33m\u001b[0m\u001b[1;33m\u001b[0m\u001b[1;33m\u001b[0m\u001b[0m\n\u001b[0;32m     22\u001b[0m         \u001b[1;31m# X와 W의 행렬 곱\u001b[0m\u001b[1;33m\u001b[0m\u001b[1;33m\u001b[0m\u001b[1;33m\u001b[0m\u001b[0m\n\u001b[1;32m---> 23\u001b[1;33m         \u001b[0mxw\u001b[0m \u001b[1;33m=\u001b[0m \u001b[0mtf\u001b[0m\u001b[1;33m.\u001b[0m\u001b[0mmatmul\u001b[0m\u001b[1;33m(\u001b[0m\u001b[0mX\u001b[0m\u001b[1;33m,\u001b[0m \u001b[0mself\u001b[0m\u001b[1;33m.\u001b[0m\u001b[0mW\u001b[0m\u001b[1;33m)\u001b[0m\u001b[1;33m\u001b[0m\u001b[1;33m\u001b[0m\u001b[0m\n\u001b[0m\u001b[0;32m     24\u001b[0m         \u001b[0mprint\u001b[0m\u001b[1;33m(\u001b[0m\u001b[0mxw\u001b[0m\u001b[1;33m)\u001b[0m\u001b[1;33m\u001b[0m\u001b[1;33m\u001b[0m\u001b[0m\n\u001b[0;32m     25\u001b[0m         \u001b[0my\u001b[0m \u001b[1;33m=\u001b[0m \u001b[0mxw\u001b[0m \u001b[1;33m+\u001b[0m \u001b[0mself\u001b[0m\u001b[1;33m.\u001b[0m\u001b[0mb\u001b[0m\u001b[1;33m\u001b[0m\u001b[1;33m\u001b[0m\u001b[0m\n",
      "\u001b[1;32m~\\anaconda3\\lib\\site-packages\\tensorflow\\python\\util\\dispatch.py\u001b[0m in \u001b[0;36mwrapper\u001b[1;34m(*args, **kwargs)\u001b[0m\n\u001b[0;32m    199\u001b[0m     \u001b[1;34m\"\"\"Call target, and fall back on dispatchers if there is a TypeError.\"\"\"\u001b[0m\u001b[1;33m\u001b[0m\u001b[1;33m\u001b[0m\u001b[0m\n\u001b[0;32m    200\u001b[0m     \u001b[1;32mtry\u001b[0m\u001b[1;33m:\u001b[0m\u001b[1;33m\u001b[0m\u001b[1;33m\u001b[0m\u001b[0m\n\u001b[1;32m--> 201\u001b[1;33m       \u001b[1;32mreturn\u001b[0m \u001b[0mtarget\u001b[0m\u001b[1;33m(\u001b[0m\u001b[1;33m*\u001b[0m\u001b[0margs\u001b[0m\u001b[1;33m,\u001b[0m \u001b[1;33m**\u001b[0m\u001b[0mkwargs\u001b[0m\u001b[1;33m)\u001b[0m\u001b[1;33m\u001b[0m\u001b[1;33m\u001b[0m\u001b[0m\n\u001b[0m\u001b[0;32m    202\u001b[0m     \u001b[1;32mexcept\u001b[0m \u001b[1;33m(\u001b[0m\u001b[0mTypeError\u001b[0m\u001b[1;33m,\u001b[0m \u001b[0mValueError\u001b[0m\u001b[1;33m)\u001b[0m\u001b[1;33m:\u001b[0m\u001b[1;33m\u001b[0m\u001b[1;33m\u001b[0m\u001b[0m\n\u001b[0;32m    203\u001b[0m       \u001b[1;31m# Note: convert_to_eager_tensor currently raises a ValueError, not a\u001b[0m\u001b[1;33m\u001b[0m\u001b[1;33m\u001b[0m\u001b[1;33m\u001b[0m\u001b[0m\n",
      "\u001b[1;32m~\\anaconda3\\lib\\site-packages\\tensorflow\\python\\ops\\math_ops.py\u001b[0m in \u001b[0;36mmatmul\u001b[1;34m(a, b, transpose_a, transpose_b, adjoint_a, adjoint_b, a_is_sparse, b_is_sparse, name)\u001b[0m\n\u001b[0;32m   3252\u001b[0m       \u001b[1;32mreturn\u001b[0m \u001b[0mret\u001b[0m\u001b[1;33m\u001b[0m\u001b[1;33m\u001b[0m\u001b[0m\n\u001b[0;32m   3253\u001b[0m     \u001b[1;32melse\u001b[0m\u001b[1;33m:\u001b[0m\u001b[1;33m\u001b[0m\u001b[1;33m\u001b[0m\u001b[0m\n\u001b[1;32m-> 3254\u001b[1;33m       return gen_math_ops.mat_mul(\n\u001b[0m\u001b[0;32m   3255\u001b[0m           a, b, transpose_a=transpose_a, transpose_b=transpose_b, name=name)\n\u001b[0;32m   3256\u001b[0m \u001b[1;33m\u001b[0m\u001b[0m\n",
      "\u001b[1;32m~\\anaconda3\\lib\\site-packages\\tensorflow\\python\\ops\\gen_math_ops.py\u001b[0m in \u001b[0;36mmat_mul\u001b[1;34m(a, b, transpose_a, transpose_b, name)\u001b[0m\n\u001b[0;32m   5621\u001b[0m       \u001b[1;32mreturn\u001b[0m \u001b[0m_result\u001b[0m\u001b[1;33m\u001b[0m\u001b[1;33m\u001b[0m\u001b[0m\n\u001b[0;32m   5622\u001b[0m     \u001b[1;32mexcept\u001b[0m \u001b[0m_core\u001b[0m\u001b[1;33m.\u001b[0m\u001b[0m_NotOkStatusException\u001b[0m \u001b[1;32mas\u001b[0m \u001b[0me\u001b[0m\u001b[1;33m:\u001b[0m\u001b[1;33m\u001b[0m\u001b[1;33m\u001b[0m\u001b[0m\n\u001b[1;32m-> 5623\u001b[1;33m       \u001b[0m_ops\u001b[0m\u001b[1;33m.\u001b[0m\u001b[0mraise_from_not_ok_status\u001b[0m\u001b[1;33m(\u001b[0m\u001b[0me\u001b[0m\u001b[1;33m,\u001b[0m \u001b[0mname\u001b[0m\u001b[1;33m)\u001b[0m\u001b[1;33m\u001b[0m\u001b[1;33m\u001b[0m\u001b[0m\n\u001b[0m\u001b[0;32m   5624\u001b[0m     \u001b[1;32mexcept\u001b[0m \u001b[0m_core\u001b[0m\u001b[1;33m.\u001b[0m\u001b[0m_FallbackException\u001b[0m\u001b[1;33m:\u001b[0m\u001b[1;33m\u001b[0m\u001b[1;33m\u001b[0m\u001b[0m\n\u001b[0;32m   5625\u001b[0m       \u001b[1;32mpass\u001b[0m\u001b[1;33m\u001b[0m\u001b[1;33m\u001b[0m\u001b[0m\n",
      "\u001b[1;32m~\\anaconda3\\lib\\site-packages\\tensorflow\\python\\framework\\ops.py\u001b[0m in \u001b[0;36mraise_from_not_ok_status\u001b[1;34m(e, name)\u001b[0m\n\u001b[0;32m   6841\u001b[0m   \u001b[0mmessage\u001b[0m \u001b[1;33m=\u001b[0m \u001b[0me\u001b[0m\u001b[1;33m.\u001b[0m\u001b[0mmessage\u001b[0m \u001b[1;33m+\u001b[0m \u001b[1;33m(\u001b[0m\u001b[1;34m\" name: \"\u001b[0m \u001b[1;33m+\u001b[0m \u001b[0mname\u001b[0m \u001b[1;32mif\u001b[0m \u001b[0mname\u001b[0m \u001b[1;32mis\u001b[0m \u001b[1;32mnot\u001b[0m \u001b[1;32mNone\u001b[0m \u001b[1;32melse\u001b[0m \u001b[1;34m\"\"\u001b[0m\u001b[1;33m)\u001b[0m\u001b[1;33m\u001b[0m\u001b[1;33m\u001b[0m\u001b[0m\n\u001b[0;32m   6842\u001b[0m   \u001b[1;31m# pylint: disable=protected-access\u001b[0m\u001b[1;33m\u001b[0m\u001b[1;33m\u001b[0m\u001b[1;33m\u001b[0m\u001b[0m\n\u001b[1;32m-> 6843\u001b[1;33m   \u001b[0msix\u001b[0m\u001b[1;33m.\u001b[0m\u001b[0mraise_from\u001b[0m\u001b[1;33m(\u001b[0m\u001b[0mcore\u001b[0m\u001b[1;33m.\u001b[0m\u001b[0m_status_to_exception\u001b[0m\u001b[1;33m(\u001b[0m\u001b[0me\u001b[0m\u001b[1;33m.\u001b[0m\u001b[0mcode\u001b[0m\u001b[1;33m,\u001b[0m \u001b[0mmessage\u001b[0m\u001b[1;33m)\u001b[0m\u001b[1;33m,\u001b[0m \u001b[1;32mNone\u001b[0m\u001b[1;33m)\u001b[0m\u001b[1;33m\u001b[0m\u001b[1;33m\u001b[0m\u001b[0m\n\u001b[0m\u001b[0;32m   6844\u001b[0m   \u001b[1;31m# pylint: enable=protected-access\u001b[0m\u001b[1;33m\u001b[0m\u001b[1;33m\u001b[0m\u001b[1;33m\u001b[0m\u001b[0m\n\u001b[0;32m   6845\u001b[0m \u001b[1;33m\u001b[0m\u001b[0m\n",
      "\u001b[1;32m~\\anaconda3\\lib\\site-packages\\six.py\u001b[0m in \u001b[0;36mraise_from\u001b[1;34m(value, from_value)\u001b[0m\n",
      "\u001b[1;31mInvalidArgumentError\u001b[0m: Matrix size-incompatible: In[0]: [1,3], In[1]: [5,3] [Op:MatMul]"
     ]
    }
   ],
   "source": [
    "# 레이어를 선언하는 시점에 가중치 행렬 텐서 W의 shape가 (5, 3)으로 정해졌기 때문에\n",
    "# 입력 X(1,3)의 레이어의 재사용이 불가능하다. (X,W의 행렬곱연산이 불가능하기 때문에)\n",
    "new_layer_call(X_2)"
   ]
  },
  {
   "cell_type": "code",
   "execution_count": 72,
   "metadata": {},
   "outputs": [],
   "source": [
    "# 맨마지막 shape만을 사용하는 이유 \n",
    "# new_layer_call 현재 선언된 레이어의 가중치 텐서는 (5, 3)의 shape를 가진다.\n",
    "\n",
    "X_3 = tf.Variable([[1, 1, 1, 1, 1], [2, 2, 2, 2, 2]], dtype = tf.float32, shape = (1, 5), name= 'x')"
   ]
  },
  {
   "cell_type": "code",
   "execution_count": 75,
   "metadata": {},
   "outputs": [
    {
     "name": "stdout",
     "output_type": "stream",
     "text": [
      "내가 만든 레이어의 연산이 수행됩니다.\n",
      "tf.Tensor(\n",
      "[[ 5.  5.  5.]\n",
      " [10. 10. 10.]], shape=(2, 3), dtype=float32)\n"
     ]
    },
    {
     "data": {
      "text/plain": [
       "TensorShape([2, 3])"
      ]
     },
     "execution_count": 75,
     "metadata": {},
     "output_type": "execute_result"
    }
   ],
   "source": [
    "# 레이어에 대한 재사용\n",
    "new_layer_call(X_3).shape"
   ]
  },
  {
   "cell_type": "markdown",
   "metadata": {},
   "source": [
    "# trainable_variables\n",
    "\n",
    "\n",
    "우리가 정의한 Layer 클래스의 인스턴스가 가지는 프로퍼티다.\n",
    "\n",
    "해당 프로퍼티는 현재 Layer가 가지는 Variable 텐서을 모두 가지고 있다."
   ]
  },
  {
   "cell_type": "code",
   "execution_count": 77,
   "metadata": {},
   "outputs": [
    {
     "data": {
      "text/plain": [
       "(<tf.Variable 'w:0' shape=(5, 3) dtype=float32, numpy=\n",
       " array([[1., 1., 1.],\n",
       "        [1., 1., 1.],\n",
       "        [1., 1., 1.],\n",
       "        [1., 1., 1.],\n",
       "        [1., 1., 1.]], dtype=float32)>,\n",
       " <tf.Variable 'b:0' shape=(3,) dtype=float32, numpy=array([1., 1., 1.], dtype=float32)>)"
      ]
     },
     "execution_count": 77,
     "metadata": {},
     "output_type": "execute_result"
    }
   ],
   "source": [
    "new_layer_call.trainable_variables"
   ]
  },
  {
   "cell_type": "markdown",
   "metadata": {},
   "source": [
    "new_layer_call 레이어가 사용하는 입력 X 텐서의 shape는 ( , 5)라고 정의할 수 있습니다."
   ]
  },
  {
   "cell_type": "markdown",
   "metadata": {},
   "source": [
    "<img src=\"./education_images/1-1-4_formula.png\" alt=\"Drawing\" style=\"width: 300px;\"/>\n"
   ]
  },
  {
   "cell_type": "markdown",
   "metadata": {},
   "source": [
    "# 1일차 정리\n",
    "\n",
    "1일차 공부했던 것들에 대해서 나름대로 정리해보는 시간을 17분까지 가지도록 하겠습니다. #에 적힌 단어들에 대해서 설명해보세요.\n",
    "아마 어제 1일차 정리했던 것들을 보면서 작성하면 쉬울 것 같네요.\n",
    "아무래도 코드는 자신이 직접 쳐보는 것이 중요합니다. '손가락? 근육? 기억'이라고 손이 기억하는 경우가 많아요!\n",
    "타인이 작성한 코드는 개념만 잡고 스스로 풀어보는 것이 중요합니다. \n",
    "\n",
    "## 텐서의 기초\n",
    "\n",
    "\n",
    "\n",
    "\n",
    "### shape\n",
    "\n",
    "\n",
    "\n",
    "\n",
    "### tensor\n",
    "\n",
    "\n",
    "## 텐서의 자료형\n",
    "\n",
    "\n",
    "\n",
    "### constant\n",
    "\n",
    "`tf.constant()` 를 통해서 선언한다.\n",
    "\n",
    "\n",
    "\n",
    "### variable\n",
    "\n",
    "`tf.Variable()`을 통해서 선언한다. \n"
   ]
  },
  {
   "cell_type": "markdown",
   "metadata": {},
   "source": [
    "# 2일차 정리\n",
    "\n",
    "## Graph\n",
    "\n",
    "그래프 모드란, 해당 모드로 텐서플로우를 실행하면 사용한 모든 연산에 대해서 코드가 실행될 때, 연산을 수행하는 것이 아니라 연산 결과값이 필요할 때 연산이 수행됩니다.\n",
    "\n",
    "이렇게 연산이 즉시 수행되지 않고 모든 연산의 과정이 정의가 된 다음 수행하기 때문에 연산과정을 병렬화하거나 최적화할 수 있습니다.\n",
    "\n",
    "\n",
    "예를 들어, 2(5 + 4) + 3(1 + 2) =? 라는 수식을 텐서 연산을 통해 수행한다고 생각해봅시다.\n",
    "\n",
    "\n",
    "2(5 + 4) + 3(1 + 2) =? 의 수식에서 5+4 의 과정과 1+2의 과정의 경우, 동시에 수행하더라도 결과값은 동일하기 때문에 이러한 병렬화가 graph모드에서 이루어진다."
   ]
  },
  {
   "cell_type": "code",
   "execution_count": 4,
   "metadata": {},
   "outputs": [],
   "source": [
    "import tensorflow as  tf"
   ]
  },
  {
   "cell_type": "code",
   "execution_count": 5,
   "metadata": {},
   "outputs": [],
   "source": [
    "# 그래프 모드를 사용하지 않는 연산\n",
    "\n",
    "#  2(5 + 4) + 3(1 + 2) =?\n",
    "def non_graph_call():\n",
    "    \n",
    "    # 해당 텐서는 최종 결과값을 담는 텐서입니다.\n",
    "    result = tf.Variable(5, name = 'result')\n",
    "    \n",
    "    \n",
    "    # 5 + 4 덧셈을 위해 tf.assign_add() 함수를 사용합니다.\n",
    "    # 5 + 4 = 9 의 값을 가지고 있다.\n",
    "    result.assign_add(4)\n",
    "    \n",
    "    #텐서의 값을 가져오기 위해서는 반드시 numpy()함수를 사용해야한다.\n",
    "    print(result.numpy())\n",
    "    \n",
    "    \n",
    "    # 2 * (5 + 4) 의 결과값을 가지는 텐서를 선언합니다.\n",
    "    # 곱셈을 실시하는 tensorflow 전용 곱셈 함수 tf.math.multiply() 라는 함수를 사용합니다.\n",
    "    left = tf.math.multiply(result, 2)\n",
    "    \n",
    "    # 2 * (5 + 4)의 결과값을 가지고 있다.\n",
    "    print(left.numpy())\n",
    "    \n",
    "    #result라는 텐서에 최종 결과값을 넣어야하므로 assign함수로 left의 값을 넣어줍니다.\n",
    "    # result = left \n",
    "    # assign을 사용하는 이유는 기존 텐서에 값을 바꾸는 함수이기 때문입니다.\n",
    "    result.assign(left)\n",
    "    \n",
    "    \n",
    "    # 3 * (1 + 2)의 과정을 수행하기 위해서 1이라는 값을 선언합니다.\n",
    "    # Variable -> constant로 바꾼 이유는 right라는 텐서가 값이 바뀌거나, 바뀌는 변동사항을 추적할 필요가 없기 때문입니다.\n",
    "    # result라는 텐서는 최종 반환값을 가져야하기 때문에 Variable 텐서로 정의를 하였다.\n",
    "    right = tf.constant(1, name = 'result')\n",
    "    \n",
    "    \n",
    "    # 1 + 2 덧셈을 위해 tf.math.add() 함수를 사용합니다.\n",
    "    # right는 1 + 2 = 3 의 값을 가지고 있다.\n",
    "    right = tf.math.add(right, 2)\n",
    "    \n",
    "    #텐서의 값을 가져오기 위해서는 반드시 numpy()함수를 사용해야한다.\n",
    "    print(right.numpy())\n",
    "    \n",
    "    \n",
    "    # 3 * (1 + 2) 의 결과값을 가지는 텐서를 선언합니다.\n",
    "    # 곱셈을 실시하는 tensorflow 전용 곱셈 함수 tf.math.multiply() 라는 함수를 사용합니다.\n",
    "    right = tf.math.multiply(right, 3)\n",
    "    \n",
    "    # 3 * (1 + 2)의 결과값을 가지고 있다.\n",
    "    print(right.numpy())\n",
    "    \n",
    "    \n",
    "    # result 텐서는 2 * (5 + 4) + 3 * (1 + 2)의 결과값을 가지고 있다.\n",
    "    result.assign_add(right)\n",
    "    \n",
    "    # 최종 결과값 텐서를 반환합니다.\n",
    "    return result"
   ]
  },
  {
   "cell_type": "code",
   "execution_count": 8,
   "metadata": {},
   "outputs": [],
   "source": [
    "# 그래프 모드를 사용하는 연산\n",
    "\n",
    "#  2(5 + 4) + 3(1 + 2) =?\n",
    "@tf.function\n",
    "def graph_call():\n",
    "    \n",
    "    # 해당 텐서는 최종 결과값을 담는 텐서입니다.\n",
    "    result = tf.Variable(5, name = 'result')\n",
    "    \n",
    "    \n",
    "    # 5 + 4 덧셈을 위해 tf.assign_add() 함수를 사용합니다.\n",
    "    # 5 + 4 = 9 의 값을 가지고 있다.\n",
    "    result.assign_add(4)\n",
    "    \n",
    "    #텐서의 값을 가져오기 위해서는 반드시 numpy()함수를 사용해야한다.\n",
    "    print(result.numpy())\n",
    "    \n",
    "    \n",
    "    # 2 * (5 + 4) 의 결과값을 가지는 텐서를 선언합니다.\n",
    "    # 곱셈을 실시하는 tensorflow 전용 곱셈 함수 tf.math.multiply() 라는 함수를 사용합니다.\n",
    "    left = tf.math.multiply(result, 2)\n",
    "    \n",
    "    # 2 * (5 + 4)의 결과값을 가지고 있다.\n",
    "    print(left.numpy())\n",
    "    \n",
    "    #result라는 텐서에 최종 결과값을 넣어야하므로 assign함수로 left의 값을 넣어줍니다.\n",
    "    # result = left \n",
    "    # assign을 사용하는 이유는 기존 텐서에 값을 바꾸는 함수이기 때문입니다.\n",
    "    result.assign(left)\n",
    "    \n",
    "    \n",
    "    # 3 * (1 + 2)의 과정을 수행하기 위해서 1이라는 값을 선언합니다.\n",
    "    # Variable -> constant로 바꾼 이유는 right라는 텐서가 값이 바뀌거나, 바뀌는 변동사항을 추적할 필요가 없기 때문입니다.\n",
    "    # result라는 텐서는 최종 반환값을 가져야하기 때문에 Variable 텐서로 정의를 하였다.\n",
    "    right = tf.constant(1, name = 'result')\n",
    "    \n",
    "    \n",
    "    # 1 + 2 덧셈을 위해 tf.math.add() 함수를 사용합니다.\n",
    "    # right는 1 + 2 = 3 의 값을 가지고 있다.\n",
    "    right = tf.math.add(right, 2)\n",
    "    \n",
    "    #텐서의 값을 가져오기 위해서는 반드시 numpy()함수를 사용해야한다.\n",
    "    print(right.numpy())\n",
    "    \n",
    "    \n",
    "    # 3 * (1 + 2) 의 결과값을 가지는 텐서를 선언합니다.\n",
    "    # 곱셈을 실시하는 tensorflow 전용 곱셈 함수 tf.math.multiply() 라는 함수를 사용합니다.\n",
    "    right = tf.math.multiply(right, 3)\n",
    "    \n",
    "    # 3 * (1 + 2)의 결과값을 가지고 있다.\n",
    "    print(right.numpy())\n",
    "    \n",
    "    \n",
    "    # result 텐서는 2 * (5 + 4) + 3 * (1 + 2)의 결과값을 가지고 있다.\n",
    "    result.assign_add(right)\n",
    "    \n",
    "    # 최종 결과값 텐서를 반환합니다.\n",
    "    return result"
   ]
  },
  {
   "cell_type": "code",
   "execution_count": 6,
   "metadata": {},
   "outputs": [
    {
     "name": "stdout",
     "output_type": "stream",
     "text": [
      "9\n",
      "18\n",
      "3\n",
      "9\n"
     ]
    },
    {
     "data": {
      "text/plain": [
       "<tf.Variable 'result:0' shape=() dtype=int32, numpy=27>"
      ]
     },
     "execution_count": 6,
     "metadata": {},
     "output_type": "execute_result"
    }
   ],
   "source": [
    "non_graph_call()"
   ]
  },
  {
   "cell_type": "code",
   "execution_count": 9,
   "metadata": {
    "collapsed": true
   },
   "outputs": [
    {
     "ename": "NotImplementedError",
     "evalue": "in user code:\n\n    <ipython-input-8-b11c55a229f3>:16 graph_call  *\n        print(result.numpy())\n    C:\\Users\\User\\anaconda3\\lib\\site-packages\\tensorflow\\python\\ops\\resource_variable_ops.py:609 numpy  **\n        raise NotImplementedError(\n\n    NotImplementedError: numpy() is only available when eager execution is enabled.\n",
     "output_type": "error",
     "traceback": [
      "\u001b[1;31m---------------------------------------------------------------------------\u001b[0m",
      "\u001b[1;31mNotImplementedError\u001b[0m                       Traceback (most recent call last)",
      "\u001b[1;32m<ipython-input-9-c832872ce05f>\u001b[0m in \u001b[0;36m<module>\u001b[1;34m\u001b[0m\n\u001b[1;32m----> 1\u001b[1;33m \u001b[0mgraph_call\u001b[0m\u001b[1;33m(\u001b[0m\u001b[1;33m)\u001b[0m\u001b[1;33m\u001b[0m\u001b[1;33m\u001b[0m\u001b[0m\n\u001b[0m",
      "\u001b[1;32m~\\anaconda3\\lib\\site-packages\\tensorflow\\python\\eager\\def_function.py\u001b[0m in \u001b[0;36m__call__\u001b[1;34m(self, *args, **kwds)\u001b[0m\n\u001b[0;32m    778\u001b[0m       \u001b[1;32melse\u001b[0m\u001b[1;33m:\u001b[0m\u001b[1;33m\u001b[0m\u001b[1;33m\u001b[0m\u001b[0m\n\u001b[0;32m    779\u001b[0m         \u001b[0mcompiler\u001b[0m \u001b[1;33m=\u001b[0m \u001b[1;34m\"nonXla\"\u001b[0m\u001b[1;33m\u001b[0m\u001b[1;33m\u001b[0m\u001b[0m\n\u001b[1;32m--> 780\u001b[1;33m         \u001b[0mresult\u001b[0m \u001b[1;33m=\u001b[0m \u001b[0mself\u001b[0m\u001b[1;33m.\u001b[0m\u001b[0m_call\u001b[0m\u001b[1;33m(\u001b[0m\u001b[1;33m*\u001b[0m\u001b[0margs\u001b[0m\u001b[1;33m,\u001b[0m \u001b[1;33m**\u001b[0m\u001b[0mkwds\u001b[0m\u001b[1;33m)\u001b[0m\u001b[1;33m\u001b[0m\u001b[1;33m\u001b[0m\u001b[0m\n\u001b[0m\u001b[0;32m    781\u001b[0m \u001b[1;33m\u001b[0m\u001b[0m\n\u001b[0;32m    782\u001b[0m       \u001b[0mnew_tracing_count\u001b[0m \u001b[1;33m=\u001b[0m \u001b[0mself\u001b[0m\u001b[1;33m.\u001b[0m\u001b[0m_get_tracing_count\u001b[0m\u001b[1;33m(\u001b[0m\u001b[1;33m)\u001b[0m\u001b[1;33m\u001b[0m\u001b[1;33m\u001b[0m\u001b[0m\n",
      "\u001b[1;32m~\\anaconda3\\lib\\site-packages\\tensorflow\\python\\eager\\def_function.py\u001b[0m in \u001b[0;36m_call\u001b[1;34m(self, *args, **kwds)\u001b[0m\n\u001b[0;32m    821\u001b[0m       \u001b[1;31m# This is the first call of __call__, so we have to initialize.\u001b[0m\u001b[1;33m\u001b[0m\u001b[1;33m\u001b[0m\u001b[1;33m\u001b[0m\u001b[0m\n\u001b[0;32m    822\u001b[0m       \u001b[0minitializers\u001b[0m \u001b[1;33m=\u001b[0m \u001b[1;33m[\u001b[0m\u001b[1;33m]\u001b[0m\u001b[1;33m\u001b[0m\u001b[1;33m\u001b[0m\u001b[0m\n\u001b[1;32m--> 823\u001b[1;33m       \u001b[0mself\u001b[0m\u001b[1;33m.\u001b[0m\u001b[0m_initialize\u001b[0m\u001b[1;33m(\u001b[0m\u001b[0margs\u001b[0m\u001b[1;33m,\u001b[0m \u001b[0mkwds\u001b[0m\u001b[1;33m,\u001b[0m \u001b[0madd_initializers_to\u001b[0m\u001b[1;33m=\u001b[0m\u001b[0minitializers\u001b[0m\u001b[1;33m)\u001b[0m\u001b[1;33m\u001b[0m\u001b[1;33m\u001b[0m\u001b[0m\n\u001b[0m\u001b[0;32m    824\u001b[0m     \u001b[1;32mfinally\u001b[0m\u001b[1;33m:\u001b[0m\u001b[1;33m\u001b[0m\u001b[1;33m\u001b[0m\u001b[0m\n\u001b[0;32m    825\u001b[0m       \u001b[1;31m# At this point we know that the initialization is complete (or less\u001b[0m\u001b[1;33m\u001b[0m\u001b[1;33m\u001b[0m\u001b[1;33m\u001b[0m\u001b[0m\n",
      "\u001b[1;32m~\\anaconda3\\lib\\site-packages\\tensorflow\\python\\eager\\def_function.py\u001b[0m in \u001b[0;36m_initialize\u001b[1;34m(self, args, kwds, add_initializers_to)\u001b[0m\n\u001b[0;32m    694\u001b[0m     \u001b[0mself\u001b[0m\u001b[1;33m.\u001b[0m\u001b[0m_graph_deleter\u001b[0m \u001b[1;33m=\u001b[0m \u001b[0mFunctionDeleter\u001b[0m\u001b[1;33m(\u001b[0m\u001b[0mself\u001b[0m\u001b[1;33m.\u001b[0m\u001b[0m_lifted_initializer_graph\u001b[0m\u001b[1;33m)\u001b[0m\u001b[1;33m\u001b[0m\u001b[1;33m\u001b[0m\u001b[0m\n\u001b[0;32m    695\u001b[0m     self._concrete_stateful_fn = (\n\u001b[1;32m--> 696\u001b[1;33m         self._stateful_fn._get_concrete_function_internal_garbage_collected(  # pylint: disable=protected-access\n\u001b[0m\u001b[0;32m    697\u001b[0m             *args, **kwds))\n\u001b[0;32m    698\u001b[0m \u001b[1;33m\u001b[0m\u001b[0m\n",
      "\u001b[1;32m~\\anaconda3\\lib\\site-packages\\tensorflow\\python\\eager\\function.py\u001b[0m in \u001b[0;36m_get_concrete_function_internal_garbage_collected\u001b[1;34m(self, *args, **kwargs)\u001b[0m\n\u001b[0;32m   2853\u001b[0m       \u001b[0margs\u001b[0m\u001b[1;33m,\u001b[0m \u001b[0mkwargs\u001b[0m \u001b[1;33m=\u001b[0m \u001b[1;32mNone\u001b[0m\u001b[1;33m,\u001b[0m \u001b[1;32mNone\u001b[0m\u001b[1;33m\u001b[0m\u001b[1;33m\u001b[0m\u001b[0m\n\u001b[0;32m   2854\u001b[0m     \u001b[1;32mwith\u001b[0m \u001b[0mself\u001b[0m\u001b[1;33m.\u001b[0m\u001b[0m_lock\u001b[0m\u001b[1;33m:\u001b[0m\u001b[1;33m\u001b[0m\u001b[1;33m\u001b[0m\u001b[0m\n\u001b[1;32m-> 2855\u001b[1;33m       \u001b[0mgraph_function\u001b[0m\u001b[1;33m,\u001b[0m \u001b[0m_\u001b[0m\u001b[1;33m,\u001b[0m \u001b[0m_\u001b[0m \u001b[1;33m=\u001b[0m \u001b[0mself\u001b[0m\u001b[1;33m.\u001b[0m\u001b[0m_maybe_define_function\u001b[0m\u001b[1;33m(\u001b[0m\u001b[0margs\u001b[0m\u001b[1;33m,\u001b[0m \u001b[0mkwargs\u001b[0m\u001b[1;33m)\u001b[0m\u001b[1;33m\u001b[0m\u001b[1;33m\u001b[0m\u001b[0m\n\u001b[0m\u001b[0;32m   2856\u001b[0m     \u001b[1;32mreturn\u001b[0m \u001b[0mgraph_function\u001b[0m\u001b[1;33m\u001b[0m\u001b[1;33m\u001b[0m\u001b[0m\n\u001b[0;32m   2857\u001b[0m \u001b[1;33m\u001b[0m\u001b[0m\n",
      "\u001b[1;32m~\\anaconda3\\lib\\site-packages\\tensorflow\\python\\eager\\function.py\u001b[0m in \u001b[0;36m_maybe_define_function\u001b[1;34m(self, args, kwargs)\u001b[0m\n\u001b[0;32m   3211\u001b[0m \u001b[1;33m\u001b[0m\u001b[0m\n\u001b[0;32m   3212\u001b[0m       \u001b[0mself\u001b[0m\u001b[1;33m.\u001b[0m\u001b[0m_function_cache\u001b[0m\u001b[1;33m.\u001b[0m\u001b[0mmissed\u001b[0m\u001b[1;33m.\u001b[0m\u001b[0madd\u001b[0m\u001b[1;33m(\u001b[0m\u001b[0mcall_context_key\u001b[0m\u001b[1;33m)\u001b[0m\u001b[1;33m\u001b[0m\u001b[1;33m\u001b[0m\u001b[0m\n\u001b[1;32m-> 3213\u001b[1;33m       \u001b[0mgraph_function\u001b[0m \u001b[1;33m=\u001b[0m \u001b[0mself\u001b[0m\u001b[1;33m.\u001b[0m\u001b[0m_create_graph_function\u001b[0m\u001b[1;33m(\u001b[0m\u001b[0margs\u001b[0m\u001b[1;33m,\u001b[0m \u001b[0mkwargs\u001b[0m\u001b[1;33m)\u001b[0m\u001b[1;33m\u001b[0m\u001b[1;33m\u001b[0m\u001b[0m\n\u001b[0m\u001b[0;32m   3214\u001b[0m       \u001b[0mself\u001b[0m\u001b[1;33m.\u001b[0m\u001b[0m_function_cache\u001b[0m\u001b[1;33m.\u001b[0m\u001b[0mprimary\u001b[0m\u001b[1;33m[\u001b[0m\u001b[0mcache_key\u001b[0m\u001b[1;33m]\u001b[0m \u001b[1;33m=\u001b[0m \u001b[0mgraph_function\u001b[0m\u001b[1;33m\u001b[0m\u001b[1;33m\u001b[0m\u001b[0m\n\u001b[0;32m   3215\u001b[0m       \u001b[1;32mreturn\u001b[0m \u001b[0mgraph_function\u001b[0m\u001b[1;33m,\u001b[0m \u001b[0margs\u001b[0m\u001b[1;33m,\u001b[0m \u001b[0mkwargs\u001b[0m\u001b[1;33m\u001b[0m\u001b[1;33m\u001b[0m\u001b[0m\n",
      "\u001b[1;32m~\\anaconda3\\lib\\site-packages\\tensorflow\\python\\eager\\function.py\u001b[0m in \u001b[0;36m_create_graph_function\u001b[1;34m(self, args, kwargs, override_flat_arg_shapes)\u001b[0m\n\u001b[0;32m   3063\u001b[0m     \u001b[0marg_names\u001b[0m \u001b[1;33m=\u001b[0m \u001b[0mbase_arg_names\u001b[0m \u001b[1;33m+\u001b[0m \u001b[0mmissing_arg_names\u001b[0m\u001b[1;33m\u001b[0m\u001b[1;33m\u001b[0m\u001b[0m\n\u001b[0;32m   3064\u001b[0m     graph_function = ConcreteFunction(\n\u001b[1;32m-> 3065\u001b[1;33m         func_graph_module.func_graph_from_py_func(\n\u001b[0m\u001b[0;32m   3066\u001b[0m             \u001b[0mself\u001b[0m\u001b[1;33m.\u001b[0m\u001b[0m_name\u001b[0m\u001b[1;33m,\u001b[0m\u001b[1;33m\u001b[0m\u001b[1;33m\u001b[0m\u001b[0m\n\u001b[0;32m   3067\u001b[0m             \u001b[0mself\u001b[0m\u001b[1;33m.\u001b[0m\u001b[0m_python_function\u001b[0m\u001b[1;33m,\u001b[0m\u001b[1;33m\u001b[0m\u001b[1;33m\u001b[0m\u001b[0m\n",
      "\u001b[1;32m~\\anaconda3\\lib\\site-packages\\tensorflow\\python\\framework\\func_graph.py\u001b[0m in \u001b[0;36mfunc_graph_from_py_func\u001b[1;34m(name, python_func, args, kwargs, signature, func_graph, autograph, autograph_options, add_control_dependencies, arg_names, op_return_value, collections, capture_by_value, override_flat_arg_shapes)\u001b[0m\n\u001b[0;32m    984\u001b[0m         \u001b[0m_\u001b[0m\u001b[1;33m,\u001b[0m \u001b[0moriginal_func\u001b[0m \u001b[1;33m=\u001b[0m \u001b[0mtf_decorator\u001b[0m\u001b[1;33m.\u001b[0m\u001b[0munwrap\u001b[0m\u001b[1;33m(\u001b[0m\u001b[0mpython_func\u001b[0m\u001b[1;33m)\u001b[0m\u001b[1;33m\u001b[0m\u001b[1;33m\u001b[0m\u001b[0m\n\u001b[0;32m    985\u001b[0m \u001b[1;33m\u001b[0m\u001b[0m\n\u001b[1;32m--> 986\u001b[1;33m       \u001b[0mfunc_outputs\u001b[0m \u001b[1;33m=\u001b[0m \u001b[0mpython_func\u001b[0m\u001b[1;33m(\u001b[0m\u001b[1;33m*\u001b[0m\u001b[0mfunc_args\u001b[0m\u001b[1;33m,\u001b[0m \u001b[1;33m**\u001b[0m\u001b[0mfunc_kwargs\u001b[0m\u001b[1;33m)\u001b[0m\u001b[1;33m\u001b[0m\u001b[1;33m\u001b[0m\u001b[0m\n\u001b[0m\u001b[0;32m    987\u001b[0m \u001b[1;33m\u001b[0m\u001b[0m\n\u001b[0;32m    988\u001b[0m       \u001b[1;31m# invariant: `func_outputs` contains only Tensors, CompositeTensors,\u001b[0m\u001b[1;33m\u001b[0m\u001b[1;33m\u001b[0m\u001b[1;33m\u001b[0m\u001b[0m\n",
      "\u001b[1;32m~\\anaconda3\\lib\\site-packages\\tensorflow\\python\\eager\\def_function.py\u001b[0m in \u001b[0;36mwrapped_fn\u001b[1;34m(*args, **kwds)\u001b[0m\n\u001b[0;32m    598\u001b[0m         \u001b[1;31m# __wrapped__ allows AutoGraph to swap in a converted function. We give\u001b[0m\u001b[1;33m\u001b[0m\u001b[1;33m\u001b[0m\u001b[1;33m\u001b[0m\u001b[0m\n\u001b[0;32m    599\u001b[0m         \u001b[1;31m# the function a weak reference to itself to avoid a reference cycle.\u001b[0m\u001b[1;33m\u001b[0m\u001b[1;33m\u001b[0m\u001b[1;33m\u001b[0m\u001b[0m\n\u001b[1;32m--> 600\u001b[1;33m         \u001b[1;32mreturn\u001b[0m \u001b[0mweak_wrapped_fn\u001b[0m\u001b[1;33m(\u001b[0m\u001b[1;33m)\u001b[0m\u001b[1;33m.\u001b[0m\u001b[0m__wrapped__\u001b[0m\u001b[1;33m(\u001b[0m\u001b[1;33m*\u001b[0m\u001b[0margs\u001b[0m\u001b[1;33m,\u001b[0m \u001b[1;33m**\u001b[0m\u001b[0mkwds\u001b[0m\u001b[1;33m)\u001b[0m\u001b[1;33m\u001b[0m\u001b[1;33m\u001b[0m\u001b[0m\n\u001b[0m\u001b[0;32m    601\u001b[0m     \u001b[0mweak_wrapped_fn\u001b[0m \u001b[1;33m=\u001b[0m \u001b[0mweakref\u001b[0m\u001b[1;33m.\u001b[0m\u001b[0mref\u001b[0m\u001b[1;33m(\u001b[0m\u001b[0mwrapped_fn\u001b[0m\u001b[1;33m)\u001b[0m\u001b[1;33m\u001b[0m\u001b[1;33m\u001b[0m\u001b[0m\n\u001b[0;32m    602\u001b[0m \u001b[1;33m\u001b[0m\u001b[0m\n",
      "\u001b[1;32m~\\anaconda3\\lib\\site-packages\\tensorflow\\python\\framework\\func_graph.py\u001b[0m in \u001b[0;36mwrapper\u001b[1;34m(*args, **kwargs)\u001b[0m\n\u001b[0;32m    971\u001b[0m           \u001b[1;32mexcept\u001b[0m \u001b[0mException\u001b[0m \u001b[1;32mas\u001b[0m \u001b[0me\u001b[0m\u001b[1;33m:\u001b[0m  \u001b[1;31m# pylint:disable=broad-except\u001b[0m\u001b[1;33m\u001b[0m\u001b[1;33m\u001b[0m\u001b[0m\n\u001b[0;32m    972\u001b[0m             \u001b[1;32mif\u001b[0m \u001b[0mhasattr\u001b[0m\u001b[1;33m(\u001b[0m\u001b[0me\u001b[0m\u001b[1;33m,\u001b[0m \u001b[1;34m\"ag_error_metadata\"\u001b[0m\u001b[1;33m)\u001b[0m\u001b[1;33m:\u001b[0m\u001b[1;33m\u001b[0m\u001b[1;33m\u001b[0m\u001b[0m\n\u001b[1;32m--> 973\u001b[1;33m               \u001b[1;32mraise\u001b[0m \u001b[0me\u001b[0m\u001b[1;33m.\u001b[0m\u001b[0mag_error_metadata\u001b[0m\u001b[1;33m.\u001b[0m\u001b[0mto_exception\u001b[0m\u001b[1;33m(\u001b[0m\u001b[0me\u001b[0m\u001b[1;33m)\u001b[0m\u001b[1;33m\u001b[0m\u001b[1;33m\u001b[0m\u001b[0m\n\u001b[0m\u001b[0;32m    974\u001b[0m             \u001b[1;32melse\u001b[0m\u001b[1;33m:\u001b[0m\u001b[1;33m\u001b[0m\u001b[1;33m\u001b[0m\u001b[0m\n\u001b[0;32m    975\u001b[0m               \u001b[1;32mraise\u001b[0m\u001b[1;33m\u001b[0m\u001b[1;33m\u001b[0m\u001b[0m\n",
      "\u001b[1;31mNotImplementedError\u001b[0m: in user code:\n\n    <ipython-input-8-b11c55a229f3>:16 graph_call  *\n        print(result.numpy())\n    C:\\Users\\User\\anaconda3\\lib\\site-packages\\tensorflow\\python\\ops\\resource_variable_ops.py:609 numpy  **\n        raise NotImplementedError(\n\n    NotImplementedError: numpy() is only available when eager execution is enabled.\n"
     ]
    }
   ],
   "source": [
    "graph_call()"
   ]
  },
  {
   "cell_type": "markdown",
   "metadata": {},
   "source": [
    "## 모델\n",
    "\n",
    "텐서를 가지고 연산 및 예측을 수행하는 객체를 모델이라고 하는데, 복잡한 문제를 해결하기 위한 방법이라고 이해하자.\n",
    "\n",
    "1. 텐서 간 연산을 통한 결과값을 도출\n",
    "2. 학습을 통한 가중치 갱신 \n",
    "\n",
    "모델은 여러 개의 layer로 구성된다.\n",
    "\n",
    "\n",
    "## Layer\n",
    "\n",
    "재사용이 가능하며 훈련이 가능한 변수로 이루어진 수학적 구조라고 한다.\n",
    "\n",
    "하나의 복잡한 문제를 여러 개의 단순한 문제의 연속이라고 보고 단순한 문제를 해결하는 방법을 바로 레이어라고 한다.\n",
    "\n",
    "- 문제를 해결하는 방법 이란 표현은 수학적으로는 함수라고 볼 수 있다. 그러므로 레이어, 모델 모두 함수라고 볼 수 있다. \n",
    "\n",
    "\n",
    "- 레이어와 모델 모두 입력과 출력을 가지고 있다.\n",
    "\n",
    "\n",
    "- 레이어와 모델 모두 tf.Module이라는 클래스를 상속받아 클래스로 정의하여 사용한다.\n",
    "\n",
    "\n",
    "- 레이어와 모델 모두 클래스로 정의하여 사용하기 때문에 해당 클래스의 인스턴스 생성시 수행되는 `__init__`함수를 정의해야합니다.\n",
    "\n",
    "- tf.Module이라는 클래스는 callable 객체이기 때문에 해당 클래스의 인스턴스가 호출될 때 수행되는 `__call__`함수를 정의해야합니다.\n"
   ]
  },
  {
   "cell_type": "markdown",
   "metadata": {},
   "source": [
    "### fully connected layer\n",
    "\n",
    "입력과 출력 Input과 Output이 완전 연결된 레이어이다. 텐서플로우 내에서는 Dense라고 불립니다. \n",
    "\n",
    "- 내부 연산은 입력 텐서 X와 가중치 행렬 텐서 W의 행렬곱으로 이루어진다.\n",
    "\n",
    "- 내부 연산이 행렬곱 연산이기 때문에 입력 텐서 X와 가중치 행렬 텐서 W의 shape를 반드시 맞춰줘야한다. 입력 텐서 X가 (a, b)라는 shape를 가지면, 가중치 행렬 텐서 W 또한 (b, c)라는 shape를 가져야한다는 제약조건이 있다.\n",
    "\n",
    "\n",
    "### Dense layer 구현하기 \n",
    "\n",
    "\n",
    "#### 1. Layer 클래스 내부에서 모든 텐서 정의\n",
    "\n",
    "- 입력 텐서 X와 가중치 행렬 텐서 W, 바이어스 b 텐서모두 `__init__` 함수 내에 정의하였다.\n",
    "\n",
    "\n",
    "- 해당 레이어가 출력은 존재하지만 입력 존재하지 않기 때문에 함수라고 볼 수 없다.\n",
    "\n",
    "\n",
    "\n",
    "#### 2. Layer 클래스의 인스턴스 생성시점에 입력텐서 X를 인자로 받도록 정의\n",
    "\n",
    "- `__init__` 함수의 인자로 입력텐서 X를 받아서 사용\n",
    "\n",
    "- 입력과 출력이 모두 존재하므로 함수라고 볼 수 있다.\n",
    "\n",
    "- Layer는 반드시 재사용이 가능해야하지만 인스턴스 생성 시점에 입력 텐서를 정의하다보니 해당 인스턴스를 재사용할 수 없었다.\n",
    "\n",
    "- 함수라고 볼 수는 있으나 재사용이 불가능하기 때문에 Layer의 성격을 띄지 못한다.\n",
    "\n",
    "\n",
    "#### 3. Layer 클래스의 인스턴스 호출시점에 입력텐서 X를 인자로 받도록 정의\n",
    "\n",
    "- 입력과 출력이 모두 존재하므로 함수\n",
    "\n",
    "- 입력텐서를 인스턴스 호출 시점에 받으므로 해당 인스턴스를 재사용 할 수 있었다."
   ]
  },
  {
   "cell_type": "markdown",
   "metadata": {},
   "source": [
    "<img src=\"./education_images/1-1-4_formula.png\" alt=\"Drawing\" style=\"width: 300px;\"/>"
   ]
  },
  {
   "cell_type": "markdown",
   "metadata": {},
   "source": [
    "입력텐서 X 가 (a, b) shape를 가질 때, 가중치 행렬 텐서 W가 (b, c) shape를 가질 때, 행렬곱이 성립된다.\n",
    "\n",
    "(a, b) * (b, c) = (a, c) 즉, 가중치 행렬 텐서 W 의 맨 마지막  차원의 크기인 c가 최종 출력값의 차원의 크기를 결정한다."
   ]
  },
  {
   "cell_type": "code",
   "execution_count": 10,
   "metadata": {},
   "outputs": [],
   "source": [
    "# 어제 선언해보았던 fully - connected layer를 다시 작성 해보자.\n",
    "\n",
    "\n",
    "# class를 선언하면서 클래스명을 소문자를 사용하는게 아니라 첫글자를 반드시 대문자\n",
    "class MyDense(tf.Module):\n",
    "    \n",
    "    # layer 인스턴스 생성시 수행\n",
    "    def __init__(self, input_shape, output_shape):\n",
    "        \n",
    "        # 상위 클래스의 __init__함수 호출\n",
    "        super().__init__()\n",
    "        \n",
    "        # 가중치 행렬 텐서 W를 정의\n",
    "        # 입력텐서 X의 shape를 맞춰야 하기 때문에  -> input_shape를 통해 인스턴스 생성시에 전달\n",
    "        # 가중치 행렬 텐서 W의 마지막 차원의 크기 -> 최종적인 layer의 출력값을 결정\n",
    "        self.W = tf.Variable(\n",
    "            tf.ones(shape = (input_shape, output_shape)), name = 'w'\n",
    "        )\n",
    "        \n",
    "        # 바이어스 텐서 b를 정의\n",
    "        self.b = tf.Variable(\n",
    "            tf.ones(shape = (output_shape), name = 'b')\n",
    "        )\n",
    "        \n",
    "        \n",
    "    # layer 인스턴스 호출시 수행\n",
    "    def __call__(self, X):\n",
    "        \n",
    "        # 연산 절차를 정의\n",
    "        XW = tf.matmul(X, self.W)\n",
    "        \n",
    "        # X * W + b\n",
    "        y = XW + self.b\n",
    "        \n",
    "        return y\n"
   ]
  },
  {
   "cell_type": "code",
   "execution_count": 11,
   "metadata": {},
   "outputs": [],
   "source": [
    "# 클래스를 만들었으니 인스턴스를 생성 -> 해당 인스턴스를 우리는 layer라고 하겠다.\n",
    "\n",
    "mylayer= MyDense(3, 3)"
   ]
  },
  {
   "cell_type": "code",
   "execution_count": 12,
   "metadata": {},
   "outputs": [
    {
     "name": "stdout",
     "output_type": "stream",
     "text": [
      "<tf.Variable 'Variable:0' shape=(1, 3) dtype=float32, numpy=array([[1., 2., 3.]], dtype=float32)>\n"
     ]
    }
   ],
   "source": [
    "\n",
    "# 입력 텐서 X를 정의해준다.\n",
    "# 주의할 것은 input_shape 즉, 입력텐서 X의 마지막 차원의 크기를 3으로 두었기 때문에 입력텐서를 반드시 (?, 3)으로 맞춰줘야합니다.\n",
    "X = tf.Variable([[1,2,3]], dtype = tf.float32)\n",
    "\n",
    "print(X)"
   ]
  },
  {
   "cell_type": "code",
   "execution_count": 14,
   "metadata": {},
   "outputs": [
    {
     "data": {
      "text/plain": [
       "<tf.Tensor: shape=(1, 3), dtype=float32, numpy=array([[7., 7., 7.]], dtype=float32)>"
      ]
     },
     "execution_count": 14,
     "metadata": {},
     "output_type": "execute_result"
    }
   ],
   "source": [
    "# 생성된 인스턴스에 입력텐서를 넣어서 연산을 수행합니다.\n",
    "mylayer(X)"
   ]
  },
  {
   "cell_type": "code",
   "execution_count": 15,
   "metadata": {
    "collapsed": true
   },
   "outputs": [
    {
     "data": {
      "text/plain": [
       "<tf.Tensor: shape=(1, 100), dtype=float32, numpy=\n",
       "array([[7., 7., 7., 7., 7., 7., 7., 7., 7., 7., 7., 7., 7., 7., 7., 7.,\n",
       "        7., 7., 7., 7., 7., 7., 7., 7., 7., 7., 7., 7., 7., 7., 7., 7.,\n",
       "        7., 7., 7., 7., 7., 7., 7., 7., 7., 7., 7., 7., 7., 7., 7., 7.,\n",
       "        7., 7., 7., 7., 7., 7., 7., 7., 7., 7., 7., 7., 7., 7., 7., 7.,\n",
       "        7., 7., 7., 7., 7., 7., 7., 7., 7., 7., 7., 7., 7., 7., 7., 7.,\n",
       "        7., 7., 7., 7., 7., 7., 7., 7., 7., 7., 7., 7., 7., 7., 7., 7.,\n",
       "        7., 7., 7., 7.]], dtype=float32)>"
      ]
     },
     "execution_count": 15,
     "metadata": {},
     "output_type": "execute_result"
    }
   ],
   "source": [
    "# output shape를 3으로 사용하였는데, 늘어나게 되는 경우, 실제 최종 연산의 결과값또한 늘어나는가?\n",
    "mylayer_100= MyDense(3, 100)\n",
    "\n",
    "# 해당 레이어의 최종 결과값의 shape는 (1, 100)이 되어야한다.\n",
    "mylayer_100(X)"
   ]
  },
  {
   "cell_type": "code",
   "execution_count": 22,
   "metadata": {},
   "outputs": [
    {
     "name": "stdout",
     "output_type": "stream",
     "text": [
      "<tf.Variable 'Variable:0' shape=(1, 5) dtype=float32, numpy=array([[1., 2., 3., 4., 5.]], dtype=float32)>\n"
     ]
    }
   ],
   "source": [
    "X_2 = tf.Variable([[1, 2, 3, 4, 5]], dtype = tf.float32)\n",
    "\n",
    "print(X_2)"
   ]
  },
  {
   "cell_type": "code",
   "execution_count": 21,
   "metadata": {},
   "outputs": [
    {
     "data": {
      "text/plain": [
       "<tf.Tensor: shape=(1, 100), dtype=float32, numpy=\n",
       "array([[7., 7., 7., 7., 7., 7., 7., 7., 7., 7., 7., 7., 7., 7., 7., 7.,\n",
       "        7., 7., 7., 7., 7., 7., 7., 7., 7., 7., 7., 7., 7., 7., 7., 7.,\n",
       "        7., 7., 7., 7., 7., 7., 7., 7., 7., 7., 7., 7., 7., 7., 7., 7.,\n",
       "        7., 7., 7., 7., 7., 7., 7., 7., 7., 7., 7., 7., 7., 7., 7., 7.,\n",
       "        7., 7., 7., 7., 7., 7., 7., 7., 7., 7., 7., 7., 7., 7., 7., 7.,\n",
       "        7., 7., 7., 7., 7., 7., 7., 7., 7., 7., 7., 7., 7., 7., 7., 7.,\n",
       "        7., 7., 7., 7.]], dtype=float32)>"
      ]
     },
     "execution_count": 21,
     "metadata": {},
     "output_type": "execute_result"
    }
   ],
   "source": [
    "mylayer_100(X_2)"
   ]
  },
  {
   "cell_type": "markdown",
   "metadata": {},
   "source": [
    "\n",
    "`__init__()` 함수 내에서 가중치 행렬 텐서 W를 정의하다 보니 반드시 레이어 인스턴스 생성 시점에 input_shape라는 값을 넣어줘야 했다. 이러한 한계점으로 인해 인스턴스 생성할 때 입력한 input_shape에 맞게 X를 변경시켜줘야 했습니다.\n",
    "\n",
    "\n",
    "그렇다면, 실제로 Layer 인스턴스가 X가 어떤 shape를 가져도 수행이 가능하도록 하고싶다. -> 호출시점에 가중치 행렬 텐서 W, 바이어스 텐서 b를 정의하면 되겠다!"
   ]
  },
  {
   "cell_type": "code",
   "execution_count": 29,
   "metadata": {},
   "outputs": [],
   "source": [
    "# 어제 선언해보았던 fully - connected layer를 다시 작성 해보자.\n",
    "\n",
    "\n",
    "# class를 선언하면서 클래스명을 소문자를 사용하는게 아니라 첫글자를 반드시 대문자\n",
    "class FlexibleMyDense(tf.Module):\n",
    "    \n",
    "    # layer 인스턴스 생성시 수행\n",
    "    def __init__(self, output_shape):\n",
    "        \n",
    "        # 상위 클래스의 __init__함수 호출\n",
    "        super().__init__()\n",
    "       \n",
    "        # 레이어의 최종 결과값 shape\n",
    "        self.output_shape = output_shape\n",
    "        \n",
    "        \n",
    "    # layer 인스턴스 호출시 수행\n",
    "    def __call__(self, X):\n",
    "        \n",
    "        input_shape = X.shape[-1]\n",
    "        # 입력텐서 X의 shape를 맞춰야 하기 때문에  -> input_shape를 통해 인스턴스 생성시에 전달\n",
    "        # 가중치 행렬 텐서 W의 마지막 차원의 크기 -> 최종적인 layer의 출력값을 결정\n",
    "        self.W = tf.Variable(\n",
    "            tf.ones(shape = (input_shape, self.output_shape)), name = 'w'\n",
    "        )\n",
    "        \n",
    "        # 바이어스 텐서 b를 정의\n",
    "        self.b = tf.Variable(\n",
    "            tf.ones(shape = (self.output_shape), name = 'b')\n",
    "        )\n",
    "        \n",
    "        # 연산 절차를 정의\n",
    "        XW = tf.matmul(X, self.W)\n",
    "        \n",
    "        # X * W + b\n",
    "        y = XW + self.b\n",
    "        \n",
    "        return y"
   ]
  },
  {
   "cell_type": "code",
   "execution_count": 30,
   "metadata": {},
   "outputs": [],
   "source": [
    "# 입력 텐서 x가 어떤 shape를 가지는지 상관 없는 레이어\n",
    "my_flex_layer = FlexibleMyDense(5)"
   ]
  },
  {
   "cell_type": "code",
   "execution_count": 35,
   "metadata": {},
   "outputs": [
    {
     "name": "stdout",
     "output_type": "stream",
     "text": [
      "<tf.Variable 'Variable:0' shape=(1, 3) dtype=float32, numpy=array([[1., 2., 3.]], dtype=float32)>\n"
     ]
    },
    {
     "data": {
      "text/plain": [
       "(<tf.Variable 'w:0' shape=(3, 5) dtype=float32, numpy=\n",
       " array([[1., 1., 1., 1., 1.],\n",
       "        [1., 1., 1., 1., 1.],\n",
       "        [1., 1., 1., 1., 1.]], dtype=float32)>,\n",
       " <tf.Variable 'Variable:0' shape=(5,) dtype=float32, numpy=array([1., 1., 1., 1., 1.], dtype=float32)>)"
      ]
     },
     "execution_count": 35,
     "metadata": {},
     "output_type": "execute_result"
    }
   ],
   "source": [
    "# shape가 (1,3)을 가지는 입력텐서 X에 대한 레이어 결과값\n",
    "\n",
    "print(X)\n",
    "my_flex_layer(X)\n",
    "\n",
    "my_flex_layer.trainable_variables"
   ]
  },
  {
   "cell_type": "code",
   "execution_count": 36,
   "metadata": {},
   "outputs": [
    {
     "name": "stdout",
     "output_type": "stream",
     "text": [
      "<tf.Variable 'Variable:0' shape=(1, 5) dtype=float32, numpy=array([[1., 2., 3., 4., 5.]], dtype=float32)>\n"
     ]
    },
    {
     "data": {
      "text/plain": [
       "(<tf.Variable 'w:0' shape=(5, 5) dtype=float32, numpy=\n",
       " array([[1., 1., 1., 1., 1.],\n",
       "        [1., 1., 1., 1., 1.],\n",
       "        [1., 1., 1., 1., 1.],\n",
       "        [1., 1., 1., 1., 1.],\n",
       "        [1., 1., 1., 1., 1.]], dtype=float32)>,\n",
       " <tf.Variable 'Variable:0' shape=(5,) dtype=float32, numpy=array([1., 1., 1., 1., 1.], dtype=float32)>)"
      ]
     },
     "execution_count": 36,
     "metadata": {},
     "output_type": "execute_result"
    }
   ],
   "source": [
    "# shape가 (1, 5)를 가지는 입력텐서 X에 대한 레이어 결과값\n",
    "print(X_2)\n",
    "my_flex_layer(X_2)\n",
    "\n",
    "my_flex_layer.trainable_variables"
   ]
  },
  {
   "cell_type": "markdown",
   "metadata": {},
   "source": [
    "## Layer 클래스의 인스턴스 호출 시점에 입력텐서 X와 가중치 행렬 텐서 W를 모두 정의\n",
    "\n",
    "- 호출 시점에 가중치 행렬 텐서 W가 생성되기 때문에 X의 shape가 어떠하든 상관없이 수행이 가능합니다.\n",
    "\n",
    "- layer 인스턴스를 재사용하기 위해 호출될 때마다 가중치 행렬 W가 바뀌는 것을 알 수 있습니다.\n",
    "\n",
    "- 하지만 우리가 학습을 하기 위해서는 이전 가중치 값이 반드시 남아있어야 합니다. -> 기존의 값을 기준으로 가중치 값의 갱신, 학습이 일어나기 때문이다.\n",
    "\n",
    "- shape가 동일하지 않을 때는 상관이 없지만 동일할 경우에는 가중치 행렬 텐서 W의 초기값이 랜덤으로 들어가는 경우, 동일한 값을 넣음에도 불구하고 호출시마다 값이 바뀌는 것을 볼 수 있습니다.\n"
   ]
  },
  {
   "cell_type": "code",
   "execution_count": 37,
   "metadata": {},
   "outputs": [],
   "source": [
    "\n",
    "class RandomMyDense(tf.Module):\n",
    "    \n",
    "    # layer 인스턴스 생성시 수행\n",
    "    def __init__(self, output_shape):\n",
    "        \n",
    "        # 상위 클래스의 __init__함수 호출\n",
    "        super().__init__()\n",
    "       \n",
    "        # 레이어의 최종 결과값 shape\n",
    "        self.output_shape = output_shape\n",
    "        \n",
    "        \n",
    "    # layer 인스턴스 호출시 수행\n",
    "    def __call__(self, X):\n",
    "        \n",
    "        input_shape = X.shape[-1]\n",
    "        # 입력텐서 X의 shape를 맞춰야 하기 때문에  -> input_shape를 통해 인스턴스 생성시에 전달\n",
    "        # 가중치 행렬 텐서 W의 마지막 차원의 크기 -> 최종적인 layer의 출력값을 결정\n",
    "        # tf.random.normal은 랜덤하게 정규분포에서 값을 뽑아서 shape에 맞게 값을 넣은 텐서를 반환한다.\n",
    "        self.W = tf.Variable(\n",
    "            tf.random.normal(shape = (input_shape, self.output_shape)), name = 'w'\n",
    "        )\n",
    "        \n",
    "        # 바이어스 텐서 b를 정의\n",
    "        self.b = tf.Variable(\n",
    "            tf.ones(shape = (self.output_shape), name = 'b')\n",
    "        )\n",
    "        \n",
    "        # 연산 절차를 정의\n",
    "        XW = tf.matmul(X, self.W)\n",
    "        \n",
    "        # X * W + b\n",
    "        y = XW + self.b\n",
    "        \n",
    "        return y"
   ]
  },
  {
   "cell_type": "code",
   "execution_count": 38,
   "metadata": {},
   "outputs": [
    {
     "name": "stdout",
     "output_type": "stream",
     "text": [
      "<tf.Variable 'Variable:0' shape=(1, 3) dtype=float32, numpy=array([[1., 2., 3.]], dtype=float32)>\n"
     ]
    }
   ],
   "source": [
    "print(X)\n",
    "\n",
    "# 랜덤으로 가중치 행렬 텐서 W를 초기화하는 레이어 인스턴스 생성\n",
    "my_random_dense = RandomMyDense(4)"
   ]
  },
  {
   "cell_type": "code",
   "execution_count": 56,
   "metadata": {},
   "outputs": [
    {
     "data": {
      "text/plain": [
       "(<tf.Variable 'w:0' shape=(3, 4) dtype=float32, numpy=\n",
       " array([[-0.48199835,  0.32316574, -0.13737802, -1.5188925 ],\n",
       "        [-0.5446553 , -0.3783567 ,  1.9597267 , -2.3144896 ],\n",
       "        [-1.0450993 ,  0.4357739 ,  0.72625184,  2.5323477 ]],\n",
       "       dtype=float32)>,\n",
       " <tf.Variable 'Variable:0' shape=(4,) dtype=float32, numpy=array([1., 1., 1., 1.], dtype=float32)>)"
      ]
     },
     "execution_count": 56,
     "metadata": {},
     "output_type": "execute_result"
    }
   ],
   "source": [
    "# 동일한 입력텐서를 사용함에도 호출시마다 가중치 행렬 텐서가 랜덤으로 초기화 되기 때문에 결과값이 다르게 나온다.\n",
    "my_random_dense(X)\n",
    "\n",
    "# 가중치 행렬 텐서가 동일한 입력텐서 동일한 레이어 인스턴스임에도 다른 값이 나오게 된다.\n",
    "my_random_dense.trainable_variables"
   ]
  },
  {
   "cell_type": "markdown",
   "metadata": {},
   "source": [
    "호출시 마다 가중치 행렬 텐서 W가 바뀌고 있기 때문에 재사용이 불가능하다. \n",
    "\n",
    "-> 맨 처음 입력텐서가 들어올 때 해당 입력 텐서의 shape에 맞게  단 한번만 가중치 행렬 텐서를 초기화 하자.\n",
    "\n",
    "1. 그러면 랜덤하게 가중치를 변경하지 않으면 되는 것 아닌가?\n",
    "\n",
    "    > 실제로 많은 모델들이 가중치의 초기값을 랜덤으로 사용합니다.\n",
    "    \n",
    "\n",
    "2. 왜 맨 처음 입력 텐서에 맞추는가?\n",
    "\n",
    "    > 우리가 layer를 재사용하는 이유는 학습하기 위함이다. 학습 데이터의 경우, 모든 입력 값은 동일한 shape를 가지고 있기 때문에 학습 데이터 중 하나의 shape에 맞추게 되면 모든 학습 데이터에 shape를 맞추는 것과 동일하기 때문이다.\n",
    "    "
   ]
  },
  {
   "cell_type": "code",
   "execution_count": 60,
   "metadata": {},
   "outputs": [],
   "source": [
    "\n",
    "# 맨 처음 입력 텐서 X의 shape에 맞추는 레이어\n",
    "class StaticMyDense(tf.Module):\n",
    "    \n",
    "    # layer 인스턴스 생성시 수행\n",
    "    def __init__(self, output_shape):\n",
    "        \n",
    "        # 상위 클래스의 __init__함수 호출\n",
    "        super().__init__()\n",
    "       \n",
    "        # 레이어의 최종 결과값 shape\n",
    "        self.output_shape = output_shape\n",
    "        \n",
    "        # 현재 레이어 인스턴스가 가중치 행렬 텐서를 만들었는가?\n",
    "        # 현재는 가중치 행렬 텐서가 초기화 되지 않았으므로 False\n",
    "        self.is_build = False\n",
    "        \n",
    "    # layer 인스턴스 호출시 수행\n",
    "    def __call__(self, X):\n",
    "        \n",
    "        # 아직 가중치 행렬 텐서가 만들어지지 않은 경우,\n",
    "        if not self.is_build:\n",
    "            input_shape = X.shape[-1]\n",
    "            self.W = tf.Variable(\n",
    "                tf.random.normal(shape = (input_shape, self.output_shape)), name = 'w'\n",
    "            )\n",
    "\n",
    "            # 바이어스 텐서 b를 정의\n",
    "            self.b = tf.Variable(\n",
    "                tf.ones(shape = (self.output_shape), name = 'b')\n",
    "            )\n",
    "            \n",
    "            self.is_build = True\n",
    "        \n",
    "        # 연산 절차를 정의\n",
    "        XW = tf.matmul(X, self.W)\n",
    "        \n",
    "        # X * W + b\n",
    "        y = XW + self.b\n",
    "        \n",
    "        return y"
   ]
  },
  {
   "cell_type": "code",
   "execution_count": 62,
   "metadata": {},
   "outputs": [],
   "source": [
    "\n",
    "# 호출시 마다 변경되는 것은 아닌 레이어 인스턴스 생성\n",
    "my_static_dense = StaticMyDense(5)"
   ]
  },
  {
   "cell_type": "code",
   "execution_count": 71,
   "metadata": {},
   "outputs": [
    {
     "name": "stdout",
     "output_type": "stream",
     "text": [
      "tf.Tensor([[-8.467342   7.7439985  4.4744544  4.470291 ]], shape=(1, 4), dtype=float32)\n",
      "tf.Tensor([[-0.28607368 -4.1275473  -1.0431027   7.644882  ]], shape=(1, 4), dtype=float32)\n"
     ]
    }
   ],
   "source": [
    "print(my_random_dense(X))\n",
    "\n",
    "print(my_random_dense(X))"
   ]
  },
  {
   "cell_type": "code",
   "execution_count": 70,
   "metadata": {},
   "outputs": [
    {
     "name": "stdout",
     "output_type": "stream",
     "text": [
      "tf.Tensor([[-7.775032  -2.6499274 -2.41262    5.0019484  3.8929062]], shape=(1, 5), dtype=float32)\n",
      "tf.Tensor([[-7.775032  -2.6499274 -2.41262    5.0019484  3.8929062]], shape=(1, 5), dtype=float32)\n"
     ]
    }
   ],
   "source": [
    "# 가중치 행렬 텐서가 그대로 유지가 된다.\n",
    "print(my_static_dense(X))\n",
    "\n",
    "print(my_static_dense(X))"
   ]
  },
  {
   "cell_type": "markdown",
   "metadata": {},
   "source": [
    "### 가중치 행렬 텐서를 `__call__` 함수 내에서 선언 + 최초에만 가중치 행렬 텐서 초기화\n",
    "\n",
    "- 레이어 호출시마다 가중치 행렬 텐서 W가 초기화 되는 것이 아니라, 최초에만 초기화가 되기 때문에 재사용이 가능하다.\n",
    "\n",
    "- 결론적으로 `__call__` 함수 내에서 가중치 텐서를 초기화할 경우, 반드시 최초 초기화에 대한 분기처리(if)가 정의되어야 한다.\n",
    "\n",
    "- 이 과정은 추후에 텐서플로우의 최상위 API Keras내에서는 조금 달라질 수 있으니 꼭 기억하자."
   ]
  },
  {
   "cell_type": "markdown",
   "metadata": {},
   "source": [
    "## Model 만들어보기"
   ]
  },
  {
   "cell_type": "markdown",
   "metadata": {},
   "source": [
    "- 모델 또한 `tf.Module` 을 상속받은 하위클래스이다. \n",
    "\n",
    "\n",
    "- `submodules` 을 사용하여 모델 내부에서 사용된 `tf.Module`의 하위클래스로 생성된 layer, model 객체를 확인할 수 있다.\n",
    "\n",
    "\n",
    "\n",
    "- `print(model.variables)` → 코드의 결과를 출력하기 전에 각각의 shape를 계산해보자!\n",
    "\n",
    "\n",
    "간단한 모델을 tensorflow를 사용하여 구축해보았다. 가장 기본적인 모델인 선형회귀 모델과 학습 및 가중치 조정을 tensorflow로 구현하여 머신러닝의 전과정을 구현해보도록 하자."
   ]
  },
  {
   "cell_type": "code",
   "execution_count": 80,
   "metadata": {},
   "outputs": [],
   "source": [
    "# 단순한 모델 구축\n",
    "# 이전 layer를 정의하는 방식과 똑같다.\n",
    "\n",
    "\n",
    "class MyModel(tf.Module):\n",
    "    \n",
    "    def __init__(self):\n",
    "        \n",
    "        super().__init__()\n",
    "        \n",
    "        # 내부에서 사용할 Layer를 정의합니다.\n",
    "        # L1 레이어는 (a, b) -> (a, 5) fully connected layer\n",
    "        self.l1 = StaticMyDense(5)\n",
    "        \n",
    "        # L2 레이어는 (a, b) -> (a, 3) fully connected layer\n",
    "        self.l2 = StaticMyDense(3)\n",
    "    \n",
    "    # 입력 텐서 X를 호출시점에 받습니다.\n",
    "    def __call__(self, X):\n",
    "        \n",
    "        # 연산과정을 정의 X -> L1 -> L2 -> output\n",
    "        x1 = self.l1(X)\n",
    "        print('L1 레이어의 결과값은 ', x1.numpy())\n",
    "        \n",
    "        x2 = self.l2(x1)\n",
    "        print('L2 레이어의 결과값은 ', x2.numpy())\n",
    "        \n",
    "        return x2"
   ]
  },
  {
   "cell_type": "code",
   "execution_count": 82,
   "metadata": {},
   "outputs": [],
   "source": [
    "# Model 클래스의 인스턴스 생성\n",
    "mymodel = MyModel()"
   ]
  },
  {
   "cell_type": "code",
   "execution_count": 83,
   "metadata": {},
   "outputs": [
    {
     "name": "stdout",
     "output_type": "stream",
     "text": [
      "<tf.Variable 'Variable:0' shape=(1, 3) dtype=float32, numpy=array([[1., 2., 3.]], dtype=float32)>\n",
      "L1 레이어의 결과값은  [[-1.0214565 -1.8225572 -8.9339485 -1.3441706  3.2118907]]\n",
      "L2 레이어의 결과값은  [[ 9.372589 10.980108  3.955991]]\n"
     ]
    },
    {
     "data": {
      "text/plain": [
       "<tf.Tensor: shape=(1, 3), dtype=float32, numpy=array([[ 9.372589, 10.980108,  3.955991]], dtype=float32)>"
      ]
     },
     "execution_count": 83,
     "metadata": {},
     "output_type": "execute_result"
    }
   ],
   "source": [
    "# X (1, 3) -> (1, 5) -> (1, 3)\n",
    "mymodel(X)"
   ]
  },
  {
   "cell_type": "markdown",
   "metadata": {},
   "source": [
    "# 머신러닝의 문제 해결 과정\n",
    "\n",
    "머신러닝의 문제해결 과정은 이 전에 배운 것과는 다를 수 있다. 이번 실습은 아래의 절차에 따라 진행된다.\n",
    "\n",
    "1. 해결할 문제에 대해 정의한다.\n",
    "\n",
    "\n",
    "2. 학습 데이터를 정의하고 수집한다.\n",
    "\n",
    "\n",
    "3. 문제 해결을 위한 모델을 정의한다.\n",
    "\n",
    "\n",
    "4. 손실 함수 (loss function)를 정의한다.    \n",
    "\n",
    "\n",
    "5. 학습 데이터로 모델의 예측값을 구하고 정의된 loss function을 통해서 loss를 구한다. (forward pass)\n",
    "\n",
    "\n",
    "6. loss에 대한 gradient를 계산하고 optimizer를 통해서 모델의 가중치를 조정한다.\n",
    "\n",
    "\n",
    "\n",
    "loss란, 현재 모델이 가지는 가중치에 의해 예측하는 예측값이 실제 데이터와 얼마나 떨어져있는가? 이 모델의 정확도의 개념\n",
    "\n",
    "optimizer란, 이 모델의 정확도에 따라 현재 모델의 가중치를 실제 데이터와 가깝게 변경하는 역할을 수행하는 객체. \n",
    "\n",
    "\n",
    "\n",
    "7. 5,6번의 과정을 학습루프라고 정의하는데, 학습루프를 반복하고 최종적으로 결과를 평가한다.\n",
    "  "
   ]
  },
  {
   "cell_type": "markdown",
   "metadata": {},
   "source": [
    "# 1. 문제정의\n",
    "\n",
    "> 아래의 수식을 만족하는 데이터에 적합한 선형 회귀 모델을 구하라. \n",
    "   \n",
    "<img src=\"./education_images/1-1-6_formula.png\" alt=\"Drawing\" style=\"width: 500px;\"/>"
   ]
  },
  {
   "cell_type": "markdown",
   "metadata": {},
   "source": [
    "실제 참 데이터는 y = 3x + 2라는 선형 회귀식을 만족합니다. ex) (1, 5), (3, 11)\n",
    "\n",
    "\n",
    "y = Wx + b 라는 가설을 세우고, W, b 두개를 학습을 통해 3, 2에 가까워질 수 있도록 해보겠습니다."
   ]
  },
  {
   "cell_type": "markdown",
   "metadata": {},
   "source": [
    "# 2. 학습 데이터 수집\n",
    "\n",
    "\n",
    "실제 데이터와 조금 차이가 있는 데이터를 학습 데이터로 생성\n",
    "\n",
    "y = x * TRUE_W + TRUE_b\n",
    "\n",
    "해당 수식을 만족하는 (x, y)를 사용하게 되면 사실 학습의 개념이 없어지게 됩니다.  (x, y) 2개를 가지고 W, b를 구할 수 있기 때문에 조금의 노이즈를 추가하여 실제 데이터와는 조금 다른 학습 데이터를 생성 "
   ]
  },
  {
   "cell_type": "code",
   "execution_count": 86,
   "metadata": {},
   "outputs": [],
   "source": [
    "TRUE_W = 3.0\n",
    "TRUE_b = 2.0\n",
    " \n",
    "# 학습 데이터의 크기는 1000\n",
    "TRAIN_SIZE = 1000\n",
    "\n",
    "# 정규 분포 상에서 (0, 1)사이에서 랜덤하게 값을 뽑습니다.  \n",
    "x = tf.random.normal(shape = [TRAIN_SIZE])\n",
    "\n",
    "# 기존 데이터와는 조금 차이를 주기 위한 노이즈\n",
    "noise = tf.random.normal(shape = [TRAIN_SIZE])\n",
    "\n",
    "\n",
    "y = x * TRUE_W + TRUE_b + noise"
   ]
  },
  {
   "cell_type": "code",
   "execution_count": 88,
   "metadata": {},
   "outputs": [],
   "source": [
    "# y = 3X + 2 (+ noise)의 식과는 조금 다른 y 가 완성 되었다.\n",
    "# x, y를 학습 데이터로 사용한다. "
   ]
  },
  {
   "cell_type": "code",
   "execution_count": 90,
   "metadata": {},
   "outputs": [
    {
     "data": {
      "image/png": "[encoded data removed]",
      "text/plain": [
       "<Figure size 432x288 with 1 Axes>"
      ]
     },
     "metadata": {
      "needs_background": "light"
     },
     "output_type": "display_data"
    }
   ],
   "source": [
    "# 실제 선형 회귀식 y = 3X + 2 라는 직선과 현재 데이터가 얼마나 차이가 있는지 확인\n",
    "\n",
    "# plot을 그리는 라이브러리\n",
    "import matplotlib.pyplot as plt\n",
    "\n",
    "# x, y간의 관계를 그려보겠다.\n",
    "# 파란색 점은 빨간색 선을 예측하고자하는 학습 데이터 \n",
    "plt.scatter(x, y, c = 'b')\n",
    "\n",
    "# 빨간색 선은 실제 우리가 찾고자 하는 직선\n",
    "plt.scatter(x, 3 * x + 2, c = 'r')\n",
    "plt.show()"
   ]
  },
  {
   "cell_type": "markdown",
   "metadata": {},
   "source": [
    "# 3. 모델 정의"
   ]
  },
  {
   "cell_type": "markdown",
   "metadata": {},
   "source": [
    "- $\\hat{y} \\ =\\  w * x \\  +\\  b$ 의 식을 tensorflow로 구현하였다.\n",
    "\n",
    "- 실제 값은 W = 3, b = 2인 직선\n",
    "\n",
    "\n",
    "- 이후 미분값을 통한 가중치 계산시 반드시 변수들은 float type 이어야 한다.\n",
    "\n",
    "\n",
    "- 초기값을 w, b 각각 10, 0으로 주었다."
   ]
  },
  {
   "cell_type": "code",
   "execution_count": 96,
   "metadata": {},
   "outputs": [],
   "source": [
    "# 학습할 모델을 정의\n",
    "class LinearModel(tf.Module):\n",
    "    \n",
    "    def __init__(self):\n",
    "        \n",
    "        super().__init__()\n",
    "        \n",
    "        # 가중치 W, 바이어스b 변수 텐서를 정의 \n",
    "        # 이미 우리가 x,y의 shape를 이미 알고 있기 때문에 \n",
    "        \n",
    "        # 초기값을 정해야합니다. -> 단일 값 텐서를 정의하였다. \n",
    "        # 입력 텐서도 단일 값이기 때문에 \n",
    "        \n",
    "        # 실제값 3으로 가까워질 텐서\n",
    "        self.w = tf.Variable(44, dtype = tf.float32, name = 'w')\n",
    "        \n",
    "        # 실제값 2와 가까워질 텐서\n",
    "        self.b = tf.Variable(1, dtype = tf.float32, name = 'b')\n",
    "    \n",
    "    def __call__(self, x):\n",
    "        \n",
    "        # 연산과정을 \n",
    "        \n",
    "        y = self.w *  x + self.b\n",
    "        \n",
    "        return y\n",
    "        "
   ]
  },
  {
   "cell_type": "code",
   "execution_count": 97,
   "metadata": {},
   "outputs": [],
   "source": [
    "# 위의 모델은 y = wx + b라는 가설을 통해 최종적으로 y = 3x + 2라는 직선에 가까워질 것입니다.\n",
    "\n",
    "my_linear_model = LinearModel()"
   ]
  },
  {
   "cell_type": "code",
   "execution_count": 98,
   "metadata": {},
   "outputs": [
    {
     "data": {
      "text/plain": [
       "(<tf.Variable 'b:0' shape=() dtype=float32, numpy=1.0>,\n",
       " <tf.Variable 'w:0' shape=() dtype=float32, numpy=44.0>)"
      ]
     },
     "execution_count": 98,
     "metadata": {},
     "output_type": "execute_result"
    }
   ],
   "source": [
    "my_linear_model.trainable_variables"
   ]
  },
  {
   "cell_type": "markdown",
   "metadata": {},
   "source": [
    "# 4. 손실 함수 정의\n",
    "\n",
    "손실 함수란  $y - \\hat{y}$, 실제 값과 모델이 예측한 값의 차이이다.\n",
    "  \n",
    "<img src=\"./education_images/1-1-7_formula.png\" alt=\"Drawing\" style=\"width: 300px;\"/>"
   ]
  },
  {
   "cell_type": "code",
   "execution_count": 94,
   "metadata": {},
   "outputs": [],
   "source": [
    "# 두 직선간의 거리를 의미하는 손실함수를 정의합니다.\n",
    "# y는 실제 데이터, y_hat은 모델이 예측한 값\n",
    "def loss(y, y_hat):\n",
    "    \n",
    "    # reduce_mean -> reducer function이란, 텐서의 크기에 관계없이 단일값을 나오는 함수\n",
    "    # 텐서의 모든 값의 평균값을 반환하는 함수\n",
    "    \n",
    "    loss_value = tf.reduce_mean(tf.square(y - y_hat))\n",
    "    \n",
    "    return loss_value\n",
    "    "
   ]
  },
  {
   "cell_type": "code",
   "execution_count": 101,
   "metadata": {},
   "outputs": [
    {
     "data": {
      "image/png": "[encoded data removed]",
      "text/plain": [
       "<Figure size 432x288 with 1 Axes>"
      ]
     },
     "metadata": {
      "needs_background": "light"
     },
     "output_type": "display_data"
    }
   ],
   "source": [
    "# 현재 초기화된 가중치 값과 실제 값의 차이\n",
    "\n",
    "# 산포도를 작성\n",
    "\n",
    "# 파란색 점은 학습 데이터\n",
    "plt.scatter(x, y, c = 'b')\n",
    "\n",
    "\n",
    "plt.scatter(x, 3 * x + 2, c = 'green')\n",
    "plt.scatter(x, my_linear_model(x), c = 'r')\n",
    "\n",
    "plt.show()"
   ]
  },
  {
   "cell_type": "code",
   "execution_count": 103,
   "metadata": {},
   "outputs": [
    {
     "name": "stdout",
     "output_type": "stream",
     "text": [
      "1664.3293\n"
     ]
    }
   ],
   "source": [
    "# 실제 값과 현재 모델 간의 차이를 loss라고 하는데 현재 모델의 loss 계산\n",
    "\n",
    "# y는 실제 값, my_linear_model(x)는 현재 모델이 예측한 값\n",
    "print(loss(y, my_linear_model(x)).numpy())\n",
    "\n",
    "# 학습이 진행됨에 따라 loss 즉, 모델과 참값 간의 차이가 줄어들어야 하기 때문에 loss도 줄어들 것이다."
   ]
  },
  {
   "cell_type": "markdown",
   "metadata": {},
   "source": [
    "# 5. 학습 루프 정의\n",
    "\n",
    "학습 과정은 아래와 같다.\n",
    "\n",
    "1. 모델을 통해 각 batch 마다 예측값 $\\hat{y}$ 구한다.\n",
    "\n",
    "\n",
    "2. 사전에 정의해둔 loss function을 통해 loss를 구한다.\n",
    "\n",
    "\n",
    "3. 자동미분을 수행하는 GradientTape를 통해 gradient를 구한다.\n",
    "\n",
    "\n",
    "4. optimizer를 통해 가중치를 갱신한다."
   ]
  },
  {
   "cell_type": "markdown",
   "metadata": {},
   "source": [
    "예측한 값과 실제 값의 차이를 loss라고 한다. loss가 클수록 예측한 값과의 차이가 컸다는 의미가 된다.\n",
    "\n",
    "\n",
    "<img src=\"./education_images/formula_app.png\" alt=\"Drawing\" style=\"width: 500px;\"/>\n",
    "\n",
    "\n",
    "값의 차이만큼 실제 b, w 쪽으로 이동시키겠다는 의미이다."
   ]
  },
  {
   "cell_type": "code",
   "execution_count": 104,
   "metadata": {},
   "outputs": [
    {
     "data": {
      "text/plain": [
       "(<tf.Variable 'b:0' shape=() dtype=float32, numpy=1.0>,\n",
       " <tf.Variable 'w:0' shape=() dtype=float32, numpy=44.0>)"
      ]
     },
     "execution_count": 104,
     "metadata": {},
     "output_type": "execute_result"
    }
   ],
   "source": [
    "my_linear_model.trainable_variables "
   ]
  },
  {
   "cell_type": "code",
   "execution_count": 109,
   "metadata": {},
   "outputs": [],
   "source": [
    "# 학습 루프 정의\n",
    "\n",
    "# model은 학습할 모델\n",
    "\n",
    "# x, y 는 학습 데이터\n",
    "\n",
    "# learning rate - 가중치의 갱신을 얼마나 크게 반영할 것인가 \n",
    "def train(model, x, y, learning_rate):\n",
    "    \n",
    "     # loss_value 즉, 손실 값의 미분값을 구해야합니다. \n",
    "    # 이전에 미분 값을 추적하는 객체 GradientTape를 사용\n",
    "    with tf.GradientTape(persistent = True) as t : \n",
    "        # loss를 구해야한다.\n",
    "        y_hat = model(x)\n",
    "\n",
    "        # 현재 모델과 실제 값 간의 차이를 구했습니다.\n",
    "        loss_value = loss(y, y_hat)\n",
    "    \n",
    "\n",
    "    # 현재 모델의 b, w 텐서의 값\n",
    "    b, w = model.trainable_variables \n",
    "    \n",
    "    # b에대한 loss의 미분값\n",
    "    db = t.gradient(loss_value, b)\n",
    "    \n",
    "    # w에 대한 loss의 미분값\n",
    "    dw = t.gradient(loss_value, w)\n",
    "    \n",
    "    # b = b- db * learning_rate\n",
    "    b.assign_sub( db * learning_rate)\n",
    "    \n",
    "     # w = w- dw * learning_rate\n",
    "    w.assign_sub( dw * learning_rate)"
   ]
  },
  {
   "cell_type": "markdown",
   "metadata": {},
   "source": [
    "# 6. 학습 루프를 진행하며 결과 평가"
   ]
  },
  {
   "cell_type": "code",
   "execution_count": 110,
   "metadata": {},
   "outputs": [
    {
     "data": {
      "text/plain": [
       "range(0, 30)"
      ]
     },
     "execution_count": 110,
     "metadata": {},
     "output_type": "execute_result"
    }
   ],
   "source": [
    "# 학습을 몇번 돌 것이냐 총 30번 돌겠다.\n",
    "epochs = range(30)\n",
    "\n",
    "# epochs는 0 ~ 29까지의 값을 가지는 LIST가 된다.\n",
    "epochs"
   ]
  },
  {
   "cell_type": "code",
   "execution_count": 120,
   "metadata": {},
   "outputs": [],
   "source": [
    "# 학습 루프를 정의하였다. \n",
    "# 학습 루프의 경우, 진행하면서 가중치가 갱신된다.\n",
    "\n",
    "# 학습을 몇번 돌 것이냐 총 30번 돌겠다.\n",
    "epochs = range(30)\n",
    "\n",
    "\n",
    "# 매 학습마다 w, b를 저장할 리스트를 정의\n",
    "w_list = []\n",
    "b_list = []\n",
    "\n",
    "# 학습 데이터를 넣어서 위의 학습 루프를 진행한다.\n",
    "def training_loop(model, x, y):\n",
    "    \n",
    "    for epoch in epochs:\n",
    "            # 학습을 총 30회 진행한다.\n",
    "            train(model, x, y, 0.1)\n",
    "            \n",
    "            w = model.w\n",
    "            b = model.b\n",
    "            \n",
    "            # 실제로 W, b 가 학습을 하면서 3, 2로 가까워지는가?\n",
    "            b_list.append(b)\n",
    "            w_list.append(w)\n",
    "            \n",
    "            \n",
    "            # 학습을 진행한 후의 loss -> 실제로 loss가 학습하면서 계속 감소하고 있는가?\n",
    "            loss_value = loss(y, model(x))\n",
    "            print('현재 loss는 ', loss_value.numpy())"
   ]
  },
  {
   "cell_type": "code",
   "execution_count": 121,
   "metadata": {
    "collapsed": true
   },
   "outputs": [
    {
     "name": "stdout",
     "output_type": "stream",
     "text": [
      "현재 loss는  1073.0856\n",
      "현재 loss는  692.3515\n",
      "현재 loss는  447.04892\n",
      "현재 loss는  288.92163\n",
      "현재 loss는  186.93724\n",
      "현재 loss는  121.12892\n",
      "현재 loss는  78.642876\n",
      "현재 loss는  51.20012\n",
      "현재 loss는  33.465492\n",
      "현재 loss는  21.999079\n",
      "현재 loss는  14.581865\n",
      "현재 loss는  9.781672\n",
      "현재 loss는  6.673692\n",
      "현재 loss는  4.660449\n",
      "현재 loss는  3.3557565\n",
      "현재 loss는  2.5098693\n",
      "현재 loss는  1.9612082\n",
      "현재 loss는  1.6051838\n",
      "현재 loss는  1.3740652\n",
      "현재 loss는  1.22397\n",
      "현재 loss는  1.1264552\n",
      "현재 loss는  1.0630765\n",
      "현재 loss는  1.0218688\n",
      "현재 loss는  0.99506617\n",
      "현재 loss는  0.9776267\n",
      "현재 loss는  0.9662758\n",
      "현재 loss는  0.958885\n",
      "현재 loss는  0.9540712\n",
      "현재 loss는  0.95093507\n",
      "현재 loss는  0.9488908\n"
     ]
    }
   ],
   "source": [
    "# 기존의 모델을 생성\n",
    "my_linear_model = LinearModel()\n",
    "\n",
    "# 학습을 진행\n",
    "training_loop(my_linear_model, x, y)\n"
   ]
  },
  {
   "cell_type": "code",
   "execution_count": 122,
   "metadata": {},
   "outputs": [
    {
     "data": {
      "image/png": "[encoded data removed]",
      "text/plain": [
       "<Figure size 432x288 with 1 Axes>"
      ]
     },
     "metadata": {
      "needs_background": "light"
     },
     "output_type": "display_data"
    }
   ],
   "source": [
    "# W, B가 얼마나 3, 2에 가까워졌는가 \n",
    "\n",
    "# 실제 3X + 2의 함수 식\n",
    "plt.scatter(x, 3*x + 2, c = 'b')\n",
    "\n",
    "# 우리 모델이 예측한 값\n",
    "plt.scatter(x, my_linear_model(x), c = 'r')\n",
    "\n",
    "\n",
    "plt.show()"
   ]
  },
  {
   "cell_type": "code",
   "execution_count": 123,
   "metadata": {},
   "outputs": [
    {
     "data": {
      "text/plain": [
       "(<tf.Variable 'b:0' shape=() dtype=float32, numpy=1.9581527>,\n",
       " <tf.Variable 'w:0' shape=() dtype=float32, numpy=2.9563372>)"
      ]
     },
     "execution_count": 123,
     "metadata": {},
     "output_type": "execute_result"
    }
   ],
   "source": [
    "my_linear_model.trainable_variables"
   ]
  },
  {
   "cell_type": "code",
   "execution_count": null,
   "metadata": {},
   "outputs": [],
   "source": []
  },
  {
   "cell_type": "code",
   "execution_count": null,
   "metadata": {},
   "outputs": [],
   "source": []
  },
  {
   "cell_type": "code",
   "execution_count": null,
   "metadata": {},
   "outputs": [],
   "source": []
  },
  {
   "cell_type": "code",
   "execution_count": null,
   "metadata": {},
   "outputs": [],
   "source": []
  },
  {
   "cell_type": "code",
   "execution_count": null,
   "metadata": {},
   "outputs": [],
   "source": []
  },
  {
   "cell_type": "markdown",
   "metadata": {},
   "source": [
    "### `batch`\n",
    "\n",
    "1회의 학습루프에 사용할 학습 데이터의 크기\n",
    "\n",
    "\n",
    "### `epoch`\n",
    "\n",
    "전체 학습 데이터에 대해서 진행할 학습의 횟수를 의미한다.\n",
    "\n",
    "\n",
    "- 위에서 epoch는 30으로, 총 30번의 학습 루프를 진행하였다. 또한 학습 루프 내에서 학습 데이터로 batch로 분할하여 예측값을 구하고 가중치를 갱신하는데, 이 과정을 1회만 수행하였기 때문에 1 batch 내에 학습데이터를 모두 사용한 것이다. 즉 batch는 1000이 된다. \n",
    "\n",
    "\n",
    "- 학습루프를 진행하면서 변수로 정의되어있는 w, b 의 값이 각각 3, 1로 수렴하고 있음을 볼 수 있으며 loss 또한 지속적으로 낮아지는 것을 확인할 수 있다. w, b 값의 변화를 plot을 통해 시각화하여보고, 우리의 회귀선이 데이터에 적합한지도 시각화하여보자. "
   ]
  },
  {
   "cell_type": "code",
   "execution_count": null,
   "metadata": {},
   "outputs": [],
   "source": []
  },
  {
   "cell_type": "code",
   "execution_count": null,
   "metadata": {},
   "outputs": [],
   "source": []
  },
  {
   "cell_type": "code",
   "execution_count": null,
   "metadata": {},
   "outputs": [],
   "source": []
  },
  {
   "cell_type": "markdown",
   "metadata": {},
   "source": [
    "# 가중치 저장하기\n",
    "\n",
    "지금까지 tensorflow로 구현한 모든 layer, model이 `tf.Module` 의  하위클래스로 구현됨을 보았다. 우리가 학습된 모델을 저장하고 싶을 때, 학습과정마다 모델을 저장하고자 할 때 `tf.train.Checkpoint()`를 사용하여 가중치를 저장한다. 저장하는 방법은 아래와 같다.\n",
    "\n",
    "\n",
    "1. `checkpoint` 객체를 생성하여 현재 모델의 상태를 저장한다.\n",
    "\n",
    "\n",
    "2. `checkpoint.save`를 통해서 디렉토리에 저장한다.\n",
    "    -  저장되는 객체는  \n",
    "        `<model명>-<save counter 수>.data-00000-of-00001`  \n",
    "        →  변수 값과 실제 데이터\n",
    "        \n",
    "       `<model명>-<save counter 수>.index`  \n",
    "        →  저장된 항목과 체크포인트의 번호를 추적하는 메타 데이터\n",
    "        \n",
    "- 코드가 실행되는 디렉토리의 하위디렉토리로 가중치 및 데이터들이 저장된다.\n",
    "\n",
    "- 새로운 모델을 생성하게 되면 가중치의 값이 모델을 선언했을 때의 초기값을 가진다.\n",
    "\n",
    "- 새로운 모델에 대해서 미리 저장된 가중치를 적용하기 위해서는 새로운 모델에 대해서 _checkpoint_ 를 생성한 뒤, 저장된 가중치를 `restore` 를 통해서 불러온다. \n",
    "\n",
    "- 이외에 모델 객체를 저장하는 방법이 존재하지만 대부분의 레퍼런스, 기존의 모델들의 경우, keras를 통해 사용되기 때문에 keras API에서 다루려고 한다."
   ]
  },
  {
   "cell_type": "code",
   "execution_count": null,
   "metadata": {},
   "outputs": [],
   "source": []
  }
 ],
 "metadata": {
  "kernelspec": {
   "display_name": "Python 3",
   "language": "python",
   "name": "python3"
  },
  "language_info": {
   "codemirror_mode": {
    "name": "ipython",
    "version": 3
   },
   "file_extension": ".py",
   "mimetype": "text/x-python",
   "name": "python",
   "nbconvert_exporter": "python",
   "pygments_lexer": "ipython3",
   "version": "3.8.5"
  }
 },
 "nbformat": 4,
 "nbformat_minor": 5
}
