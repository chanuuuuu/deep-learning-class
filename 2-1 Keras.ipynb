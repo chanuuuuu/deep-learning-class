{
 "cells": [
  {
   "cell_type": "code",
   "execution_count": 2,
   "metadata": {},
   "outputs": [],
   "source": [
    "import os\n",
    "import tensorflow as tf\n",
    "from tensorflow import keras\n",
    "from tensorflow.keras import layers\n",
    "from tensorflow.keras.datasets import mnist"
   ]
  },
  {
   "cell_type": "markdown",
   "metadata": {},
   "source": [
    "# Keras란?\n",
    "\n",
    "딥러닝 모델을 빌드하고 학습시키기 위한 tensorflow의 상위 수준 API이다. tensorflow 공식문서에서 keras의 장점을 세가지로 설명하였다.\n",
    "\n",
    "\n",
    "API란, 더 쉽고 편리하게 구현할 수 있도록 필요한 기능이나 도구들을 미리 구현하여 제공하는 것을 말한다.\n",
    "\n",
    "\n",
    "- 사용자 친화적\n",
    "    > 일반적인 사용 사례에 맞춰 최적화된 Keras의 인터페이스는 간단하고 일관성이 있습니다. Keras는 사용자 오류에 대해 명확하고 실행 가능한 피드백을 제공합니다.\n",
    "    \n",
    "\n",
    "- 모듈식 구성 가능\n",
    "    > Keras 모델은 거의 제한 없이 구성 가능한 빌딩 블록을 함께 연결하는 방식으로 만들어집니다.\n",
    "    \n",
    "\n",
    "- 쉽게 확장 가능\n",
    "    > 연구를 위한 새로운 아이디어를 표현하는 맞춤 빌딩 블록을 작성할 수 있습니다. 새로운 레이어, 측정항목, 손실 함수를 만들고 최첨단 모델을 개발합니다."
   ]
  },
  {
   "cell_type": "markdown",
   "metadata": {},
   "source": [
    "<img src=\"./education_images/4-1.png\" alt=\"Drawing\" style=\"width: 800px;\"/>\n",
    "\n",
    "tensorflow에서 제공하는 keras의 클래스 계층을 그림으로 나타내었다."
   ]
  },
  {
   "cell_type": "markdown",
   "metadata": {},
   "source": [
    "# Layer by Keras\n",
    "\n",
    "이 전에 tensorflow로 구현하였던 fully connected layer를 가져왔다. "
   ]
  },
  {
   "cell_type": "code",
   "execution_count": 5,
   "metadata": {},
   "outputs": [],
   "source": [
    "# 맨 처음 입력 텐서 X의 shape에 맞추는 레이어\n",
    "class StaticMyDense(tf.Module):\n",
    "    \n",
    "    # layer 인스턴스 생성시 수행\n",
    "    def __init__(self, output_shape):\n",
    "        \n",
    "        # 상위 클래스의 __init__함수 호출\n",
    "        super().__init__()\n",
    "       \n",
    "        # 레이어의 최종 결과값 shape\n",
    "        self.output_shape = output_shape\n",
    "        \n",
    "        # 현재 레이어 인스턴스가 가중치 행렬 텐서를 만들었는가?\n",
    "        # 현재는 가중치 행렬 텐서가 초기화 되지 않았으므로 False\n",
    "        self.is_build = False\n",
    "        \n",
    "    # layer 인스턴스 호출시 수행\n",
    "    def __call__(self, X):\n",
    "        \n",
    "        # 아직 가중치 행렬 텐서가 만들어지지 않은 경우,\n",
    "        if not self.is_build:\n",
    "            input_shape = X.shape[-1]\n",
    "            self.W = tf.Variable(\n",
    "                tf.ones(shape = (input_shape, self.output_shape)), name = 'w'\n",
    "            )\n",
    "\n",
    "            # 바이어스 텐서 b를 정의\n",
    "            self.b = tf.Variable(\n",
    "                tf.ones(shape = (self.output_shape), name = 'b')\n",
    "            )\n",
    "            \n",
    "            self.is_build = True\n",
    "        \n",
    "        # 연산 절차를 정의\n",
    "        XW = tf.matmul(X, self.W)\n",
    "        \n",
    "        # X * W + b\n",
    "        y = XW + self.b\n",
    "        \n",
    "        return y"
   ]
  },
  {
   "cell_type": "code",
   "execution_count": 4,
   "metadata": {},
   "outputs": [],
   "source": [
    "## 위의 fully connected layer를 keras로 구현해보자.\n",
    "\n",
    "from tensorflow.keras.layers import Layer "
   ]
  },
  {
   "cell_type": "code",
   "execution_count": 27,
   "metadata": {},
   "outputs": [],
   "source": [
    "# tensorflow로 레이어를 구현할 때, tf.Module을 상속받아 구현\n",
    "# keras에서 레이어를 구현할 때, Layer 클래스를 상속받아 구현\n",
    "\n",
    "class MyDenseKeras(Layer):\n",
    "    \n",
    "     # layer 인스턴스 생성시 수행\n",
    "    def __init__(self, output_shapes):\n",
    "        \n",
    "        # 상위 클래스의 __init__함수 호출\n",
    "        super().__init__()\n",
    "       \n",
    "        # 레이어의 최종 결과값 shape\n",
    "        self.output_shapes = output_shapes\n",
    "\n",
    "        \n",
    "    # 맨 처음 레이어가 호출될 때, 수행되는 함수,\n",
    "    # input_dims는, 입력 텐서 X의 shape\n",
    "    def build(self, input_dims):\n",
    "        print('모델이 빌드 됩니다.')\n",
    "        input_shape = input_dims[-1]\n",
    "        self.W = tf.Variable(\n",
    "            tf.ones(shape = (input_shape, self.output_shapes)), name = 'w'\n",
    "        )\n",
    "\n",
    "        # 바이어스 텐서 b를 정의\n",
    "        self.b = tf.Variable(\n",
    "            tf.ones(shape = (self.output_shapes), name = 'b')\n",
    "        )\n",
    "\n",
    "    \n",
    "     # layer 인스턴스 호출시 수행 __call__ 대신, call함수로 사용한다.\n",
    "    def call(self, X):\n",
    "        \n",
    "        # 연산 절차를 정의\n",
    "        XW = tf.matmul(X, self.W)\n",
    "        \n",
    "        # X * W + b\n",
    "        y = XW + self.b\n",
    "        \n",
    "        return y"
   ]
  },
  {
   "cell_type": "code",
   "execution_count": 28,
   "metadata": {},
   "outputs": [],
   "source": [
    "# 우리가 만든 레이어의 인스턴스를 생성\n",
    "# output_shape는 keras 내에서 사용하는 변수명이기 때문에 사용하면 안된다. \n",
    "tf_dense = StaticMyDense(3)\n",
    "keras_dense = MyDenseKeras(3)"
   ]
  },
  {
   "cell_type": "code",
   "execution_count": 23,
   "metadata": {},
   "outputs": [],
   "source": [
    "X = tf.constant([[3, 3, 3, 3, 3]], dtype= tf.float32)"
   ]
  },
  {
   "cell_type": "code",
   "execution_count": 25,
   "metadata": {},
   "outputs": [
    {
     "name": "stdout",
     "output_type": "stream",
     "text": [
      "tf.Tensor([[16. 16. 16.]], shape=(1, 3), dtype=float32)\n",
      "(<tf.Variable 'w:0' shape=(5, 3) dtype=float32, numpy=\n",
      "array([[1., 1., 1.],\n",
      "       [1., 1., 1.],\n",
      "       [1., 1., 1.],\n",
      "       [1., 1., 1.],\n",
      "       [1., 1., 1.]], dtype=float32)>, <tf.Variable 'Variable:0' shape=(3,) dtype=float32, numpy=array([1., 1., 1.], dtype=float32)>)\n"
     ]
    }
   ],
   "source": [
    "# tf로 만든 인스턴스 호출\n",
    "\n",
    "print(tf_dense(X))\n",
    "\n",
    "print(tf_dense.trainable_variables)"
   ]
  },
  {
   "cell_type": "code",
   "execution_count": 30,
   "metadata": {},
   "outputs": [
    {
     "name": "stdout",
     "output_type": "stream",
     "text": [
      "모델이 빌드 됩니다.\n",
      "tf.Tensor([[16. 16. 16.]], shape=(1, 3), dtype=float32)\n",
      "[<tf.Variable 'my_dense_keras_5/w:0' shape=(5, 3) dtype=float32, numpy=\n",
      "array([[1., 1., 1.],\n",
      "       [1., 1., 1.],\n",
      "       [1., 1., 1.],\n",
      "       [1., 1., 1.],\n",
      "       [1., 1., 1.]], dtype=float32)>, <tf.Variable 'my_dense_keras_5/Variable:0' shape=(3,) dtype=float32, numpy=array([1., 1., 1.], dtype=float32)>]\n"
     ]
    }
   ],
   "source": [
    "# 레이어 인스턴스 생성시에는 가중치 텐서가 생성되지 않았다.\n",
    "keras_dense.trainable_variables\n",
    "\n",
    "# tf로 만든 인스턴스 호출\n",
    "# build() 함수가 호출되었다.\n",
    "print(keras_dense(X))\n",
    "\n",
    "print(keras_dense.trainable_variables)"
   ]
  },
  {
   "cell_type": "code",
   "execution_count": 32,
   "metadata": {},
   "outputs": [
    {
     "data": {
      "text/plain": [
       "<tf.Tensor: shape=(1, 3), dtype=float32, numpy=array([[6., 6., 6.]], dtype=float32)>"
      ]
     },
     "execution_count": 32,
     "metadata": {},
     "output_type": "execute_result"
    }
   ],
   "source": [
    "X_2 = tf.constant([[1, 1, 1, 1, 1]], dtype= tf.float32)\n",
    "\n",
    "# 최초 호출 이후에는 build함수가 호출되지 않습니다.\n",
    "keras_dense(X_2)"
   ]
  },
  {
   "cell_type": "markdown",
   "metadata": {},
   "source": [
    "- 위의 fully connected layer를 keras의 class를 통해 구현하였다.\n",
    "\n",
    "\n",
    "- `tf.Module` 클래스를 상속받는 대신 `tf.keras.layers.Layer`를 상속받아 사용하였다. \n",
    "\n",
    "\n",
    "- `Layer` 클래스는 layer 객체 호출시점에 수행되는 함수를  `__call__` 내에 구현하는 것이 아닌, `call`함수를 구현하여 사용한다. \n",
    "\n",
    "\n",
    "- `build` 함수는 해당 layer 객체 호출 시점에 `call` 함수를 수행하기 전 먼저 수행되며, 인자값으로 전달받는 `input_dims` 는 호출 시점에 전달받는 입력값의 shape를 의미한다. 해당 함수 내에서 내부 변수들을 초기화하면 입력의 shape에 대한 제약이 사라지게 된다."
   ]
  },
  {
   "cell_type": "markdown",
   "metadata": {},
   "source": [
    "# Dense\n",
    "\n",
    "```python\n",
    "tf.keras.layers.Dense(\n",
    "    units,\n",
    "    activation=None,\n",
    "    use_bias=True,\n",
    "    kernel_initializer=\"glorot_uniform\",\n",
    "    bias_initializer=\"zeros\",\n",
    "    kernel_regularizer=None,\n",
    "    bias_regularizer=None,\n",
    "    activity_regularizer=None,\n",
    "    kernel_constraint=None,\n",
    "    bias_constraint=None,\n",
    "    **kwargs\n",
    ")\n",
    "```\n",
    "\n",
    "keras에서 미리 fully connected layer를 구현하여 하나의 클래스로 제공한다. "
   ]
  },
  {
   "cell_type": "markdown",
   "metadata": {},
   "source": [
    "keras를 사용하여 동일한 기능의 fully connected layer를 구현해보았다.\n",
    "\n",
    "- 동일한 layer인지를 파악하기 위해 가중치의 초기값들을 1, 0으로 설정한다.  \n",
    "\n",
    "\n",
    "- `unit` 은 output의 shape를 의미하며, kernel, bias는 각각 w, b에 해당한다.\n",
    "\n",
    "\n",
    "- 초기값을 위해서 `keras.initializers`를 사용하였다.\n",
    "  \n",
    "  \n",
    "- keras의 layer 클래스는 기본적으로 입력되는 데이터의 shape에 따라 가중치의 shape가 변하게 된다.  \n",
    "   → 초기 선언시에는 trainable_variables이 존재하지 않는 것을 확인할 수 있다.\n",
    "   \n",
    "하지만 내장된 함수 이외의 연산이 필요하여 직접 만들어야하는 경우가 존재한다.     \n",
    "이 때는 API를 그대로 사용하는 것이 아닌, 이 전의 클래스로 구현하는 방식을 그대로 사용한다. 아래의 예제를 보자.  "
   ]
  },
  {
   "cell_type": "code",
   "execution_count": 33,
   "metadata": {},
   "outputs": [],
   "source": [
    "# 여러가지 필요한 레이어들을 미리 구현하여 layers\n",
    "from tensorflow.keras.layers import Dense\n",
    "from tensorflow.keras import initializers\n",
    "\n",
    "api_dense = Dense(\n",
    "    units = 3,\n",
    "    kernel_initializer= initializers.ones(),\n",
    "    bias_initializer= initializers.ones()\n",
    ")"
   ]
  },
  {
   "cell_type": "code",
   "execution_count": 34,
   "metadata": {},
   "outputs": [
    {
     "data": {
      "text/plain": [
       "[]"
      ]
     },
     "execution_count": 34,
     "metadata": {},
     "output_type": "execute_result"
    }
   ],
   "source": [
    "# 인스턴스 생성 시점에는 가중치 행렬 텐서, 바이어스 텐서가 정의되지 않았다.\n",
    "# build , 최초 인스턴스 호출시점에 텐서들이 정의가 될 것이다.\n",
    "api_dense.trainable_variables"
   ]
  },
  {
   "cell_type": "code",
   "execution_count": 36,
   "metadata": {},
   "outputs": [
    {
     "name": "stdout",
     "output_type": "stream",
     "text": [
      "tf.Tensor([[16. 16. 16.]], shape=(1, 3), dtype=float32)\n",
      "tf.Tensor([[16. 16. 16.]], shape=(1, 3), dtype=float32)\n",
      "tf.Tensor([[16. 16. 16.]], shape=(1, 3), dtype=float32)\n"
     ]
    }
   ],
   "source": [
    "print(tf_dense(X))\n",
    "print(keras_dense(X))\n",
    "print(api_dense(X))"
   ]
  },
  {
   "cell_type": "markdown",
   "metadata": {},
   "source": [
    "## keras에서 입력형태를 넣어주실수 있다고 하셨는데, 그 입력 형태를 지정하는 조건이나 제약등이 있나요?\n",
    "\n",
    "조건이나 제약이 사용하는 layer, model에 따라, 내부의 연산 과정에 따라 달라질 수 있다. \n",
    "\n",
    "가중치 행렬 텐서 W, 입력텐서 X의 shape을 맞추는 제약조건의 경우, fully connected layer에만 해당합니다. "
   ]
  },
  {
   "cell_type": "markdown",
   "metadata": {},
   "source": [
    "# Model by Keras\n",
    "\n",
    "- 이 전의 tensorflow로 구현하였던 모델은 `tf.Module` 을 상속받아 클래스로 구현하는 방식이었다. \n",
    "\n",
    "\n",
    "- keras에서는 Layer, Model 클래스를 구분지어두었다.\n",
    "\n",
    "\n",
    "- 각 클래스에 따라 필요한 메소드를 미리 구현해두었다. Model 클래스에서만 모델의 구조를 볼 수 있는 `summary()`, 학습 루프를 진행하는 `fit()` 등의 함수를 사용할 수 있다. layer 클래스에 학습에 대한 함수는 필요하지 않기 때문이다."
   ]
  },
  {
   "cell_type": "code",
   "execution_count": null,
   "metadata": {},
   "outputs": [],
   "source": [
    "class MyModel(tf.Module):\n",
    "    \n",
    "    def __init__(self):\n",
    "        \n",
    "        super().__init__()\n",
    "        \n",
    "        # 내부에서 사용할 Layer를 정의합니다.\n",
    "        # L1 레이어는 (a, b) -> (a, 5) fully connected layer\n",
    "        self.l1 = StaticMyDense(5)\n",
    "        \n",
    "        # L2 레이어는 (a, b) -> (a, 3) fully connected layer\n",
    "        self.l2 = StaticMyDense(3)\n",
    "    \n",
    "    # 입력 텐서 X를 호출시점에 받습니다.\n",
    "    def __call__(self, X):\n",
    "        \n",
    "        # 연산과정을 정의 X -> L1 -> L2 -> output\n",
    "        x1 = self.l1(X)\n",
    "        print('L1 레이어의 결과값은 ', x1.numpy())\n",
    "        \n",
    "        x2 = self.l2(x1)\n",
    "        print('L2 레이어의 결과값은 ', x2.numpy())\n",
    "        \n",
    "        return x2"
   ]
  },
  {
   "cell_type": "markdown",
   "metadata": {},
   "source": [
    "# symbolic style\n",
    "\n",
    "추상적인 방식으로의 구현으로, 내부 구체적인 구현을 직접하는 것이 아닌 이미 구현되어있는 API를 단순히 선형적으로 연결하여 모델을 구현하는 방식이다.   \n",
    "이러한 방식에는 두가지 방법이 존재한다.\n",
    "\n",
    "1. Functional API\n",
    "\n",
    "2. Sequential API"
   ]
  },
  {
   "cell_type": "markdown",
   "metadata": {},
   "source": [
    "## 1. Functional API\n",
    "\n",
    "- 각 layer를 함수처럼 사용하여 입력에서 부터 순서대로 수행하도록 하는 방식으로 모델을 구현한다. \n",
    "\n",
    "\n",
    "- `tf.keras.Input` 클래스의 객체를 구현하여 입력값의 shape를 명시한다. \n",
    "\n",
    "\n",
    "- 해당 방식으로 모델을 구현하게 되면, 구현하는데 있어서 연산의 자유도가 높다. 각 레이어의 결과값을 변수 내에 저장하기 때문에 각 레이어의 결과값들 간의 연산을 구현할 수 있다."
   ]
  },
  {
   "cell_type": "code",
   "execution_count": 37,
   "metadata": {},
   "outputs": [],
   "source": [
    "from tensorflow.keras import Model"
   ]
  },
  {
   "cell_type": "code",
   "execution_count": 43,
   "metadata": {},
   "outputs": [
    {
     "name": "stdout",
     "output_type": "stream",
     "text": [
      "모델이 빌드 됩니다.\n",
      "모델이 빌드 됩니다.\n"
     ]
    }
   ],
   "source": [
    "# 모델의 Input을 정의해야한다.\n",
    "\n",
    "# Functional API의 경우 반드시 tf.keras.Input 클래스를 통해 해당 모델의 Input를 정의한다.\n",
    "# shape도 함께 정의해줘야한다.\n",
    "inputs = tf.keras.Input(shape = [3, ])\n",
    "\n",
    "# 맨 처음 layer를 통과 하기 전의 데이터를 inputs\n",
    "\n",
    "# 첫번째 레이어에 대한 결과  input => MyDenseKeras => x\n",
    "x1 =  MyDenseKeras(5)(inputs)\n",
    "\n",
    "\n",
    "# 두번째 레이어에 대한 결과 input -> MyDenseKeras -> MyDenseKeras -> x\n",
    "x2 =  MyDenseKeras(3)(x1)\n",
    "\n",
    "# 아래의 다른 레이어의 결과값에 반영하기 위해 각 레이어의 결과값을 연산할 수 있다.\n",
    "x3 = x2 + inputs\n",
    "\n",
    "# 모델 인스턴스 생성\n",
    "func_model = Model(inputs = inputs, outputs = x3)"
   ]
  },
  {
   "cell_type": "code",
   "execution_count": 44,
   "metadata": {},
   "outputs": [
    {
     "name": "stdout",
     "output_type": "stream",
     "text": [
      "Model: \"functional_5\"\n",
      "__________________________________________________________________________________________________\n",
      "Layer (type)                    Output Shape         Param #     Connected to                     \n",
      "==================================================================================================\n",
      "input_3 (InputLayer)            [(None, 3)]          0                                            \n",
      "__________________________________________________________________________________________________\n",
      "my_dense_keras_13 (MyDenseKeras (None, 5)            20          input_3[0][0]                    \n",
      "__________________________________________________________________________________________________\n",
      "my_dense_keras_14 (MyDenseKeras (None, 3)            18          my_dense_keras_13[0][0]          \n",
      "__________________________________________________________________________________________________\n",
      "tf_op_layer_AddV2 (TensorFlowOp [(None, 3)]          0           my_dense_keras_14[0][0]          \n",
      "                                                                 input_3[0][0]                    \n",
      "==================================================================================================\n",
      "Total params: 38\n",
      "Trainable params: 38\n",
      "Non-trainable params: 0\n",
      "__________________________________________________________________________________________________\n"
     ]
    }
   ],
   "source": [
    "func_model.summary()"
   ]
  },
  {
   "cell_type": "code",
   "execution_count": 40,
   "metadata": {},
   "outputs": [
    {
     "name": "stdout",
     "output_type": "stream",
     "text": [
      "(1, 3)\n"
     ]
    }
   ],
   "source": [
    "X = tf.constant([[3, 3, 3]], dtype = tf.float32)\n",
    "\n",
    "print(X.shape)"
   ]
  },
  {
   "cell_type": "code",
   "execution_count": 41,
   "metadata": {},
   "outputs": [
    {
     "data": {
      "text/plain": [
       "<tf.Tensor: shape=(1, 3), dtype=float32, numpy=array([[51., 51., 51.]], dtype=float32)>"
      ]
     },
     "execution_count": 41,
     "metadata": {},
     "output_type": "execute_result"
    }
   ],
   "source": [
    "func_model(X)"
   ]
  },
  {
   "cell_type": "markdown",
   "metadata": {},
   "source": [
    "## 2. Sequential API\n",
    "\n",
    "- 가장 최하위 클래스인 Sequential 클래스를 사용하여 모델을 구현한다.   \n",
    "\n",
    "\n",
    "- 단순히 layer들의 배열을 전달함을 통해 모델을 구현할 수 있으며, 모델의 입력또한 정의하지 않아도 된다.  \n",
    "    → 위의 functional API의 경우, 입력을 명시해줘야 했다."
   ]
  },
  {
   "cell_type": "code",
   "execution_count": 45,
   "metadata": {},
   "outputs": [],
   "source": [
    "from tensorflow.keras import Sequential"
   ]
  },
  {
   "cell_type": "code",
   "execution_count": 48,
   "metadata": {},
   "outputs": [],
   "source": [
    "seq_model = Sequential([\n",
    "    MyDenseKeras(5),\n",
    "    MyDenseKeras(3)\n",
    "])"
   ]
  },
  {
   "cell_type": "code",
   "execution_count": 52,
   "metadata": {},
   "outputs": [
    {
     "name": "stdout",
     "output_type": "stream",
     "text": [
      "[]\n",
      "[]\n"
     ]
    }
   ],
   "source": [
    "# 모델의 인스턴스 생성 시점에는 레이어들이 초기화되지 않았댜.\n",
    "for layer in seq_model.layers:\n",
    "    print(layer.trainable_variables)"
   ]
  },
  {
   "cell_type": "code",
   "execution_count": 47,
   "metadata": {},
   "outputs": [
    {
     "name": "stdout",
     "output_type": "stream",
     "text": [
      "모델이 빌드 됩니다.\n",
      "모델이 빌드 됩니다.\n"
     ]
    },
    {
     "data": {
      "text/plain": [
       "<tf.Tensor: shape=(1, 3), dtype=float32, numpy=array([[51., 51., 51.]], dtype=float32)>"
      ]
     },
     "execution_count": 47,
     "metadata": {},
     "output_type": "execute_result"
    }
   ],
   "source": [
    "seq_model(X)"
   ]
  },
  {
   "cell_type": "markdown",
   "metadata": {},
   "source": [
    "# imperative style (model subclassing) \n",
    "\n",
    "\n",
    "엄격한 방식으로의 구현으로, 이 전에 tensorflow에서 `tf.Module`의 하위 클래스를 선언하는 방식, keras에서 `tf.keras.layers.Layer`의 하위 클래스를 선언하여 layer를 구현하였던 방식과 동일하게 `tf.keras.Model`의 하위클래스를 선언하여 내부 구조까지 구현하는 방식이다. \n",
    "\n",
    "- 이전의 tensorflow에서 모델 구현방식과 동일하다. \n",
    "\n",
    "\n",
    "- 모델의 내부적인 구조까지 구체적으로 구현할 수 있다는 장점이 존재하지만, keras의 장점인 일관성을 가지는 인터페이스을 사용하지 못하는 단점이 존재한다. \n",
    "    → 다른 API와의 호환이 어려울 수 있다."
   ]
  },
  {
   "cell_type": "code",
   "execution_count": 53,
   "metadata": {},
   "outputs": [],
   "source": [
    "from tensorflow.keras import Model"
   ]
  },
  {
   "cell_type": "code",
   "execution_count": 54,
   "metadata": {},
   "outputs": [],
   "source": [
    "\n",
    "class SubclassModel(Model):\n",
    "      \n",
    "    def __init__(self):\n",
    "        \n",
    "        super().__init__()\n",
    "        \n",
    "        # 내부에서 사용할 Layer를 정의합니다.\n",
    "        # L1 레이어는 (a, b) -> (a, 5) fully connected layer\n",
    "        self.l1 = MyDenseKeras(5)\n",
    "        \n",
    "        # L2 레이어는 (a, b) -> (a, 3) fully connected layer\n",
    "        self.l2 = MyDenseKeras(3)\n",
    "    \n",
    "    # 입력 텐서 X를 호출시점에 받습니다.\n",
    "    def call(self, X):\n",
    "        \n",
    "        # 연산과정을 정의 X -> L1 -> L2 -> output\n",
    "        x1 = self.l1(X)\n",
    "        print('L1 레이어의 결과값은 ', x1.numpy())\n",
    "        \n",
    "        x2 = self.l2(x1)\n",
    "        print('L2 레이어의 결과값은 ', x2.numpy())\n",
    "        \n",
    "        return x2"
   ]
  },
  {
   "cell_type": "code",
   "execution_count": 55,
   "metadata": {},
   "outputs": [],
   "source": [
    "# subclass 방식의 모델 인스턴스 생성\n",
    "\n",
    "sub_model = SubclassModel()"
   ]
  },
  {
   "cell_type": "code",
   "execution_count": 56,
   "metadata": {},
   "outputs": [
    {
     "name": "stdout",
     "output_type": "stream",
     "text": [
      "모델이 빌드 됩니다.\n",
      "L1 레이어의 결과값은  [[10. 10. 10. 10. 10.]]\n",
      "모델이 빌드 됩니다.\n",
      "L2 레이어의 결과값은  [[51. 51. 51.]]\n"
     ]
    },
    {
     "data": {
      "text/plain": [
       "<tf.Tensor: shape=(1, 3), dtype=float32, numpy=array([[51., 51., 51.]], dtype=float32)>"
      ]
     },
     "execution_count": 56,
     "metadata": {},
     "output_type": "execute_result"
    }
   ],
   "source": [
    "# 모델의 인스턴스 호출\n",
    "sub_model(X)"
   ]
  },
  {
   "cell_type": "markdown",
   "metadata": {},
   "source": [
    "# Training by Keras\n",
    "\n",
    "`tf.keras.Model` 클래스에서 제공하는 학습관련 함수들을 통해 학습을 쉽게 구현할 수 있다. 기존의 선형회귀 모델을 keras로 구현하여 학습과정을 keras로 구현해본다. (이 후의 여러가지 실습예제를 통해 경험할 것이기 때문에 간단히 하나의 예제만을 본다.)\n",
    "\n",
    "1. `compile` 을 통해 모델에 대한 학습 루프를 정의한다. 사용되는 인자는 각각 optimizer, loss 를 정의한다.   \n",
    "\n",
    "2. `fit` 을 통해 모델 학습을 진행한다. 사용되는 인자는 각각 epoch, batch를 정의한다.  \n",
    "\n",
    "3. `evaluate`을 통해 모델을 평가한다.  \n",
    "\n",
    "```python\n",
    "    Model.compile(\n",
    "        optimizer=\"rmsprop\",\n",
    "        loss=None,\n",
    "        metrics=None,\n",
    "        loss_weights=None,\n",
    "        weighted_metrics=None,\n",
    "        **kwargs\n",
    "        )\n",
    "```\n",
    "\n",
    "### optimizer \n",
    "\n",
    "`tf.keras.optimizers`의 optimizer 객체를 정의한다.\n",
    "옵티마이저는 loss를 최소화하는 결과를 빠르게 찾아낼 수 있도록 하는 객체이다. 여러 개의 객체가 존재하며 각각의 장단점이 존재한다.\n",
    "\n",
    "\n",
    "### loss\n",
    "\n",
    "`tf.keras.losses.Loss`의 Loss 객체를 정의한다.\n",
    "이외에도 자신이 정의한 loss function을 사용할 수 있다. loss의 경우, 사용하는 데이터의 타입과 그 특성에 따라 정의해야한다.\n",
    "\n",
    "\n",
    "### metrics\n",
    "\n",
    "학습을 진행하는 시점에 확인할 지표들을 정의한다. \n",
    "\n",
    "```python\n",
    " metrics=['accuracy']\n",
    "```"
   ]
  },
  {
   "cell_type": "code",
   "execution_count": 61,
   "metadata": {},
   "outputs": [],
   "source": [
    "# tensorflow로 구현한 모델\n",
    "class LinearModel(tf.Module):\n",
    "    \n",
    "    def __init__(self):\n",
    "        \n",
    "        super().__init__()\n",
    "        \n",
    "        # 가중치 W, 바이어스b 변수 텐서를 정의 \n",
    "        # 이미 우리가 x,y의 shape를 이미 알고 있기 때문에 \n",
    "        \n",
    "        # 초기값을 정해야합니다. -> 단일 값 텐서를 정의하였다. \n",
    "        # 입력 텐서도 단일 값이기 때문에 \n",
    "        \n",
    "        # 실제값 3으로 가까워질 텐서\n",
    "        self.w = tf.Variable(44, dtype = tf.float32, name = 'w')\n",
    "        \n",
    "        # 실제값 2와 가까워질 텐서\n",
    "        self.b = tf.Variable(1, dtype = tf.float32, name = 'b')\n",
    "    \n",
    "    def __call__(self, x):\n",
    "        \n",
    "        # 연산과정을 \n",
    "        \n",
    "        y = self.w *  x + self.b\n",
    "        \n",
    "        return y"
   ]
  },
  {
   "cell_type": "code",
   "execution_count": 153,
   "metadata": {},
   "outputs": [],
   "source": [
    "# 선형회귀 모델을 keras로 구현하기\n",
    "from tensorflow.keras import Model\n",
    "\n",
    "class LinearModelKeras(Model):\n",
    "    \n",
    "    def __init__(self):\n",
    "        \n",
    "        super().__init__()\n",
    "\n",
    "        # 가중치 W, 바이어스b 변수 텐서를 정의 \n",
    "        # 이미 우리가 x,y의 shape를 이미 알고 있기 때문에 \n",
    "\n",
    "        # 초기값을 정해야합니다. -> 단일 값 텐서를 정의하였다. \n",
    "        # 입력 텐서도 단일 값이기 때문에 \n",
    "\n",
    "        # 실제값 3으로 가까워질 텐서\n",
    "        self.w = tf.Variable(44, dtype = tf.float32, name = 'w')\n",
    "\n",
    "        # 실제값 2와 가까워질 텐서\n",
    "        self.b = tf.Variable(1, dtype = tf.float32, name = 'b')\n",
    "\n",
    "        \n",
    "    def call(self, X):\n",
    "\n",
    "        y = self.w *  x + self.b\n",
    "\n",
    "        return y"
   ]
  },
  {
   "cell_type": "code",
   "execution_count": 154,
   "metadata": {},
   "outputs": [],
   "source": [
    "tf_model = LinearModel()\n",
    "keras_model = LinearModelKeras()"
   ]
  },
  {
   "cell_type": "code",
   "execution_count": 63,
   "metadata": {},
   "outputs": [
    {
     "data": {
      "text/plain": [
       "(<tf.Variable 'b:0' shape=() dtype=float32, numpy=1.0>,\n",
       " <tf.Variable 'w:0' shape=() dtype=float32, numpy=44.0>)"
      ]
     },
     "execution_count": 63,
     "metadata": {},
     "output_type": "execute_result"
    }
   ],
   "source": [
    "# 텐서플로우로 구현한 모델의 가중치 텐서\n",
    "tf_model.trainable_variables"
   ]
  },
  {
   "cell_type": "code",
   "execution_count": 155,
   "metadata": {},
   "outputs": [
    {
     "data": {
      "text/plain": [
       "[<tf.Variable 'w:0' shape=() dtype=float32, numpy=44.0>,\n",
       " <tf.Variable 'b:0' shape=() dtype=float32, numpy=1.0>]"
      ]
     },
     "execution_count": 155,
     "metadata": {},
     "output_type": "execute_result"
    }
   ],
   "source": [
    "# 케라스로 구현한 모델의 가중치 텐서\n",
    "keras_model.trainable_variables"
   ]
  },
  {
   "cell_type": "code",
   "execution_count": 68,
   "metadata": {},
   "outputs": [
    {
     "data": {
      "text/plain": [
       "<tf.Tensor: shape=(), dtype=float32, numpy=133.0>"
      ]
     },
     "execution_count": 68,
     "metadata": {},
     "output_type": "execute_result"
    }
   ],
   "source": [
    "tf_model(3)"
   ]
  },
  {
   "cell_type": "code",
   "execution_count": 161,
   "metadata": {},
   "outputs": [],
   "source": [
    "TRUE_W = 3.0\n",
    "TRUE_b = 2.0\n",
    " \n",
    "# 학습 데이터의 크기는 1000\n",
    "TRAIN_SIZE = 1000\n",
    "\n",
    "# 정규 분포 상에서 (0, 1)사이에서 랜덤하게 값을 뽑습니다.  \n",
    "x = tf.random.normal(shape = [TRAIN_SIZE])\n",
    "\n",
    "# 기존 데이터와는 조금 차이를 주기 위한 노이즈\n",
    "noise = tf.random.normal(shape = [TRAIN_SIZE])\n",
    "\n",
    "\n",
    "y = x * TRUE_W + TRUE_b + noise"
   ]
  },
  {
   "cell_type": "code",
   "execution_count": 162,
   "metadata": {},
   "outputs": [],
   "source": [
    "# compile함수를 통해 학습루프를 정의할 수 있다.\n",
    "keras_model = LinearModelKeras()\n",
    "keras_model.compile(\n",
    "    optimizer = tf.keras.optimizers.SGD(),\n",
    "    loss = tf.keras.losses.mean_squared_error\n",
    ")"
   ]
  },
  {
   "cell_type": "code",
   "execution_count": 181,
   "metadata": {
    "collapsed": true
   },
   "outputs": [
    {
     "name": "stdout",
     "output_type": "stream",
     "text": [
      "Epoch 1/100\n",
      "1/1 [==============================] - 0s 997us/step - loss: 9.6953\n",
      "Epoch 2/100\n",
      "1/1 [==============================] - 0s 996us/step - loss: 9.6956\n",
      "Epoch 3/100\n",
      "1/1 [==============================] - 0s 0s/step - loss: 9.6993\n",
      "Epoch 4/100\n",
      "1/1 [==============================] - 0s 0s/step - loss: 9.6978\n",
      "Epoch 5/100\n",
      "1/1 [==============================] - 0s 0s/step - loss: 9.6974\n",
      "Epoch 6/100\n",
      "1/1 [==============================] - 0s 997us/step - loss: 9.7026\n",
      "Epoch 7/100\n",
      "1/1 [==============================] - 0s 997us/step - loss: 9.6982\n",
      "Epoch 8/100\n",
      "1/1 [==============================] - 0s 0s/step - loss: 9.6966\n",
      "Epoch 9/100\n",
      "1/1 [==============================] - 0s 0s/step - loss: 9.7028\n",
      "Epoch 10/100\n",
      "1/1 [==============================] - 0s 998us/step - loss: 9.6989\n",
      "Epoch 11/100\n",
      "1/1 [==============================] - 0s 0s/step - loss: 9.6967\n",
      "Epoch 12/100\n",
      "1/1 [==============================] - 0s 998us/step - loss: 9.6973\n",
      "Epoch 13/100\n",
      "1/1 [==============================] - 0s 0s/step - loss: 9.7016\n",
      "Epoch 14/100\n",
      "1/1 [==============================] - 0s 997us/step - loss: 9.6980\n",
      "Epoch 15/100\n",
      "1/1 [==============================] - 0s 0s/step - loss: 9.6981\n",
      "Epoch 16/100\n",
      "1/1 [==============================] - 0s 0s/step - loss: 9.6975\n",
      "Epoch 17/100\n",
      "1/1 [==============================] - 0s 0s/step - loss: 9.6955\n",
      "Epoch 18/100\n",
      "1/1 [==============================] - 0s 998us/step - loss: 9.7000\n",
      "Epoch 19/100\n",
      "1/1 [==============================] - 0s 0s/step - loss: 9.7001\n",
      "Epoch 20/100\n",
      "1/1 [==============================] - 0s 997us/step - loss: 9.6985\n",
      "Epoch 21/100\n",
      "1/1 [==============================] - 0s 999us/step - loss: 9.6980\n",
      "Epoch 22/100\n",
      "1/1 [==============================] - 0s 0s/step - loss: 9.6966\n",
      "Epoch 23/100\n",
      "1/1 [==============================] - 0s 0s/step - loss: 9.6977\n",
      "Epoch 24/100\n",
      "1/1 [==============================] - 0s 0s/step - loss: 9.6963\n",
      "Epoch 25/100\n",
      "1/1 [==============================] - 0s 0s/step - loss: 9.6994\n",
      "Epoch 26/100\n",
      "1/1 [==============================] - 0s 998us/step - loss: 9.7022\n",
      "Epoch 27/100\n",
      "1/1 [==============================] - 0s 0s/step - loss: 9.6980\n",
      "Epoch 28/100\n",
      "1/1 [==============================] - 0s 997us/step - loss: 9.7021\n",
      "Epoch 29/100\n",
      "1/1 [==============================] - 0s 997us/step - loss: 9.6991\n",
      "Epoch 30/100\n",
      "1/1 [==============================] - 0s 0s/step - loss: 9.6989\n",
      "Epoch 31/100\n",
      "1/1 [==============================] - 0s 997us/step - loss: 9.6984\n",
      "Epoch 32/100\n",
      "1/1 [==============================] - 0s 0s/step - loss: 9.6979\n",
      "Epoch 33/100\n",
      "1/1 [==============================] - 0s 998us/step - loss: 9.6976\n",
      "Epoch 34/100\n",
      "1/1 [==============================] - 0s 0s/step - loss: 9.6978\n",
      "Epoch 35/100\n",
      "1/1 [==============================] - 0s 998us/step - loss: 9.6978\n",
      "Epoch 36/100\n",
      "1/1 [==============================] - 0s 0s/step - loss: 9.6990\n",
      "Epoch 37/100\n",
      "1/1 [==============================] - 0s 997us/step - loss: 9.6989\n",
      "Epoch 38/100\n",
      "1/1 [==============================] - 0s 0s/step - loss: 9.7002\n",
      "Epoch 39/100\n",
      "1/1 [==============================] - 0s 996us/step - loss: 9.6994\n",
      "Epoch 40/100\n",
      "1/1 [==============================] - 0s 0s/step - loss: 9.6982\n",
      "Epoch 41/100\n",
      "1/1 [==============================] - 0s 997us/step - loss: 9.6974\n",
      "Epoch 42/100\n",
      "1/1 [==============================] - 0s 997us/step - loss: 9.6974\n",
      "Epoch 43/100\n",
      "1/1 [==============================] - 0s 997us/step - loss: 9.6981\n",
      "Epoch 44/100\n",
      "1/1 [==============================] - 0s 0s/step - loss: 9.6986\n",
      "Epoch 45/100\n",
      "1/1 [==============================] - 0s 996us/step - loss: 9.6945\n",
      "Epoch 46/100\n",
      "1/1 [==============================] - 0s 0s/step - loss: 9.6964\n",
      "Epoch 47/100\n",
      "1/1 [==============================] - 0s 0s/step - loss: 9.6996\n",
      "Epoch 48/100\n",
      "1/1 [==============================] - 0s 997us/step - loss: 9.7000\n",
      "Epoch 49/100\n",
      "1/1 [==============================] - 0s 0s/step - loss: 9.6970\n",
      "Epoch 50/100\n",
      "1/1 [==============================] - 0s 207us/step - loss: 9.6961\n",
      "Epoch 51/100\n",
      "1/1 [==============================] - 0s 996us/step - loss: 9.6998\n",
      "Epoch 52/100\n",
      "1/1 [==============================] - 0s 0s/step - loss: 9.6979\n",
      "Epoch 53/100\n",
      "1/1 [==============================] - 0s 997us/step - loss: 9.7026\n",
      "Epoch 54/100\n",
      "1/1 [==============================] - 0s 0s/step - loss: 9.6973\n",
      "Epoch 55/100\n",
      "1/1 [==============================] - 0s 0s/step - loss: 9.6948\n",
      "Epoch 56/100\n",
      "1/1 [==============================] - 0s 997us/step - loss: 9.6966\n",
      "Epoch 57/100\n",
      "1/1 [==============================] - 0s 0s/step - loss: 9.6973\n",
      "Epoch 58/100\n",
      "1/1 [==============================] - 0s 0s/step - loss: 9.7007\n",
      "Epoch 59/100\n",
      "1/1 [==============================] - 0s 0s/step - loss: 9.7011\n",
      "Epoch 60/100\n",
      "1/1 [==============================] - 0s 0s/step - loss: 9.7007\n",
      "Epoch 61/100\n",
      "1/1 [==============================] - 0s 998us/step - loss: 9.6973\n",
      "Epoch 62/100\n",
      "1/1 [==============================] - 0s 0s/step - loss: 9.6967\n",
      "Epoch 63/100\n",
      "1/1 [==============================] - 0s 997us/step - loss: 9.6977\n",
      "Epoch 64/100\n",
      "1/1 [==============================] - 0s 0s/step - loss: 9.6986\n",
      "Epoch 65/100\n",
      "1/1 [==============================] - 0s 0s/step - loss: 9.7055\n",
      "Epoch 66/100\n",
      "1/1 [==============================] - 0s 0s/step - loss: 9.6976\n",
      "Epoch 67/100\n",
      "1/1 [==============================] - 0s 997us/step - loss: 9.6986\n",
      "Epoch 68/100\n",
      "1/1 [==============================] - 0s 0s/step - loss: 9.6978\n",
      "Epoch 69/100\n",
      "1/1 [==============================] - 0s 997us/step - loss: 9.6965\n",
      "Epoch 70/100\n",
      "1/1 [==============================] - 0s 0s/step - loss: 9.6993\n",
      "Epoch 71/100\n",
      "1/1 [==============================] - 0s 0s/step - loss: 9.7015\n",
      "Epoch 72/100\n",
      "1/1 [==============================] - 0s 0s/step - loss: 9.6987\n",
      "Epoch 73/100\n",
      "1/1 [==============================] - 0s 997us/step - loss: 9.6977\n",
      "Epoch 74/100\n",
      "1/1 [==============================] - 0s 0s/step - loss: 9.6962\n",
      "Epoch 75/100\n",
      "1/1 [==============================] - 0s 997us/step - loss: 9.6980\n",
      "Epoch 76/100\n",
      "1/1 [==============================] - 0s 0s/step - loss: 9.7010\n",
      "Epoch 77/100\n",
      "1/1 [==============================] - 0s 997us/step - loss: 9.6998\n",
      "Epoch 78/100\n",
      "1/1 [==============================] - 0s 0s/step - loss: 9.6987\n",
      "Epoch 79/100\n",
      "1/1 [==============================] - 0s 0s/step - loss: 9.6981\n",
      "Epoch 80/100\n",
      "1/1 [==============================] - 0s 997us/step - loss: 9.6981\n",
      "Epoch 81/100\n",
      "1/1 [==============================] - 0s 1ms/step - loss: 9.6995\n",
      "Epoch 82/100\n",
      "1/1 [==============================] - 0s 0s/step - loss: 9.6984\n",
      "Epoch 83/100\n",
      "1/1 [==============================] - 0s 997us/step - loss: 9.6980\n",
      "Epoch 84/100\n",
      "1/1 [==============================] - 0s 998us/step - loss: 9.6981\n",
      "Epoch 85/100\n",
      "1/1 [==============================] - 0s 0s/step - loss: 9.6975\n",
      "Epoch 86/100\n",
      "1/1 [==============================] - 0s 997us/step - loss: 9.6995\n",
      "Epoch 87/100\n",
      "1/1 [==============================] - 0s 0s/step - loss: 9.6976\n",
      "Epoch 88/100\n",
      "1/1 [==============================] - 0s 0s/step - loss: 9.6969\n",
      "Epoch 89/100\n",
      "1/1 [==============================] - 0s 0s/step - loss: 9.6987\n",
      "Epoch 90/100\n",
      "1/1 [==============================] - 0s 0s/step - loss: 9.6976\n",
      "Epoch 91/100\n",
      "1/1 [==============================] - 0s 998us/step - loss: 9.6954\n",
      "Epoch 92/100\n",
      "1/1 [==============================] - 0s 0s/step - loss: 9.7021\n",
      "Epoch 93/100\n",
      "1/1 [==============================] - 0s 981us/step - loss: 9.6974\n",
      "Epoch 94/100\n",
      "1/1 [==============================] - 0s 0s/step - loss: 9.6990\n",
      "Epoch 95/100\n",
      "1/1 [==============================] - 0s 0s/step - loss: 9.7009\n",
      "Epoch 96/100\n",
      "1/1 [==============================] - 0s 998us/step - loss: 9.6987\n",
      "Epoch 97/100\n",
      "1/1 [==============================] - 0s 0s/step - loss: 9.6990\n",
      "Epoch 98/100\n",
      "1/1 [==============================] - 0s 997us/step - loss: 9.6988\n",
      "Epoch 99/100\n",
      "1/1 [==============================] - 0s 0s/step - loss: 9.6978\n",
      "Epoch 100/100\n",
      "1/1 [==============================] - 0s 0s/step - loss: 9.6983\n"
     ]
    },
    {
     "data": {
      "text/plain": [
       "<tensorflow.python.keras.callbacks.History at 0x2a902aed640>"
      ]
     },
     "execution_count": 181,
     "metadata": {},
     "output_type": "execute_result"
    }
   ],
   "source": [
    "# 학습을 시작\n",
    "keras_model.fit(x, y, epochs = 100, batch_size = 1000)"
   ]
  },
  {
   "cell_type": "code",
   "execution_count": null,
   "metadata": {},
   "outputs": [],
   "source": []
  },
  {
   "cell_type": "code",
   "execution_count": null,
   "metadata": {},
   "outputs": [],
   "source": []
  },
  {
   "cell_type": "code",
   "execution_count": null,
   "metadata": {},
   "outputs": [],
   "source": []
  },
  {
   "cell_type": "code",
   "execution_count": 79,
   "metadata": {},
   "outputs": [
    {
     "data": {
      "text/plain": [
       "[<tf.Variable 'w:0' shape=() dtype=float32, numpy=0.062219713>,\n",
       " <tf.Variable 'b:0' shape=() dtype=float32, numpy=2.0006049>]"
      ]
     },
     "execution_count": 79,
     "metadata": {},
     "output_type": "execute_result"
    }
   ],
   "source": [
    "# 모델이 올바르게 학습되었는가 \n",
    "keras_model.trainable_variables"
   ]
  },
  {
   "cell_type": "code",
   "execution_count": 83,
   "metadata": {
    "collapsed": true
   },
   "outputs": [
    {
     "data": {
      "text/plain": [
       "<matplotlib.collections.PathCollection at 0x2a97bd364c0>"
      ]
     },
     "execution_count": 83,
     "metadata": {},
     "output_type": "execute_result"
    },
    {
     "data": {
      "image/png": "[encoded data removed]",
      "text/plain": [
       "<Figure size 432x288 with 1 Axes>"
      ]
     },
     "metadata": {
      "needs_background": "light"
     },
     "output_type": "display_data"
    }
   ],
   "source": [
    "# plot을 통해 학습이 제대로 되었는지 확인한다.\n",
    "import matplotlib.pyplot as plt\n",
    "\n",
    "plt.scatter(x, y, c = 'b')\n",
    "\n",
    "plt.scatter(x, keras_model(x), c = 'r')"
   ]
  },
  {
   "cell_type": "code",
   "execution_count": 85,
   "metadata": {
    "collapsed": true
   },
   "outputs": [
    {
     "name": "stdout",
     "output_type": "stream",
     "text": [
      "Epoch 1/30\n",
      "1/1 [==============================] - 0s 1ms/step - loss: 10.3222\n",
      "Epoch 2/30\n",
      "1/1 [==============================] - 0s 0s/step - loss: 10.3352\n",
      "Epoch 3/30\n",
      "1/1 [==============================] - 0s 0s/step - loss: 10.3246\n",
      "Epoch 4/30\n",
      "1/1 [==============================] - 0s 997us/step - loss: 10.3200\n",
      "Epoch 5/30\n",
      "1/1 [==============================] - 0s 0s/step - loss: 10.3428\n",
      "Epoch 6/30\n",
      "1/1 [==============================] - 0s 0s/step - loss: 10.3200\n",
      "Epoch 7/30\n",
      "1/1 [==============================] - 0s 997us/step - loss: 10.3252\n",
      "Epoch 8/30\n",
      "1/1 [==============================] - 0s 997us/step - loss: 10.3257\n",
      "Epoch 9/30\n",
      "1/1 [==============================] - 0s 0s/step - loss: 10.3402\n",
      "Epoch 10/30\n",
      "1/1 [==============================] - 0s 997us/step - loss: 10.3221\n",
      "Epoch 11/30\n",
      "1/1 [==============================] - 0s 998us/step - loss: 10.3261\n",
      "Epoch 12/30\n",
      "1/1 [==============================] - 0s 586us/step - loss: 10.3281\n",
      "Epoch 13/30\n",
      "1/1 [==============================] - 0s 0s/step - loss: 10.3224\n",
      "Epoch 14/30\n",
      "1/1 [==============================] - 0s 998us/step - loss: 10.3218\n",
      "Epoch 15/30\n",
      "1/1 [==============================] - 0s 0s/step - loss: 10.3468\n",
      "Epoch 16/30\n",
      "1/1 [==============================] - 0s 998us/step - loss: 10.3272\n",
      "Epoch 17/30\n",
      "1/1 [==============================] - 0s 0s/step - loss: 10.3254\n",
      "Epoch 18/30\n",
      "1/1 [==============================] - 0s 998us/step - loss: 10.3349\n",
      "Epoch 19/30\n",
      "1/1 [==============================] - 0s 0s/step - loss: 10.3301\n",
      "Epoch 20/30\n",
      "1/1 [==============================] - 0s 0s/step - loss: 10.3270\n",
      "Epoch 21/30\n",
      "1/1 [==============================] - 0s 0s/step - loss: 10.3253\n",
      "Epoch 22/30\n",
      "1/1 [==============================] - 0s 997us/step - loss: 10.3315\n",
      "Epoch 23/30\n",
      "1/1 [==============================] - 0s 998us/step - loss: 10.3299\n",
      "Epoch 24/30\n",
      "1/1 [==============================] - 0s 0s/step - loss: 10.3306\n",
      "Epoch 25/30\n",
      "1/1 [==============================] - 0s 996us/step - loss: 10.3268\n",
      "Epoch 26/30\n",
      "1/1 [==============================] - 0s 0s/step - loss: 10.3293\n",
      "Epoch 27/30\n",
      "1/1 [==============================] - 0s 0s/step - loss: 10.3278\n",
      "Epoch 28/30\n",
      "1/1 [==============================] - 0s 0s/step - loss: 10.3220\n",
      "Epoch 29/30\n",
      "1/1 [==============================] - 0s 999us/step - loss: 10.3328\n",
      "Epoch 30/30\n",
      "1/1 [==============================] - 0s 0s/step - loss: 10.3269\n"
     ]
    },
    {
     "data": {
      "text/plain": [
       "<tensorflow.python.keras.callbacks.History at 0x2a97d1c3520>"
      ]
     },
     "execution_count": 85,
     "metadata": {},
     "output_type": "execute_result"
    }
   ],
   "source": [
    "# 2차 학습\n",
    "keras_model.fit(x, y, epochs = 30, batch_size = 1000)"
   ]
  },
  {
   "cell_type": "markdown",
   "metadata": {},
   "source": [
    "# MINST\n",
    "\n",
    "이미지 데이터를 다루는 학습을 위해 제공되는 가장 기초적인 데이터셋\n",
    "\n",
    "손글씨 이미지, 손글씨를 0-9 사이의 숫자로 분류할 수 있도록 라벨링된 데이터\n",
    "\n",
    "keras는 `tensorflow.keras.datasets.mnist`을 통해 해당 데이터셋을 제공합니다.\n",
    "\n",
    "손글씨 이미지를 0-9 사이의 값으로 라벨링하는 모델을 구현해보자."
   ]
  },
  {
   "cell_type": "code",
   "execution_count": 106,
   "metadata": {},
   "outputs": [],
   "source": [
    "from tensorflow.keras.datasets import mnist"
   ]
  },
  {
   "cell_type": "code",
   "execution_count": 107,
   "metadata": {},
   "outputs": [],
   "source": [
    "(x_train, y_train), (x_test, y_test) = mnist.load_data()"
   ]
  },
  {
   "cell_type": "code",
   "execution_count": 108,
   "metadata": {},
   "outputs": [
    {
     "data": {
      "text/plain": [
       "(60000, 28, 28)"
      ]
     },
     "execution_count": 108,
     "metadata": {},
     "output_type": "execute_result"
    }
   ],
   "source": [
    "# 학습 데이터는 28 * 28 크기의 손글씨 이미지, 총 60000 장이 제공됩니다.\n",
    "x_train.shape"
   ]
  },
  {
   "cell_type": "code",
   "execution_count": 110,
   "metadata": {},
   "outputs": [
    {
     "data": {
      "text/plain": [
       "<matplotlib.image.AxesImage at 0x2a97f425d90>"
      ]
     },
     "execution_count": 110,
     "metadata": {},
     "output_type": "execute_result"
    },
    {
     "data": {
      "image/png": "[encoded data removed]",
      "text/plain": [
       "<Figure size 432x288 with 1 Axes>"
      ]
     },
     "metadata": {
      "needs_background": "light"
     },
     "output_type": "display_data"
    }
   ],
   "source": [
    "plt.imshow(x_train[0])"
   ]
  },
  {
   "cell_type": "code",
   "execution_count": 112,
   "metadata": {
    "collapsed": true
   },
   "outputs": [
    {
     "data": {
      "image/png": "[encoded data removed]",
      "text/plain": [
       "<Figure size 1440x1440 with 9 Axes>"
      ]
     },
     "metadata": {
      "needs_background": "light"
     },
     "output_type": "display_data"
    }
   ],
   "source": [
    "plt.figure(figsize = (20, 20))\n",
    "\n",
    "# 1 ~ 9번째 까지의 학습 데이터를 이미지로 확인\n",
    "for i in range(9):\n",
    "    \n",
    "    ax = plt.subplot(3, 3, i + 1)\n",
    "    plt.imshow(x_train[i])\n",
    "    "
   ]
  },
  {
   "cell_type": "markdown",
   "metadata": {},
   "source": [
    "## 모델 정의\n",
    "\n",
    "지금까지 구현하였던 fully connected layer는 입력 텐서는 배열의 형태. 하지만 지금 현재 MNIST가 제공하고 있는 데이터는 28 * 28의 행렬의 형태이다. 행렬의 형태를 배열의 형태로 만들어주기 위해 Flatten이라는 과정이 필요합니다."
   ]
  },
  {
   "cell_type": "markdown",
   "metadata": {},
   "source": [
    "<img src=\"./education_images/fully_connected_layer.png\" alt=\"Drawing\" style=\"width: 600px;\"/>"
   ]
  },
  {
   "cell_type": "markdown",
   "metadata": {},
   "source": [
    "dfjkadsfjasdkfasdkfjkasdkf"
   ]
  },
  {
   "cell_type": "code",
   "execution_count": 114,
   "metadata": {},
   "outputs": [],
   "source": [
    "# reshape함수를 통해 행렬 형태 -> 배열 형태의 데이터로 변환\n",
    "\n",
    "# (60000, 28, 28)의 shape -> (60000, 784)\n",
    "# 0 - 255까지의 값을 가지는 이미지 데이터를 0-1사이의 데이터로 변환하기 위함.\n",
    "x_train = x_train.reshape(-1, 28 * 28 ).astype('float32') / 255\n",
    "x_test = x_test.reshape(-1, 28 * 28 ).astype('float32') / 255"
   ]
  },
  {
   "cell_type": "code",
   "execution_count": 115,
   "metadata": {},
   "outputs": [],
   "source": [
    "# keras를 통해 모델을 구현\n",
    "from tensorflow.keras import Model\n",
    "\n",
    "# subclassing 방법으로 모델을 구현\n",
    "class MyModel(Model):\n",
    "    \n",
    "    def __init__(self):\n",
    "        super().__init__()\n",
    "        \n",
    "        # 두개의 fully connected layer\n",
    "        self.dense1 = tf.keras.layers.Dense(64)\n",
    "        # 해당 레이어의 결과값은 0-9사이의 숫자를 예측\n",
    "        self.dense2 = tf.keras.layers.Dense(10)\n",
    "        \n",
    "    \n",
    "    def call(self, X):\n",
    "        # activation function \n",
    "        # 첫번째 레이어 결과\n",
    "        x = self.dense1(X)\n",
    "        \n",
    "        # 두 개의 fully connected layer 사이에 활성화 함수 사용\n",
    "        x = tf.nn.relu(x)\n",
    "        \n",
    "        # 두번째 레이어 결과\n",
    "        y = self.dense2(x)\n",
    "        \n",
    "        return y  "
   ]
  },
  {
   "cell_type": "code",
   "execution_count": 149,
   "metadata": {},
   "outputs": [],
   "source": [
    "# 모델의 인스턴스 생성\n",
    "\n",
    "my_model = MyModel()"
   ]
  },
  {
   "cell_type": "code",
   "execution_count": 150,
   "metadata": {},
   "outputs": [],
   "source": [
    "# compile함수를 통해 모델의 학습루프 정의\n",
    "\n",
    "my_model.compile(\n",
    "    # 가장 많이 사용하는 옵티마이저를 사용함\n",
    "    optimizer = tf.keras.optimizers.Adam(learning_rate = 0.1),\n",
    "    \n",
    "    # 현재 데이터셋이 다중 분류이기 때문에 해당 데이터셋에 맞는 손실함수 정의\n",
    "    loss = tf.keras.losses.SparseCategoricalCrossentropy(from_logits = True),\n",
    "    \n",
    "    # 학습 과정마다 확인할 변수들 -> 학습 할 때마다 정확도가 어떻게 바뀌는지 \n",
    "    metrics = ['accuracy']\n",
    ")"
   ]
  },
  {
   "cell_type": "code",
   "execution_count": 151,
   "metadata": {},
   "outputs": [
    {
     "name": "stdout",
     "output_type": "stream",
     "text": [
      "Epoch 1/30\n",
      "1875/1875 - 1s - loss: 1.3167 - accuracy: 0.5687\n",
      "Epoch 2/30\n",
      "1875/1875 - 1s - loss: 1.3146 - accuracy: 0.5594\n",
      "Epoch 3/30\n",
      "1875/1875 - 1s - loss: 1.3585 - accuracy: 0.5365\n",
      "Epoch 4/30\n",
      "1875/1875 - 1s - loss: 1.3402 - accuracy: 0.5446\n",
      "Epoch 5/30\n",
      "1875/1875 - 1s - loss: 1.3768 - accuracy: 0.5189\n",
      "Epoch 6/30\n",
      "1875/1875 - 1s - loss: 1.3600 - accuracy: 0.5317\n",
      "Epoch 7/30\n",
      "1875/1875 - 1s - loss: 1.3941 - accuracy: 0.5247\n",
      "Epoch 8/30\n",
      "1875/1875 - 1s - loss: 1.3671 - accuracy: 0.5262\n",
      "Epoch 9/30\n",
      "1875/1875 - 1s - loss: 1.3467 - accuracy: 0.5185\n",
      "Epoch 10/30\n",
      "1875/1875 - 1s - loss: 1.3391 - accuracy: 0.5321\n",
      "Epoch 11/30\n",
      "1875/1875 - 1s - loss: 1.4268 - accuracy: 0.5020\n",
      "Epoch 12/30\n",
      "1875/1875 - 1s - loss: 1.3114 - accuracy: 0.5364\n",
      "Epoch 13/30\n",
      "1875/1875 - 1s - loss: 1.3496 - accuracy: 0.5288\n",
      "Epoch 14/30\n",
      "1875/1875 - 1s - loss: 1.3325 - accuracy: 0.5205\n",
      "Epoch 15/30\n",
      "1875/1875 - 1s - loss: 1.3105 - accuracy: 0.5334\n",
      "Epoch 16/30\n",
      "1875/1875 - 1s - loss: 1.3431 - accuracy: 0.5154\n",
      "Epoch 17/30\n",
      "1875/1875 - 1s - loss: 1.3766 - accuracy: 0.5094\n",
      "Epoch 18/30\n",
      "1875/1875 - 1s - loss: 1.3212 - accuracy: 0.5347\n",
      "Epoch 19/30\n",
      "1875/1875 - 1s - loss: 1.2971 - accuracy: 0.5407\n",
      "Epoch 20/30\n",
      "1875/1875 - 1s - loss: 1.3009 - accuracy: 0.5314\n",
      "Epoch 21/30\n",
      "1875/1875 - 1s - loss: 1.3149 - accuracy: 0.5275\n",
      "Epoch 22/30\n",
      "1875/1875 - 1s - loss: 1.3310 - accuracy: 0.5313\n",
      "Epoch 23/30\n",
      "1875/1875 - 1s - loss: 1.3096 - accuracy: 0.5324\n",
      "Epoch 24/30\n",
      "1875/1875 - 1s - loss: 1.2862 - accuracy: 0.5343\n",
      "Epoch 25/30\n",
      "1875/1875 - 1s - loss: 1.2837 - accuracy: 0.5376\n",
      "Epoch 26/30\n",
      "1875/1875 - 1s - loss: 1.2598 - accuracy: 0.5367\n",
      "Epoch 27/30\n",
      "1875/1875 - 1s - loss: 1.3033 - accuracy: 0.5337\n",
      "Epoch 28/30\n",
      "1875/1875 - 1s - loss: 1.3247 - accuracy: 0.5228\n",
      "Epoch 29/30\n",
      "1875/1875 - 1s - loss: 1.2714 - accuracy: 0.5284\n",
      "Epoch 30/30\n",
      "1875/1875 - 1s - loss: 1.3017 - accuracy: 0.5321\n"
     ]
    },
    {
     "data": {
      "text/plain": [
       "<tensorflow.python.keras.callbacks.History at 0x2a9012c8880>"
      ]
     },
     "execution_count": 151,
     "metadata": {},
     "output_type": "execute_result"
    }
   ],
   "source": [
    "my_model.fit(x_train, y_train, batch_size = 32, epochs = 30, verbose = 2)"
   ]
  },
  {
   "cell_type": "code",
   "execution_count": 124,
   "metadata": {},
   "outputs": [
    {
     "name": "stdout",
     "output_type": "stream",
     "text": [
      "313/313 [==============================] - 0s 379us/step - loss: 1.7595 - accuracy: 0.5893\n"
     ]
    },
    {
     "data": {
      "text/plain": [
       "[1.759541392326355, 0.5892999768257141]"
      ]
     },
     "execution_count": 124,
     "metadata": {},
     "output_type": "execute_result"
    }
   ],
   "source": [
    "# 모델 평가하기\n",
    "my_model.evaluate(x_test, y_test, batch_size = 32)"
   ]
  },
  {
   "cell_type": "markdown",
   "metadata": {},
   "source": [
    "## 2차 학습"
   ]
  },
  {
   "cell_type": "code",
   "execution_count": 152,
   "metadata": {
    "collapsed": true
   },
   "outputs": [
    {
     "name": "stdout",
     "output_type": "stream",
     "text": [
      "Epoch 1/30\n",
      "1875/1875 - 1s - loss: 1.3164 - accuracy: 0.5343\n",
      "Epoch 2/30\n",
      "1875/1875 - 1s - loss: 1.2563 - accuracy: 0.5385\n",
      "Epoch 3/30\n",
      "1875/1875 - 1s - loss: 1.2744 - accuracy: 0.5398\n",
      "Epoch 4/30\n",
      "1875/1875 - 1s - loss: 1.2830 - accuracy: 0.5393\n",
      "Epoch 5/30\n",
      "1875/1875 - 1s - loss: 1.2612 - accuracy: 0.5464\n",
      "Epoch 6/30\n",
      "1875/1875 - 1s - loss: 1.3677 - accuracy: 0.5367\n",
      "Epoch 7/30\n",
      "1875/1875 - 1s - loss: 1.2447 - accuracy: 0.5393\n",
      "Epoch 8/30\n",
      "1875/1875 - 1s - loss: 1.2550 - accuracy: 0.5327\n",
      "Epoch 9/30\n",
      "1875/1875 - 1s - loss: 1.3089 - accuracy: 0.5387\n",
      "Epoch 10/30\n",
      "1875/1875 - 1s - loss: 1.3652 - accuracy: 0.5304\n",
      "Epoch 11/30\n",
      "1875/1875 - 1s - loss: 1.3074 - accuracy: 0.5387\n",
      "Epoch 12/30\n",
      "1875/1875 - 1s - loss: 1.2542 - accuracy: 0.5411\n",
      "Epoch 13/30\n",
      "1875/1875 - 1s - loss: 1.3069 - accuracy: 0.5355\n",
      "Epoch 14/30\n",
      "1875/1875 - 1s - loss: 1.2664 - accuracy: 0.5405\n",
      "Epoch 15/30\n",
      "1875/1875 - 1s - loss: 1.2612 - accuracy: 0.5477\n",
      "Epoch 16/30\n",
      "1875/1875 - 1s - loss: 1.2611 - accuracy: 0.5306\n",
      "Epoch 17/30\n",
      "1875/1875 - 1s - loss: 1.3043 - accuracy: 0.5385\n",
      "Epoch 18/30\n",
      "1875/1875 - 1s - loss: 1.3241 - accuracy: 0.5327\n",
      "Epoch 19/30\n",
      "1875/1875 - 1s - loss: 1.2525 - accuracy: 0.5500\n",
      "Epoch 20/30\n",
      "1875/1875 - 1s - loss: 1.2712 - accuracy: 0.5563\n",
      "Epoch 21/30\n",
      "1875/1875 - 1s - loss: 1.2729 - accuracy: 0.5478\n",
      "Epoch 22/30\n",
      "1875/1875 - 1s - loss: 1.2626 - accuracy: 0.5423\n",
      "Epoch 23/30\n",
      "1875/1875 - 1s - loss: 1.2246 - accuracy: 0.5541\n",
      "Epoch 24/30\n",
      "1875/1875 - 1s - loss: 1.3523 - accuracy: 0.5462\n",
      "Epoch 25/30\n",
      "1875/1875 - 1s - loss: 1.2558 - accuracy: 0.5475\n",
      "Epoch 26/30\n",
      "1875/1875 - 1s - loss: 1.2976 - accuracy: 0.5578\n",
      "Epoch 27/30\n",
      "1875/1875 - 1s - loss: 1.2386 - accuracy: 0.5440\n",
      "Epoch 28/30\n",
      "1875/1875 - 1s - loss: 1.2187 - accuracy: 0.5437\n",
      "Epoch 29/30\n",
      "1875/1875 - 1s - loss: 1.3297 - accuracy: 0.5379\n",
      "Epoch 30/30\n",
      "1875/1875 - 1s - loss: 1.2523 - accuracy: 0.5430\n"
     ]
    },
    {
     "data": {
      "text/plain": [
       "<tensorflow.python.keras.callbacks.History at 0x2a9025216d0>"
      ]
     },
     "execution_count": 152,
     "metadata": {},
     "output_type": "execute_result"
    }
   ],
   "source": [
    "my_model.fit(x_train, y_train, batch_size = 32, epochs = 30, verbose = 2)"
   ]
  },
  {
   "cell_type": "markdown",
   "metadata": {},
   "source": [
    "### 모델의 정확도가 더이상 올라가지 않는 경우\n",
    "\n",
    "1. 이미지 데이터의 경우, flatten하는 과정에서 이미지 데이터의 특성인 위치정보가 손실됩니다. 기존에 이미지가 가지고 있는 정보보다 훨씬 적은 정보를 모델에게 제공할 수 밖에 없다.\n",
    "\n",
    "- 해결 방법 : 위치 정보를 손실 시키지 않도록 Input을 행렬의 형태 그래도 사용, CNN 모델 사용.\n",
    "\n",
    "\n",
    "2. 데이터가 많은 정보를 제공함에도 불구하고 모델이 충분히 크지 않는 경우, 모델의 레이어 수, 모델 내의 레이어의 파라미터 수등, 모델의 크기가 작은 경우에는 충분히 학습을 수행하였음에도 정확도가 높이지지 않는다.\n",
    "\n",
    "- 해결 방법 : 모델 내의 레이어를 추가, 레이어가 가진 파라미터 수를 증가, 다른 모델과의 결합"
   ]
  },
  {
   "cell_type": "markdown",
   "metadata": {},
   "source": [
    "# 모델 저장하기\n",
    "\n",
    "학습이 진행되고 난 이후 학습된 모델을 저장하기 위한 함수가 `tf.keras.Model` 클래스에 구현되어있다."
   ]
  },
  {
   "cell_type": "code",
   "execution_count": 125,
   "metadata": {},
   "outputs": [
    {
     "name": "stdout",
     "output_type": "stream",
     "text": [
      "WARNING:tensorflow:From C:\\Users\\User\\anaconda3\\lib\\site-packages\\tensorflow\\python\\training\\tracking\\tracking.py:111: Model.state_updates (from tensorflow.python.keras.engine.training) is deprecated and will be removed in a future version.\n",
      "Instructions for updating:\n",
      "This property should not be used in TensorFlow 2.0, as updates are applied automatically.\n",
      "WARNING:tensorflow:From C:\\Users\\User\\anaconda3\\lib\\site-packages\\tensorflow\\python\\training\\tracking\\tracking.py:111: Layer.updates (from tensorflow.python.keras.engine.base_layer) is deprecated and will be removed in a future version.\n",
      "Instructions for updating:\n",
      "This property should not be used in TensorFlow 2.0, as updates are applied automatically.\n",
      "INFO:tensorflow:Assets written to: ./model/keras_model\\assets\n"
     ]
    }
   ],
   "source": [
    "# checkpoint 객체를 통해 가중치를 저장하였다.\n",
    "# 단순히 SAVE 함수를 통해 모델을 저장\n",
    "my_model.save('./model/keras_model')"
   ]
  },
  {
   "cell_type": "code",
   "execution_count": 128,
   "metadata": {},
   "outputs": [
    {
     "name": "stdout",
     "output_type": "stream",
     "text": [
      "Model: \"my_model\"\n",
      "_________________________________________________________________\n",
      "Layer (type)                 Output Shape              Param #   \n",
      "=================================================================\n",
      "dense_1 (Dense)              multiple                  50240     \n",
      "_________________________________________________________________\n",
      "dense_2 (Dense)              multiple                  650       \n",
      "=================================================================\n",
      "Total params: 50,890\n",
      "Trainable params: 50,890\n",
      "Non-trainable params: 0\n",
      "_________________________________________________________________\n"
     ]
    }
   ],
   "source": [
    "my_model.summary()"
   ]
  },
  {
   "cell_type": "code",
   "execution_count": 126,
   "metadata": {},
   "outputs": [],
   "source": [
    "# 모델 불러오기\n",
    "my_new_model = tf.keras.models.load_model('./model/keras_model')"
   ]
  },
  {
   "cell_type": "code",
   "execution_count": 127,
   "metadata": {},
   "outputs": [
    {
     "name": "stdout",
     "output_type": "stream",
     "text": [
      "Model: \"my_model\"\n",
      "_________________________________________________________________\n",
      "Layer (type)                 Output Shape              Param #   \n",
      "=================================================================\n",
      "dense_1 (Dense)              multiple                  50240     \n",
      "_________________________________________________________________\n",
      "dense_2 (Dense)              multiple                  650       \n",
      "=================================================================\n",
      "Total params: 50,890\n",
      "Trainable params: 50,890\n",
      "Non-trainable params: 0\n",
      "_________________________________________________________________\n"
     ]
    }
   ],
   "source": [
    "my_new_model.summary()"
   ]
  }
 ],
 "metadata": {
  "kernelspec": {
   "display_name": "Python 3",
   "language": "python",
   "name": "python3"
  },
  "language_info": {
   "codemirror_mode": {
    "name": "ipython",
    "version": 3
   },
   "file_extension": ".py",
   "mimetype": "text/x-python",
   "name": "python",
   "nbconvert_exporter": "python",
   "pygments_lexer": "ipython3",
   "version": "3.8.5"
  }
 },
 "nbformat": 4,
 "nbformat_minor": 5
}
