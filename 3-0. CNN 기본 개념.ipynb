{
 "cells": [
  {
   "cell_type": "code",
   "execution_count": 1,
   "metadata": {},
   "outputs": [],
   "source": [
    "import tensorflow as tf"
   ]
  },
  {
   "cell_type": "markdown",
   "metadata": {},
   "source": [
    "# CNN의 기본 개념\n",
    "\n",
    "\n",
    "## Convolution Layer\n",
    "\n",
    "이미지를 입력으로 받아 이미지 내의 '특징들을 검출'하는 역할\n",
    "\n",
    "컨볼루션 레이어의 Output을 우리는 'feature map'이라고 한다.  -> 컨볼루션의 결과 값이 이미지가 가지고 있는 특징을 의미한다고 볼 수 있다.\n",
    "\n",
    "\n",
    "### 1. kernel(filter)\n",
    "\n",
    "컨볼루션 연산을 통해 이미지 내의 특징들을 '기억'하는 가중치 텐서\n",
    "\n",
    "\n",
    "이미지들의 공통적인 특징들을 kernel이 기억하고 있다가 해당 공통적인 특징을 통해 검출된 이미지의 특징을 레이어의 출력인 feature map이라고 한다.\n",
    "\n",
    "\n",
    "kernel size 3X3, 5X5로 홀수의 크기를 가지며, 크기가 클수록 더 큰 범위, 크기의 특징들을 기억한다.\n",
    "\n",
    "\n",
    "레이어의 Output인 출력 텐서의 마지막 차원의 크기는 해당 컨볼루션 레이어가 가진 필터(커널)의 수가 된다.\n",
    "\n",
    "\n",
    "(128, 128, 3)의 크기의 이미지가 들어올 때, 컨볼루션 레이어가 가지는 필터의 수가 64라면, 레이어의 Output의 shape(~, ~, ~, 64)가 된다.\n",
    "\n",
    "\n",
    "\n",
    "### 2. stride\n",
    "\n",
    "컨볼루션 연산을 수행하는 커널이 이미지를 얼마나 자세하게 볼 것인가를 결정하는 값. 커널은 공통적인 특징을 기억을 했다가 입력으로 들어오는 이미지의 특징을 반환한다고 설명했다. 특징들을 얼마나 세세하게 검출해낼 것인가를 결정하는 것과 동일한 의미를 가진다.\n",
    "\n",
    "\n",
    "컨볼루션 연산의 결과인 feature map의 크기를 결정할 수 있다.\n",
    "\n",
    "\n",
    "### 3. padding\n",
    "\n",
    "컨볼루션 연산의 결과인 feature map의 크기를 결정하기 위해 사용되는 값\n",
    "\n",
    "\n",
    "'valid' - padding을 사용하지 않는다.\n",
    "\n",
    "\n",
    "'same' - 컨볼루션 레이어의 Input shape, Output shape를 동일하게 하기위해 패딩을 추가한다.\n",
    "\n",
    "\n",
    "## Keras를 통한 Convolution Layer 구현\n",
    "\n",
    "\n",
    "Dense() -> fully connected layer를 구현하지 않아도 사용할 수 있었다.\n",
    "\n",
    "Conv2D() -> convolution layer를 미리 구현하여 사용할 수 있도록 제공\n",
    "\n",
    "\n",
    "```python\n",
    "\n",
    "tf.keras.layers.Conv2D(\n",
    "    filters,\n",
    "    kernel_size,\n",
    "    strides=(1, 1),\n",
    "    padding=\"valid\",\n",
    "    data_format=None,\n",
    "    dilation_rate=(1, 1),\n",
    "    groups=1,\n",
    "    activation=None,\n",
    "    use_bias=True,\n",
    "    kernel_initializer=\"glorot_uniform\",\n",
    "    bias_initializer=\"zeros\",\n",
    "    kernel_regularizer=None,\n",
    "    bias_regularizer=None,\n",
    "    activity_regularizer=None,\n",
    "    kernel_constraint=None,\n",
    "    bias_constraint=None,\n",
    "    **kwargs\n",
    ")\n",
    "\n",
    "```\n",
    "\n",
    "- filters\n",
    "\n",
    "\n",
    "    커널의 갯수 -> 해당 컨볼루션 레이어의 마지막 차원의 크기 64 -> output shape (~, ~, ~, 64)\n",
    "\n",
    "\n",
    "- kernel_size\n",
    "\n",
    "\n",
    "    커널의 크기 -> 3X3, 5X5 정수값으로 사용합니다. 예를 들어 kernel_size = 3이라면  실제 커널의 사이즈 (3,3)일 것이다.\n",
    "\n",
    "\n",
    "- strides\n",
    "\n",
    "    stride의 값을 나타낸다. 기본값은 (1, 1), 정수값을 사용할 수 있다.\n",
    "    \n",
    "\n",
    "- padding\n",
    "\n",
    "\n",
    "    'valid', 'same' 두가지 옵션이 존재한다. \n",
    "\n",
    "\n",
    "- activation\n",
    "\n",
    "    컨볼루션 레이어의 최종적인 결과인 Output에 대해서 활성화 함수를 거친뒤 반환할 것인가에 대해서 결정합니다.\n",
    "\n",
    "    activation = 'relu'으로 사용시, 컨볼루션 연산을 수행한 결과값에 대해서 relu 활성화 함수를 거친 최종 값을 해당 레이어의 결과값으로 반환합니다.\n",
    "\n",
    "    옵션을 통해서 컨볼루션 레이어에 끝에 활성화 함수를 추가할 수 있으나 여러 논문에서는 활성화 함수 레이어를 따로 구현하여 사용합니다.\n",
    "\n",
    "\n",
    "\n",
    "## Activation Layer\n",
    "\n",
    "\n",
    "컨볼루션 레이어의 결과인 feature map(이미지 내의 특징)에 대해서 활성화 함수를 거치기 위해서 컨볼루션 레이어 뒤에 추가하는 레이어\n",
    "\n",
    "\n",
    "컨볼루션 - () - activation layer 의 순서는 거의 사실상 하나의 레이어라고 볼 수 있습니다.\n",
    "\n",
    "\n",
    "선형적인 convolution 연산과정을 수행하는 convolution layer에 대해서 여러 층을 쌓는 효과를 위해 해당 연산들 사이에 비 선형성을 추가하는 함수\n",
    "\n",
    "선형적인 함수들의 연속에서는 연속된 함수들이 하나의 함수로 표현될 수 있습니다. \n",
    "\n",
    "-> 여러 층을 쌓는 효과가 없어지게 된다. 하지만 딥러닝을 사용하는 이유가 선형적인 모델이 풀 수 없는 문제들을 풀어내기위해 사용하는 것이기 때문 \n",
    "\n",
    "-> 비선형성을 추가함으로써 선형 함수들이 할 수 없는 것들을 해낼 수 있게 된다.\n",
    "\n",
    "\n",
    "### relu\n",
    "\n",
    "\n",
    "### sigmoid\n",
    "\n",
    "\n",
    "## MaxPooling Layer\n",
    "\n",
    "풀링 레이어의 한 종류, 주로 사용되는 풀링 레이어\n",
    "\n",
    "컨볼루션 레이어의 결과인 이미지 내의 특징들을 '종합'하는 함수\n",
    "\n",
    "\n",
    "이미지의 입력(개, 고양이 사진)에서부터 최종적인 분류 출력값(0, 1)을 나타내기위해 필요한 차원축소를 수행\n",
    "\n",
    "\n",
    "특징들 중에서도 더 중요한 특징들로 간추리기 위한 연산과정이다.\n",
    "\n",
    "\n",
    "```python\n",
    "tf.keras.layers.MaxPooling2D(\n",
    "    pool_size=(2, 2), strides=None, padding=\"valid\", data_format=None, **kwargs\n",
    ")\n",
    "\n",
    "```"
   ]
  },
  {
   "cell_type": "code",
   "execution_count": 2,
   "metadata": {},
   "outputs": [],
   "source": [
    "from tensorflow.keras.datasets import mnist"
   ]
  },
  {
   "cell_type": "code",
   "execution_count": 3,
   "metadata": {},
   "outputs": [],
   "source": [
    "(x_train, y_train), (x_test, y_test) = mnist.load_data()"
   ]
  },
  {
   "cell_type": "markdown",
   "metadata": {},
   "source": [
    "# MNIST\n",
    "\n",
    "기존 이미지 데이터의 픽셀 값은 [0-255]의 값을 가진다. [0-1]사이의 데이터로 변환하는 작업은 수행해줘야 한다. 대신 배열형태로 변환했던 과정은 생략합니다.\n",
    "\n",
    "CNN을 구현할 때, 원래 이미지는 3차원의 행렬형태 입니다. (이미지의 너비, 이미지의 높이, 이미지의 채널 수) 3개의 차원으로 이미지를 표현하는데, MNIST의 경우에는 현재 2차원의 행렬형태입니다. (이미지의 너비, 이미지의 높이)이기 때문에 채널 수라는 하나의 차원을 추가해줘야 한다.\n",
    "\n",
    "\n",
    "- 채널이 존재하지 않는다는 것은 해당 이미지가 흑백이라는 뜻 <-> 3-4개의 채널을 가지면 해당 이미지는 컬러이다."
   ]
  },
  {
   "cell_type": "code",
   "execution_count": 4,
   "metadata": {},
   "outputs": [],
   "source": [
    "# 행렬 형태의 이미지를 배열 형태의 이미지로 변환하는 작업\n",
    "x_train = x_train.astype('float32') / 255\n",
    "x_test = x_test.astype('float32') / 255"
   ]
  },
  {
   "cell_type": "code",
   "execution_count": 5,
   "metadata": {},
   "outputs": [
    {
     "data": {
      "text/plain": [
       "(60000, 28, 28)"
      ]
     },
     "execution_count": 5,
     "metadata": {},
     "output_type": "execute_result"
    }
   ],
   "source": [
    "x_train.shape"
   ]
  },
  {
   "cell_type": "code",
   "execution_count": 6,
   "metadata": {},
   "outputs": [
    {
     "data": {
      "text/plain": [
       "(60000, 28, 28, 1)"
      ]
     },
     "execution_count": 6,
     "metadata": {},
     "output_type": "execute_result"
    }
   ],
   "source": [
    "# 튜플 간의 덧셈\n",
    "x_train.shape + (1,)"
   ]
  },
  {
   "cell_type": "code",
   "execution_count": 8,
   "metadata": {},
   "outputs": [],
   "source": [
    "# 차원을 하나 추가\n",
    "x_train = x_train.reshape(x_train.shape + (1,))\n",
    "x_test = x_test.reshape(x_test.shape + (1,))"
   ]
  },
  {
   "cell_type": "code",
   "execution_count": 9,
   "metadata": {},
   "outputs": [
    {
     "data": {
      "text/plain": [
       "(60000, 28, 28, 1)"
      ]
     },
     "execution_count": 9,
     "metadata": {},
     "output_type": "execute_result"
    }
   ],
   "source": [
    "# 이미지로 다루기 위해서 차원을 1개 추가하였다.\n",
    "x_train.shape"
   ]
  },
  {
   "cell_type": "markdown",
   "metadata": {},
   "source": [
    "## 구현 방법\n",
    "\n",
    "\n",
    "\n",
    "convolution layer -> activation layer -> max pooling layer \n",
    "\n",
    "-> convolution layer -> activation layer -> max pooling layer \n",
    "\n",
    "-> convolution layer -> activation layer -> max pooling layer\n",
    "\n",
    "-> flatten ->  fully connected layer -> 결과값"
   ]
  },
  {
   "cell_type": "code",
   "execution_count": 19,
   "metadata": {},
   "outputs": [],
   "source": [
    "# Sequential API로 CNN을 구현해보자.\n",
    "\n",
    "\n",
    "seq_model = tf.keras.models.Sequential([\n",
    "    \n",
    "    # 32는 필터의 갯수, (3,3)은 필터의 크기\n",
    "    # 데이터 하나의 shape를 의미합니다.\n",
    "    #  (input_shape - filter + (padding * 2)) / stride + 1 \n",
    "    # (28 - 3) / 1  + 1 = 26_\n",
    "    # 최종적인 레이어의 output shape (None, 26, 26, 32)\n",
    "    tf.keras.layers.Conv2D(32, (5,5), input_shape = (28, 28, 1)),\n",
    "    \n",
    "    # activation function \n",
    "    tf.keras.layers.ReLU(),\n",
    "    \n",
    "    # stride가 2이다. \n",
    "    #  (input_shape - filter + (padding * 2)) / stride + 1 \n",
    "    # (26 - 2) / 2  + 1 =  13 \n",
    "    # 최종적인 레이어의 output shape (None, 13, 13, 32)\n",
    "    tf.keras.layers.MaxPooling2D(2),\n",
    "    \n",
    "    # 이미지의 크기가 26 -> 13으로 줄어들게 되면 모델이 파악할 수 있는 정보의 크기가 절반으로 줄어든다.\n",
    "    # maxpooling을 거친 뒤에 output shape가 절반으로 줄어들기 때문에 그만큼 filter수를 2배 증가시켜줘야합니다.\n",
    "    tf.keras.layers.Conv2D(64, (5,5)),\n",
    "    \n",
    "    # activation function \n",
    "    tf.keras.layers.ReLU(),\n",
    "    \n",
    "    # stride가 2이다.\n",
    "    tf.keras.layers.MaxPooling2D(2),\n",
    "    \n",
    "    # Flatten을 통해서 fully connected layer의 입력으로 들어갈 수 있도록 배열의 형태로 변환한다.\n",
    "    tf.keras.layers.Flatten(),\n",
    "    \n",
    "    # output shape의 크기는 대부분 짝수\n",
    "    tf.keras.layers.Dense(64),\n",
    "    \n",
    "    # activation function \n",
    "    tf.keras.layers.ReLU(),\n",
    "    \n",
    "    # 최종적인 결과값이 0-9사이의 정수값으로 손글씨를 분류하는 것이기 때문에 \n",
    "    # softmax란, 각 10개의 output shape를 가지는 출력값을 확률값으로 변환하는 과정\n",
    "    tf.keras.layers.Dense(10, activation = 'softmax')\n",
    "])"
   ]
  },
  {
   "cell_type": "code",
   "execution_count": 20,
   "metadata": {},
   "outputs": [
    {
     "name": "stdout",
     "output_type": "stream",
     "text": [
      "Model: \"sequential_2\"\n",
      "_________________________________________________________________\n",
      "Layer (type)                 Output Shape              Param #   \n",
      "=================================================================\n",
      "conv2d_6 (Conv2D)            (None, 24, 24, 32)        832       \n",
      "_________________________________________________________________\n",
      "re_lu_8 (ReLU)               (None, 24, 24, 32)        0         \n",
      "_________________________________________________________________\n",
      "max_pooling2d_6 (MaxPooling2 (None, 12, 12, 32)        0         \n",
      "_________________________________________________________________\n",
      "conv2d_7 (Conv2D)            (None, 8, 8, 64)          51264     \n",
      "_________________________________________________________________\n",
      "re_lu_9 (ReLU)               (None, 8, 8, 64)          0         \n",
      "_________________________________________________________________\n",
      "max_pooling2d_7 (MaxPooling2 (None, 4, 4, 64)          0         \n",
      "_________________________________________________________________\n",
      "flatten_2 (Flatten)          (None, 1024)              0         \n",
      "_________________________________________________________________\n",
      "dense_4 (Dense)              (None, 64)                65600     \n",
      "_________________________________________________________________\n",
      "re_lu_10 (ReLU)              (None, 64)                0         \n",
      "_________________________________________________________________\n",
      "dense_5 (Dense)              (None, 10)                650       \n",
      "=================================================================\n",
      "Total params: 118,346\n",
      "Trainable params: 118,346\n",
      "Non-trainable params: 0\n",
      "_________________________________________________________________\n"
     ]
    }
   ],
   "source": [
    "seq_model.summary()"
   ]
  },
  {
   "cell_type": "code",
   "execution_count": 21,
   "metadata": {},
   "outputs": [],
   "source": [
    "# compile을 통한 학습 루프 정의\n",
    "\n",
    "seq_model.compile(\n",
    "    loss = tf.keras.losses.SparseCategoricalCrossentropy(),\n",
    "    optimizer = tf.keras.optimizers.Adam(),\n",
    "    metrics = ['accuracy']\n",
    ")"
   ]
  },
  {
   "cell_type": "code",
   "execution_count": 22,
   "metadata": {},
   "outputs": [
    {
     "name": "stdout",
     "output_type": "stream",
     "text": [
      "Epoch 1/5\n",
      "1875/1875 [==============================] - 14s 7ms/step - loss: 0.1423 - accuracy: 0.9559\n",
      "Epoch 2/5\n",
      "1875/1875 [==============================] - 14s 7ms/step - loss: 0.0437 - accuracy: 0.9865\n",
      "Epoch 3/5\n",
      "1875/1875 [==============================] - 14s 7ms/step - loss: 0.0299 - accuracy: 0.9907\n",
      "Epoch 4/5\n",
      "1875/1875 [==============================] - 14s 7ms/step - loss: 0.0229 - accuracy: 0.9928\n",
      "Epoch 5/5\n",
      "1875/1875 [==============================] - 14s 7ms/step - loss: 0.0169 - accuracy: 0.9949\n"
     ]
    },
    {
     "data": {
      "text/plain": [
       "<tensorflow.python.keras.callbacks.History at 0x2b9b3a1f340>"
      ]
     },
     "execution_count": 22,
     "metadata": {},
     "output_type": "execute_result"
    }
   ],
   "source": [
    "# \n",
    "seq_model.fit(x_train, y_train, epochs = 5)"
   ]
  },
  {
   "cell_type": "code",
   "execution_count": 18,
   "metadata": {},
   "outputs": [
    {
     "name": "stdout",
     "output_type": "stream",
     "text": [
      "313/313 [==============================] - 1s 2ms/step - loss: 0.0421 - accuracy: 0.9879\n"
     ]
    },
    {
     "data": {
      "text/plain": [
       "[0.04214546084403992, 0.9879000186920166]"
      ]
     },
     "execution_count": 18,
     "metadata": {},
     "output_type": "execute_result"
    }
   ],
   "source": [
    "seq_model.evaluate(x_test, y_test)"
   ]
  },
  {
   "cell_type": "markdown",
   "metadata": {},
   "source": [
    "# 5일차 정리\n",
    "\n",
    "\n",
    "## 모델의 가중치 저장\n",
    "\n",
    "`save_weights`\n",
    "\n",
    "`load_weights`\n",
    "\n",
    "## 모델 전체를 저장\n",
    "\n",
    "`save`\n",
    "\n",
    "`load_model`\n",
    "\n",
    "\n",
    "## CNN을 구현\n",
    "\n",
    "convolution layer - activation layer - maxpooling layer의 레이어 구조의 연속\n"
   ]
  },
  {
   "cell_type": "code",
   "execution_count": 1,
   "metadata": {},
   "outputs": [],
   "source": [
    "import tensorflow as tf"
   ]
  },
  {
   "cell_type": "code",
   "execution_count": 2,
   "metadata": {},
   "outputs": [],
   "source": [
    "from tensorflow.keras.datasets import mnist"
   ]
  },
  {
   "cell_type": "code",
   "execution_count": 3,
   "metadata": {},
   "outputs": [],
   "source": [
    "(x_train, y_train), (x_test, y_test) = mnist.load_data()"
   ]
  },
  {
   "cell_type": "code",
   "execution_count": 4,
   "metadata": {},
   "outputs": [],
   "source": [
    "# 행렬형태의 이미지 데이터 -> 배열의 형태로 반환하는 작업 (X)\n",
    "# 0-255 -> 0-1사이의 값으로 변경하는 작업\n",
    "\n",
    "x_train = x_train.astype('float32') / 255\n",
    "x_test = x_test.astype('float32') / 255"
   ]
  },
  {
   "cell_type": "code",
   "execution_count": 5,
   "metadata": {},
   "outputs": [
    {
     "data": {
      "text/plain": [
       "(60000, 28, 28)"
      ]
     },
     "execution_count": 5,
     "metadata": {},
     "output_type": "execute_result"
    }
   ],
   "source": [
    "x_train.shape"
   ]
  },
  {
   "cell_type": "code",
   "execution_count": 6,
   "metadata": {
    "collapsed": true
   },
   "outputs": [
    {
     "data": {
      "text/plain": [
       "array([0.        , 0.00392157, 0.00784314, 0.01176471, 0.01568628,\n",
       "       0.01960784, 0.02352941, 0.02745098, 0.03137255, 0.03529412,\n",
       "       0.03921569, 0.04313726, 0.04705882, 0.05098039, 0.05490196,\n",
       "       0.05882353, 0.0627451 , 0.06666667, 0.07058824, 0.07450981,\n",
       "       0.07843138, 0.08235294, 0.08627451, 0.09019608, 0.09411765,\n",
       "       0.09803922, 0.10196079, 0.10588235, 0.10980392, 0.11372549,\n",
       "       0.11764706, 0.12156863, 0.1254902 , 0.12941177, 0.13333334,\n",
       "       0.13725491, 0.14117648, 0.14509805, 0.14901961, 0.15294118,\n",
       "       0.15686275, 0.16078432, 0.16470589, 0.16862746, 0.17254902,\n",
       "       0.1764706 , 0.18039216, 0.18431373, 0.1882353 , 0.19215687,\n",
       "       0.19607843, 0.2       , 0.20392157, 0.20784314, 0.21176471,\n",
       "       0.21568628, 0.21960784, 0.22352941, 0.22745098, 0.23137255,\n",
       "       0.23529412, 0.23921569, 0.24313726, 0.24705882, 0.2509804 ,\n",
       "       0.25490198, 0.25882354, 0.2627451 , 0.26666668, 0.27058825,\n",
       "       0.27450982, 0.2784314 , 0.28235295, 0.28627452, 0.2901961 ,\n",
       "       0.29411766, 0.29803923, 0.3019608 , 0.30588236, 0.30980393,\n",
       "       0.3137255 , 0.31764707, 0.32156864, 0.3254902 , 0.32941177,\n",
       "       0.33333334, 0.3372549 , 0.34117648, 0.34509805, 0.34901962,\n",
       "       0.3529412 , 0.35686275, 0.36078432, 0.3647059 , 0.36862746,\n",
       "       0.37254903, 0.3764706 , 0.38039216, 0.38431373, 0.3882353 ,\n",
       "       0.39215687, 0.39607844, 0.4       , 0.40392157, 0.40784314,\n",
       "       0.4117647 , 0.41568628, 0.41960785, 0.42352942, 0.42745098,\n",
       "       0.43137255, 0.43529412, 0.4392157 , 0.44313726, 0.44705883,\n",
       "       0.4509804 , 0.45490196, 0.45882353, 0.4627451 , 0.46666667,\n",
       "       0.47058824, 0.4745098 , 0.47843137, 0.48235294, 0.4862745 ,\n",
       "       0.49019608, 0.49411765, 0.49803922, 0.5019608 , 0.5058824 ,\n",
       "       0.50980395, 0.5137255 , 0.5176471 , 0.52156866, 0.5254902 ,\n",
       "       0.5294118 , 0.53333336, 0.5372549 , 0.5411765 , 0.54509807,\n",
       "       0.54901963, 0.5529412 , 0.5568628 , 0.56078434, 0.5647059 ,\n",
       "       0.5686275 , 0.57254905, 0.5764706 , 0.5803922 , 0.58431375,\n",
       "       0.5882353 , 0.5921569 , 0.59607846, 0.6       , 0.6039216 ,\n",
       "       0.60784316, 0.6117647 , 0.6156863 , 0.61960787, 0.62352943,\n",
       "       0.627451  , 0.6313726 , 0.63529414, 0.6392157 , 0.6431373 ,\n",
       "       0.64705884, 0.6509804 , 0.654902  , 0.65882355, 0.6627451 ,\n",
       "       0.6666667 , 0.67058825, 0.6745098 , 0.6784314 , 0.68235296,\n",
       "       0.6862745 , 0.6901961 , 0.69411767, 0.69803923, 0.7019608 ,\n",
       "       0.7058824 , 0.70980394, 0.7137255 , 0.7176471 , 0.72156864,\n",
       "       0.7254902 , 0.7294118 , 0.73333335, 0.7372549 , 0.7411765 ,\n",
       "       0.74509805, 0.7490196 , 0.7529412 , 0.75686276, 0.7607843 ,\n",
       "       0.7647059 , 0.76862746, 0.77254903, 0.7764706 , 0.78039217,\n",
       "       0.78431374, 0.7882353 , 0.7921569 , 0.79607844, 0.8       ,\n",
       "       0.8039216 , 0.80784315, 0.8117647 , 0.8156863 , 0.81960785,\n",
       "       0.8235294 , 0.827451  , 0.83137256, 0.8352941 , 0.8392157 ,\n",
       "       0.84313726, 0.84705883, 0.8509804 , 0.85490197, 0.85882354,\n",
       "       0.8627451 , 0.8666667 , 0.87058824, 0.8745098 , 0.8784314 ,\n",
       "       0.88235295, 0.8862745 , 0.8901961 , 0.89411765, 0.8980392 ,\n",
       "       0.9019608 , 0.90588236, 0.9098039 , 0.9137255 , 0.91764706,\n",
       "       0.92156863, 0.9254902 , 0.92941177, 0.93333334, 0.9372549 ,\n",
       "       0.9411765 , 0.94509804, 0.9490196 , 0.9529412 , 0.95686275,\n",
       "       0.9607843 , 0.9647059 , 0.96862745, 0.972549  , 0.9764706 ,\n",
       "       0.98039216, 0.9843137 , 0.9882353 , 0.99215686, 0.99607843,\n",
       "       1.        ], dtype=float32)"
      ]
     },
     "execution_count": 6,
     "metadata": {},
     "output_type": "execute_result"
    }
   ],
   "source": [
    "import numpy as np\n",
    "\n",
    "np.unique(x_train)"
   ]
  },
  {
   "cell_type": "code",
   "execution_count": 7,
   "metadata": {},
   "outputs": [],
   "source": [
    "# CNN 이미지로 사용하기 위해서 차원 1개 추가 (채널 차원)\n",
    "\n",
    "x_train = x_train.reshape(x_train.shape + (1, ))\n",
    "x_test = x_test.reshape(x_test.shape + (1, ))"
   ]
  },
  {
   "cell_type": "code",
   "execution_count": 8,
   "metadata": {},
   "outputs": [
    {
     "data": {
      "text/plain": [
       "(60000, 28, 28, 1)"
      ]
     },
     "execution_count": 8,
     "metadata": {},
     "output_type": "execute_result"
    }
   ],
   "source": [
    "x_train.shape"
   ]
  },
  {
   "cell_type": "code",
   "execution_count": 10,
   "metadata": {},
   "outputs": [],
   "source": [
    "# Sequential API를 통해 구현한 간단한 CNN 모델\n",
    "seq_model = tf.keras.models.Sequential([\n",
    "    \n",
    "    # 32는 필터의 갯수, (3,3)은 필터의 크기\n",
    "    # 데이터 하나의 shape를 의미합니다.\n",
    "    #  (input_shape - filter + (padding * 2)) / stride + 1 \n",
    "    # (28 - 3) / 1  + 1 = 26_\n",
    "    # 최종적인 레이어의 output shape (None, 26, 26, 32)\n",
    "    tf.keras.layers.Conv2D(32, (5,5), input_shape = (28, 28, 1)),\n",
    "    \n",
    "    # activation function \n",
    "    tf.keras.layers.ReLU(),\n",
    "    \n",
    "    # stride가 2이다. \n",
    "    #  (input_shape - filter + (padding * 2)) / stride + 1 \n",
    "    # (26 - 2) / 2  + 1 =  13 \n",
    "    # 최종적인 레이어의 output shape (None, 13, 13, 32)\n",
    "    tf.keras.layers.MaxPooling2D(2),\n",
    "    \n",
    "    # 이미지의 크기가 26 -> 13으로 줄어들게 되면 모델이 파악할 수 있는 정보의 크기가 절반으로 줄어든다.\n",
    "    # maxpooling을 거친 뒤에 output shape가 절반으로 줄어들기 때문에 그만큼 filter수를 2배 증가시켜줘야합니다.\n",
    "    tf.keras.layers.Conv2D(64, (5,5)),\n",
    "    \n",
    "    # activation function \n",
    "    tf.keras.layers.ReLU(),\n",
    "    \n",
    "    # stride가 2이다.\n",
    "    tf.keras.layers.MaxPooling2D(2),\n",
    "    \n",
    "    # Flatten을 통해서 fully connected layer의 입력으로 들어갈 수 있도록 배열의 형태로 변환한다.\n",
    "    tf.keras.layers.Flatten(),\n",
    "    \n",
    "    # output shape의 크기는 대부분 짝수\n",
    "    tf.keras.layers.Dense(64),\n",
    "    \n",
    "    # activation function \n",
    "    tf.keras.layers.ReLU(),\n",
    "    \n",
    "    # 최종적인 결과값이 0-9사이의 정수값으로 손글씨를 분류하는 것이기 때문에 \n",
    "    # softmax란, 각 10개의 output shape를 가지는 출력값을 확률값으로 변환하는 과정\n",
    "    tf.keras.layers.Dense(10, activation = 'softmax')\n",
    "])"
   ]
  },
  {
   "cell_type": "code",
   "execution_count": 11,
   "metadata": {},
   "outputs": [],
   "source": [
    "# compile을 통한 학습 루프 정의\n",
    "seq_model.compile(\n",
    "    loss = tf.keras.losses.SparseCategoricalCrossentropy(),\n",
    "    optimizer = tf.keras.optimizers.Adam(),\n",
    "    metrics = ['accuracy']\n",
    ")"
   ]
  },
  {
   "cell_type": "code",
   "execution_count": 12,
   "metadata": {
    "collapsed": true
   },
   "outputs": [
    {
     "name": "stdout",
     "output_type": "stream",
     "text": [
      "Epoch 1/5\n",
      "1875/1875 [==============================] - 14s 7ms/step - loss: 0.1360 - accuracy: 0.9575\n",
      "Epoch 2/5\n",
      "1875/1875 [==============================] - 14s 7ms/step - loss: 0.0432 - accuracy: 0.9867\n",
      "Epoch 3/5\n",
      "1875/1875 [==============================] - 14s 7ms/step - loss: 0.0300 - accuracy: 0.9906\n",
      "Epoch 4/5\n",
      "1875/1875 [==============================] - 14s 7ms/step - loss: 0.0222 - accuracy: 0.9932\n",
      "Epoch 5/5\n",
      "1875/1875 [==============================] - 14s 7ms/step - loss: 0.0181 - accuracy: 0.9939\n"
     ]
    },
    {
     "data": {
      "text/plain": [
       "<tensorflow.python.keras.callbacks.History at 0x16c56242580>"
      ]
     },
     "execution_count": 12,
     "metadata": {},
     "output_type": "execute_result"
    }
   ],
   "source": [
    "# 학습 진행\n",
    "seq_model.fit(x_train, y_train, epochs = 5)"
   ]
  },
  {
   "cell_type": "code",
   "execution_count": 15,
   "metadata": {},
   "outputs": [
    {
     "name": "stdout",
     "output_type": "stream",
     "text": [
      "Model: \"sequential\"\n",
      "_________________________________________________________________\n",
      "Layer (type)                 Output Shape              Param #   \n",
      "=================================================================\n",
      "conv2d (Conv2D)              (None, 24, 24, 32)        832       \n",
      "_________________________________________________________________\n",
      "re_lu (ReLU)                 (None, 24, 24, 32)        0         \n",
      "_________________________________________________________________\n",
      "max_pooling2d (MaxPooling2D) (None, 12, 12, 32)        0         \n",
      "_________________________________________________________________\n",
      "conv2d_1 (Conv2D)            (None, 8, 8, 64)          51264     \n",
      "_________________________________________________________________\n",
      "re_lu_1 (ReLU)               (None, 8, 8, 64)          0         \n",
      "_________________________________________________________________\n",
      "max_pooling2d_1 (MaxPooling2 (None, 4, 4, 64)          0         \n",
      "_________________________________________________________________\n",
      "flatten (Flatten)            (None, 1024)              0         \n",
      "_________________________________________________________________\n",
      "dense (Dense)                (None, 64)                65600     \n",
      "_________________________________________________________________\n",
      "re_lu_2 (ReLU)               (None, 64)                0         \n",
      "_________________________________________________________________\n",
      "dense_1 (Dense)              (None, 10)                650       \n",
      "=================================================================\n",
      "Total params: 118,346\n",
      "Trainable params: 118,346\n",
      "Non-trainable params: 0\n",
      "_________________________________________________________________\n"
     ]
    }
   ],
   "source": [
    "seq_model.summary()"
   ]
  },
  {
   "cell_type": "code",
   "execution_count": null,
   "metadata": {},
   "outputs": [],
   "source": []
  },
  {
   "cell_type": "markdown",
   "metadata": {},
   "source": [
    "# Sequential -> Functional"
   ]
  },
  {
   "cell_type": "code",
   "execution_count": 13,
   "metadata": {},
   "outputs": [],
   "source": [
    "# functional API로 구현\n",
    "\n",
    "inputs = tf.keras.layers.Input((28, 28, 1))\n",
    "\n",
    "x = tf.keras.layers.Conv2D(32, (5,5))(inputs)\n",
    "\n",
    "x = tf.keras.layers.ReLU()(x)\n",
    "\n",
    "x = tf.keras.layers.MaxPooling2D(2)(x)\n",
    "\n",
    "x = tf.keras.layers.Conv2D(64, (5,5))(x)\n",
    "\n",
    "x = tf.keras.layers.ReLU()(x)\n",
    "\n",
    "x = tf.keras.layers.MaxPooling2D(2)(x)\n",
    "\n",
    "x = tf.keras.layers.Flatten()(x)\n",
    "\n",
    "x = tf.keras.layers.Dense(64)(x)\n",
    "\n",
    "x = tf.keras.layers.ReLU()(x)\n",
    "\n",
    "y = tf.keras.layers.Dense(10, activation = 'softmax')(x)\n",
    "\n",
    "\n",
    "func_model = tf.keras.Model(inputs = inputs, outputs= y)"
   ]
  },
  {
   "cell_type": "code",
   "execution_count": 14,
   "metadata": {},
   "outputs": [
    {
     "name": "stdout",
     "output_type": "stream",
     "text": [
      "Model: \"functional_1\"\n",
      "_________________________________________________________________\n",
      "Layer (type)                 Output Shape              Param #   \n",
      "=================================================================\n",
      "input_1 (InputLayer)         [(None, 28, 28, 1)]       0         \n",
      "_________________________________________________________________\n",
      "conv2d_2 (Conv2D)            (None, 24, 24, 32)        832       \n",
      "_________________________________________________________________\n",
      "re_lu_3 (ReLU)               (None, 24, 24, 32)        0         \n",
      "_________________________________________________________________\n",
      "max_pooling2d_2 (MaxPooling2 (None, 12, 12, 32)        0         \n",
      "_________________________________________________________________\n",
      "conv2d_3 (Conv2D)            (None, 8, 8, 64)          51264     \n",
      "_________________________________________________________________\n",
      "re_lu_4 (ReLU)               (None, 8, 8, 64)          0         \n",
      "_________________________________________________________________\n",
      "max_pooling2d_3 (MaxPooling2 (None, 4, 4, 64)          0         \n",
      "_________________________________________________________________\n",
      "flatten_1 (Flatten)          (None, 1024)              0         \n",
      "_________________________________________________________________\n",
      "dense_2 (Dense)              (None, 64)                65600     \n",
      "_________________________________________________________________\n",
      "re_lu_5 (ReLU)               (None, 64)                0         \n",
      "_________________________________________________________________\n",
      "dense_3 (Dense)              (None, 10)                650       \n",
      "=================================================================\n",
      "Total params: 118,346\n",
      "Trainable params: 118,346\n",
      "Non-trainable params: 0\n",
      "_________________________________________________________________\n"
     ]
    }
   ],
   "source": [
    "func_model.summary()"
   ]
  },
  {
   "cell_type": "markdown",
   "metadata": {},
   "source": [
    "## CNN 구조의 간단한 구현\n",
    "\n",
    "CNN은 convolution - activaion - max pooling 레이어를 하나의 큰 레이어로 본다면 이 큰 레이어를 여러개 쌓은 모델로 볼 수 있습니다.\n",
    "\n",
    "convolution - activaion - max pooling 레이어를 subclassing방법으로 하나의 레이어로 구현해두면, 모델을 정의할 때 좀 더 간단해질 수 있습니다.\n",
    "\n",
    "- max pooling 까지 거친 output shape는 높이와 너비 모두 절반으로 줄어든다. (32, 32) -> (16, 16)\n",
    "\n",
    "- 다음 convolution - activaion - max pooling 레이어는 filter의 수가 2배가 되어야 한다. 이를 통해 각 레이어의 정보(연산의 복잡도)를 유지한다. \n",
    "\n"
   ]
  },
  {
   "cell_type": "code",
   "execution_count": 16,
   "metadata": {},
   "outputs": [],
   "source": [
    "from tensorflow.keras.layers import Layer, Conv2D, ReLU, MaxPooling2D\n",
    "\n",
    "\n",
    "class CNN_Block(Layer):\n",
    "    \n",
    "    def __init__(self, filters, kernel_size):\n",
    "        \n",
    "        super().__init__()\n",
    "        \n",
    "        #(32, 32, 3) -> (높이, 너비, 필터의 갯수) \n",
    "        self.conv = Conv2D(\n",
    "            filters, \n",
    "            kernel_size\n",
    "        )\n",
    "        # activation\n",
    "        self.relu = ReLU()\n",
    "        \n",
    "        # max pooling\n",
    "        self.pool = MaxPooling2D(2)\n",
    "        \n",
    "        \n",
    "    def call(self, X):\n",
    "        x = self.conv(X)\n",
    "        x = self.relu(x)\n",
    "        y = self.pool(x)\n",
    "        return y "
   ]
  },
  {
   "cell_type": "code",
   "execution_count": 17,
   "metadata": {},
   "outputs": [],
   "source": [
    "# Sequential API\n",
    "seq_block_model = tf.keras.models.Sequential([\n",
    "    CNN_Block(32, (5,5)),\n",
    "    CNN_Block(64, (5,5)),    \n",
    "    tf.keras.layers.Flatten(),\n",
    "    tf.keras.layers.Dense(64),\n",
    "    tf.keras.layers.ReLU(),\n",
    "    tf.keras.layers.Dense(10, activation = 'softmax')\n",
    "])"
   ]
  },
  {
   "cell_type": "code",
   "execution_count": 18,
   "metadata": {
    "collapsed": true
   },
   "outputs": [
    {
     "ename": "ValueError",
     "evalue": "Weights for model sequential_1 have not yet been created. Weights are created when the Model is first called on inputs or `build()` is called with an `input_shape`.",
     "output_type": "error",
     "traceback": [
      "\u001b[1;31m---------------------------------------------------------------------------\u001b[0m",
      "\u001b[1;31mValueError\u001b[0m                                Traceback (most recent call last)",
      "\u001b[1;32m<ipython-input-18-843d37ec5d65>\u001b[0m in \u001b[0;36m<module>\u001b[1;34m\u001b[0m\n\u001b[1;32m----> 1\u001b[1;33m \u001b[0mseq_block_model\u001b[0m\u001b[1;33m.\u001b[0m\u001b[0mtrainable_variables\u001b[0m\u001b[1;33m\u001b[0m\u001b[1;33m\u001b[0m\u001b[0m\n\u001b[0m",
      "\u001b[1;32m~\\anaconda3\\lib\\site-packages\\tensorflow\\python\\keras\\engine\\base_layer.py\u001b[0m in \u001b[0;36mtrainable_variables\u001b[1;34m(self)\u001b[0m\n\u001b[0;32m   2248\u001b[0m   \u001b[1;33m@\u001b[0m\u001b[0mdoc_controls\u001b[0m\u001b[1;33m.\u001b[0m\u001b[0mdo_not_generate_docs\u001b[0m\u001b[1;33m\u001b[0m\u001b[1;33m\u001b[0m\u001b[0m\n\u001b[0;32m   2249\u001b[0m   \u001b[1;32mdef\u001b[0m \u001b[0mtrainable_variables\u001b[0m\u001b[1;33m(\u001b[0m\u001b[0mself\u001b[0m\u001b[1;33m)\u001b[0m\u001b[1;33m:\u001b[0m\u001b[1;33m\u001b[0m\u001b[1;33m\u001b[0m\u001b[0m\n\u001b[1;32m-> 2250\u001b[1;33m     \u001b[1;32mreturn\u001b[0m \u001b[0mself\u001b[0m\u001b[1;33m.\u001b[0m\u001b[0mtrainable_weights\u001b[0m\u001b[1;33m\u001b[0m\u001b[1;33m\u001b[0m\u001b[0m\n\u001b[0m\u001b[0;32m   2251\u001b[0m \u001b[1;33m\u001b[0m\u001b[0m\n\u001b[0;32m   2252\u001b[0m   \u001b[1;33m@\u001b[0m\u001b[0mproperty\u001b[0m\u001b[1;33m\u001b[0m\u001b[1;33m\u001b[0m\u001b[0m\n",
      "\u001b[1;32m~\\anaconda3\\lib\\site-packages\\tensorflow\\python\\keras\\engine\\training.py\u001b[0m in \u001b[0;36mtrainable_weights\u001b[1;34m(self)\u001b[0m\n\u001b[0;32m   1890\u001b[0m   \u001b[1;33m@\u001b[0m\u001b[0mproperty\u001b[0m\u001b[1;33m\u001b[0m\u001b[1;33m\u001b[0m\u001b[0m\n\u001b[0;32m   1891\u001b[0m   \u001b[1;32mdef\u001b[0m \u001b[0mtrainable_weights\u001b[0m\u001b[1;33m(\u001b[0m\u001b[0mself\u001b[0m\u001b[1;33m)\u001b[0m\u001b[1;33m:\u001b[0m\u001b[1;33m\u001b[0m\u001b[1;33m\u001b[0m\u001b[0m\n\u001b[1;32m-> 1892\u001b[1;33m     \u001b[0mself\u001b[0m\u001b[1;33m.\u001b[0m\u001b[0m_assert_weights_created\u001b[0m\u001b[1;33m(\u001b[0m\u001b[1;33m)\u001b[0m\u001b[1;33m\u001b[0m\u001b[1;33m\u001b[0m\u001b[0m\n\u001b[0m\u001b[0;32m   1893\u001b[0m     return self._dedup_weights(\n\u001b[0;32m   1894\u001b[0m         trackable_layer_utils.gather_trainable_weights(\n",
      "\u001b[1;32m~\\anaconda3\\lib\\site-packages\\tensorflow\\python\\keras\\engine\\sequential.py\u001b[0m in \u001b[0;36m_assert_weights_created\u001b[1;34m(self)\u001b[0m\n\u001b[0;32m    513\u001b[0m     \u001b[1;31m# When the graph has not been initialized, use the Model's implementation to\u001b[0m\u001b[1;33m\u001b[0m\u001b[1;33m\u001b[0m\u001b[1;33m\u001b[0m\u001b[0m\n\u001b[0;32m    514\u001b[0m     \u001b[1;31m# to check if the weights has been created.\u001b[0m\u001b[1;33m\u001b[0m\u001b[1;33m\u001b[0m\u001b[1;33m\u001b[0m\u001b[0m\n\u001b[1;32m--> 515\u001b[1;33m     \u001b[0msuper\u001b[0m\u001b[1;33m(\u001b[0m\u001b[0mfunctional\u001b[0m\u001b[1;33m.\u001b[0m\u001b[0mFunctional\u001b[0m\u001b[1;33m,\u001b[0m \u001b[0mself\u001b[0m\u001b[1;33m)\u001b[0m\u001b[1;33m.\u001b[0m\u001b[0m_assert_weights_created\u001b[0m\u001b[1;33m(\u001b[0m\u001b[1;33m)\u001b[0m  \u001b[1;31m# pylint: disable=bad-super-call\u001b[0m\u001b[1;33m\u001b[0m\u001b[1;33m\u001b[0m\u001b[0m\n\u001b[0m\u001b[0;32m    516\u001b[0m \u001b[1;33m\u001b[0m\u001b[0m\n\u001b[0;32m    517\u001b[0m \u001b[1;33m\u001b[0m\u001b[0m\n",
      "\u001b[1;32m~\\anaconda3\\lib\\site-packages\\tensorflow\\python\\keras\\engine\\training.py\u001b[0m in \u001b[0;36m_assert_weights_created\u001b[1;34m(self)\u001b[0m\n\u001b[0;32m   2446\u001b[0m       \u001b[1;31m# been invoked yet, this will cover both sequential and subclass model.\u001b[0m\u001b[1;33m\u001b[0m\u001b[1;33m\u001b[0m\u001b[1;33m\u001b[0m\u001b[0m\n\u001b[0;32m   2447\u001b[0m       \u001b[1;31m# Also make sure to exclude Model class itself which has build() defined.\u001b[0m\u001b[1;33m\u001b[0m\u001b[1;33m\u001b[0m\u001b[1;33m\u001b[0m\u001b[0m\n\u001b[1;32m-> 2448\u001b[1;33m       raise ValueError('Weights for model %s have not yet been created. '\n\u001b[0m\u001b[0;32m   2449\u001b[0m                        \u001b[1;34m'Weights are created when the Model is first called on '\u001b[0m\u001b[1;33m\u001b[0m\u001b[1;33m\u001b[0m\u001b[0m\n\u001b[0;32m   2450\u001b[0m                        \u001b[1;34m'inputs or `build()` is called with an `input_shape`.'\u001b[0m \u001b[1;33m%\u001b[0m\u001b[1;33m\u001b[0m\u001b[1;33m\u001b[0m\u001b[0m\n",
      "\u001b[1;31mValueError\u001b[0m: Weights for model sequential_1 have not yet been created. Weights are created when the Model is first called on inputs or `build()` is called with an `input_shape`."
     ]
    }
   ],
   "source": [
    "seq_block_model.trainable_variables"
   ]
  },
  {
   "cell_type": "markdown",
   "metadata": {},
   "source": [
    "## build()\n",
    "\n",
    "sequential API를 통해 모델을 구현하는 경우, build(), fit()의 과정을 수행하지 않은경우, 내부의 가중치 텐서들이 생성 및 초기화되지 않았다.\n",
    "\n",
    "최초 Input shape에 맞춰서 가중치 텐서들이 초기화가 가능 -> input shape를 전달하는 함수 buid(), fit() 을 수행해야만 내부 모델의 구조를 확인할 수 있다.\n",
    "\n",
    "Input shape를 build()함수를 통해 전달할 때는 단순 하나의 데이터의 shape를 전달하는 것이 아니라, 학습에 사용될 batch size의 크기 또한 전달해줘야 한다."
   ]
  },
  {
   "cell_type": "code",
   "execution_count": 19,
   "metadata": {
    "collapsed": true
   },
   "outputs": [
    {
     "ename": "ValueError",
     "evalue": "This model has not yet been built. Build the model first by calling `build()` or calling `fit()` with some data, or specify an `input_shape` argument in the first layer(s) for automatic build.",
     "output_type": "error",
     "traceback": [
      "\u001b[1;31m---------------------------------------------------------------------------\u001b[0m",
      "\u001b[1;31mValueError\u001b[0m                                Traceback (most recent call last)",
      "\u001b[1;32m<ipython-input-19-9376a50ec68a>\u001b[0m in \u001b[0;36m<module>\u001b[1;34m\u001b[0m\n\u001b[1;32m----> 1\u001b[1;33m \u001b[0mseq_block_model\u001b[0m\u001b[1;33m.\u001b[0m\u001b[0msummary\u001b[0m\u001b[1;33m(\u001b[0m\u001b[1;33m)\u001b[0m\u001b[1;33m\u001b[0m\u001b[1;33m\u001b[0m\u001b[0m\n\u001b[0m",
      "\u001b[1;32m~\\anaconda3\\lib\\site-packages\\tensorflow\\python\\keras\\engine\\training.py\u001b[0m in \u001b[0;36msummary\u001b[1;34m(self, line_length, positions, print_fn)\u001b[0m\n\u001b[0;32m   2349\u001b[0m     \"\"\"\n\u001b[0;32m   2350\u001b[0m     \u001b[1;32mif\u001b[0m \u001b[1;32mnot\u001b[0m \u001b[0mself\u001b[0m\u001b[1;33m.\u001b[0m\u001b[0mbuilt\u001b[0m\u001b[1;33m:\u001b[0m\u001b[1;33m\u001b[0m\u001b[1;33m\u001b[0m\u001b[0m\n\u001b[1;32m-> 2351\u001b[1;33m       raise ValueError('This model has not yet been built. '\n\u001b[0m\u001b[0;32m   2352\u001b[0m                        \u001b[1;34m'Build the model first by calling `build()` or calling '\u001b[0m\u001b[1;33m\u001b[0m\u001b[1;33m\u001b[0m\u001b[0m\n\u001b[0;32m   2353\u001b[0m                        \u001b[1;34m'`fit()` with some data, or specify '\u001b[0m\u001b[1;33m\u001b[0m\u001b[1;33m\u001b[0m\u001b[0m\n",
      "\u001b[1;31mValueError\u001b[0m: This model has not yet been built. Build the model first by calling `build()` or calling `fit()` with some data, or specify an `input_shape` argument in the first layer(s) for automatic build."
     ]
    }
   ],
   "source": [
    "seq_block_model.summary()"
   ]
  },
  {
   "cell_type": "code",
   "execution_count": 20,
   "metadata": {},
   "outputs": [
    {
     "data": {
      "text/plain": [
       "(60000, 28, 28, 1)"
      ]
     },
     "execution_count": 20,
     "metadata": {},
     "output_type": "execute_result"
    }
   ],
   "source": [
    "x_train.shape"
   ]
  },
  {
   "cell_type": "code",
   "execution_count": 22,
   "metadata": {},
   "outputs": [],
   "source": [
    "# build 과정을 수행하여 가중치 텐서들을 생성(초기화)\n",
    "# input shape를 전달\n",
    "seq_block_model.build((32, 28, 28, 1))"
   ]
  },
  {
   "cell_type": "code",
   "execution_count": 23,
   "metadata": {},
   "outputs": [
    {
     "name": "stdout",
     "output_type": "stream",
     "text": [
      "Model: \"sequential_1\"\n",
      "_________________________________________________________________\n",
      "Layer (type)                 Output Shape              Param #   \n",
      "=================================================================\n",
      "cnn__block (CNN_Block)       multiple                  832       \n",
      "_________________________________________________________________\n",
      "cnn__block_1 (CNN_Block)     multiple                  51264     \n",
      "_________________________________________________________________\n",
      "flatten_2 (Flatten)          multiple                  0         \n",
      "_________________________________________________________________\n",
      "dense_4 (Dense)              multiple                  65600     \n",
      "_________________________________________________________________\n",
      "re_lu_8 (ReLU)               multiple                  0         \n",
      "_________________________________________________________________\n",
      "dense_5 (Dense)              multiple                  650       \n",
      "=================================================================\n",
      "Total params: 118,346\n",
      "Trainable params: 118,346\n",
      "Non-trainable params: 0\n",
      "_________________________________________________________________\n"
     ]
    }
   ],
   "source": [
    "seq_block_model.summary()"
   ]
  },
  {
   "cell_type": "markdown",
   "metadata": {},
   "source": [
    "# Sequential -> Functional \n",
    "\n",
    "48분까지 스스로 해보세요."
   ]
  },
  {
   "cell_type": "code",
   "execution_count": null,
   "metadata": {},
   "outputs": [],
   "source": [
    "# Sequential API\n",
    "seq_block_model = tf.keras.models.Sequential([\n",
    "    CNN_Block(32, (5,5)),\n",
    "    CNN_Block(64, (5,5)),    \n",
    "    tf.keras.layers.Flatten(),\n",
    "    tf.keras.layers.Dense(64),\n",
    "    tf.keras.layers.ReLU(),\n",
    "    tf.keras.layers.Dense(10, activation = 'softmax')\n",
    "])"
   ]
  },
  {
   "cell_type": "code",
   "execution_count": 24,
   "metadata": {},
   "outputs": [],
   "source": [
    "# Functional API \n",
    "\n",
    "# 데이터 하나의 shape를 정의\n",
    "inputs = tf.keras.layers.Input((28, 28, 1))\n",
    "x = CNN_Block(32, (5,5))(inputs)\n",
    "x = CNN_Block(64, (5,5))(x)  \n",
    "x = tf.keras.layers.Flatten()(x)\n",
    "x = tf.keras.layers.Dense(64)(x)\n",
    "x = tf.keras.layers.ReLU()(x)\n",
    "y = tf.keras.layers.Dense(10, activation = 'softmax')(x)\n",
    "\n",
    "func_model = tf.keras.models.Model(inputs, outputs = y)"
   ]
  },
  {
   "cell_type": "code",
   "execution_count": 25,
   "metadata": {
    "collapsed": true
   },
   "outputs": [
    {
     "name": "stdout",
     "output_type": "stream",
     "text": [
      "Model: \"functional_3\"\n",
      "_________________________________________________________________\n",
      "Layer (type)                 Output Shape              Param #   \n",
      "=================================================================\n",
      "input_2 (InputLayer)         [(None, 28, 28, 1)]       0         \n",
      "_________________________________________________________________\n",
      "cnn__block_2 (CNN_Block)     (None, 12, 12, 32)        832       \n",
      "_________________________________________________________________\n",
      "cnn__block_3 (CNN_Block)     (None, 4, 4, 64)          51264     \n",
      "_________________________________________________________________\n",
      "flatten_3 (Flatten)          (None, 1024)              0         \n",
      "_________________________________________________________________\n",
      "dense_6 (Dense)              (None, 64)                65600     \n",
      "_________________________________________________________________\n",
      "re_lu_11 (ReLU)              (None, 64)                0         \n",
      "_________________________________________________________________\n",
      "dense_7 (Dense)              (None, 10)                650       \n",
      "=================================================================\n",
      "Total params: 118,346\n",
      "Trainable params: 118,346\n",
      "Non-trainable params: 0\n",
      "_________________________________________________________________\n"
     ]
    }
   ],
   "source": [
    "func_model.summary()"
   ]
  },
  {
   "cell_type": "code",
   "execution_count": 26,
   "metadata": {},
   "outputs": [],
   "source": [
    "# compile을 통한 학습 루프 정의\n",
    "func_model.compile(\n",
    "    loss = tf.keras.losses.SparseCategoricalCrossentropy(),\n",
    "    optimizer = tf.keras.optimizers.Adam(),\n",
    "    metrics = ['accuracy']\n",
    ")"
   ]
  },
  {
   "cell_type": "code",
   "execution_count": 27,
   "metadata": {},
   "outputs": [
    {
     "name": "stdout",
     "output_type": "stream",
     "text": [
      "Epoch 1/5\n",
      "1875/1875 [==============================] - 14s 7ms/step - loss: 0.1286 - accuracy: 0.9612\n",
      "Epoch 2/5\n",
      "1875/1875 [==============================] - 14s 7ms/step - loss: 0.0430 - accuracy: 0.9869\n",
      "Epoch 3/5\n",
      "1875/1875 [==============================] - 14s 7ms/step - loss: 0.0286 - accuracy: 0.9909\n",
      "Epoch 4/5\n",
      "1875/1875 [==============================] - 14s 7ms/step - loss: 0.0227 - accuracy: 0.9928\n",
      "Epoch 5/5\n",
      "1875/1875 [==============================] - 14s 8ms/step - loss: 0.0162 - accuracy: 0.9948\n"
     ]
    },
    {
     "data": {
      "text/plain": [
       "<tensorflow.python.keras.callbacks.History at 0x16c5b38c670>"
      ]
     },
     "execution_count": 27,
     "metadata": {},
     "output_type": "execute_result"
    }
   ],
   "source": [
    "func_model.fit(x_train, y_train, batch_size = 32, epochs = 5)"
   ]
  },
  {
   "cell_type": "code",
   "execution_count": 30,
   "metadata": {},
   "outputs": [
    {
     "name": "stdout",
     "output_type": "stream",
     "text": [
      "313/313 [==============================] - 1s 2ms/step - loss: 0.0301 - accuracy: 0.9906\n"
     ]
    },
    {
     "data": {
      "text/plain": [
       "[0.030117785558104515, 0.9905999898910522]"
      ]
     },
     "execution_count": 30,
     "metadata": {},
     "output_type": "execute_result"
    }
   ],
   "source": [
    "func_model.evaluate(x_test, y_test)"
   ]
  },
  {
   "cell_type": "markdown",
   "metadata": {},
   "source": [
    "# 실제 데이터를 사용하여 모델을 평가\n",
    "\n",
    "이미지를 다루는 라이브러리인 opencv를 사용"
   ]
  },
  {
   "cell_type": "code",
   "execution_count": 33,
   "metadata": {},
   "outputs": [
    {
     "name": "stdout",
     "output_type": "stream",
     "text": [
      "Collecting opencv-python\n",
      "  Downloading opencv_python-4.5.3.56-cp38-cp38-win_amd64.whl (34.9 MB)\n",
      "Requirement already satisfied: numpy>=1.17.3 in c:\\users\\user\\anaconda3\\lib\\site-packages (from opencv-python) (1.19.2)\n",
      "Installing collected packages: opencv-python\n",
      "Successfully installed opencv-python-4.5.3.56\n"
     ]
    }
   ],
   "source": [
    "!pip install opencv-python"
   ]
  },
  {
   "cell_type": "code",
   "execution_count": 35,
   "metadata": {},
   "outputs": [],
   "source": [
    "import cv2\n",
    "import matplotlib.pyplot as plt"
   ]
  },
  {
   "cell_type": "code",
   "execution_count": 36,
   "metadata": {},
   "outputs": [],
   "source": [
    "image = cv2.imread('./education_images/7.jpeg', cv2.IMREAD_GRAYSCALE)"
   ]
  },
  {
   "cell_type": "code",
   "execution_count": 37,
   "metadata": {},
   "outputs": [
    {
     "data": {
      "text/plain": [
       "<matplotlib.image.AxesImage at 0x16c5d4d6d00>"
      ]
     },
     "execution_count": 37,
     "metadata": {},
     "output_type": "execute_result"
    },
    {
     "data": {
      "image/png": "[encoded data removed]",
      "text/plain": [
       "<Figure size 432x288 with 1 Axes>"
      ]
     },
     "metadata": {
      "needs_background": "light"
     },
     "output_type": "display_data"
    }
   ],
   "source": [
    "plt.imshow(image)"
   ]
  },
  {
   "cell_type": "code",
   "execution_count": 38,
   "metadata": {},
   "outputs": [
    {
     "data": {
      "text/plain": [
       "(28, 28, 1)"
      ]
     },
     "execution_count": 38,
     "metadata": {},
     "output_type": "execute_result"
    }
   ],
   "source": [
    "x_train[0].shape"
   ]
  },
  {
   "cell_type": "code",
   "execution_count": 39,
   "metadata": {},
   "outputs": [
    {
     "data": {
      "text/plain": [
       "<matplotlib.image.AxesImage at 0x16c5e3a6e80>"
      ]
     },
     "execution_count": 39,
     "metadata": {},
     "output_type": "execute_result"
    },
    {
     "data": {
      "image/png": "[encoded data removed]",
      "text/plain": [
       "<Figure size 432x288 with 1 Axes>"
      ]
     },
     "metadata": {
      "needs_background": "light"
     },
     "output_type": "display_data"
    }
   ],
   "source": [
    "plt.imshow(x_train[0])"
   ]
  },
  {
   "cell_type": "code",
   "execution_count": 40,
   "metadata": {},
   "outputs": [],
   "source": [
    "# 7이라는 숫자를 제외하고는 모두 검은색으로 바꾸는 전처리\n",
    "# 100보다 큰 값을 가지는 픽셀을 255로 바꾸고, 나머지  픽셀은 0으로 바꾼다.\n",
    "_, thresh_image = cv2.threshold(image, 100, 255, cv2.THRESH_BINARY_INV)"
   ]
  },
  {
   "cell_type": "code",
   "execution_count": 41,
   "metadata": {},
   "outputs": [
    {
     "data": {
      "text/plain": [
       "<matplotlib.image.AxesImage at 0x16c5e402e20>"
      ]
     },
     "execution_count": 41,
     "metadata": {},
     "output_type": "execute_result"
    },
    {
     "data": {
      "image/png": "[encoded data removed]",
      "text/plain": [
       "<Figure size 432x288 with 1 Axes>"
      ]
     },
     "metadata": {
      "needs_background": "light"
     },
     "output_type": "display_data"
    }
   ],
   "source": [
    "plt.imshow(thresh_image)"
   ]
  },
  {
   "cell_type": "code",
   "execution_count": 48,
   "metadata": {},
   "outputs": [],
   "source": [
    "thresh_image = thresh_image[1500: 2400, 1200: 1900]"
   ]
  },
  {
   "cell_type": "code",
   "execution_count": 51,
   "metadata": {},
   "outputs": [],
   "source": [
    "thresh_image = thresh_image[120: 800, 200: 550]"
   ]
  },
  {
   "cell_type": "code",
   "execution_count": 52,
   "metadata": {},
   "outputs": [
    {
     "data": {
      "text/plain": [
       "<matplotlib.image.AxesImage at 0x16c5e5cf940>"
      ]
     },
     "execution_count": 52,
     "metadata": {},
     "output_type": "execute_result"
    },
    {
     "data": {
      "image/png": "[encoded data removed]",
      "text/plain": [
       "<Figure size 432x288 with 1 Axes>"
      ]
     },
     "metadata": {
      "needs_background": "light"
     },
     "output_type": "display_data"
    }
   ],
   "source": [
    "plt.imshow(thresh_image)"
   ]
  },
  {
   "cell_type": "code",
   "execution_count": 53,
   "metadata": {},
   "outputs": [
    {
     "data": {
      "text/plain": [
       "(680, 350)"
      ]
     },
     "execution_count": 53,
     "metadata": {},
     "output_type": "execute_result"
    }
   ],
   "source": [
    "thresh_image.shape\n",
    "#(680 , 350) -> (28, 28)"
   ]
  },
  {
   "cell_type": "code",
   "execution_count": 54,
   "metadata": {},
   "outputs": [],
   "source": [
    "# interpolation -> 이미지를 리사이징 하는 경우, 픽셀값이 어떠한 방법으로 결정될 것인가?\n",
    "resize_thresh_image = cv2.resize(thresh_image, (28, 28), interpolation = cv2.INTER_AREA)"
   ]
  },
  {
   "cell_type": "code",
   "execution_count": 55,
   "metadata": {},
   "outputs": [
    {
     "data": {
      "text/plain": [
       "<matplotlib.image.AxesImage at 0x16c5e62e220>"
      ]
     },
     "execution_count": 55,
     "metadata": {},
     "output_type": "execute_result"
    },
    {
     "data": {
      "image/png": "[encoded data removed]",
      "text/plain": [
       "<Figure size 432x288 with 1 Axes>"
      ]
     },
     "metadata": {
      "needs_background": "light"
     },
     "output_type": "display_data"
    }
   ],
   "source": [
    "plt.imshow(resize_thresh_image)"
   ]
  },
  {
   "cell_type": "code",
   "execution_count": 56,
   "metadata": {},
   "outputs": [],
   "source": [
    "resize_thresh_image[resize_thresh_image > 10] = 255"
   ]
  },
  {
   "cell_type": "code",
   "execution_count": 57,
   "metadata": {},
   "outputs": [
    {
     "data": {
      "text/plain": [
       "<matplotlib.image.AxesImage at 0x16c5e67d8e0>"
      ]
     },
     "execution_count": 57,
     "metadata": {},
     "output_type": "execute_result"
    },
    {
     "data": {
      "image/png": "[encoded data removed]",
      "text/plain": [
       "<Figure size 432x288 with 1 Axes>"
      ]
     },
     "metadata": {
      "needs_background": "light"
     },
     "output_type": "display_data"
    }
   ],
   "source": [
    "plt.imshow(resize_thresh_image)"
   ]
  },
  {
   "cell_type": "code",
   "execution_count": 59,
   "metadata": {},
   "outputs": [],
   "source": [
    "resize_thresh_image = resize_thresh_image /255"
   ]
  },
  {
   "cell_type": "code",
   "execution_count": 60,
   "metadata": {},
   "outputs": [
    {
     "data": {
      "text/plain": [
       "<matplotlib.image.AxesImage at 0x16c5e756ca0>"
      ]
     },
     "execution_count": 60,
     "metadata": {},
     "output_type": "execute_result"
    },
    {
     "data": {
      "image/png": "[encoded data removed]",
      "text/plain": [
       "<Figure size 432x288 with 1 Axes>"
      ]
     },
     "metadata": {
      "needs_background": "light"
     },
     "output_type": "display_data"
    }
   ],
   "source": [
    "plt.imshow(resize_thresh_image)"
   ]
  },
  {
   "cell_type": "code",
   "execution_count": 62,
   "metadata": {},
   "outputs": [
    {
     "data": {
      "text/plain": [
       "2"
      ]
     },
     "execution_count": 62,
     "metadata": {},
     "output_type": "execute_result"
    }
   ],
   "source": [
    "np.argmax(func_model.predict(resize_thresh_image.reshape(1, 28, 28)))"
   ]
  },
  {
   "cell_type": "markdown",
   "metadata": {},
   "source": [
    "# MNIST를 학습한 모델\n",
    "\n",
    "## 한계\n",
    "\n",
    "실제 생활, 현실에서 사용하는 데이터의 형태와 텐서플로우가 제공하는 데이터인 MNIST가 동떨어져있다. 비현실적으로 잘 정제된 데이터 셋이기 때문에 우리가 현실에서 사용하는 이미지에 적용하기에는 매우 큰 문제가 있다.\n",
    "\n",
    "MNIST를 통해 구현된 모델은 오로지 학습을 위한 모델이다."
   ]
  },
  {
   "cell_type": "markdown",
   "metadata": {},
   "source": [
    "# Fashion mnist\n",
    "\n",
    "한 패션 회사의 제품 이미지\n",
    "\n",
    "- 60000 개의 (28, 28) 크기의 이미지\n",
    "\n",
    "- 10개의 class "
   ]
  },
  {
   "cell_type": "code",
   "execution_count": 63,
   "metadata": {},
   "outputs": [],
   "source": [
    "from tensorflow.keras.datasets import fashion_mnist"
   ]
  },
  {
   "cell_type": "code",
   "execution_count": 64,
   "metadata": {},
   "outputs": [
    {
     "name": "stdout",
     "output_type": "stream",
     "text": [
      "Downloading data from https://storage.googleapis.com/tensorflow/tf-keras-datasets/train-labels-idx1-ubyte.gz\n",
      "32768/29515 [=================================] - 0s 0us/step\n",
      "Downloading data from https://storage.googleapis.com/tensorflow/tf-keras-datasets/train-images-idx3-ubyte.gz\n",
      "26427392/26421880 [==============================] - 0s 0us/step\n",
      "Downloading data from https://storage.googleapis.com/tensorflow/tf-keras-datasets/t10k-labels-idx1-ubyte.gz\n",
      "8192/5148 [===============================================] - 0s 0s/step\n",
      "Downloading data from https://storage.googleapis.com/tensorflow/tf-keras-datasets/t10k-images-idx3-ubyte.gz\n",
      "4423680/4422102 [==============================] - 0s 0us/step\n"
     ]
    }
   ],
   "source": [
    "(x_train, y_train), (x_test, y_test) = fashion_mnist.load_data()"
   ]
  },
  {
   "cell_type": "code",
   "execution_count": 65,
   "metadata": {},
   "outputs": [
    {
     "data": {
      "text/plain": [
       "(60000, 28, 28)"
      ]
     },
     "execution_count": 65,
     "metadata": {},
     "output_type": "execute_result"
    }
   ],
   "source": [
    "x_train.shape"
   ]
  },
  {
   "cell_type": "code",
   "execution_count": 66,
   "metadata": {},
   "outputs": [
    {
     "data": {
      "text/plain": [
       "<matplotlib.image.AxesImage at 0x16c5e75b340>"
      ]
     },
     "execution_count": 66,
     "metadata": {},
     "output_type": "execute_result"
    },
    {
     "data": {
      "image/png": "[encoded data removed]",
      "text/plain": [
       "<Figure size 432x288 with 1 Axes>"
      ]
     },
     "metadata": {
      "needs_background": "light"
     },
     "output_type": "display_data"
    }
   ],
   "source": [
    "plt.imshow(x_train[0])"
   ]
  },
  {
   "cell_type": "code",
   "execution_count": 67,
   "metadata": {},
   "outputs": [],
   "source": [
    "# 현재 데이터셋의 차원의 갯수가 (28, 28) 두개이기 때문에 이미지로 사용하기 위해 차원을 하나 추가\n",
    "x_train = x_train.reshape(x_train.shape + (1, ))\n",
    "x_test = x_test.reshape(x_test.shape + (1, ))"
   ]
  },
  {
   "cell_type": "code",
   "execution_count": 68,
   "metadata": {},
   "outputs": [],
   "source": [
    "# 0- 255의 값을 0-1 \n",
    "x_train = x_train.astype(\"float32\") / 255"
   ]
  },
  {
   "cell_type": "code",
   "execution_count": 69,
   "metadata": {},
   "outputs": [],
   "source": [
    "x_test = x_test.astype(\"float32\") / 255"
   ]
  },
  {
   "cell_type": "code",
   "execution_count": 72,
   "metadata": {},
   "outputs": [],
   "source": [
    "from tensorflow.keras.layers import Flatten, Dense, ReLU, Softmax"
   ]
  },
  {
   "cell_type": "code",
   "execution_count": 73,
   "metadata": {},
   "outputs": [],
   "source": [
    "# Sequential API\n",
    "middle_model = tf.keras.models.Sequential([\n",
    "    CNN_Block(32, (5,5)),\n",
    "    CNN_Block(64, (5,5)),    \n",
    "    Flatten(),\n",
    "    Dense(64),\n",
    "    ReLU(),\n",
    "    Dense(10),\n",
    "    Softmax()\n",
    "])"
   ]
  },
  {
   "cell_type": "code",
   "execution_count": 74,
   "metadata": {},
   "outputs": [],
   "source": [
    "middle_model.build((32, 28, 28, 1))"
   ]
  },
  {
   "cell_type": "code",
   "execution_count": 75,
   "metadata": {
    "collapsed": true
   },
   "outputs": [
    {
     "name": "stdout",
     "output_type": "stream",
     "text": [
      "Model: \"sequential_2\"\n",
      "_________________________________________________________________\n",
      "Layer (type)                 Output Shape              Param #   \n",
      "=================================================================\n",
      "cnn__block_4 (CNN_Block)     (32, 12, 12, 32)          832       \n",
      "_________________________________________________________________\n",
      "cnn__block_5 (CNN_Block)     (32, 4, 4, 64)            51264     \n",
      "_________________________________________________________________\n",
      "flatten_4 (Flatten)          (32, 1024)                0         \n",
      "_________________________________________________________________\n",
      "dense_8 (Dense)              (32, 64)                  65600     \n",
      "_________________________________________________________________\n",
      "re_lu_14 (ReLU)              (32, 64)                  0         \n",
      "_________________________________________________________________\n",
      "dense_9 (Dense)              (32, 10)                  650       \n",
      "_________________________________________________________________\n",
      "softmax (Softmax)            (32, 10)                  0         \n",
      "=================================================================\n",
      "Total params: 118,346\n",
      "Trainable params: 118,346\n",
      "Non-trainable params: 0\n",
      "_________________________________________________________________\n"
     ]
    }
   ],
   "source": [
    "middle_model.summary()"
   ]
  },
  {
   "cell_type": "code",
   "execution_count": 76,
   "metadata": {},
   "outputs": [],
   "source": [
    "# Sequential API\n",
    "small_model = tf.keras.models.Sequential([\n",
    "    Flatten(),\n",
    "    Dense(64),\n",
    "    ReLU(),\n",
    "    Dense(32),\n",
    "    ReLU(),\n",
    "    Dense(10),\n",
    "    Softmax()\n",
    "])"
   ]
  },
  {
   "cell_type": "code",
   "execution_count": 77,
   "metadata": {},
   "outputs": [
    {
     "name": "stdout",
     "output_type": "stream",
     "text": [
      "Model: \"sequential_3\"\n",
      "_________________________________________________________________\n",
      "Layer (type)                 Output Shape              Param #   \n",
      "=================================================================\n",
      "flatten_5 (Flatten)          (32, 784)                 0         \n",
      "_________________________________________________________________\n",
      "dense_10 (Dense)             (32, 64)                  50240     \n",
      "_________________________________________________________________\n",
      "re_lu_15 (ReLU)              (32, 64)                  0         \n",
      "_________________________________________________________________\n",
      "dense_11 (Dense)             (32, 32)                  2080      \n",
      "_________________________________________________________________\n",
      "re_lu_16 (ReLU)              (32, 32)                  0         \n",
      "_________________________________________________________________\n",
      "dense_12 (Dense)             (32, 10)                  330       \n",
      "_________________________________________________________________\n",
      "softmax_1 (Softmax)          (32, 10)                  0         \n",
      "=================================================================\n",
      "Total params: 52,650\n",
      "Trainable params: 52,650\n",
      "Non-trainable params: 0\n",
      "_________________________________________________________________\n"
     ]
    }
   ],
   "source": [
    "small_model.build((32, 28, 28, 1))\n",
    "small_model.summary()"
   ]
  },
  {
   "cell_type": "code",
   "execution_count": 82,
   "metadata": {},
   "outputs": [],
   "source": [
    "# Sequential API\n",
    "large_model = tf.keras.models.Sequential([\n",
    "    CNN_Block(64, (3,3)),\n",
    "    CNN_Block(128, (3,3)),\n",
    "    CNN_Block(256, (3,3)),\n",
    "    Flatten(),\n",
    "    Dense(64),\n",
    "    ReLU(),\n",
    "    Dense(32),\n",
    "    ReLU(),\n",
    "    Dense(10),\n",
    "    Softmax()\n",
    "])"
   ]
  },
  {
   "cell_type": "code",
   "execution_count": 83,
   "metadata": {
    "collapsed": true
   },
   "outputs": [
    {
     "name": "stdout",
     "output_type": "stream",
     "text": [
      "Model: \"sequential_6\"\n",
      "_________________________________________________________________\n",
      "Layer (type)                 Output Shape              Param #   \n",
      "=================================================================\n",
      "cnn__block_12 (CNN_Block)    (32, 13, 13, 64)          640       \n",
      "_________________________________________________________________\n",
      "cnn__block_13 (CNN_Block)    (32, 5, 5, 128)           73856     \n",
      "_________________________________________________________________\n",
      "cnn__block_14 (CNN_Block)    (32, 1, 1, 256)           295168    \n",
      "_________________________________________________________________\n",
      "flatten_8 (Flatten)          (32, 256)                 0         \n",
      "_________________________________________________________________\n",
      "dense_19 (Dense)             (32, 64)                  16448     \n",
      "_________________________________________________________________\n",
      "re_lu_30 (ReLU)              (32, 64)                  0         \n",
      "_________________________________________________________________\n",
      "dense_20 (Dense)             (32, 32)                  2080      \n",
      "_________________________________________________________________\n",
      "re_lu_31 (ReLU)              (32, 32)                  0         \n",
      "_________________________________________________________________\n",
      "dense_21 (Dense)             (32, 10)                  330       \n",
      "_________________________________________________________________\n",
      "softmax_4 (Softmax)          (32, 10)                  0         \n",
      "=================================================================\n",
      "Total params: 388,522\n",
      "Trainable params: 388,522\n",
      "Non-trainable params: 0\n",
      "_________________________________________________________________\n"
     ]
    }
   ],
   "source": [
    "large_model.build((32, 28, 28, 1))\n",
    "large_model.summary()"
   ]
  },
  {
   "cell_type": "code",
   "execution_count": null,
   "metadata": {},
   "outputs": [],
   "source": [
    "models = [small_model, middle_model, large_model]\n",
    "\n",
    "train_result = [\n",
    "    [],\n",
    "    [],\n",
    "    []\n",
    "]\n"
   ]
  },
  {
   "cell_type": "code",
   "execution_count": 90,
   "metadata": {},
   "outputs": [
    {
     "name": "stdout",
     "output_type": "stream",
     "text": [
      "Epoch 1/5\n",
      "   1/1875 [..............................] - ETA: 0s - loss: 0.3029 - accuracy: 0.8750WARNING:tensorflow:Callbacks method `on_train_batch_begin` is slow compared to the batch time (batch time: 0.0000s vs `on_train_batch_begin` time: 0.0010s). Check your callbacks.\n",
      "1875/1875 [==============================] - 1s 474us/step - loss: 0.2529 - accuracy: 0.9054\n",
      "Epoch 2/5\n",
      "1875/1875 [==============================] - 1s 477us/step - loss: 0.2430 - accuracy: 0.9082\n",
      "Epoch 3/5\n",
      "1875/1875 [==============================] - 1s 470us/step - loss: 0.2382 - accuracy: 0.9099\n",
      "Epoch 4/5\n",
      "1875/1875 [==============================] - 1s 472us/step - loss: 0.2323 - accuracy: 0.9124\n",
      "Epoch 5/5\n",
      "1875/1875 [==============================] - 1s 476us/step - loss: 0.2257 - accuracy: 0.9153\n",
      "Epoch 1/5\n",
      "1875/1875 [==============================] - 14s 7ms/step - loss: 0.1258 - accuracy: 0.9518\n",
      "Epoch 2/5\n",
      "1875/1875 [==============================] - 14s 7ms/step - loss: 0.1149 - accuracy: 0.9567\n",
      "Epoch 3/5\n",
      "1875/1875 [==============================] - 14s 7ms/step - loss: 0.1055 - accuracy: 0.9593\n",
      "Epoch 4/5\n",
      "1875/1875 [==============================] - 14s 7ms/step - loss: 0.0977 - accuracy: 0.9633\n",
      "Epoch 5/5\n",
      "1875/1875 [==============================] - 14s 7ms/step - loss: 0.0900 - accuracy: 0.9654\n",
      "Epoch 1/5\n",
      "1875/1875 [==============================] - 30s 16ms/step - loss: 0.1346 - accuracy: 0.9497\n",
      "Epoch 2/5\n",
      "1875/1875 [==============================] - 33s 17ms/step - loss: 0.1179 - accuracy: 0.9560\n",
      "Epoch 3/5\n",
      "1875/1875 [==============================] - 34s 18ms/step - loss: 0.1099 - accuracy: 0.9596\n",
      "Epoch 4/5\n",
      "1875/1875 [==============================] - 34s 18ms/step - loss: 0.0992 - accuracy: 0.9633\n",
      "Epoch 5/5\n",
      "1875/1875 [==============================] - 34s 18ms/step - loss: 0.0897 - accuracy: 0.9665\n"
     ]
    }
   ],
   "source": [
    "# 각 모델을 학습\n",
    "for i, model in enumerate(models):\n",
    "    # compile을 통한 학습 루프 정의\n",
    "    model.compile(\n",
    "        loss = tf.keras.losses.SparseCategoricalCrossentropy(),\n",
    "        optimizer = tf.keras.optimizers.Adam(),\n",
    "        metrics = ['accuracy']\n",
    "    )\n",
    "    # 학습 과정을 담고 있는 객체를 history\n",
    "    history = model.fit(x_train, y_train, epochs = 5)\n",
    "\n",
    "    # history.history['accuracy'][-1] -> 학습을 진행한 결과에서 정확도를 들고와서 맨마지막 정확도를 train_result\n",
    "    train_result[i].append(history.history['accuracy'][-1])"
   ]
  },
  {
   "cell_type": "code",
   "execution_count": 91,
   "metadata": {},
   "outputs": [
    {
     "name": "stdout",
     "output_type": "stream",
     "text": [
      "313/313 [==============================] - 0s 376us/step - loss: 0.3549 - accuracy: 0.8768\n",
      "313/313 [==============================] - 1s 2ms/step - loss: 0.3305 - accuracy: 0.9087\n",
      "313/313 [==============================] - 1s 4ms/step - loss: 0.4509 - accuracy: 0.8908\n"
     ]
    }
   ],
   "source": [
    "# 모델을 평가\n",
    "for model in models:\n",
    "    model.evaluate(x_test, y_test)"
   ]
  },
  {
   "cell_type": "code",
   "execution_count": 92,
   "metadata": {},
   "outputs": [
    {
     "data": {
      "text/plain": [
       "[<matplotlib.lines.Line2D at 0x16c59ec4910>]"
      ]
     },
     "execution_count": 92,
     "metadata": {},
     "output_type": "execute_result"
    },
    {
     "data": {
      "image/png": "[encoded data removed]",
      "text/plain": [
       "<Figure size 432x288 with 1 Axes>"
      ]
     },
     "metadata": {
      "needs_background": "light"
     },
     "output_type": "display_data"
    }
   ],
   "source": [
    "# 학습과정을 그래프로 나타내보자\n",
    "\n",
    "# 학습 과정을 train_result라는 배열에 담아두었기 때문에 그 값을 그래프로 \n",
    "\n",
    "plt.plot(train_result[0], c = 'r')\n",
    "plt.plot(train_result[1], c = 'b')\n",
    "plt.plot(train_result[2], c = 'g')"
   ]
  },
  {
   "cell_type": "markdown",
   "metadata": {},
   "source": [
    "# cifar - 10 \n",
    "\n",
    "물체를 분류하는 데이터셋, 분류 모델에 대한 벤치마킹을 위한 데이터 \n",
    "\n",
    "- 50000장의 32X32의 컬러 이미지 데이터"
   ]
  },
  {
   "cell_type": "code",
   "execution_count": 93,
   "metadata": {},
   "outputs": [],
   "source": [
    "from tensorflow.keras.datasets import cifar10"
   ]
  },
  {
   "cell_type": "code",
   "execution_count": 94,
   "metadata": {},
   "outputs": [
    {
     "name": "stdout",
     "output_type": "stream",
     "text": [
      "Downloading data from https://www.cs.toronto.edu/~kriz/cifar-10-python.tar.gz\n",
      "170500096/170498071 [==============================] - 10s 0us/step\n"
     ]
    }
   ],
   "source": [
    "(x_train, y_train), (x_test, y_test) = cifar10.load_data()"
   ]
  },
  {
   "cell_type": "code",
   "execution_count": 95,
   "metadata": {},
   "outputs": [
    {
     "data": {
      "text/plain": [
       "(50000, 32, 32, 3)"
      ]
     },
     "execution_count": 95,
     "metadata": {},
     "output_type": "execute_result"
    }
   ],
   "source": [
    "# (60000, 28, 28) 데이터 -> 컬러 이미지 데이터는 채널을 의미하는 차원이 1개 추가된 (50000, 32, 32, 3) 데이터\n",
    "x_train.shape"
   ]
  },
  {
   "cell_type": "code",
   "execution_count": 97,
   "metadata": {},
   "outputs": [
    {
     "data": {
      "text/plain": [
       "<matplotlib.image.AxesImage at 0x16c59f2c190>"
      ]
     },
     "execution_count": 97,
     "metadata": {},
     "output_type": "execute_result"
    },
    {
     "data": {
      "image/png": "[encoded data removed]",
      "text/plain": [
       "<Figure size 432x288 with 1 Axes>"
      ]
     },
     "metadata": {
      "needs_background": "light"
     },
     "output_type": "display_data"
    }
   ],
   "source": [
    "plt.imshow(x_train[0])"
   ]
  },
  {
   "cell_type": "code",
   "execution_count": 98,
   "metadata": {},
   "outputs": [],
   "source": [
    "# 255로 나누는 작업\n",
    "x_train = x_train.astype('float32') / 255\n",
    "x_test = x_test.astype('float32') / 255"
   ]
  },
  {
   "cell_type": "code",
   "execution_count": null,
   "metadata": {},
   "outputs": [],
   "source": [
    "# cifar10 데이터셋의 경우, 28 -> 32로 커졌고, 채널의 수도 3개 증가하였다. \n",
    "# 이미지가 모델에 제공할 수 있는 정보가 증가하였다.\n",
    "# 복잡한 문제를 해결할 때, 모델의 크기에 따라 결과는 어떻게 변할 것인가?"
   ]
  },
  {
   "cell_type": "code",
   "execution_count": 103,
   "metadata": {},
   "outputs": [],
   "source": [
    "# Sequential API\n",
    "middle_model = tf.keras.models.Sequential([\n",
    "    CNN_Block(32, (5,5)),\n",
    "    CNN_Block(64, (5,5)),    \n",
    "    Flatten(),\n",
    "    Dense(64),\n",
    "    ReLU(),\n",
    "    Dense(10),\n",
    "    Softmax()\n",
    "])\n",
    "\n",
    "# Sequential API\n",
    "small_model = tf.keras.models.Sequential([\n",
    "    Flatten(),\n",
    "    Dense(64),\n",
    "    ReLU(),\n",
    "    Dense(32),\n",
    "    ReLU(),\n",
    "    Dense(10),\n",
    "    Softmax()\n",
    "])\n",
    "\n",
    "# Sequential API\n",
    "large_model = tf.keras.models.Sequential([\n",
    "    CNN_Block(64, (3,3)),\n",
    "    CNN_Block(128, (3,3)),\n",
    "    CNN_Block(256, (3,3)),\n",
    "    Flatten(),\n",
    "    Dense(64),\n",
    "    ReLU(),\n",
    "    Dense(32),\n",
    "    ReLU(),\n",
    "    Dense(10),\n",
    "    Softmax()\n",
    "])"
   ]
  },
  {
   "cell_type": "code",
   "execution_count": 104,
   "metadata": {},
   "outputs": [],
   "source": [
    "models = [small_model, middle_model, large_model]\n",
    "\n",
    "train_result = [\n",
    "    [],\n",
    "    [],\n",
    "    []\n",
    "]"
   ]
  },
  {
   "cell_type": "code",
   "execution_count": 110,
   "metadata": {
    "scrolled": true
   },
   "outputs": [
    {
     "name": "stdout",
     "output_type": "stream",
     "text": [
      "Epoch 1/5\n",
      "1563/1563 [==============================] - 1s 744us/step - loss: 1.5247 - accuracy: 0.4497\n",
      "Epoch 2/5\n",
      "1563/1563 [==============================] - 1s 742us/step - loss: 1.5137 - accuracy: 0.4578\n",
      "Epoch 3/5\n",
      "1563/1563 [==============================] - 1s 747us/step - loss: 1.5130 - accuracy: 0.4563\n",
      "Epoch 4/5\n",
      "1563/1563 [==============================] - 1s 744us/step - loss: 1.5042 - accuracy: 0.4582\n",
      "Epoch 5/5\n",
      "1563/1563 [==============================] - 1s 746us/step - loss: 1.4977 - accuracy: 0.4630\n",
      "Epoch 1/5\n",
      "1563/1563 [==============================] - 18s 12ms/step - loss: 0.6108 - accuracy: 0.7858\n",
      "Epoch 2/5\n",
      "1563/1563 [==============================] - 18s 12ms/step - loss: 0.5758 - accuracy: 0.7938\n",
      "Epoch 3/5\n",
      "1563/1563 [==============================] - 18s 11ms/step - loss: 0.5475 - accuracy: 0.8077\n",
      "Epoch 4/5\n",
      "1563/1563 [==============================] - 18s 12ms/step - loss: 0.5200 - accuracy: 0.8161\n",
      "Epoch 5/5\n",
      "1563/1563 [==============================] - 18s 12ms/step - loss: 0.4893 - accuracy: 0.8255\n",
      "Epoch 1/5\n",
      "1563/1563 [==============================] - 39s 25ms/step - loss: 0.4053 - accuracy: 0.8572\n",
      "Epoch 2/5\n",
      "1563/1563 [==============================] - 41s 26ms/step - loss: 0.3646 - accuracy: 0.8713\n",
      "Epoch 3/5\n",
      "1563/1563 [==============================] - 41s 26ms/step - loss: 0.3281 - accuracy: 0.8834\n",
      "Epoch 4/5\n",
      "1563/1563 [==============================] - 41s 26ms/step - loss: 0.2990 - accuracy: 0.8942\n",
      "Epoch 5/5\n",
      "1563/1563 [==============================] - 42s 27ms/step - loss: 0.2744 - accuracy: 0.9036\n"
     ]
    }
   ],
   "source": [
    "# 각 모델을 학습\n",
    "for i, model in enumerate(models):\n",
    "    # compile을 통한 학습 루프 정의\n",
    "    model.compile(\n",
    "        loss = tf.keras.losses.SparseCategoricalCrossentropy(),\n",
    "        optimizer = tf.keras.optimizers.Adam(),\n",
    "        metrics = ['accuracy']\n",
    "    )\n",
    "    # 학습 과정을 담고 있는 객체를 history\n",
    "    history = model.fit(x_train, y_train, epochs = 5)\n",
    "\n",
    "    # history.history['accuracy'][-1] -> 학습을 진행한 결과에서 정확도를 들고와서 맨마지막 정확도를 train_result\n",
    "    train_result[i].append(history.history['accuracy'][-1])"
   ]
  },
  {
   "cell_type": "code",
   "execution_count": 108,
   "metadata": {},
   "outputs": [
    {
     "name": "stdout",
     "output_type": "stream",
     "text": [
      "313/313 [==============================] - 0s 558us/step - loss: 1.5276 - accuracy: 0.4598\n",
      "313/313 [==============================] - 1s 2ms/step - loss: 0.9264 - accuracy: 0.6917\n",
      "313/313 [==============================] - 3s 8ms/step - loss: 0.8885 - accuracy: 0.7274\n"
     ]
    }
   ],
   "source": [
    "# 모델을 평가\n",
    "for model in models:\n",
    "    model.evaluate(x_test, y_test)"
   ]
  },
  {
   "cell_type": "code",
   "execution_count": 111,
   "metadata": {},
   "outputs": [
    {
     "name": "stdout",
     "output_type": "stream",
     "text": [
      "313/313 [==============================] - 0s 535us/step - loss: 1.5172 - accuracy: 0.4612\n",
      "313/313 [==============================] - 1s 2ms/step - loss: 1.0642 - accuracy: 0.6919\n",
      "313/313 [==============================] - 2s 6ms/step - loss: 1.1023 - accuracy: 0.7204\n"
     ]
    }
   ],
   "source": [
    "# 모델을 3번째 평가\n",
    "for model in models:\n",
    "    model.evaluate(x_test, y_test)"
   ]
  },
  {
   "cell_type": "code",
   "execution_count": 112,
   "metadata": {},
   "outputs": [
    {
     "data": {
      "text/plain": [
       "[<matplotlib.lines.Line2D at 0x16c59038460>]"
      ]
     },
     "execution_count": 112,
     "metadata": {},
     "output_type": "execute_result"
    },
    {
     "data": {
      "image/png": "[encoded data removed]",
      "text/plain": [
       "<Figure size 432x288 with 1 Axes>"
      ]
     },
     "metadata": {
      "needs_background": "light"
     },
     "output_type": "display_data"
    }
   ],
   "source": [
    "# 학습과정을 그래프로 나타내보자\n",
    "\n",
    "# 학습 과정을 train_result라는 배열에 담아두었기 때문에 그 값을 그래프로 \n",
    "\n",
    "plt.plot(train_result[0], c = 'r')\n",
    "plt.plot(train_result[1], c = 'b')\n",
    "plt.plot(train_result[2], c = 'g')"
   ]
  },
  {
   "cell_type": "markdown",
   "metadata": {},
   "source": [
    "# 모델 학습의 결과\n",
    "\n",
    "\n",
    "## 1. fashion mnist\n",
    "\n",
    "\n",
    "### 학습 데이터 \n",
    "\n",
    "일정 크기 이상의 모델은 96%이상의 정확도를 달성하였다.\n",
    "\n",
    "\n",
    "### 평가 데이터\n",
    "\n",
    "중간 크기의 모델의 평가 데이터의 정확도가 가장 높았다. \n",
    "\n",
    "여러 번의 epoch를 수행하였음에도 평가 데이터의 정확도는 높아지지 않았습니다. \n",
    "\n",
    "(5 -> 10 -> 15) 모두 70퍼센트의 정확도가 유지되었습니다. \n",
    "\n",
    "- 학습 데이터의 정확도는 증가하지만 평가 데이터의 정확도는 그대로 유지되는 경우를 '오버피팅'이라고 한다.\n",
    "\n",
    "오버피팅을 가장 단순하게 해결하는 방법은 모델의 복잡도를 낮추는 것 -> 레이어의 수를 감소시킴을 통해 모델이 가지는 파라미터 수를 감소시키는 것.\n",
    "\n",
    "\n",
    "## 2. cifar 10\n",
    "\n",
    "위의 fashion mnist 데이터보다 더 복잡한 문제로 볼 수 있다. 이미지가 모델에게 제공할 수 있는 정보의 크기가 증가하였다.\n",
    "\n",
    "복잡한 문제에 대해서는 복잡한 모델이 더 효과적일 것인가?\n",
    "\n",
    "\n",
    "### 학습 데이터\n",
    "\n",
    "5 -> 10 -> 15 epoch를 증가시키면서 학습 데이터의 정확도가 증가하였다. 이 때, 학습데이터의 정확도 증가 추이가 감소하지 않았기 때문에 모델이 데이터가 제공하는 정보에 대해서 완전히 학습되지 않았다. 곧 epochs를 증가시켜야 한다.\n",
    "\n",
    "\n",
    "### 평가 데이터 \n",
    "\n",
    "epoch가 10일때까지 평가 데이터의 정확도가 증가하였으나 15의 경우에는 평가 데이터의 정확도가 유지되었다. 이 후, 학습을 추가로 진행하더라도 학습 데이터의 정확도는 증가할 수 있으나 평가 데이터의 정확도는 오르지 않을 수 있다. 해당 임계치를 벗어난 학습의 경우, 오버피팅을 발생 시킬 수 있다.\n",
    "\n",
    "\n",
    "우리가 구현한 모델의 학습데이터의 정확도, 평가 데이터의 정확도를 통해 학습의 진행여부를 판단해야한다. \n",
    "\n",
    "1. 학습 데이터와 평가 데이터 모두 증가하는 경우, epochs를 증가시켜서 학습 데이터에 대한 학습을 더 진행시켜야 한다.\n",
    "\n",
    "2. 학습 데이터의 정확도는 증가하나, 평가 데이터의 정확도는 감소하거나 유지되는 경우에는 오버피팅이 발생할 수 있으므로, 학습을 중지하거나, 오버피팅을 피할 수 있도록 모델을 수정하여야 한다.\n",
    "\n",
    "모델을 구현할 때는 여러가지 크기의 모델을 미리 구현하고 난 뒤, 평가를 통해 최종적으로 모델을 선정해야한다.\n"
   ]
  },
  {
   "cell_type": "markdown",
   "metadata": {},
   "source": [
    "# 표정을 인식하는 모델 구현"
   ]
  },
  {
   "cell_type": "code",
   "execution_count": null,
   "metadata": {},
   "outputs": [],
   "source": []
  }
 ],
 "metadata": {
  "kernelspec": {
   "display_name": "Python 3",
   "language": "python",
   "name": "python3"
  },
  "language_info": {
   "codemirror_mode": {
    "name": "ipython",
    "version": 3
   },
   "file_extension": ".py",
   "mimetype": "text/x-python",
   "name": "python",
   "nbconvert_exporter": "python",
   "pygments_lexer": "ipython3",
   "version": "3.8.5"
  }
 },
 "nbformat": 4,
 "nbformat_minor": 4
}
