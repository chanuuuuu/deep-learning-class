{
 "cells": [
  {
   "cell_type": "markdown",
   "metadata": {},
   "source": [
    "# 여러가지 방법의 모델 구축\n",
    "\n",
    "## keras\n",
    "1. sequential API\n",
    "\n",
    "2. functional API \n",
    "\n",
    "3. class definition\n",
    "\n",
    "\n",
    "\n",
    "## 배울 것\n",
    "\n",
    "1. weight 저장방법\n",
    "2. 모델 전체 저장방법 -> serializing model\n",
    "    - weight\n",
    "    - 모델 구조\n",
    "    - model.compile() 로 정의한 학습 방법\n",
    "    - optimizer, state"
   ]
  },
  {
   "cell_type": "markdown",
   "metadata": {},
   "source": [
    "# 4일차 정리\n",
    "\n",
    "## keras\n",
    "\n",
    "텐서플로우를 더 쉽고 간편하게 사용하기 위한 API, API란 필요한 기능이나 도구들을 미리 구현하여 제공하는 것\n",
    "\n",
    "\n",
    "\n",
    "\n",
    "## Layer 구현\n",
    "\n",
    "`tf.keras.layers.Layer` 클래스를 상속받아서 하위 클래스를 구현하는 방식\n",
    "\n",
    "1. `__init__` 함수를 통해 레이어 인스턴스 생성 시점에 수행할 동작 정의, output_shapes 정의\n",
    "\n",
    "\n",
    "2. `build` 함수를 통해 인스턴스 최초 호출시, 입력텐서 X에 맞게 가중치 텐서를 정의\n",
    "\n",
    "\n",
    "3. `call` 함수를 통해 인스턴스 호출시, 수행할 연산을 정의\n",
    "\n",
    "\n",
    "## Model 구현\n",
    "\n",
    "\n",
    "Layer와 동일한 방식으로 구현\n",
    "\n",
    "\n",
    "### Sequential API\n",
    "\n",
    "\n",
    "### Functional API\n",
    "\n",
    "\n",
    "### Subclass  \n"
   ]
  },
  {
   "cell_type": "code",
   "execution_count": 3,
   "metadata": {},
   "outputs": [],
   "source": [
    "import tensorflow as tf"
   ]
  },
  {
   "cell_type": "code",
   "execution_count": 8,
   "metadata": {},
   "outputs": [],
   "source": [
    "# 선형회귀 모델을 keras로 구현하기\n",
    "from tensorflow.keras import Model\n",
    "\n",
    "class LinearModelKeras(Model):\n",
    "    \n",
    "    def __init__(self):\n",
    "        \n",
    "        super().__init__()\n",
    "\n",
    "        # 가중치 W, 바이어스b 변수 텐서를 정의 \n",
    "        # 이미 우리가 x,y의 shape를 이미 알고 있기 때문에 \n",
    "\n",
    "        # 초기값을 정해야합니다. -> 단일 값 텐서를 정의하였다. \n",
    "        # 입력 텐서도 단일 값이기 때문에 \n",
    "\n",
    "        # 실제값 3으로 가까워질 텐서\n",
    "        self.w = tf.Variable(44, dtype = tf.float32, name = 'w')\n",
    "\n",
    "        # 실제값 2와 가까워질 텐서\n",
    "        self.b = tf.Variable(1, dtype = tf.float32, name = 'b')\n",
    "\n",
    "        \n",
    "    def call(self, X):\n",
    "        # 소문자 x가 아닌 대문자 X로 변경\n",
    "        y = self.w *  X + self.b\n",
    "\n",
    "        return y"
   ]
  },
  {
   "cell_type": "code",
   "execution_count": 9,
   "metadata": {},
   "outputs": [],
   "source": [
    "# 모델 인스턴스 생성\n",
    "keras_model = LinearModelKeras()"
   ]
  },
  {
   "cell_type": "code",
   "execution_count": 10,
   "metadata": {},
   "outputs": [],
   "source": [
    "TRUE_W = 3.0\n",
    "TRUE_b = 2.0\n",
    " \n",
    "# 학습 데이터의 크기는 1000\n",
    "TRAIN_SIZE = 1000\n",
    "\n",
    "# 정규 분포 상에서 (0, 1)사이에서 랜덤하게 값을 뽑습니다.  \n",
    "x = tf.random.normal(shape = [TRAIN_SIZE])\n",
    "\n",
    "# 기존 데이터와는 조금 차이를 주기 위한 노이즈\n",
    "noise = tf.random.normal(shape = [TRAIN_SIZE])\n",
    "\n",
    "\n",
    "y = x * TRUE_W + TRUE_b + noise"
   ]
  },
  {
   "cell_type": "code",
   "execution_count": 11,
   "metadata": {},
   "outputs": [],
   "source": [
    "keras_model.compile(\n",
    "    optimizer = tf.keras.optimizers.SGD(),\n",
    "    loss = tf.keras.losses.mean_squared_error\n",
    ")"
   ]
  },
  {
   "cell_type": "code",
   "execution_count": 13,
   "metadata": {
    "collapsed": true
   },
   "outputs": [
    {
     "name": "stdout",
     "output_type": "stream",
     "text": [
      "Epoch 1/100\n",
      "34/34 [==============================] - 0s 499us/step - loss: 17.4897\n",
      "Epoch 2/100\n",
      "34/34 [==============================] - 0s 469us/step - loss: 5.1801\n",
      "Epoch 3/100\n",
      "34/34 [==============================] - 0s 469us/step - loss: 2.0947\n",
      "Epoch 4/100\n",
      "34/34 [==============================] - 0s 469us/step - loss: 1.2994\n",
      "Epoch 5/100\n",
      "34/34 [==============================] - 0s 440us/step - loss: 1.0967\n",
      "Epoch 6/100\n",
      "34/34 [==============================] - 0s 469us/step - loss: 1.0464\n",
      "Epoch 7/100\n",
      "34/34 [==============================] - 0s 469us/step - loss: 1.0321\n",
      "Epoch 8/100\n",
      "34/34 [==============================] - 0s 464us/step - loss: 1.0279\n",
      "Epoch 9/100\n",
      "34/34 [==============================] - 0s 469us/step - loss: 1.0272\n",
      "Epoch 10/100\n",
      "34/34 [==============================] - 0s 469us/step - loss: 1.0272\n",
      "Epoch 11/100\n",
      "34/34 [==============================] - 0s 469us/step - loss: 1.0273\n",
      "Epoch 12/100\n",
      "34/34 [==============================] - 0s 499us/step - loss: 1.0271\n",
      "Epoch 13/100\n",
      "34/34 [==============================] - 0s 469us/step - loss: 1.0272\n",
      "Epoch 14/100\n",
      "34/34 [==============================] - 0s 501us/step - loss: 1.0271\n",
      "Epoch 15/100\n",
      "34/34 [==============================] - 0s 469us/step - loss: 1.0270\n",
      "Epoch 16/100\n",
      "34/34 [==============================] - 0s 469us/step - loss: 1.0270\n",
      "Epoch 17/100\n",
      "34/34 [==============================] - 0s 469us/step - loss: 1.0273\n",
      "Epoch 18/100\n",
      "34/34 [==============================] - 0s 469us/step - loss: 1.0277\n",
      "Epoch 19/100\n",
      "34/34 [==============================] - 0s 469us/step - loss: 1.0272\n",
      "Epoch 20/100\n",
      "34/34 [==============================] - 0s 469us/step - loss: 1.0269\n",
      "Epoch 21/100\n",
      "34/34 [==============================] - 0s 499us/step - loss: 1.0267\n",
      "Epoch 22/100\n",
      "34/34 [==============================] - 0s 469us/step - loss: 1.0269\n",
      "Epoch 23/100\n",
      "34/34 [==============================] - 0s 469us/step - loss: 1.0271\n",
      "Epoch 24/100\n",
      "34/34 [==============================] - 0s 469us/step - loss: 1.0268\n",
      "Epoch 25/100\n",
      "34/34 [==============================] - 0s 440us/step - loss: 1.0269\n",
      "Epoch 26/100\n",
      "34/34 [==============================] - 0s 469us/step - loss: 1.0269\n",
      "Epoch 27/100\n",
      "34/34 [==============================] - 0s 469us/step - loss: 1.0271\n",
      "Epoch 28/100\n",
      "34/34 [==============================] - 0s 469us/step - loss: 1.0272\n",
      "Epoch 29/100\n",
      "34/34 [==============================] - 0s 469us/step - loss: 1.0271\n",
      "Epoch 30/100\n",
      "34/34 [==============================] - 0s 469us/step - loss: 1.0270\n",
      "Epoch 31/100\n",
      "34/34 [==============================] - 0s 469us/step - loss: 1.0269\n",
      "Epoch 32/100\n",
      "34/34 [==============================] - 0s 440us/step - loss: 1.0272\n",
      "Epoch 33/100\n",
      "34/34 [==============================] - 0s 470us/step - loss: 1.0272\n",
      "Epoch 34/100\n",
      "34/34 [==============================] - 0s 469us/step - loss: 1.0273\n",
      "Epoch 35/100\n",
      "34/34 [==============================] - 0s 499us/step - loss: 1.0268\n",
      "Epoch 36/100\n",
      "34/34 [==============================] - 0s 440us/step - loss: 1.0274\n",
      "Epoch 37/100\n",
      "34/34 [==============================] - 0s 499us/step - loss: 1.0270\n",
      "Epoch 38/100\n",
      "34/34 [==============================] - 0s 469us/step - loss: 1.0271\n",
      "Epoch 39/100\n",
      "34/34 [==============================] - 0s 469us/step - loss: 1.0273\n",
      "Epoch 40/100\n",
      "34/34 [==============================] - 0s 512us/step - loss: 1.0269\n",
      "Epoch 41/100\n",
      "34/34 [==============================] - 0s 440us/step - loss: 1.0273\n",
      "Epoch 42/100\n",
      "34/34 [==============================] - 0s 478us/step - loss: 1.0270\n",
      "Epoch 43/100\n",
      "34/34 [==============================] - 0s 469us/step - loss: 1.0269\n",
      "Epoch 44/100\n",
      "34/34 [==============================] - 0s 469us/step - loss: 1.0270\n",
      "Epoch 45/100\n",
      "34/34 [==============================] - 0s 499us/step - loss: 1.0275\n",
      "Epoch 46/100\n",
      "34/34 [==============================] - 0s 469us/step - loss: 1.0274\n",
      "Epoch 47/100\n",
      "34/34 [==============================] - 0s 485us/step - loss: 1.0269\n",
      "Epoch 48/100\n",
      "34/34 [==============================] - 0s 440us/step - loss: 1.0272\n",
      "Epoch 49/100\n",
      "34/34 [==============================] - 0s 499us/step - loss: 1.0269\n",
      "Epoch 50/100\n",
      "34/34 [==============================] - 0s 440us/step - loss: 1.0270\n",
      "Epoch 51/100\n",
      "34/34 [==============================] - 0s 469us/step - loss: 1.0275\n",
      "Epoch 52/100\n",
      "34/34 [==============================] - 0s 440us/step - loss: 1.0269\n",
      "Epoch 53/100\n",
      "34/34 [==============================] - 0s 469us/step - loss: 1.0270\n",
      "Epoch 54/100\n",
      "34/34 [==============================] - 0s 470us/step - loss: 1.0272\n",
      "Epoch 55/100\n",
      "34/34 [==============================] - 0s 469us/step - loss: 1.0267\n",
      "Epoch 56/100\n",
      "34/34 [==============================] - 0s 528us/step - loss: 1.0270\n",
      "Epoch 57/100\n",
      "34/34 [==============================] - 0s 440us/step - loss: 1.0269\n",
      "Epoch 58/100\n",
      "34/34 [==============================] - 0s 469us/step - loss: 1.0271\n",
      "Epoch 59/100\n",
      "34/34 [==============================] - 0s 469us/step - loss: 1.0267\n",
      "Epoch 60/100\n",
      "34/34 [==============================] - 0s 469us/step - loss: 1.0271\n",
      "Epoch 61/100\n",
      "34/34 [==============================] - 0s 469us/step - loss: 1.0271\n",
      "Epoch 62/100\n",
      "34/34 [==============================] - 0s 469us/step - loss: 1.0276\n",
      "Epoch 63/100\n",
      "34/34 [==============================] - 0s 499us/step - loss: 1.0270\n",
      "Epoch 64/100\n",
      "34/34 [==============================] - 0s 469us/step - loss: 1.0273\n",
      "Epoch 65/100\n",
      "34/34 [==============================] - 0s 469us/step - loss: 1.0271\n",
      "Epoch 66/100\n",
      "34/34 [==============================] - 0s 440us/step - loss: 1.0275\n",
      "Epoch 67/100\n",
      "34/34 [==============================] - 0s 469us/step - loss: 1.0268\n",
      "Epoch 68/100\n",
      "34/34 [==============================] - 0s 478us/step - loss: 1.0274\n",
      "Epoch 69/100\n",
      "34/34 [==============================] - 0s 440us/step - loss: 1.0270\n",
      "Epoch 70/100\n",
      "34/34 [==============================] - 0s 469us/step - loss: 1.0272\n",
      "Epoch 71/100\n",
      "34/34 [==============================] - 0s 440us/step - loss: 1.0272\n",
      "Epoch 72/100\n",
      "34/34 [==============================] - 0s 440us/step - loss: 1.0276\n",
      "Epoch 73/100\n",
      "34/34 [==============================] - 0s 469us/step - loss: 1.0273\n",
      "Epoch 74/100\n",
      "34/34 [==============================] - 0s 469us/step - loss: 1.0273\n",
      "Epoch 75/100\n",
      "34/34 [==============================] - 0s 469us/step - loss: 1.0269\n",
      "Epoch 76/100\n",
      "34/34 [==============================] - 0s 469us/step - loss: 1.0271\n",
      "Epoch 77/100\n",
      "34/34 [==============================] - 0s 469us/step - loss: 1.0270\n",
      "Epoch 78/100\n",
      "34/34 [==============================] - 0s 440us/step - loss: 1.0265\n",
      "Epoch 79/100\n",
      "34/34 [==============================] - 0s 469us/step - loss: 1.0276\n",
      "Epoch 80/100\n",
      "34/34 [==============================] - 0s 499us/step - loss: 1.0273\n",
      "Epoch 81/100\n",
      "34/34 [==============================] - 0s 469us/step - loss: 1.0268\n",
      "Epoch 82/100\n",
      "34/34 [==============================] - 0s 469us/step - loss: 1.0269\n",
      "Epoch 83/100\n",
      "34/34 [==============================] - 0s 469us/step - loss: 1.0271\n",
      "Epoch 84/100\n",
      "34/34 [==============================] - 0s 474us/step - loss: 1.0269\n",
      "Epoch 85/100\n",
      "34/34 [==============================] - 0s 469us/step - loss: 1.0271\n",
      "Epoch 86/100\n",
      "34/34 [==============================] - 0s 469us/step - loss: 1.0270\n",
      "Epoch 87/100\n",
      "34/34 [==============================] - 0s 440us/step - loss: 1.0269\n",
      "Epoch 88/100\n",
      "34/34 [==============================] - 0s 469us/step - loss: 1.0272\n",
      "Epoch 89/100\n",
      "34/34 [==============================] - 0s 469us/step - loss: 1.0269\n",
      "Epoch 90/100\n",
      "34/34 [==============================] - 0s 469us/step - loss: 1.0273\n",
      "Epoch 91/100\n",
      "34/34 [==============================] - 0s 469us/step - loss: 1.0267\n",
      "Epoch 92/100\n",
      "34/34 [==============================] - 0s 491us/step - loss: 1.0273\n",
      "Epoch 93/100\n",
      "34/34 [==============================] - 0s 469us/step - loss: 1.0271\n",
      "Epoch 94/100\n",
      "34/34 [==============================] - 0s 455us/step - loss: 1.0272\n",
      "Epoch 95/100\n",
      "34/34 [==============================] - 0s 469us/step - loss: 1.0270\n",
      "Epoch 96/100\n",
      "34/34 [==============================] - 0s 469us/step - loss: 1.0273\n",
      "Epoch 97/100\n",
      "34/34 [==============================] - 0s 469us/step - loss: 1.0274\n",
      "Epoch 98/100\n",
      "34/34 [==============================] - 0s 469us/step - loss: 1.0270\n",
      "Epoch 99/100\n",
      "34/34 [==============================] - 0s 484us/step - loss: 1.0271\n",
      "Epoch 100/100\n",
      "34/34 [==============================] - 0s 469us/step - loss: 1.0271\n"
     ]
    },
    {
     "data": {
      "text/plain": [
       "<tensorflow.python.keras.callbacks.History at 0x1dfdef39580>"
      ]
     },
     "execution_count": 13,
     "metadata": {},
     "output_type": "execute_result"
    }
   ],
   "source": [
    "# 학습을 시작\n",
    "keras_model.fit(x, y, epochs = 100, batch_size = 30)"
   ]
  },
  {
   "cell_type": "code",
   "execution_count": 14,
   "metadata": {},
   "outputs": [
    {
     "data": {
      "text/plain": [
       "[<tf.Variable 'w:0' shape=() dtype=float32, numpy=3.0249505>,\n",
       " <tf.Variable 'b:0' shape=() dtype=float32, numpy=2.048449>]"
      ]
     },
     "execution_count": 14,
     "metadata": {},
     "output_type": "execute_result"
    }
   ],
   "source": [
    "# 모델이 올바르게 학습되었는가 \n",
    "keras_model.trainable_variables"
   ]
  },
  {
   "cell_type": "code",
   "execution_count": 15,
   "metadata": {},
   "outputs": [],
   "source": [
    "from tensorflow.keras.datasets import mnist"
   ]
  },
  {
   "cell_type": "code",
   "execution_count": 16,
   "metadata": {},
   "outputs": [],
   "source": [
    "(x_train, y_train), (x_test, y_test) = mnist.load_data()"
   ]
  },
  {
   "cell_type": "code",
   "execution_count": 17,
   "metadata": {},
   "outputs": [],
   "source": [
    "# 행렬 형태의 이미지를 배열 형태의 이미지로 변환하는 작업\n",
    "x_train = x_train.reshape(-1, 28 * 28 ).astype('float32') / 255\n",
    "x_test = x_test.reshape(-1, 28 * 28 ).astype('float32') / 255"
   ]
  },
  {
   "cell_type": "code",
   "execution_count": 21,
   "metadata": {},
   "outputs": [
    {
     "data": {
      "text/plain": [
       "(60000, 784)"
      ]
     },
     "execution_count": 21,
     "metadata": {},
     "output_type": "execute_result"
    }
   ],
   "source": [
    "x_train.shape"
   ]
  },
  {
   "cell_type": "markdown",
   "metadata": {},
   "source": [
    "# Keras로 모델 구현 리뷰"
   ]
  },
  {
   "cell_type": "code",
   "execution_count": 18,
   "metadata": {},
   "outputs": [],
   "source": [
    "# Subclass 방법으로 모델 구현\n",
    "# Model이라는 클래스를 상속받아 구현\n",
    "\n",
    "from tensorflow.keras import Model\n",
    "\n",
    "class SubModel(Model):\n",
    "    \n",
    "    \n",
    "    def __init__(self):\n",
    "        super().__init__()\n",
    "        \n",
    "        # fully connected layer 1개 추가\n",
    "        # 64라는 의미는 해당 layer의 output shape가 (, 64)라는 의미이다.\n",
    "        self.dense1 = tf.keras.layers.Dense(64)\n",
    "        \n",
    "        # fully connected layer 1개 추가\n",
    "        # 10라는 의미는 해당 layer의 output shape가 (, 10)라는 의미이다.\n",
    "        # 최종적으로 분류해야할 카테고리가 0-9까지의 숫자이기 때문이다.\n",
    "        self.dense2 = tf.keras.layers.Dense(10)\n",
    "        \n",
    "        \n",
    "    def call(self, X):\n",
    "        \n",
    "        # 첫번째 fully connected layer를 통과\n",
    "        # 해당 레이어의 output shape (None, 64)\n",
    "        x = self.dense1(X)\n",
    "        \n",
    "        # 두 fully connected layer 사이에 활성화함수를 추가하기 위해\n",
    "        x = tf.nn.relu(x)\n",
    "        \n",
    "        # 두번째 fully connected layer를 통과\n",
    "        # 해당 레이어의 output shape (None, 10)\n",
    "        y = self.dense2(x)\n",
    "        \n",
    "        return y"
   ]
  },
  {
   "cell_type": "code",
   "execution_count": 19,
   "metadata": {},
   "outputs": [],
   "source": [
    "sub_model = SubModel()"
   ]
  },
  {
   "cell_type": "markdown",
   "metadata": {},
   "source": [
    "## Functional API\n",
    "\n",
    "### Input 크기 정의\n",
    "\n",
    "Input의 shape는 사용할 데이터의 shape와 동일하다. 사용 데이터의 shape중에 첫 번째 차원의 크기 60000은 단순히 데이터의 갯수를 의미한다.Input의 경우, 1개의 데이터의 shape를 전달해주면 되므로 (60000, 784) -> (784) 만 사용하면 된다. (3000, 128, 128, 3)의 데이터가 있다면, (128, 128, 3)만 Input에 넣어주면 된다."
   ]
  },
  {
   "cell_type": "code",
   "execution_count": 22,
   "metadata": {},
   "outputs": [],
   "source": [
    "# Functional\n",
    "\n",
    "# Input을 정의\n",
    "inputs = tf.keras.Input( 28 * 28 )\n",
    "\n",
    "# Dense클래스의 layer인스턴스를 생성하고 즉시 inputs라는 텐서를 통해 호출하는 방식\n",
    "# fly라는 변수는 fully connected layer 인스턴스 생성\n",
    "# fly =  tf.keras.layers.Dense(64)\n",
    "# x = fly(inputs)\n",
    "\n",
    "# 첫번째 fully connected layer 통과\n",
    "x =  tf.keras.layers.Dense(64)(inputs)\n",
    "\n",
    "# 활성화 함수 통과\n",
    "x = tf.nn.relu(x)\n",
    "\n",
    "# 두번째 fully connected layer 통과\n",
    "y = tf.keras.layers.Dense(10)(x)\n",
    "\n",
    "func_model = tf.keras.Model(inputs = inputs, outputs = y)"
   ]
  },
  {
   "cell_type": "code",
   "execution_count": 23,
   "metadata": {
    "collapsed": true
   },
   "outputs": [
    {
     "name": "stdout",
     "output_type": "stream",
     "text": [
      "Model: \"functional_1\"\n",
      "_________________________________________________________________\n",
      "Layer (type)                 Output Shape              Param #   \n",
      "=================================================================\n",
      "input_1 (InputLayer)         [(None, 784)]             0         \n",
      "_________________________________________________________________\n",
      "dense_2 (Dense)              (None, 64)                50240     \n",
      "_________________________________________________________________\n",
      "tf_op_layer_Relu (TensorFlow [(None, 64)]              0         \n",
      "_________________________________________________________________\n",
      "dense_3 (Dense)              (None, 10)                650       \n",
      "=================================================================\n",
      "Total params: 50,890\n",
      "Trainable params: 50,890\n",
      "Non-trainable params: 0\n",
      "_________________________________________________________________\n"
     ]
    }
   ],
   "source": [
    "func_model.summary()"
   ]
  },
  {
   "cell_type": "code",
   "execution_count": 44,
   "metadata": {},
   "outputs": [],
   "source": [
    "# Sequential API\n",
    "seq_model = tf.keras.Sequential([\n",
    "    # 통과할 layer를 배열로 제공\n",
    "    tf.keras.layers.Dense(64),\n",
    "    # 활성화 함수 레이어\n",
    "    tf.keras.layers.ReLU(),\n",
    "    tf.keras.layers.Dense(10)\n",
    "])"
   ]
  },
  {
   "cell_type": "markdown",
   "metadata": {},
   "source": [
    "### 3가지 모델에 대해서 학습"
   ]
  },
  {
   "cell_type": "code",
   "execution_count": 33,
   "metadata": {},
   "outputs": [
    {
     "data": {
      "text/plain": [
       "<tensorflow.python.keras.engine.sequential.Sequential at 0x1dfdfe88fd0>"
      ]
     },
     "execution_count": 33,
     "metadata": {},
     "output_type": "execute_result"
    }
   ],
   "source": [
    "# functional API로 구현한 모델\n",
    "func_model\n",
    "# subclass로 구현한 모델\n",
    "sub_model\n",
    "# sequential API로 구현한 모델\n",
    "seq_model"
   ]
  },
  {
   "cell_type": "code",
   "execution_count": 45,
   "metadata": {},
   "outputs": [],
   "source": [
    "# 이전\n",
    "func_model.compile(\n",
    "    loss = tf.keras.losses.SparseCategoricalCrossentropy(from_logits = True),\n",
    "    optimizer = tf.keras.optimizers.Adam(),\n",
    "    metrics = ['accuracy']\n",
    ")"
   ]
  },
  {
   "cell_type": "code",
   "execution_count": null,
   "metadata": {},
   "outputs": [],
   "source": [
    "sub_model.compile(\n",
    "    loss = tf.keras.losses.SparseCategoricalCrossentropy(from_logits = True),\n",
    "    optimizer = tf.keras.optimizers.Adam(),\n",
    "    metrics = ['accuracy']\n",
    ")"
   ]
  },
  {
   "cell_type": "code",
   "execution_count": 48,
   "metadata": {},
   "outputs": [],
   "source": [
    "seq_model.compile(\n",
    "    loss = tf.keras.losses.SparseCategoricalCrossentropy(from_logits = True),\n",
    "    optimizer = tf.keras.optimizers.Adam(),\n",
    "    metrics = ['accuracy']\n",
    ")"
   ]
  },
  {
   "cell_type": "code",
   "execution_count": 46,
   "metadata": {
    "collapsed": true
   },
   "outputs": [
    {
     "name": "stdout",
     "output_type": "stream",
     "text": [
      "Epoch 1/30\n",
      "600/600 [==============================] - 0s 503us/step - loss: 0.3895 - accuracy: 0.8940\n",
      "Epoch 2/30\n",
      "600/600 [==============================] - 0s 502us/step - loss: 0.1890 - accuracy: 0.9466\n",
      "Epoch 3/30\n",
      "600/600 [==============================] - 0s 511us/step - loss: 0.1429 - accuracy: 0.9585\n",
      "Epoch 4/30\n",
      "600/600 [==============================] - 0s 515us/step - loss: 0.1145 - accuracy: 0.9671\n",
      "Epoch 5/30\n",
      "600/600 [==============================] - 0s 510us/step - loss: 0.0962 - accuracy: 0.9720\n",
      "Epoch 6/30\n",
      "600/600 [==============================] - 0s 510us/step - loss: 0.0823 - accuracy: 0.9755\n",
      "Epoch 7/30\n",
      "600/600 [==============================] - 0s 509us/step - loss: 0.0708 - accuracy: 0.9790\n",
      "Epoch 8/30\n",
      "600/600 [==============================] - 0s 509us/step - loss: 0.0627 - accuracy: 0.9815\n",
      "Epoch 9/30\n",
      "600/600 [==============================] - 0s 507us/step - loss: 0.0543 - accuracy: 0.9843\n",
      "Epoch 10/30\n",
      "600/600 [==============================] - 0s 510us/step - loss: 0.0490 - accuracy: 0.9860\n",
      "Epoch 11/30\n",
      "600/600 [==============================] - 0s 512us/step - loss: 0.0426 - accuracy: 0.9879\n",
      "Epoch 12/30\n",
      "600/600 [==============================] - 0s 507us/step - loss: 0.0383 - accuracy: 0.9894\n",
      "Epoch 13/30\n",
      "600/600 [==============================] - 0s 509us/step - loss: 0.0344 - accuracy: 0.9903\n",
      "Epoch 14/30\n",
      "600/600 [==============================] - 0s 517us/step - loss: 0.0306 - accuracy: 0.9913\n",
      "Epoch 15/30\n",
      "600/600 [==============================] - 0s 515us/step - loss: 0.0276 - accuracy: 0.9925\n",
      "Epoch 16/30\n",
      "600/600 [==============================] - 0s 512us/step - loss: 0.0248 - accuracy: 0.9927\n",
      "Epoch 17/30\n",
      "600/600 [==============================] - 0s 518us/step - loss: 0.0221 - accuracy: 0.9940\n",
      "Epoch 18/30\n",
      "600/600 [==============================] - 0s 511us/step - loss: 0.0193 - accuracy: 0.9953\n",
      "Epoch 19/30\n",
      "600/600 [==============================] - 0s 512us/step - loss: 0.0171 - accuracy: 0.9958\n",
      "Epoch 20/30\n",
      "600/600 [==============================] - 0s 511us/step - loss: 0.0157 - accuracy: 0.9964\n",
      "Epoch 21/30\n",
      "600/600 [==============================] - 0s 515us/step - loss: 0.0149 - accuracy: 0.9963\n",
      "Epoch 22/30\n",
      "600/600 [==============================] - 0s 516us/step - loss: 0.0128 - accuracy: 0.9969\n",
      "Epoch 23/30\n",
      "600/600 [==============================] - 0s 514us/step - loss: 0.0120 - accuracy: 0.9972\n",
      "Epoch 24/30\n",
      "600/600 [==============================] - 0s 517us/step - loss: 0.0097 - accuracy: 0.9980\n",
      "Epoch 25/30\n",
      "600/600 [==============================] - 0s 516us/step - loss: 0.0091 - accuracy: 0.9982\n",
      "Epoch 26/30\n",
      "600/600 [==============================] - 0s 514us/step - loss: 0.0081 - accuracy: 0.9984\n",
      "Epoch 27/30\n",
      "600/600 [==============================] - 0s 516us/step - loss: 0.0072 - accuracy: 0.9986\n",
      "Epoch 28/30\n",
      "600/600 [==============================] - 0s 515us/step - loss: 0.0074 - accuracy: 0.9985\n",
      "Epoch 29/30\n",
      "600/600 [==============================] - 0s 514us/step - loss: 0.0063 - accuracy: 0.9988\n",
      "Epoch 30/30\n",
      "600/600 [==============================] - 0s 518us/step - loss: 0.0050 - accuracy: 0.9992\n"
     ]
    },
    {
     "data": {
      "text/plain": [
       "<tensorflow.python.keras.callbacks.History at 0x1dfe11f2670>"
      ]
     },
     "execution_count": 46,
     "metadata": {},
     "output_type": "execute_result"
    }
   ],
   "source": [
    "# 학습 \n",
    "# epochs 30이라는 의미는 현재 학습 데이터를 총 30번 사용하겠다.\n",
    "# batch_size가 100이라는 의미는 가중치 갱신시, 100개씩 사용하여 가중치를 반영시키겠다.\n",
    "# step  60000 / 100 => 600\n",
    "func_model.fit(x_train, y_train, epochs = 30, batch_size = 100)"
   ]
  },
  {
   "cell_type": "code",
   "execution_count": 49,
   "metadata": {
    "collapsed": true
   },
   "outputs": [
    {
     "name": "stdout",
     "output_type": "stream",
     "text": [
      "Epoch 1/30\n",
      "600/600 [==============================] - 0s 503us/step - loss: 0.3861 - accuracy: 0.8940\n",
      "Epoch 2/30\n",
      "600/600 [==============================] - 0s 510us/step - loss: 0.1883 - accuracy: 0.9465\n",
      "Epoch 3/30\n",
      "600/600 [==============================] - 0s 519us/step - loss: 0.1449 - accuracy: 0.9576\n",
      "Epoch 4/30\n",
      "600/600 [==============================] - 0s 513us/step - loss: 0.1186 - accuracy: 0.9653\n",
      "Epoch 5/30\n",
      "600/600 [==============================] - 0s 510us/step - loss: 0.0992 - accuracy: 0.9711\n",
      "Epoch 6/30\n",
      "600/600 [==============================] - 0s 516us/step - loss: 0.0856 - accuracy: 0.9747\n",
      "Epoch 7/30\n",
      "600/600 [==============================] - 0s 512us/step - loss: 0.0738 - accuracy: 0.9788\n",
      "Epoch 8/30\n",
      "600/600 [==============================] - 0s 513us/step - loss: 0.0647 - accuracy: 0.9811\n",
      "Epoch 9/30\n",
      "600/600 [==============================] - 0s 512us/step - loss: 0.0573 - accuracy: 0.9833\n",
      "Epoch 10/30\n",
      "600/600 [==============================] - 0s 510us/step - loss: 0.0513 - accuracy: 0.9847\n",
      "Epoch 11/30\n",
      "600/600 [==============================] - 0s 510us/step - loss: 0.0457 - accuracy: 0.9871\n",
      "Epoch 12/30\n",
      "600/600 [==============================] - 0s 514us/step - loss: 0.0400 - accuracy: 0.9887\n",
      "Epoch 13/30\n",
      "600/600 [==============================] - 0s 518us/step - loss: 0.0358 - accuracy: 0.9898\n",
      "Epoch 14/30\n",
      "600/600 [==============================] - 0s 516us/step - loss: 0.0326 - accuracy: 0.9907\n",
      "Epoch 15/30\n",
      "600/600 [==============================] - 0s 517us/step - loss: 0.0287 - accuracy: 0.9923\n",
      "Epoch 16/30\n",
      "600/600 [==============================] - 0s 513us/step - loss: 0.0262 - accuracy: 0.9925\n",
      "Epoch 17/30\n",
      "600/600 [==============================] - 0s 518us/step - loss: 0.0227 - accuracy: 0.9939\n",
      "Epoch 18/30\n",
      "600/600 [==============================] - 0s 523us/step - loss: 0.0207 - accuracy: 0.9946\n",
      "Epoch 19/30\n",
      "600/600 [==============================] - 0s 519us/step - loss: 0.0185 - accuracy: 0.9953\n",
      "Epoch 20/30\n",
      "600/600 [==============================] - 0s 521us/step - loss: 0.0166 - accuracy: 0.9959\n",
      "Epoch 21/30\n",
      "600/600 [==============================] - 0s 522us/step - loss: 0.0149 - accuracy: 0.9965\n",
      "Epoch 22/30\n",
      "600/600 [==============================] - 0s 518us/step - loss: 0.0130 - accuracy: 0.9972\n",
      "Epoch 23/30\n",
      "600/600 [==============================] - 0s 518us/step - loss: 0.0126 - accuracy: 0.9970\n",
      "Epoch 24/30\n",
      "600/600 [==============================] - 0s 516us/step - loss: 0.0106 - accuracy: 0.9977\n",
      "Epoch 25/30\n",
      "600/600 [==============================] - 0s 522us/step - loss: 0.0098 - accuracy: 0.9980\n",
      "Epoch 26/30\n",
      "600/600 [==============================] - 0s 519us/step - loss: 0.0078 - accuracy: 0.9986\n",
      "Epoch 27/30\n",
      "600/600 [==============================] - 0s 518us/step - loss: 0.0084 - accuracy: 0.9982\n",
      "Epoch 28/30\n",
      "600/600 [==============================] - 0s 521us/step - loss: 0.0071 - accuracy: 0.9985\n",
      "Epoch 29/30\n",
      "600/600 [==============================] - 0s 520us/step - loss: 0.0065 - accuracy: 0.9988\n",
      "Epoch 30/30\n",
      "600/600 [==============================] - 0s 522us/step - loss: 0.0059 - accuracy: 0.9990\n"
     ]
    },
    {
     "data": {
      "text/plain": [
       "<tensorflow.python.keras.callbacks.History at 0x1dfe24c7af0>"
      ]
     },
     "execution_count": 49,
     "metadata": {},
     "output_type": "execute_result"
    }
   ],
   "source": [
    "seq_model.fit(x_train, y_train, epochs = 30, batch_size = 100)"
   ]
  },
  {
   "cell_type": "code",
   "execution_count": 50,
   "metadata": {
    "collapsed": true
   },
   "outputs": [
    {
     "name": "stdout",
     "output_type": "stream",
     "text": [
      "Epoch 1/30\n",
      "600/600 [==============================] - 0s 505us/step - loss: 0.3958 - accuracy: 0.8909\n",
      "Epoch 2/30\n",
      "600/600 [==============================] - 0s 505us/step - loss: 0.2002 - accuracy: 0.9432\n",
      "Epoch 3/30\n",
      "600/600 [==============================] - 0s 506us/step - loss: 0.1524 - accuracy: 0.9564\n",
      "Epoch 4/30\n",
      "600/600 [==============================] - 0s 517us/step - loss: 0.1236 - accuracy: 0.9646\n",
      "Epoch 5/30\n",
      "600/600 [==============================] - 0s 505us/step - loss: 0.1038 - accuracy: 0.9701\n",
      "Epoch 6/30\n",
      "600/600 [==============================] - 0s 508us/step - loss: 0.0890 - accuracy: 0.9743\n",
      "Epoch 7/30\n",
      "600/600 [==============================] - 0s 517us/step - loss: 0.0775 - accuracy: 0.9782\n",
      "Epoch 8/30\n",
      "600/600 [==============================] - 0s 508us/step - loss: 0.0685 - accuracy: 0.9798\n",
      "Epoch 9/30\n",
      "600/600 [==============================] - 0s 505us/step - loss: 0.0599 - accuracy: 0.9828\n",
      "Epoch 10/30\n",
      "600/600 [==============================] - 0s 500us/step - loss: 0.0532 - accuracy: 0.9842\n",
      "Epoch 11/30\n",
      "600/600 [==============================] - 0s 512us/step - loss: 0.0482 - accuracy: 0.9859\n",
      "Epoch 12/30\n",
      "600/600 [==============================] - 0s 512us/step - loss: 0.0430 - accuracy: 0.9874\n",
      "Epoch 13/30\n",
      "600/600 [==============================] - 0s 504us/step - loss: 0.0387 - accuracy: 0.9883\n",
      "Epoch 14/30\n",
      "600/600 [==============================] - 0s 510us/step - loss: 0.0345 - accuracy: 0.9904\n",
      "Epoch 15/30\n",
      "600/600 [==============================] - 0s 505us/step - loss: 0.0314 - accuracy: 0.9908\n",
      "Epoch 16/30\n",
      "600/600 [==============================] - 0s 499us/step - loss: 0.0285 - accuracy: 0.9920\n",
      "Epoch 17/30\n",
      "600/600 [==============================] - 0s 507us/step - loss: 0.0247 - accuracy: 0.9933\n",
      "Epoch 18/30\n",
      "600/600 [==============================] - 0s 503us/step - loss: 0.0231 - accuracy: 0.9937\n",
      "Epoch 19/30\n",
      "600/600 [==============================] - 0s 503us/step - loss: 0.0212 - accuracy: 0.9944\n",
      "Epoch 20/30\n",
      "600/600 [==============================] - 0s 505us/step - loss: 0.0190 - accuracy: 0.9952\n",
      "Epoch 21/30\n",
      "600/600 [==============================] - 0s 546us/step - loss: 0.0170 - accuracy: 0.9958\n",
      "Epoch 22/30\n",
      "600/600 [==============================] - 0s 536us/step - loss: 0.0151 - accuracy: 0.9965\n",
      "Epoch 23/30\n",
      "600/600 [==============================] - 0s 525us/step - loss: 0.0137 - accuracy: 0.9968\n",
      "Epoch 24/30\n",
      "600/600 [==============================] - 0s 511us/step - loss: 0.0120 - accuracy: 0.9975\n",
      "Epoch 25/30\n",
      "600/600 [==============================] - 0s 510us/step - loss: 0.0115 - accuracy: 0.9972\n",
      "Epoch 26/30\n",
      "600/600 [==============================] - 0s 503us/step - loss: 0.0110 - accuracy: 0.9975\n",
      "Epoch 27/30\n",
      "600/600 [==============================] - 0s 512us/step - loss: 0.0094 - accuracy: 0.9980\n",
      "Epoch 28/30\n",
      "600/600 [==============================] - 0s 507us/step - loss: 0.0087 - accuracy: 0.9982\n",
      "Epoch 29/30\n",
      "600/600 [==============================] - 0s 513us/step - loss: 0.0070 - accuracy: 0.9988\n",
      "Epoch 30/30\n",
      "600/600 [==============================] - 0s 507us/step - loss: 0.0064 - accuracy: 0.9989\n"
     ]
    },
    {
     "data": {
      "text/plain": [
       "<tensorflow.python.keras.callbacks.History at 0x1dfe53df100>"
      ]
     },
     "execution_count": 50,
     "metadata": {},
     "output_type": "execute_result"
    }
   ],
   "source": [
    "sub_model.fit(x_train, y_train, epochs = 30, batch_size = 100)"
   ]
  },
  {
   "cell_type": "code",
   "execution_count": 51,
   "metadata": {},
   "outputs": [
    {
     "name": "stdout",
     "output_type": "stream",
     "text": [
      "313/313 [==============================] - 0s 362us/step - loss: 0.1088 - accuracy: 0.9740\n"
     ]
    },
    {
     "data": {
      "text/plain": [
       "[0.10876535624265671, 0.9739999771118164]"
      ]
     },
     "execution_count": 51,
     "metadata": {},
     "output_type": "execute_result"
    }
   ],
   "source": [
    "# 학습이 잘되었는지 평가\n",
    "func_model.evaluate(x_test, y_test)"
   ]
  },
  {
   "cell_type": "code",
   "execution_count": 52,
   "metadata": {},
   "outputs": [
    {
     "name": "stdout",
     "output_type": "stream",
     "text": [
      "313/313 [==============================] - 0s 360us/step - loss: 0.0978 - accuracy: 0.9755\n"
     ]
    },
    {
     "data": {
      "text/plain": [
       "[0.09781114757061005, 0.9754999876022339]"
      ]
     },
     "execution_count": 52,
     "metadata": {},
     "output_type": "execute_result"
    }
   ],
   "source": [
    "seq_model.evaluate(x_test, y_test)"
   ]
  },
  {
   "cell_type": "code",
   "execution_count": 54,
   "metadata": {},
   "outputs": [
    {
     "name": "stdout",
     "output_type": "stream",
     "text": [
      "313/313 [==============================] - 0s 356us/step - loss: 0.1148 - accuracy: 0.9736\n"
     ]
    },
    {
     "data": {
      "text/plain": [
       "[0.11475356668233871, 0.9735999703407288]"
      ]
     },
     "execution_count": 54,
     "metadata": {},
     "output_type": "execute_result"
    }
   ],
   "source": [
    "sub_model.evaluate(x_test, y_test)"
   ]
  },
  {
   "cell_type": "markdown",
   "metadata": {},
   "source": [
    "## learning rate가 과도하게 높은 경우, 제대로 학습이 진행되지 않는다.\n",
    "\n",
    "learning rate가 실제 필요한 값보다 높게 설정하는 경우, 가중치 값을 수렴하는데 있어서 제대로 수렴하지 못하는 경우가 발생한다.\n",
    "\n",
    "Adam optimizer의 learning_rate의 기본 값은 0.001인데, 0.1로 100배의 높은 값을 사용하였기 때문에 제대로 학습되지 않았다."
   ]
  },
  {
   "cell_type": "code",
   "execution_count": 102,
   "metadata": {},
   "outputs": [],
   "source": [
    "# Sequential API\n",
    "seq_model = tf.keras.Sequential([\n",
    "    # 통과할 layer를 배열로 제공\n",
    "    tf.keras.layers.Dense(64),\n",
    "    # 활성화 함수 레이어\n",
    "    tf.keras.layers.ReLU(),\n",
    "    tf.keras.layers.Dense(10)\n",
    "])"
   ]
  },
  {
   "cell_type": "code",
   "execution_count": 103,
   "metadata": {},
   "outputs": [],
   "source": [
    "seq_model.compile(\n",
    "    loss = tf.keras.losses.SparseCategoricalCrossentropy(from_logits = True),\n",
    "    optimizer = tf.keras.optimizers.Adam(),\n",
    "    metrics = ['accuracy']\n",
    ")"
   ]
  },
  {
   "cell_type": "code",
   "execution_count": 104,
   "metadata": {
    "collapsed": true
   },
   "outputs": [
    {
     "name": "stdout",
     "output_type": "stream",
     "text": [
      "Epoch 1/30\n",
      "600/600 [==============================] - 0s 505us/step - loss: 0.3926 - accuracy: 0.8926\n",
      "Epoch 2/30\n",
      "600/600 [==============================] - 0s 507us/step - loss: 0.1936 - accuracy: 0.9445\n",
      "Epoch 3/30\n",
      "600/600 [==============================] - 0s 515us/step - loss: 0.1472 - accuracy: 0.9578\n",
      "Epoch 4/30\n",
      "600/600 [==============================] - 0s 523us/step - loss: 0.1199 - accuracy: 0.9657\n",
      "Epoch 5/30\n",
      "600/600 [==============================] - 0s 511us/step - loss: 0.1014 - accuracy: 0.9698\n",
      "Epoch 6/30\n",
      "600/600 [==============================] - 0s 511us/step - loss: 0.0868 - accuracy: 0.9747\n",
      "Epoch 7/30\n",
      "600/600 [==============================] - 0s 511us/step - loss: 0.0761 - accuracy: 0.9778\n",
      "Epoch 8/30\n",
      "600/600 [==============================] - 0s 517us/step - loss: 0.0673 - accuracy: 0.9805\n",
      "Epoch 9/30\n",
      "600/600 [==============================] - 0s 516us/step - loss: 0.0598 - accuracy: 0.9827\n",
      "Epoch 10/30\n",
      "600/600 [==============================] - 0s 514us/step - loss: 0.0531 - accuracy: 0.9849\n",
      "Epoch 11/30\n",
      "600/600 [==============================] - 0s 510us/step - loss: 0.0471 - accuracy: 0.9866\n",
      "Epoch 12/30\n",
      "600/600 [==============================] - 0s 515us/step - loss: 0.0429 - accuracy: 0.9876\n",
      "Epoch 13/30\n",
      "600/600 [==============================] - 0s 512us/step - loss: 0.0383 - accuracy: 0.9890\n",
      "Epoch 14/30\n",
      "600/600 [==============================] - 0s 514us/step - loss: 0.0346 - accuracy: 0.9904\n",
      "Epoch 15/30\n",
      "600/600 [==============================] - 0s 513us/step - loss: 0.0305 - accuracy: 0.9916\n",
      "Epoch 16/30\n",
      "600/600 [==============================] - 0s 514us/step - loss: 0.0281 - accuracy: 0.9926\n",
      "Epoch 17/30\n",
      "600/600 [==============================] - 0s 514us/step - loss: 0.0250 - accuracy: 0.9933\n",
      "Epoch 18/30\n",
      "600/600 [==============================] - 0s 518us/step - loss: 0.0226 - accuracy: 0.9943\n",
      "Epoch 19/30\n",
      "600/600 [==============================] - 0s 516us/step - loss: 0.0211 - accuracy: 0.9944\n",
      "Epoch 20/30\n",
      "600/600 [==============================] - 0s 514us/step - loss: 0.0184 - accuracy: 0.9954\n",
      "Epoch 21/30\n",
      "600/600 [==============================] - 0s 517us/step - loss: 0.0164 - accuracy: 0.9959\n",
      "Epoch 22/30\n",
      "600/600 [==============================] - 0s 521us/step - loss: 0.0152 - accuracy: 0.9966\n",
      "Epoch 23/30\n",
      "600/600 [==============================] - 0s 516us/step - loss: 0.0138 - accuracy: 0.9968\n",
      "Epoch 24/30\n",
      "600/600 [==============================] - 0s 517us/step - loss: 0.0123 - accuracy: 0.9972\n",
      "Epoch 25/30\n",
      "600/600 [==============================] - 0s 520us/step - loss: 0.0115 - accuracy: 0.9977\n",
      "Epoch 26/30\n",
      "600/600 [==============================] - 0s 513us/step - loss: 0.0104 - accuracy: 0.9978\n",
      "Epoch 27/30\n",
      "600/600 [==============================] - 0s 511us/step - loss: 0.0095 - accuracy: 0.9982\n",
      "Epoch 28/30\n",
      "600/600 [==============================] - 0s 514us/step - loss: 0.0090 - accuracy: 0.9981\n",
      "Epoch 29/30\n",
      "600/600 [==============================] - 0s 519us/step - loss: 0.0077 - accuracy: 0.9986\n",
      "Epoch 30/30\n",
      "600/600 [==============================] - 0s 515us/step - loss: 0.0076 - accuracy: 0.9985\n"
     ]
    },
    {
     "data": {
      "text/plain": [
       "<tensorflow.python.keras.callbacks.History at 0x1dfe88da250>"
      ]
     },
     "execution_count": 104,
     "metadata": {},
     "output_type": "execute_result"
    }
   ],
   "source": [
    "seq_model.fit(x_train, y_train, epochs = 30, batch_size = 100)"
   ]
  },
  {
   "cell_type": "markdown",
   "metadata": {},
   "source": [
    "# 모델의 가중치 값만 저장하거나 로딩하기\n",
    "\n",
    "오직 가중치만 저장하고 가져오기만 가능하도록 하고싶을 수가 있다. 이럴 때가 있나 싶지만\n",
    "\n",
    "1. 추론즉, 결과값 반환만을 수행하고 싶을 때 사용한다. 이 때는 학습이 필요하지 않기 때문에 compile option, optimizer들이 필요가 없다.\n",
    "2. 전이학습을 진행하는 경우에 사용한다. 이 전 모델의 상태만 재사용하여 새로운 모델을 트레이닝하는 경우, 즉, 이전 모델의 compile option, optimizer가 필요하지 않지 않기 때문에 가중치만 가져와서 사용한다.\n",
    "\n",
    "\n",
    "## 전이학습\n",
    "\n",
    "> 기존의 데이터를 통해 구현한 문제 해결 방식들을 연관성이 존재하는 다른 문제에 적용할 수 있도록 하는 머신러닝의 한 방법\n",
    "\n",
    "이 때, 가중치 값만 가져오기 떄문에 모델의 아키텍처는 구현이 되어있거나 선언되어있어야한다.\n",
    "\n",
    "* 가중치가 존재하지 않는 relu, dropout, batchNormalization 과같은 layer가 있더라도 가중치의 값을 로딩할 수 있다.\n",
    "\n",
    "\n",
    "\n",
    "### 메모리 상에서 가중치 전달\n",
    "\n",
    "```python\n",
    "# 해당 모델에서 weight를 가져온다.\n",
    "model.get_weights()\n",
    "\n",
    "\n",
    "#\n",
    "new_model.set_weights(<weight>)\n",
    "\n",
    "```\n",
    "\n",
    "\n",
    "### 디스크에 가중치 저장, 로드\n",
    "\n",
    "```python\n",
    "model.save_weights(<save_format>)\n",
    "\n",
    "```\n",
    "\n",
    "모델을 저장하고 다시 로드할 때, 반드시 모델을 구현하는 방식 (subclass, functional API, sequential API)을 동일하게 사용해야한다."
   ]
  },
  {
   "cell_type": "markdown",
   "metadata": {},
   "source": [
    "# weight 저장방법\n",
    "\n",
    "\n",
    "저장할 때는 동일한 방법으로 모델을 구현하고 해당 모델에 가중치를 로드해야한다."
   ]
  },
  {
   "cell_type": "markdown",
   "metadata": {},
   "source": [
    "## class subclass 방식의 모델의 가중치를 전달\n",
    "\n",
    "1. 변수를 통한 가중치 전달. -> NO\n",
    "\n",
    "2. 파일을 통한 가중치 전달. -> YES"
   ]
  },
  {
   "cell_type": "code",
   "execution_count": 61,
   "metadata": {},
   "outputs": [],
   "source": [
    "# 1. 메모리(코드) 상에서 모델의 가중치를 전달 -> 변수 'sub_weights'에 가중치를 저장\n",
    "sub_weights = sub_model.get_weights()"
   ]
  },
  {
   "cell_type": "code",
   "execution_count": 63,
   "metadata": {},
   "outputs": [],
   "source": [
    "# 2. 실제 파일로 모델의 가중치를 전달\n",
    "sub_model.save_weights('./weights/sub')"
   ]
  },
  {
   "cell_type": "code",
   "execution_count": 71,
   "metadata": {},
   "outputs": [],
   "source": [
    "# 파일로 모델의 가중치를 로드\n",
    "# 동일한 형태의 모델을 새로 생성\n",
    "sub_new_model = SubModel()"
   ]
  },
  {
   "cell_type": "code",
   "execution_count": 66,
   "metadata": {},
   "outputs": [],
   "source": [
    "sub_new_model.compile(\n",
    "    loss = tf.keras.losses.SparseCategoricalCrossentropy(from_logits = True),\n",
    "    optimizer = tf.keras.optimizers.Adam(),\n",
    "    metrics = ['accuracy']\n",
    ")"
   ]
  },
  {
   "cell_type": "code",
   "execution_count": 67,
   "metadata": {
    "collapsed": true
   },
   "outputs": [
    {
     "name": "stdout",
     "output_type": "stream",
     "text": [
      "  1/313 [..............................] - ETA: 0s - loss: 2.3759 - accuracy: 0.0312WARNING:tensorflow:Callbacks method `on_test_batch_end` is slow compared to the batch time (batch time: 0.0000s vs `on_test_batch_end` time: 0.0010s). Check your callbacks.\n",
      "313/313 [==============================] - 0s 368us/step - loss: 2.3852 - accuracy: 0.0808\n"
     ]
    },
    {
     "data": {
      "text/plain": [
       "[2.3852014541625977, 0.08079999685287476]"
      ]
     },
     "execution_count": 67,
     "metadata": {},
     "output_type": "execute_result"
    }
   ],
   "source": [
    "# 초기값을 가지고 있기 때문에 정확도가 매우 낮거나 실행되지 않을 것.\n",
    "sub_new_model.evaluate(x_test, y_test)"
   ]
  },
  {
   "cell_type": "code",
   "execution_count": 68,
   "metadata": {},
   "outputs": [
    {
     "data": {
      "text/plain": [
       "<tensorflow.python.training.tracking.util.CheckpointLoadStatus at 0x1dfe58b9610>"
      ]
     },
     "execution_count": 68,
     "metadata": {},
     "output_type": "execute_result"
    }
   ],
   "source": [
    "sub_new_model.load_weights('./weights/sub')"
   ]
  },
  {
   "cell_type": "code",
   "execution_count": 69,
   "metadata": {},
   "outputs": [
    {
     "name": "stdout",
     "output_type": "stream",
     "text": [
      "313/313 [==============================] - 0s 354us/step - loss: 0.1148 - accuracy: 0.9736\n"
     ]
    },
    {
     "data": {
      "text/plain": [
       "[0.11475356668233871, 0.9735999703407288]"
      ]
     },
     "execution_count": 69,
     "metadata": {},
     "output_type": "execute_result"
    }
   ],
   "source": [
    "sub_new_model.evaluate(x_test, y_test)"
   ]
  },
  {
   "cell_type": "code",
   "execution_count": 70,
   "metadata": {
    "collapsed": true
   },
   "outputs": [
    {
     "data": {
      "text/plain": [
       "[array([[ 0.02248818, -0.06485312,  0.03017422, ...,  0.01686268,\n",
       "          0.00288638,  0.01042879],\n",
       "        [ 0.03235076,  0.08181152,  0.06495798, ..., -0.05207455,\n",
       "         -0.07318275,  0.03650863],\n",
       "        [ 0.06364905,  0.01289119, -0.0355127 , ...,  0.05621331,\n",
       "         -0.00037332,  0.0554458 ],\n",
       "        ...,\n",
       "        [-0.04104753,  0.03669202, -0.001722  , ..., -0.02938191,\n",
       "          0.03350545,  0.01162734],\n",
       "        [-0.05755827, -0.05904122,  0.03956515, ..., -0.08326103,\n",
       "          0.06350818,  0.02566323],\n",
       "        [-0.02726152, -0.01475883, -0.01435865, ...,  0.04154914,\n",
       "         -0.02404592, -0.02891355]], dtype=float32),\n",
       " array([ 0.37633452, -0.05193192, -0.08608557,  0.04161313, -0.04378584,\n",
       "        -0.03874684,  0.26989302, -0.30805224, -0.16692297, -0.21364735,\n",
       "        -0.06521977,  0.14161904, -0.14672603,  0.28632572, -0.09810597,\n",
       "         0.24433994, -0.03250898,  0.3001712 ,  0.1140523 , -0.06633083,\n",
       "        -0.04890596,  0.18620513, -0.01224095,  0.13151869, -0.06651019,\n",
       "         0.27457973,  0.12132327,  0.13725664,  0.01125097,  0.20501888,\n",
       "        -0.11271887, -0.35829085,  0.2744044 ,  0.1062632 ,  0.15191379,\n",
       "        -0.10651746,  0.04639924, -0.23589733, -0.08316829,  0.1501609 ,\n",
       "        -0.26162857,  0.41351742, -0.09357399,  0.1240814 , -0.04736821,\n",
       "         0.0088252 ,  0.10741787,  0.14264186,  0.1701237 , -0.08295004,\n",
       "         0.19626407,  0.23926188, -0.01832165,  0.0856251 ,  0.07030591,\n",
       "         0.17276645, -0.11070373, -0.12432911,  0.23039532, -0.08880901,\n",
       "        -0.06460416,  0.1469395 ,  0.31966785, -0.24013221], dtype=float32),\n",
       " array([[-2.79816747e-01, -9.76178646e-01,  8.02032650e-01,\n",
       "         -4.52915102e-01,  2.89836973e-02,  3.57293546e-01,\n",
       "          7.20998883e-01,  3.46748173e-01, -3.68638076e-02,\n",
       "         -9.87285852e-01],\n",
       "        [ 2.17197239e-01, -7.50432834e-02,  4.02014703e-01,\n",
       "          1.09055631e-01, -1.65286279e+00,  3.98195058e-01,\n",
       "         -1.57455616e-02, -3.58480364e-01,  2.10940525e-01,\n",
       "         -2.12414786e-02],\n",
       "        [ 2.36678824e-01, -2.45232970e-01,  5.96839011e-01,\n",
       "         -6.50497437e-01, -6.71592474e-01, -1.00838983e+00,\n",
       "         -2.50109375e-01, -5.38749620e-02,  6.87515020e-01,\n",
       "         -3.76202822e-01],\n",
       "        [ 2.32110992e-01,  5.44999421e-01,  6.29942238e-01,\n",
       "         -7.66552091e-01, -4.27163877e-02, -8.84742737e-01,\n",
       "          4.32372950e-02,  4.27308500e-01, -2.72646159e-01,\n",
       "          5.80662906e-01],\n",
       "        [ 3.24586838e-01, -1.90019473e-01,  4.51161593e-01,\n",
       "          3.27905744e-01, -1.39348674e+00,  2.13163957e-01,\n",
       "          2.81776905e-01, -2.91111737e-01,  6.63113073e-02,\n",
       "         -1.40299425e-01],\n",
       "        [-2.02636138e-01,  1.36554337e+00, -1.05937384e-01,\n",
       "         -3.42909582e-02, -7.73475409e-01,  5.28647482e-01,\n",
       "          4.80894357e-01,  7.83137903e-02, -6.62731528e-01,\n",
       "         -3.89543235e-01],\n",
       "        [-1.34502649e-01,  1.92080334e-01,  2.82390267e-01,\n",
       "         -3.40588182e-01, -4.07807022e-01,  1.26176104e-01,\n",
       "          1.77803621e-01, -1.44110870e+00,  2.29148135e-01,\n",
       "          2.65027612e-01],\n",
       "        [ 2.77773172e-01,  5.28587282e-01,  1.00329511e-01,\n",
       "          4.07137163e-02, -7.19683543e-02, -4.65856165e-01,\n",
       "          2.88299173e-01,  7.95147717e-01,  2.43995875e-01,\n",
       "         -1.27625072e+00],\n",
       "        [-1.33072841e+00,  1.20568119e-01, -2.35034212e-01,\n",
       "          3.78802299e-01,  2.44327784e-01,  4.12385970e-01,\n",
       "         -1.80767441e+00,  8.77772495e-02, -2.19347522e-01,\n",
       "          3.49477947e-01],\n",
       "        [-9.91383314e-01, -1.07542276e+00, -2.85891443e-01,\n",
       "          9.32973683e-01, -5.58529615e-01, -3.30963790e-01,\n",
       "         -9.67457220e-02,  5.09582222e-01, -3.68076801e-01,\n",
       "          3.84171307e-01],\n",
       "        [-5.72650909e-01,  7.12216675e-01, -2.16970742e-01,\n",
       "          6.11322403e-01,  5.81356823e-01, -9.36608493e-01,\n",
       "         -4.93395537e-01, -7.43438601e-01, -8.35872769e-01,\n",
       "         -8.77521157e-01],\n",
       "        [-1.22789346e-01, -4.44652081e-01, -1.41114697e-01,\n",
       "         -1.39328226e-01,  4.71719116e-01, -1.09628707e-01,\n",
       "          3.32899511e-01,  1.03484597e-02,  3.62399101e-01,\n",
       "          2.01946035e-01],\n",
       "        [ 5.02489507e-01, -5.87734044e-01,  1.46162406e-01,\n",
       "          2.47829095e-01,  2.72288024e-01,  2.96912074e-01,\n",
       "         -9.72996354e-01, -1.76993310e-01, -2.25991890e-01,\n",
       "          2.63927668e-01],\n",
       "        [-1.09340799e+00, -8.62141252e-02,  3.58359277e-01,\n",
       "         -7.72557497e-01,  4.45701718e-01, -8.96667615e-02,\n",
       "         -1.51626539e+00,  6.18554533e-01, -5.72093189e-01,\n",
       "         -5.54748736e-02],\n",
       "        [ 5.44747293e-01, -8.88921738e-01,  6.41517937e-01,\n",
       "         -2.58346409e-01, -1.44604409e+00, -1.44141391e-01,\n",
       "         -1.82631940e-01,  3.36205006e-01,  2.06434503e-01,\n",
       "          2.20295310e-01],\n",
       "        [ 1.33867469e-02,  1.29833147e-01, -1.00535989e+00,\n",
       "         -7.06080556e-01,  4.42747474e-01,  3.54420394e-01,\n",
       "          6.70691431e-01, -2.62231618e-01, -3.07245404e-01,\n",
       "          2.50915945e-01],\n",
       "        [ 3.47679824e-01, -1.30712420e-01, -2.86923423e-02,\n",
       "          4.75270361e-01, -2.95627028e-01, -1.02195632e+00,\n",
       "         -9.53916490e-01,  3.29717875e-01, -4.39284369e-02,\n",
       "          2.84030408e-01],\n",
       "        [-5.31664193e-01,  1.04783557e-01,  2.69881427e-01,\n",
       "          6.89977705e-02, -5.53170621e-01,  7.29773287e-03,\n",
       "          3.50260049e-01, -3.52294534e-01,  8.61574933e-02,\n",
       "          5.17848544e-02],\n",
       "        [-3.38058382e-01,  3.33240062e-01, -1.38489485e-01,\n",
       "         -4.60236549e-01, -9.51778144e-02, -1.23670232e+00,\n",
       "          1.43192708e-01,  3.95755023e-01,  4.28459197e-01,\n",
       "          3.03818375e-01],\n",
       "        [ 3.78536314e-01, -3.68382424e-01,  4.22585994e-01,\n",
       "         -3.44507657e-02, -1.36246753e+00,  2.87645720e-02,\n",
       "          6.40778095e-02, -3.52717072e-01,  8.69947001e-02,\n",
       "         -6.13156140e-01],\n",
       "        [ 4.53280628e-01, -1.39895105e+00,  9.46235955e-02,\n",
       "         -2.14305311e-01, -9.58985925e-01,  3.53925347e-01,\n",
       "          4.55465704e-01, -8.90762746e-01, -1.40954494e-01,\n",
       "          1.62361249e-01],\n",
       "        [-4.19317007e-01,  9.20280218e-02,  1.49230197e-01,\n",
       "         -5.07239029e-02,  3.19569886e-01, -3.87925893e-01,\n",
       "          2.14523986e-01, -7.33262077e-02,  1.80168711e-02,\n",
       "         -1.80750579e-01],\n",
       "        [-1.34292603e+00,  4.98852193e-01,  7.38118172e-01,\n",
       "          5.98962419e-02, -3.08842003e-01,  3.99467766e-01,\n",
       "         -4.57956374e-01,  4.36263174e-01,  1.41058877e-01,\n",
       "         -1.07188892e+00],\n",
       "        [-5.78700721e-01,  3.30454379e-01, -9.51655269e-01,\n",
       "          4.02556568e-01, -3.21828723e-02,  6.90160871e-01,\n",
       "         -2.81767786e-01,  3.03254366e-01,  4.69937831e-01,\n",
       "         -3.92879955e-02],\n",
       "        [ 2.66346991e-01, -5.33772826e-01, -2.12090313e-01,\n",
       "          1.19943231e-01, -7.80286968e-01,  2.70305246e-01,\n",
       "         -5.23490608e-01, -2.34104693e-01,  3.46925735e-01,\n",
       "          4.62146461e-01],\n",
       "        [-5.00291288e-01, -1.07853770e-01,  2.01359287e-01,\n",
       "         -1.19498491e+00,  6.74404740e-01,  5.13813376e-01,\n",
       "          4.42142114e-02,  1.65421233e-01,  2.10682064e-01,\n",
       "         -6.66456759e-01],\n",
       "        [-2.67623127e-01,  4.67579007e-01,  5.71061194e-01,\n",
       "          6.84427142e-01, -2.97078351e-03, -7.38024652e-01,\n",
       "         -1.33901879e-01,  7.55799353e-01, -1.35956836e+00,\n",
       "         -1.83332443e+00],\n",
       "        [ 3.43576968e-01, -1.28443196e-01,  3.75336885e-01,\n",
       "         -3.01968813e-01, -1.55259073e-01,  6.89235091e-01,\n",
       "         -1.18503964e+00, -2.27614433e-01, -9.28688705e-01,\n",
       "          3.35107893e-01],\n",
       "        [ 6.27969578e-02,  3.65013272e-01, -2.32512522e-02,\n",
       "          3.08982939e-01,  2.03548577e-02, -5.13046682e-01,\n",
       "          2.50821799e-01, -4.12209332e-01, -8.70082900e-02,\n",
       "         -5.23622155e-01],\n",
       "        [ 4.54507500e-01, -4.61444050e-01,  4.25253510e-02,\n",
       "          1.12986691e-01, -3.31755102e-01,  2.88531501e-02,\n",
       "          5.08616626e-01, -1.40362394e+00,  1.00498550e-01,\n",
       "         -9.53315556e-01],\n",
       "        [ 2.47218013e-01,  3.25558364e-01,  1.88286886e-01,\n",
       "         -1.11913466e+00, -7.62594491e-02, -3.83728892e-01,\n",
       "         -3.09806973e-01,  6.53965771e-01, -8.82740259e-01,\n",
       "          4.06920910e-01],\n",
       "        [ 4.89060819e-01,  1.26952514e-01, -2.24315301e-01,\n",
       "          2.84339696e-01, -2.40252003e-01, -1.23529911e+00,\n",
       "          1.44600540e-01,  2.35801488e-01,  7.48827681e-02,\n",
       "          4.24018115e-01],\n",
       "        [-2.57218987e-01,  2.88447917e-01,  9.97365639e-02,\n",
       "         -2.38083825e-01, -8.54692534e-02, -8.64225179e-02,\n",
       "         -3.20966333e-01, -5.01717806e-01,  2.63395697e-01,\n",
       "         -1.09839961e-01],\n",
       "        [-5.69708049e-02, -1.20731342e+00, -7.86048770e-01,\n",
       "          3.63767594e-01,  1.70162186e-01,  3.66250157e-01,\n",
       "          1.35238424e-01, -3.17568570e-01,  2.10954268e-02,\n",
       "          3.06120604e-01],\n",
       "        [ 2.92953551e-01, -7.73689568e-01, -2.18168005e-01,\n",
       "         -3.05769145e-01,  6.53561428e-02,  3.78868252e-01,\n",
       "         -2.82012463e-01, -1.84108578e-02,  3.16646904e-01,\n",
       "          1.85441718e-01],\n",
       "        [-2.10018065e-02,  3.95849764e-01,  8.22779089e-02,\n",
       "          1.29844055e-01, -1.07801902e+00,  3.20234716e-01,\n",
       "         -1.03027391e+00,  3.13551694e-01, -5.29866397e-01,\n",
       "          5.89415550e-01],\n",
       "        [ 1.51952893e-01, -3.59975725e-01, -3.38445380e-02,\n",
       "         -1.26751482e-01,  8.54028761e-02, -5.04855752e-01,\n",
       "          4.60054696e-01,  5.88699102e-01, -1.48818076e+00,\n",
       "          4.34840292e-01],\n",
       "        [-8.67070854e-01,  6.55053258e-01,  4.86194134e-01,\n",
       "          3.82052749e-01,  3.25117677e-01,  2.00753003e-01,\n",
       "         -5.97436249e-01,  1.09117377e+00, -9.38160002e-01,\n",
       "         -1.73450744e+00],\n",
       "        [-5.77442229e-01,  3.77929002e-01, -9.61594507e-02,\n",
       "          4.52973187e-01,  5.58061659e-01, -1.30942357e+00,\n",
       "          1.16713941e-01, -1.04014844e-01,  1.75918058e-01,\n",
       "          2.87237018e-01],\n",
       "        [ 2.08268195e-01,  5.65812945e-01,  3.01506191e-01,\n",
       "          3.00052822e-01,  6.50071561e-01, -4.12401140e-01,\n",
       "         -3.01820010e-01,  8.90594065e-01, -7.16208518e-01,\n",
       "         -8.17108691e-01],\n",
       "        [ 2.00701933e-02,  5.44399798e-01, -2.43896365e-01,\n",
       "          5.98266304e-01, -5.77871859e-01,  3.52205634e-01,\n",
       "          4.24326122e-01,  3.00055981e-01, -1.27660096e+00,\n",
       "         -3.07267696e-01],\n",
       "        [-8.50111902e-01,  4.70401138e-01, -7.60394335e-01,\n",
       "         -1.09905338e+00,  6.63340211e-01,  6.57872319e-01,\n",
       "         -6.45507932e-01,  7.89441690e-02,  3.35660696e-01,\n",
       "         -4.03409096e-04],\n",
       "        [-1.41980156e-01,  1.37510017e-01,  4.74788100e-01,\n",
       "          5.57411015e-01,  6.86995864e-01, -3.05500656e-01,\n",
       "         -4.75451708e-01, -1.87933385e-01, -4.26489830e-01,\n",
       "         -1.12616670e+00],\n",
       "        [ 8.82450417e-02,  1.91695824e-01, -9.06732082e-01,\n",
       "         -1.71543900e-02,  5.47684014e-01, -6.93789482e-01,\n",
       "         -1.38138682e-01, -3.92802328e-01, -4.60167795e-01,\n",
       "          4.08054024e-01],\n",
       "        [ 2.68715948e-01, -7.09057152e-01, -6.94713473e-01,\n",
       "         -7.83738256e-01,  5.43628335e-01,  2.86134511e-01,\n",
       "          5.40752649e-01, -4.98252541e-01, -1.27310246e-01,\n",
       "         -8.64742696e-01],\n",
       "        [-3.45910251e-01,  4.10978436e-01, -5.11972427e-01,\n",
       "         -1.08142458e-02,  2.36801237e-01, -3.95199776e-01,\n",
       "          6.49730209e-03, -1.25462055e-01,  1.83256134e-01,\n",
       "          5.71722127e-02],\n",
       "        [-1.00073898e+00, -3.21992278e-01, -8.82068872e-01,\n",
       "         -7.90472269e-01, -1.35057759e+00,  8.86975884e-01,\n",
       "          9.36685979e-01,  8.48793089e-02,  1.12939224e-01,\n",
       "          1.86927795e-01],\n",
       "        [-1.73937023e+00, -4.45857137e-01, -5.89791000e-01,\n",
       "          4.86906707e-01,  4.05461073e-01,  1.47958249e-01,\n",
       "         -1.15809834e+00,  1.89501092e-01, -1.40108215e-02,\n",
       "          5.66124506e-02],\n",
       "        [ 3.21900427e-01,  5.93825698e-01, -9.28946137e-01,\n",
       "         -6.02729499e-01,  1.01452863e+00,  4.38444018e-01,\n",
       "          3.22257489e-01,  5.73869944e-01, -3.75500917e-01,\n",
       "         -6.96824610e-01],\n",
       "        [ 9.64908972e-02,  6.84999466e-01, -1.90750703e-01,\n",
       "         -7.56494701e-01,  5.72390974e-01, -4.25352305e-01,\n",
       "         -4.56032574e-01, -4.89882112e-01, -9.51410830e-02,\n",
       "          4.19810504e-01],\n",
       "        [-3.50763470e-01, -4.09634411e-01,  2.41820708e-01,\n",
       "         -1.15923695e-01,  4.95142415e-02, -2.60104626e-01,\n",
       "         -1.79374456e-01, -3.12581986e-01,  6.09307945e-01,\n",
       "         -5.63056245e-02],\n",
       "        [-4.16974574e-01, -3.77414338e-02, -2.69972146e-01,\n",
       "          2.17472196e-01,  3.17382872e-01,  2.39923492e-01,\n",
       "         -2.91284144e-01, -3.41057569e-01,  2.68728286e-01,\n",
       "         -3.57446074e-01],\n",
       "        [-8.47140431e-01, -7.40287066e-01, -1.34376121e+00,\n",
       "          7.13567734e-01, -3.41881245e-01,  8.35614204e-01,\n",
       "         -1.89877614e-01, -9.23183322e-01, -7.05196500e-01,\n",
       "          5.80129147e-01],\n",
       "        [-1.57643110e-01, -5.43175936e-01,  6.16004288e-01,\n",
       "         -4.47701871e-01, -1.12400222e+00, -6.91541553e-01,\n",
       "          8.96989167e-01,  3.78763944e-01,  7.50518680e-01,\n",
       "         -3.49592417e-02],\n",
       "        [ 3.18157166e-01,  6.76074207e-01, -9.18550849e-01,\n",
       "          5.88988006e-01, -9.71476138e-01,  3.19776237e-01,\n",
       "          1.59274474e-01, -4.26406205e-01, -2.01290339e-01,\n",
       "         -2.51099765e-01],\n",
       "        [-5.07729709e-01, -2.98147440e-01,  4.78023589e-01,\n",
       "         -2.34455809e-01,  2.10946351e-01,  2.45785609e-01,\n",
       "          1.25338420e-01, -1.07763541e+00, -8.69551241e-01,\n",
       "          5.59319258e-01],\n",
       "        [ 2.18001097e-01, -1.06593299e+00, -1.65157393e-01,\n",
       "          3.00502449e-01, -2.23907400e-02,  2.09758922e-01,\n",
       "         -8.70011389e-01,  2.61218667e-01,  1.46303713e-01,\n",
       "          1.78213969e-01],\n",
       "        [ 4.88290727e-01, -3.19085658e-01,  4.07790661e-01,\n",
       "          2.45859787e-01, -2.63462692e-01, -1.06050563e+00,\n",
       "         -4.12313104e-01,  2.09210381e-01,  2.58520842e-01,\n",
       "          3.65058422e-01],\n",
       "        [ 2.47201204e-01, -7.58259356e-01, -4.41092759e-01,\n",
       "         -8.02654624e-02, -9.69728902e-02,  2.17895150e-01,\n",
       "          1.90387994e-01,  6.01911187e-01,  5.11046410e-01,\n",
       "         -2.51677427e-02],\n",
       "        [-7.26041615e-01, -3.45157057e-01, -4.47084084e-02,\n",
       "          3.36106449e-01, -4.71141338e-01,  3.50288749e-02,\n",
       "         -7.44628012e-01, -9.53003585e-01,  5.43506563e-01,\n",
       "          6.08709455e-01],\n",
       "        [ 2.76711464e-01,  2.57377595e-01,  3.13004285e-01,\n",
       "          1.35961240e-02, -9.95461345e-01,  4.33977455e-01,\n",
       "         -1.37305725e+00,  3.91748458e-01,  7.06805512e-02,\n",
       "         -7.02945948e-01],\n",
       "        [ 3.96604240e-01, -5.13677359e-01,  6.10857867e-02,\n",
       "         -1.83202326e-01,  2.89514631e-01,  2.01999974e-02,\n",
       "          2.70420611e-01,  9.79063883e-02,  1.06463656e-01,\n",
       "         -3.92975330e-01],\n",
       "        [ 1.96019128e-01,  1.68894798e-01,  1.70773402e-01,\n",
       "         -1.03385210e+00,  8.86677206e-01, -3.42397183e-01,\n",
       "          1.46547724e-02,  3.63024652e-01, -6.37197435e-01,\n",
       "         -5.42671345e-02],\n",
       "        [ 3.64815295e-01, -7.79214561e-01, -2.65661478e-01,\n",
       "          5.27750313e-01, -8.19673717e-01, -8.71660654e-03,\n",
       "         -2.44526342e-01, -5.83975911e-01,  2.83926994e-01,\n",
       "          4.55326885e-01]], dtype=float32),\n",
       " array([-0.2577098 ,  0.09943021, -0.00402754, -0.17019992,  0.07883871,\n",
       "         0.08451934,  0.10526723, -0.15938899,  0.2222739 , -0.12634903],\n",
       "       dtype=float32)]"
      ]
     },
     "execution_count": 70,
     "metadata": {},
     "output_type": "execute_result"
    }
   ],
   "source": [
    "# 변수를 통해 가중치 전달이 가능한지\n",
    "sub_weights"
   ]
  },
  {
   "cell_type": "code",
   "execution_count": 72,
   "metadata": {},
   "outputs": [],
   "source": [
    "# 파일로 모델의 가중치를 로드\n",
    "# 동일한 형태의 모델을 새로 생성\n",
    "sub_new_model = SubModel()"
   ]
  },
  {
   "cell_type": "code",
   "execution_count": 73,
   "metadata": {
    "collapsed": true
   },
   "outputs": [
    {
     "ename": "AttributeError",
     "evalue": "'list' object has no attribute 'endswith'",
     "output_type": "error",
     "traceback": [
      "\u001b[1;31m---------------------------------------------------------------------------\u001b[0m",
      "\u001b[1;31mAttributeError\u001b[0m                            Traceback (most recent call last)",
      "\u001b[1;32m<ipython-input-73-4e67fa37ae27>\u001b[0m in \u001b[0;36m<module>\u001b[1;34m\u001b[0m\n\u001b[1;32m----> 1\u001b[1;33m \u001b[0msub_new_model\u001b[0m\u001b[1;33m.\u001b[0m\u001b[0mload_weights\u001b[0m\u001b[1;33m(\u001b[0m\u001b[0msub_weights\u001b[0m\u001b[1;33m)\u001b[0m\u001b[1;33m\u001b[0m\u001b[1;33m\u001b[0m\u001b[0m\n\u001b[0m",
      "\u001b[1;32m~\\anaconda3\\lib\\site-packages\\tensorflow\\python\\keras\\engine\\training.py\u001b[0m in \u001b[0;36mload_weights\u001b[1;34m(self, filepath, by_name, skip_mismatch, options)\u001b[0m\n\u001b[0;32m   2170\u001b[0m \u001b[1;33m\u001b[0m\u001b[0m\n\u001b[0;32m   2171\u001b[0m     \u001b[0mfilepath\u001b[0m \u001b[1;33m=\u001b[0m \u001b[0mpath_to_string\u001b[0m\u001b[1;33m(\u001b[0m\u001b[0mfilepath\u001b[0m\u001b[1;33m)\u001b[0m\u001b[1;33m\u001b[0m\u001b[1;33m\u001b[0m\u001b[0m\n\u001b[1;32m-> 2172\u001b[1;33m     \u001b[1;32mif\u001b[0m \u001b[0m_is_hdf5_filepath\u001b[0m\u001b[1;33m(\u001b[0m\u001b[0mfilepath\u001b[0m\u001b[1;33m)\u001b[0m\u001b[1;33m:\u001b[0m\u001b[1;33m\u001b[0m\u001b[1;33m\u001b[0m\u001b[0m\n\u001b[0m\u001b[0;32m   2173\u001b[0m       \u001b[0msave_format\u001b[0m \u001b[1;33m=\u001b[0m \u001b[1;34m'h5'\u001b[0m\u001b[1;33m\u001b[0m\u001b[1;33m\u001b[0m\u001b[0m\n\u001b[0;32m   2174\u001b[0m     \u001b[1;32melse\u001b[0m\u001b[1;33m:\u001b[0m\u001b[1;33m\u001b[0m\u001b[1;33m\u001b[0m\u001b[0m\n",
      "\u001b[1;32m~\\anaconda3\\lib\\site-packages\\tensorflow\\python\\keras\\engine\\training.py\u001b[0m in \u001b[0;36m_is_hdf5_filepath\u001b[1;34m(filepath)\u001b[0m\n\u001b[0;32m   2783\u001b[0m \u001b[1;33m\u001b[0m\u001b[0m\n\u001b[0;32m   2784\u001b[0m \u001b[1;32mdef\u001b[0m \u001b[0m_is_hdf5_filepath\u001b[0m\u001b[1;33m(\u001b[0m\u001b[0mfilepath\u001b[0m\u001b[1;33m)\u001b[0m\u001b[1;33m:\u001b[0m\u001b[1;33m\u001b[0m\u001b[1;33m\u001b[0m\u001b[0m\n\u001b[1;32m-> 2785\u001b[1;33m   return (filepath.endswith('.h5') or filepath.endswith('.keras') or\n\u001b[0m\u001b[0;32m   2786\u001b[0m           filepath.endswith('.hdf5'))\n",
      "\u001b[1;31mAttributeError\u001b[0m: 'list' object has no attribute 'endswith'"
     ]
    }
   ],
   "source": [
    "# 변수를 통한 가중치 전달은 되지 않는다.\n",
    "sub_new_model.load_weights(sub_weights)"
   ]
  },
  {
   "cell_type": "markdown",
   "metadata": {},
   "source": [
    "## Sequential API에 가중치 전달\n",
    "\n",
    "\n",
    "1. 변수를 통한 가중치 전달. -> NO\n",
    "\n",
    "2. 파일을 통한 가중치 전달. -> YES"
   ]
  },
  {
   "cell_type": "code",
   "execution_count": 74,
   "metadata": {},
   "outputs": [],
   "source": [
    "# 1. 메모리(코드) 상에서 모델의 가중치를 전달 -> 변수 'seq_weights'에 가중치를 저장\n",
    "seq_weights = seq_model.get_weights()"
   ]
  },
  {
   "cell_type": "code",
   "execution_count": 75,
   "metadata": {},
   "outputs": [],
   "source": [
    "# 2. 실제 파일로 모델의 가중치를 전달\n",
    "seq_model.save_weights('./weights/seq')"
   ]
  },
  {
   "cell_type": "code",
   "execution_count": 76,
   "metadata": {},
   "outputs": [],
   "source": [
    "# Sequential API\n",
    "seq_new_model = tf.keras.Sequential([\n",
    "    # 통과할 layer를 배열로 제공\n",
    "    tf.keras.layers.Dense(64),\n",
    "    # 활성화 함수 레이어\n",
    "    tf.keras.layers.ReLU(),\n",
    "    tf.keras.layers.Dense(10)\n",
    "])"
   ]
  },
  {
   "cell_type": "code",
   "execution_count": 77,
   "metadata": {},
   "outputs": [],
   "source": [
    "seq_new_model.compile(\n",
    "    loss = tf.keras.losses.SparseCategoricalCrossentropy(from_logits = True),\n",
    "    optimizer = tf.keras.optimizers.Adam(),\n",
    "    metrics = ['accuracy']\n",
    ")"
   ]
  },
  {
   "cell_type": "code",
   "execution_count": 78,
   "metadata": {},
   "outputs": [
    {
     "name": "stdout",
     "output_type": "stream",
     "text": [
      "313/313 [==============================] - 0s 359us/step - loss: 2.3984 - accuracy: 0.0904\n"
     ]
    },
    {
     "data": {
      "text/plain": [
       "[2.39835262298584, 0.09040000289678574]"
      ]
     },
     "execution_count": 78,
     "metadata": {},
     "output_type": "execute_result"
    }
   ],
   "source": [
    "# 초기값을 가지고 있기 때문에 정확도가 매우 낮거나 실행되지 않을 것.\n",
    "seq_new_model.evaluate(x_test, y_test)"
   ]
  },
  {
   "cell_type": "code",
   "execution_count": 79,
   "metadata": {},
   "outputs": [
    {
     "data": {
      "text/plain": [
       "<tensorflow.python.training.tracking.util.CheckpointLoadStatus at 0x1dfe59b10a0>"
      ]
     },
     "execution_count": 79,
     "metadata": {},
     "output_type": "execute_result"
    }
   ],
   "source": [
    "# 파일을 통해 가중치 로드\n",
    "seq_new_model.load_weights('./weights/seq')"
   ]
  },
  {
   "cell_type": "code",
   "execution_count": 89,
   "metadata": {
    "collapsed": true
   },
   "outputs": [
    {
     "ename": "RuntimeError",
     "evalue": "You must compile your model before training/testing. Use `model.compile(optimizer, loss)`.",
     "output_type": "error",
     "traceback": [
      "\u001b[1;31m---------------------------------------------------------------------------\u001b[0m",
      "\u001b[1;31mRuntimeError\u001b[0m                              Traceback (most recent call last)",
      "\u001b[1;32m<ipython-input-89-66faa66cf1ac>\u001b[0m in \u001b[0;36m<module>\u001b[1;34m\u001b[0m\n\u001b[0;32m      1\u001b[0m \u001b[1;31m# 초기값을 가지고 있기 때문에 정확도가 매우 낮거나 실행되지 않을 것.\u001b[0m\u001b[1;33m\u001b[0m\u001b[1;33m\u001b[0m\u001b[1;33m\u001b[0m\u001b[0m\n\u001b[1;32m----> 2\u001b[1;33m \u001b[0mseq_new_model\u001b[0m\u001b[1;33m.\u001b[0m\u001b[0mevaluate\u001b[0m\u001b[1;33m(\u001b[0m\u001b[0mx_test\u001b[0m\u001b[1;33m,\u001b[0m \u001b[0my_test\u001b[0m\u001b[1;33m)\u001b[0m\u001b[1;33m\u001b[0m\u001b[1;33m\u001b[0m\u001b[0m\n\u001b[0m",
      "\u001b[1;32m~\\anaconda3\\lib\\site-packages\\tensorflow\\python\\keras\\engine\\training.py\u001b[0m in \u001b[0;36m_method_wrapper\u001b[1;34m(self, *args, **kwargs)\u001b[0m\n\u001b[0;32m    106\u001b[0m   \u001b[1;32mdef\u001b[0m \u001b[0m_method_wrapper\u001b[0m\u001b[1;33m(\u001b[0m\u001b[0mself\u001b[0m\u001b[1;33m,\u001b[0m \u001b[1;33m*\u001b[0m\u001b[0margs\u001b[0m\u001b[1;33m,\u001b[0m \u001b[1;33m**\u001b[0m\u001b[0mkwargs\u001b[0m\u001b[1;33m)\u001b[0m\u001b[1;33m:\u001b[0m\u001b[1;33m\u001b[0m\u001b[1;33m\u001b[0m\u001b[0m\n\u001b[0;32m    107\u001b[0m     \u001b[1;32mif\u001b[0m \u001b[1;32mnot\u001b[0m \u001b[0mself\u001b[0m\u001b[1;33m.\u001b[0m\u001b[0m_in_multi_worker_mode\u001b[0m\u001b[1;33m(\u001b[0m\u001b[1;33m)\u001b[0m\u001b[1;33m:\u001b[0m  \u001b[1;31m# pylint: disable=protected-access\u001b[0m\u001b[1;33m\u001b[0m\u001b[1;33m\u001b[0m\u001b[0m\n\u001b[1;32m--> 108\u001b[1;33m       \u001b[1;32mreturn\u001b[0m \u001b[0mmethod\u001b[0m\u001b[1;33m(\u001b[0m\u001b[0mself\u001b[0m\u001b[1;33m,\u001b[0m \u001b[1;33m*\u001b[0m\u001b[0margs\u001b[0m\u001b[1;33m,\u001b[0m \u001b[1;33m**\u001b[0m\u001b[0mkwargs\u001b[0m\u001b[1;33m)\u001b[0m\u001b[1;33m\u001b[0m\u001b[1;33m\u001b[0m\u001b[0m\n\u001b[0m\u001b[0;32m    109\u001b[0m \u001b[1;33m\u001b[0m\u001b[0m\n\u001b[0;32m    110\u001b[0m     \u001b[1;31m# Running inside `run_distribute_coordinator` already.\u001b[0m\u001b[1;33m\u001b[0m\u001b[1;33m\u001b[0m\u001b[1;33m\u001b[0m\u001b[0m\n",
      "\u001b[1;32m~\\anaconda3\\lib\\site-packages\\tensorflow\\python\\keras\\engine\\training.py\u001b[0m in \u001b[0;36mevaluate\u001b[1;34m(self, x, y, batch_size, verbose, sample_weight, steps, callbacks, max_queue_size, workers, use_multiprocessing, return_dict)\u001b[0m\n\u001b[0;32m   1333\u001b[0m     \u001b[0m_keras_api_gauge\u001b[0m\u001b[1;33m.\u001b[0m\u001b[0mget_cell\u001b[0m\u001b[1;33m(\u001b[0m\u001b[1;34m'evaluate'\u001b[0m\u001b[1;33m)\u001b[0m\u001b[1;33m.\u001b[0m\u001b[0mset\u001b[0m\u001b[1;33m(\u001b[0m\u001b[1;32mTrue\u001b[0m\u001b[1;33m)\u001b[0m\u001b[1;33m\u001b[0m\u001b[1;33m\u001b[0m\u001b[0m\n\u001b[0;32m   1334\u001b[0m     \u001b[0mversion_utils\u001b[0m\u001b[1;33m.\u001b[0m\u001b[0mdisallow_legacy_graph\u001b[0m\u001b[1;33m(\u001b[0m\u001b[1;34m'Model'\u001b[0m\u001b[1;33m,\u001b[0m \u001b[1;34m'evaluate'\u001b[0m\u001b[1;33m)\u001b[0m\u001b[1;33m\u001b[0m\u001b[1;33m\u001b[0m\u001b[0m\n\u001b[1;32m-> 1335\u001b[1;33m     \u001b[0mself\u001b[0m\u001b[1;33m.\u001b[0m\u001b[0m_assert_compile_was_called\u001b[0m\u001b[1;33m(\u001b[0m\u001b[1;33m)\u001b[0m\u001b[1;33m\u001b[0m\u001b[1;33m\u001b[0m\u001b[0m\n\u001b[0m\u001b[0;32m   1336\u001b[0m     \u001b[0mself\u001b[0m\u001b[1;33m.\u001b[0m\u001b[0m_check_call_args\u001b[0m\u001b[1;33m(\u001b[0m\u001b[1;34m'evaluate'\u001b[0m\u001b[1;33m)\u001b[0m\u001b[1;33m\u001b[0m\u001b[1;33m\u001b[0m\u001b[0m\n\u001b[0;32m   1337\u001b[0m     \u001b[0m_disallow_inside_tf_function\u001b[0m\u001b[1;33m(\u001b[0m\u001b[1;34m'evaluate'\u001b[0m\u001b[1;33m)\u001b[0m\u001b[1;33m\u001b[0m\u001b[1;33m\u001b[0m\u001b[0m\n",
      "\u001b[1;32m~\\anaconda3\\lib\\site-packages\\tensorflow\\python\\keras\\engine\\training.py\u001b[0m in \u001b[0;36m_assert_compile_was_called\u001b[1;34m(self)\u001b[0m\n\u001b[0;32m   2567\u001b[0m     \u001b[1;31m# (i.e. whether the model is built and its inputs/outputs are set).\u001b[0m\u001b[1;33m\u001b[0m\u001b[1;33m\u001b[0m\u001b[1;33m\u001b[0m\u001b[0m\n\u001b[0;32m   2568\u001b[0m     \u001b[1;32mif\u001b[0m \u001b[1;32mnot\u001b[0m \u001b[0mself\u001b[0m\u001b[1;33m.\u001b[0m\u001b[0m_is_compiled\u001b[0m\u001b[1;33m:\u001b[0m\u001b[1;33m\u001b[0m\u001b[1;33m\u001b[0m\u001b[0m\n\u001b[1;32m-> 2569\u001b[1;33m       raise RuntimeError('You must compile your model before '\n\u001b[0m\u001b[0;32m   2570\u001b[0m                          \u001b[1;34m'training/testing. '\u001b[0m\u001b[1;33m\u001b[0m\u001b[1;33m\u001b[0m\u001b[0m\n\u001b[0;32m   2571\u001b[0m                          'Use `model.compile(optimizer, loss)`.')\n",
      "\u001b[1;31mRuntimeError\u001b[0m: You must compile your model before training/testing. Use `model.compile(optimizer, loss)`."
     ]
    }
   ],
   "source": [
    "# 초기값을 가지고 있기 때문에 정확도가 매우 낮거나 실행되지 않을 것.\n",
    "seq_new_model.evaluate(x_test, y_test)"
   ]
  },
  {
   "cell_type": "code",
   "execution_count": 81,
   "metadata": {},
   "outputs": [],
   "source": [
    "# Sequential API\n",
    "seq_new_model = tf.keras.Sequential([\n",
    "    # 통과할 layer를 배열로 제공\n",
    "    tf.keras.layers.Dense(64),\n",
    "    # 활성화 함수 레이어\n",
    "    tf.keras.layers.ReLU(),\n",
    "    tf.keras.layers.Dense(10)\n",
    "])"
   ]
  },
  {
   "cell_type": "code",
   "execution_count": 82,
   "metadata": {
    "collapsed": true
   },
   "outputs": [
    {
     "ename": "AttributeError",
     "evalue": "'list' object has no attribute 'endswith'",
     "output_type": "error",
     "traceback": [
      "\u001b[1;31m---------------------------------------------------------------------------\u001b[0m",
      "\u001b[1;31mAttributeError\u001b[0m                            Traceback (most recent call last)",
      "\u001b[1;32m<ipython-input-82-499a3aaf0b62>\u001b[0m in \u001b[0;36m<module>\u001b[1;34m\u001b[0m\n\u001b[0;32m      1\u001b[0m \u001b[1;31m# 변수를 통한 가중치 전달은 되지 않는다.\u001b[0m\u001b[1;33m\u001b[0m\u001b[1;33m\u001b[0m\u001b[1;33m\u001b[0m\u001b[0m\n\u001b[1;32m----> 2\u001b[1;33m \u001b[0mseq_new_model\u001b[0m\u001b[1;33m.\u001b[0m\u001b[0mload_weights\u001b[0m\u001b[1;33m(\u001b[0m\u001b[0msub_weights\u001b[0m\u001b[1;33m)\u001b[0m\u001b[1;33m\u001b[0m\u001b[1;33m\u001b[0m\u001b[0m\n\u001b[0m",
      "\u001b[1;32m~\\anaconda3\\lib\\site-packages\\tensorflow\\python\\keras\\engine\\training.py\u001b[0m in \u001b[0;36mload_weights\u001b[1;34m(self, filepath, by_name, skip_mismatch, options)\u001b[0m\n\u001b[0;32m   2170\u001b[0m \u001b[1;33m\u001b[0m\u001b[0m\n\u001b[0;32m   2171\u001b[0m     \u001b[0mfilepath\u001b[0m \u001b[1;33m=\u001b[0m \u001b[0mpath_to_string\u001b[0m\u001b[1;33m(\u001b[0m\u001b[0mfilepath\u001b[0m\u001b[1;33m)\u001b[0m\u001b[1;33m\u001b[0m\u001b[1;33m\u001b[0m\u001b[0m\n\u001b[1;32m-> 2172\u001b[1;33m     \u001b[1;32mif\u001b[0m \u001b[0m_is_hdf5_filepath\u001b[0m\u001b[1;33m(\u001b[0m\u001b[0mfilepath\u001b[0m\u001b[1;33m)\u001b[0m\u001b[1;33m:\u001b[0m\u001b[1;33m\u001b[0m\u001b[1;33m\u001b[0m\u001b[0m\n\u001b[0m\u001b[0;32m   2173\u001b[0m       \u001b[0msave_format\u001b[0m \u001b[1;33m=\u001b[0m \u001b[1;34m'h5'\u001b[0m\u001b[1;33m\u001b[0m\u001b[1;33m\u001b[0m\u001b[0m\n\u001b[0;32m   2174\u001b[0m     \u001b[1;32melse\u001b[0m\u001b[1;33m:\u001b[0m\u001b[1;33m\u001b[0m\u001b[1;33m\u001b[0m\u001b[0m\n",
      "\u001b[1;32m~\\anaconda3\\lib\\site-packages\\tensorflow\\python\\keras\\engine\\training.py\u001b[0m in \u001b[0;36m_is_hdf5_filepath\u001b[1;34m(filepath)\u001b[0m\n\u001b[0;32m   2783\u001b[0m \u001b[1;33m\u001b[0m\u001b[0m\n\u001b[0;32m   2784\u001b[0m \u001b[1;32mdef\u001b[0m \u001b[0m_is_hdf5_filepath\u001b[0m\u001b[1;33m(\u001b[0m\u001b[0mfilepath\u001b[0m\u001b[1;33m)\u001b[0m\u001b[1;33m:\u001b[0m\u001b[1;33m\u001b[0m\u001b[1;33m\u001b[0m\u001b[0m\n\u001b[1;32m-> 2785\u001b[1;33m   return (filepath.endswith('.h5') or filepath.endswith('.keras') or\n\u001b[0m\u001b[0;32m   2786\u001b[0m           filepath.endswith('.hdf5'))\n",
      "\u001b[1;31mAttributeError\u001b[0m: 'list' object has no attribute 'endswith'"
     ]
    }
   ],
   "source": [
    "# 변수를 통한 가중치 전달은 되지 않는다.\n",
    "seq_new_model.load_weights(sub_weights)"
   ]
  },
  {
   "cell_type": "markdown",
   "metadata": {},
   "source": [
    "# Functional API\n",
    "\n",
    "1. 변수를 통한 가중치 전달. -> YES\n",
    "\n",
    "2. 파일을 통한 가중치 전달. -> YES"
   ]
  },
  {
   "cell_type": "markdown",
   "metadata": {},
   "source": [
    "#### 과제로 해보세요."
   ]
  },
  {
   "cell_type": "markdown",
   "metadata": {},
   "source": [
    "# model 전체 저장방법\n",
    "\n",
    "```\n",
    "\n",
    "model.save('')\n",
    "```\n",
    "\n",
    "#### 반드시 디렉토리 형태로 저장된다.\n",
    "\n",
    "\n",
    "\n",
    "```\n",
    "model = keras.models.load_model('')\n",
    "```"
   ]
  },
  {
   "cell_type": "code",
   "execution_count": 121,
   "metadata": {},
   "outputs": [],
   "source": [
    "seq_model.save('./models/seq')"
   ]
  },
  {
   "cell_type": "code",
   "execution_count": 123,
   "metadata": {},
   "outputs": [],
   "source": [
    "# 가중치 전달을 통한 모델을 사용하는 경우, 반드시 모델이 선언되어 있어야 했다.\n",
    "\n",
    "model = tf.keras.models.load_model('./models/seq')"
   ]
  },
  {
   "cell_type": "code",
   "execution_count": 124,
   "metadata": {},
   "outputs": [
    {
     "name": "stdout",
     "output_type": "stream",
     "text": [
      "Model: \"sequential_7\"\n",
      "_________________________________________________________________\n",
      "Layer (type)                 Output Shape              Param #   \n",
      "=================================================================\n",
      "dense_24 (Dense)             (None, 64)                50240     \n",
      "_________________________________________________________________\n",
      "re_lu_7 (ReLU)               (None, 64)                0         \n",
      "_________________________________________________________________\n",
      "dense_25 (Dense)             (None, 10)                650       \n",
      "=================================================================\n",
      "Total params: 50,890\n",
      "Trainable params: 50,890\n",
      "Non-trainable params: 0\n",
      "_________________________________________________________________\n"
     ]
    }
   ],
   "source": [
    "model.summary()"
   ]
  },
  {
   "cell_type": "code",
   "execution_count": 115,
   "metadata": {
    "collapsed": true
   },
   "outputs": [
    {
     "data": {
      "text/plain": [
       "[<tf.Variable 'dense_24/kernel:0' shape=(784, 64) dtype=float32, numpy=\n",
       " array([[ 0.01094966,  0.02156093,  0.07458273, ..., -0.05185828,\n",
       "          0.01536532, -0.01333644],\n",
       "        [-0.06121151, -0.05409407,  0.0052647 , ...,  0.07546673,\n",
       "         -0.05898435, -0.05778118],\n",
       "        [-0.07429571, -0.06967273, -0.01311747, ..., -0.04415247,\n",
       "         -0.06222134,  0.00702934],\n",
       "        ...,\n",
       "        [ 0.07957853,  0.04390956,  0.05781852, ..., -0.02822533,\n",
       "         -0.07199149,  0.03036475],\n",
       "        [ 0.00567599, -0.03325198,  0.05133317, ..., -0.06005932,\n",
       "         -0.01420709, -0.06091733],\n",
       "        [-0.05108691,  0.02119628,  0.04003884, ...,  0.08309915,\n",
       "         -0.02316669, -0.02904134]], dtype=float32)>,\n",
       " <tf.Variable 'dense_24/bias:0' shape=(64,) dtype=float32, numpy=\n",
       " array([ 0.05264931, -0.38654673,  0.07460687,  0.4039744 , -0.0259308 ,\n",
       "        -0.24682625,  0.2589934 , -0.07147194,  0.00321197, -0.01497718,\n",
       "        -0.18127425,  0.05815915,  0.02055575,  0.25439224, -0.02408221,\n",
       "         0.0681937 , -0.10267311, -0.10480212,  0.07626759,  0.00478602,\n",
       "         0.2764916 , -0.11624403,  0.42244267,  0.12835166,  0.05485998,\n",
       "        -0.14238638, -0.05233485, -0.00053684,  0.17838413, -0.08199404,\n",
       "        -0.25931105,  0.03817296, -0.02404069,  0.39531374,  0.22158417,\n",
       "        -0.17353025,  0.01895847, -0.22322865,  0.020753  ,  0.13233237,\n",
       "         0.10504265,  0.15481545,  0.38397512,  0.21950223,  0.1153836 ,\n",
       "        -0.02991141, -0.06892835,  0.07399439,  0.22594765,  0.10302954,\n",
       "         0.06368514,  0.07393555,  0.16011465, -0.0943616 , -0.2372727 ,\n",
       "         0.24413128,  0.3790517 ,  0.01959984,  0.34311882, -0.08267278,\n",
       "         0.04564383,  0.07818604, -0.10715442, -0.44138706], dtype=float32)>,\n",
       " <tf.Variable 'dense_25/kernel:0' shape=(64, 10) dtype=float32, numpy=\n",
       " array([[-0.97921497,  1.3414507 ,  0.02223287,  0.1609065 ,  0.79603803,\n",
       "         -0.3196147 ,  0.3474611 , -0.37619326,  0.13183628, -0.23589367],\n",
       "        [ 0.30363205,  0.23801501,  0.02071884,  0.21522672,  0.41579318,\n",
       "         -1.8637394 , -0.71160585,  0.29965577, -0.27101967,  0.07663957],\n",
       "        [ 0.3830957 , -0.11465871, -0.7514351 , -0.54942715,  0.7224412 ,\n",
       "          0.5356619 ,  0.40863526,  0.73940617, -0.17509958, -0.9757185 ],\n",
       "        [-0.39004347, -0.20924327,  0.1780803 ,  0.06666646,  0.42458552,\n",
       "          0.25576675,  0.287104  , -0.5978349 ,  0.16035491, -0.10215291],\n",
       "        [ 0.24124935, -0.10380659,  0.26429486, -0.49482802,  1.0561774 ,\n",
       "         -0.33625555,  0.33988371, -0.03218985, -0.8097688 ,  0.09506376],\n",
       "        [ 0.5042026 , -0.53978926,  0.2881391 ,  0.25316188, -1.7056209 ,\n",
       "         -0.17101608, -0.17469753, -0.02452085, -0.0822221 , -0.1321078 ],\n",
       "        [ 0.06367075,  0.22204909,  0.32525167, -1.0486026 , -0.01912804,\n",
       "         -0.33618793,  0.15185815,  0.34766686,  0.46218866, -0.9600921 ],\n",
       "        [-0.57040685,  0.362416  ,  0.12602133,  0.5941059 , -0.17152186,\n",
       "         -0.5427572 , -0.7957352 ,  0.4117611 , -0.66279787,  0.0768406 ],\n",
       "        [-0.58559287,  1.0631365 ,  0.0648613 ,  0.37750858,  1.0081298 ,\n",
       "         -0.39932373, -0.22019593, -0.05278077, -0.7194378 , -0.82783973],\n",
       "        [-0.5838113 ,  0.46544084,  0.39357597, -0.07110482, -0.3306954 ,\n",
       "         -0.3823202 , -0.33007863,  0.3085406 , -0.05920761, -2.1548383 ],\n",
       "        [ 0.6170254 ,  0.30918953,  0.2493605 , -0.99245155,  0.46042955,\n",
       "          0.21753511, -0.6296224 ,  0.4805519 , -1.0639987 ,  0.02945666],\n",
       "        [-0.66646796, -0.04655535,  0.5215061 , -0.1372887 , -0.47611114,\n",
       "          0.41356376,  0.7162209 ,  0.6713606 , -0.5733088 , -1.3484527 ],\n",
       "        [ 0.31246263,  1.1645851 ,  0.23785567, -0.5063381 , -0.23388296,\n",
       "          0.30205578, -0.32631063,  0.04341517, -0.6984359 ,  0.42994732],\n",
       "        [-1.1538917 ,  0.28986233, -0.11346085, -0.3877635 ,  0.23776591,\n",
       "          0.52104497, -1.188943  ,  0.18475017,  0.6176206 ,  0.18776613],\n",
       "        [ 0.19422902, -1.271778  ,  0.33330452, -0.19474457,  0.1769448 ,\n",
       "         -0.5439965 ,  0.05590108,  0.13403548,  0.19929211,  0.37884706],\n",
       "        [-0.27565178, -0.11435816,  0.22597195, -0.02108767,  0.09638318,\n",
       "          0.23184027, -0.7616597 , -0.27152327,  0.19605376, -0.06638223],\n",
       "        [ 0.4672337 ,  0.18525843,  0.2075677 ,  0.01351625, -0.46870673,\n",
       "         -0.4458617 ,  0.16748008, -0.9993063 , -0.03948166,  0.18685776],\n",
       "        [-1.5601243 ,  0.23854214, -1.006951  ,  0.46998656, -0.18054855,\n",
       "          0.542406  , -0.9311746 , -0.81303537, -0.05778704,  0.46864706],\n",
       "        [-0.3510788 , -0.4883411 , -0.36762187, -0.05089225,  0.12367669,\n",
       "         -0.09480574,  0.03587067,  0.28952566,  0.31882805,  0.3357385 ],\n",
       "        [ 0.2675696 ,  0.607969  ,  0.27511838, -0.9568725 ,  0.28931278,\n",
       "         -0.7456402 , -0.4412605 ,  0.2454317 , -0.4092546 ,  0.10334756],\n",
       "        [-0.08545446,  0.3106701 , -0.06372886, -0.5126809 , -0.69460034,\n",
       "          0.3065137 ,  0.02780903, -0.95102054,  0.13965411,  0.23881008],\n",
       "        [-0.5583353 ,  0.4170998 , -0.24198386, -0.10174129, -0.41507137,\n",
       "         -0.7943215 , -0.53000695,  0.29345018,  0.4621353 ,  0.5376502 ],\n",
       "        [-0.28260016,  0.23945525,  0.36255035, -0.22080489, -0.19204892,\n",
       "          0.24437644,  0.38716274, -1.2772634 ,  0.28755215, -0.12080693],\n",
       "        [ 0.2317974 , -0.37172878,  0.01578895, -1.4377553 ,  0.33503428,\n",
       "         -0.15743417,  0.6105347 ,  0.15764374,  0.28473678, -0.36520028],\n",
       "        [ 0.22283958,  0.3059833 , -0.22205174,  0.34018877,  0.00536072,\n",
       "         -0.35033205,  0.16701593,  0.9181097 , -1.0466857 , -0.7086891 ],\n",
       "        [-0.5790936 , -0.43512255, -0.07977935,  0.67849845, -0.19933996,\n",
       "         -1.4851918 ,  0.41528788,  0.22033939,  0.2532467 ,  0.43988633],\n",
       "        [-0.5092535 , -0.57903063, -0.32056212,  0.54755974,  0.15458633,\n",
       "          0.5496284 , -1.40182   , -1.3722665 , -0.6983875 ,  0.5929337 ],\n",
       "        [ 0.20818335,  0.32829514,  0.21798164,  0.3068127 ,  0.04529123,\n",
       "         -0.87496775,  0.2791336 , -0.43198046,  0.25339684,  0.37985882],\n",
       "        [ 0.11051451, -0.3767302 , -0.20985016,  0.06609102, -0.05150729,\n",
       "          0.25802454, -0.36013272, -0.3725832 ,  0.13596821,  0.04042967],\n",
       "        [-0.14952134, -0.5799594 ,  0.159699  ,  0.0802902 , -1.6005683 ,\n",
       "         -0.09166791, -0.86527914,  0.07408631,  0.09308613,  0.50843406],\n",
       "        [-0.24907568,  0.12203552, -0.7541032 ,  0.14827876,  0.4223126 ,\n",
       "          0.3838337 , -0.9129989 ,  0.48504448, -0.22152196,  0.34257206],\n",
       "        [ 0.28937998,  0.3692194 , -0.00786436,  0.24316156, -0.5185406 ,\n",
       "          0.2664925 ,  0.30340725, -0.53064704,  0.16029832,  0.30937138],\n",
       "        [-0.12612708,  0.15360098, -0.26415977,  0.12211628,  0.08071943,\n",
       "         -0.15095624, -0.2125132 ,  0.24056564,  0.25325447, -0.12252071],\n",
       "        [ 0.14125597, -0.02074673, -1.3636769 , -0.00309872, -0.480815  ,\n",
       "          0.44993192,  0.02539866,  0.2602361 ,  0.20673007,  0.5005277 ],\n",
       "        [-0.7485436 , -0.9468026 , -0.2090229 ,  0.63542193,  0.18518941,\n",
       "          0.16215329, -1.2643955 ,  0.43260556, -1.1772723 ,  0.38675818],\n",
       "        [-1.2900395 , -0.2603512 ,  0.6131191 ,  0.3904022 ,  0.24695024,\n",
       "          0.4716782 , -1.6138419 ,  0.2568155 ,  0.1200163 , -0.29564622],\n",
       "        [ 0.37330508,  0.06407452,  0.26740327,  0.02505743, -1.339579  ,\n",
       "          0.25346908,  0.33516586, -0.3889965 ,  0.31201458, -0.09939212],\n",
       "        [-0.8878241 ,  0.43696097,  0.62131596,  0.8158367 ,  0.02489811,\n",
       "         -0.8232407 , -1.1889428 ,  0.32481968, -0.56571543, -0.82139236],\n",
       "        [ 0.51492804, -1.2744195 , -0.03138676,  0.18890387, -0.6869326 ,\n",
       "          0.52056384, -0.19978996,  0.6293302 ,  0.20782578, -0.529968  ],\n",
       "        [ 0.29316956, -0.49362305,  0.01337062, -0.26540086, -0.41314733,\n",
       "         -0.3816937 ,  0.2624126 , -0.04879522,  0.35821763, -0.05415372],\n",
       "        [-0.63944113,  0.07555416,  0.6296086 , -0.24669056, -1.1323653 ,\n",
       "          0.17713831,  0.5947744 ,  0.06050393,  0.58679676, -0.44004038],\n",
       "        [-0.31467348,  0.31850785,  0.02051069,  0.20680794,  0.29987207,\n",
       "         -0.29505545,  0.41337168, -0.48742267,  0.11729771, -0.1161534 ],\n",
       "        [ 0.14645655, -0.765019  ,  0.0573793 , -0.541606  ,  0.27054062,\n",
       "          0.12742954,  0.32111004,  0.09867238, -0.05118607,  0.25840753],\n",
       "        [-0.8813538 ,  0.22940882,  0.55002993, -0.71981114,  0.06183628,\n",
       "          0.8747325 , -0.17726843,  0.5974514 , -0.7659109 ,  0.2840154 ],\n",
       "        [-0.03065889, -0.32733524, -0.456344  ,  0.22900318,  0.2919481 ,\n",
       "          0.09937596, -0.04383518, -0.11842408,  0.41144255, -0.08214825],\n",
       "        [ 0.07845865,  0.3232065 , -0.33463505, -0.48050427,  0.1193075 ,\n",
       "         -0.44075057, -1.2082372 ,  0.46690878,  0.70736074, -0.42203996],\n",
       "        [ 0.18106365,  0.27938238,  0.48214054,  0.4988559 , -0.09133858,\n",
       "          0.05082742, -0.64233565,  0.6631805 , -0.36092082, -1.5703928 ],\n",
       "        [-0.71395254, -0.7648349 ,  0.112593  ,  0.50436276,  0.11282349,\n",
       "          0.32715344, -0.7170864 , -0.36674964,  0.4303687 , -0.21722493],\n",
       "        [-0.23598722,  0.06607854,  0.01014352, -0.5520138 , -0.12433176,\n",
       "          0.09967645,  0.3913596 ,  0.24009627,  0.37133512, -1.1113373 ],\n",
       "        [-0.05163278,  0.13697192,  0.36397824,  0.44063222,  0.38972646,\n",
       "          0.44731504,  0.41716456, -0.9339216 , -0.02861673, -1.2470719 ],\n",
       "        [ 0.4629402 , -0.36577404,  0.28954944,  0.32282445, -1.4392933 ,\n",
       "          0.48533335,  0.22804192,  0.46797958, -0.4984856 , -0.81018084],\n",
       "        [ 0.9079705 , -0.13527139,  0.53228426, -0.20497656, -0.71324414,\n",
       "         -1.0438564 ,  0.04144557,  0.31444228,  0.0606673 ,  0.04376484],\n",
       "        [ 0.15284806, -0.48809204, -0.16371605,  0.09052419, -0.08156208,\n",
       "         -0.03893945,  0.32390127, -0.55743665,  0.05373752,  0.04789749],\n",
       "        [ 0.29818496, -0.849879  ,  0.23442692,  0.36097538, -0.81820077,\n",
       "         -0.31848058, -1.1812596 ,  0.17150049,  0.28160104,  0.27409512],\n",
       "        [ 0.3733263 , -0.09382181,  0.37856776, -0.0883299 ,  0.6792355 ,\n",
       "         -1.2604427 , -0.73677135,  0.49948782,  0.00369012,  0.41957438],\n",
       "        [ 0.24445756, -0.23859249, -0.7593309 , -0.6458006 ,  0.20317796,\n",
       "          0.71183646,  0.4061187 ,  0.28429288, -0.64544654,  0.20381261],\n",
       "        [-0.405606  ,  0.22508568, -1.0872488 , -0.69231766,  0.41638792,\n",
       "          0.39873642, -0.0836561 , -0.2058715 ,  0.35547152,  0.54023886],\n",
       "        [ 0.5343871 ,  0.07044827,  0.9753457 , -0.44410455,  0.01186804,\n",
       "          0.1036473 ,  0.17836675,  0.33212492, -1.361771  ,  0.44288442],\n",
       "        [-0.79990643, -0.20059454, -0.7860572 , -0.18689103,  0.08353192,\n",
       "          0.42578778,  0.56647813, -0.11565942,  0.36762524,  0.17526805],\n",
       "        [ 0.08896707,  0.6576569 ,  0.14793004, -0.7852295 ,  0.68671817,\n",
       "         -1.2567173 , -0.8588779 , -0.09156566, -0.1629742 , -0.09977344],\n",
       "        [ 0.0246595 , -0.20630813,  0.8133468 , -0.09807386,  0.16758491,\n",
       "          0.01780266,  0.0171188 , -1.0560775 , -0.9153564 ,  0.6209878 ],\n",
       "        [ 0.03650523, -0.76377296, -0.42770153,  0.73609126, -1.6007363 ,\n",
       "          0.41977635,  0.15374482,  0.1836384 , -0.04620957,  0.1167054 ],\n",
       "        [-0.96664506,  0.34120965, -1.3322037 ,  0.6892129 ,  0.69623446,\n",
       "         -0.38702974, -0.30196437,  0.28547978, -0.80209476,  0.05232463],\n",
       "        [ 0.11629435,  0.19389385, -1.0411327 ,  0.6274408 ,  0.00256089,\n",
       "         -0.31981304,  0.5508444 ,  0.76707256, -0.94986343, -0.70942205]],\n",
       "       dtype=float32)>,\n",
       " <tf.Variable 'dense_25/bias:0' shape=(10,) dtype=float32, numpy=\n",
       " array([-0.29550496, -0.08813709, -0.07931179, -0.23412228, -0.02436448,\n",
       "         0.37252197,  0.215507  , -0.2574941 ,  0.2156686 ,  0.04069338],\n",
       "       dtype=float32)>]"
      ]
     },
     "execution_count": 115,
     "metadata": {},
     "output_type": "execute_result"
    }
   ],
   "source": [
    "model.weights"
   ]
  },
  {
   "cell_type": "code",
   "execution_count": 127,
   "metadata": {},
   "outputs": [],
   "source": [
    "# 기존의 불러오는 모델과 동일한 학습루프를 정의해줘야 동일한 정확도를 확인할 수 있다.\n",
    "model.compile(\n",
    "    loss = tf.keras.losses.SparseCategoricalCrossentropy(from_logits = True),\n",
    "    optimizer = tf.keras.optimizers.Adam(),\n",
    "    metrics = ['accuracy']\n",
    ")"
   ]
  },
  {
   "cell_type": "code",
   "execution_count": 129,
   "metadata": {},
   "outputs": [
    {
     "name": "stdout",
     "output_type": "stream",
     "text": [
      "313/313 [==============================] - 0s 367us/step - loss: 0.1065 - accuracy: 0.9751\n"
     ]
    },
    {
     "data": {
      "text/plain": [
       "[0.10649846494197845, 0.9750999808311462]"
      ]
     },
     "execution_count": 129,
     "metadata": {},
     "output_type": "execute_result"
    }
   ],
   "source": [
    "model.evaluate(x_test, y_test)"
   ]
  },
  {
   "cell_type": "markdown",
   "metadata": {},
   "source": [
    "## 위의 모델 저장방법을 사용하는 경우, 모델 + 모델에 대한 설정까지 포함한다\n",
    "\n",
    "\n",
    "- 모델의 아키텍처 (구조)\n",
    "- 모델의 가중치 (내용물)\n",
    "- 컴파일 정보 (구동방식)\n",
    "- optimizer, 현재까지 학습한 상태 (현재의 위치)\n",
    "\n",
    "\n",
    "## 저장 가능 형식은 Tensorflow SavedModel, Keras H5 형식\n",
    "\n",
    "- 디폴트는 SavedModel 형식이다.\n",
    "\n",
    "\n",
    "\n",
    "## SavedModel 형식이 사용자 정의 Object를 다루는 방법\n",
    "\n",
    "- class name, call function, losses, weights, config를 저장한다.\n",
    "- 사용자 정의 class가 코드에 존재하지 않아도 가능하다. (애초에 클래스 이름과 call function이 존재하기 때문에)\n",
    "- 하지만, call function 만을 저장하기 때문에 학습 및 평가는 가능하지만 다른 method는 사용하지 못한다.\n"
   ]
  },
  {
   "cell_type": "code",
   "execution_count": null,
   "metadata": {},
   "outputs": [],
   "source": []
  },
  {
   "cell_type": "markdown",
   "metadata": {},
   "source": [
    "# Keras H5\n",
    "\n",
    "H5 형식은 다음과 같이 저장하며\n",
    "\n",
    "- 모델의 아키텍쳐\n",
    "- 모델의 가중치\n",
    "- 컴파일 정보\n",
    "\n",
    "\n",
    "saved model과의 차이는 \n",
    "\n",
    "- 사용자 정의 object를 저장하지 않는다는 것\n",
    "- add_loss(), add_metric()으로 추가한 것은 저장되지 않는다.\n",
    "- Saving the model to HDF5 format requires the model to be a Functional model or a Sequential model.\n",
    "> 즉, Functional model or a Sequential model 에 대해서만 사용이 가능하다.  \n",
    "> 내부에서 subclass layer의 사용도 하지 못한다.\n"
   ]
  },
  {
   "cell_type": "code",
   "execution_count": null,
   "metadata": {},
   "outputs": [],
   "source": []
  },
  {
   "cell_type": "code",
   "execution_count": null,
   "metadata": {},
   "outputs": [],
   "source": []
  },
  {
   "cell_type": "markdown",
   "metadata": {},
   "source": [
    "# 아키텍처 저장\n",
    "\n",
    "SubClass 모델이 아닌 아래의 방식으로 구현하였을 때만 사용이 가능하다.\n",
    "- 함수형\n",
    "- Sequential API\n",
    "\n",
    "\n",
    "```\n",
    "get_config()\n",
    "\n",
    "\n",
    "from_config()\n",
    "\n",
    "\n",
    "tf.keras.models.model_to_json()\n",
    "\n",
    "\n",
    "tf.keras.models.model_from_json()\n",
    "```\n"
   ]
  },
  {
   "cell_type": "code",
   "execution_count": null,
   "metadata": {},
   "outputs": [],
   "source": []
  },
  {
   "cell_type": "code",
   "execution_count": null,
   "metadata": {},
   "outputs": [],
   "source": []
  },
  {
   "cell_type": "code",
   "execution_count": null,
   "metadata": {},
   "outputs": [],
   "source": []
  }
 ],
 "metadata": {
  "kernelspec": {
   "display_name": "Python 3",
   "language": "python",
   "name": "python3"
  },
  "language_info": {
   "codemirror_mode": {
    "name": "ipython",
    "version": 3
   },
   "file_extension": ".py",
   "mimetype": "text/x-python",
   "name": "python",
   "nbconvert_exporter": "python",
   "pygments_lexer": "ipython3",
   "version": "3.8.5"
  }
 },
 "nbformat": 4,
 "nbformat_minor": 5
}
